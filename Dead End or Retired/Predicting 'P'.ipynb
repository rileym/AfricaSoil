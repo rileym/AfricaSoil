{
 "metadata": {
  "name": "",
  "signature": "sha256:43bb85afefd5399fe70f1bc2c498bd5995b192ba9ce5b316cfeb927f07fffde6"
 },
 "nbformat": 3,
 "nbformat_minor": 0,
 "worksheets": [
  {
   "cells": [
    {
     "cell_type": "code",
     "collapsed": false,
     "input": [
      "import pandas as pd\n",
      "import numpy as np\n",
      "import matplotlib.pyplot as plt\n",
      "import sklearn.svm as svm\n",
      "import sklearn.metrics as metrics\n",
      "import sklearn.grid_search as grid_search\n",
      "import sklearn.decomposition as decomp\n",
      "import sklearn.feature_selection as fs\n",
      "import sklearn.pipeline as pipe\n",
      "import sklearn.cross_validation as cv\n",
      "import sklearn.preprocessing as pp\n",
      "import soilCleanTools as clean\n",
      "import soilTuningTools as tune\n",
      "import timeit\n",
      "import time"
     ],
     "language": "python",
     "metadata": {},
     "outputs": [],
     "prompt_number": 9
    },
    {
     "cell_type": "code",
     "collapsed": false,
     "input": [
      "# Read in data\n",
      "train_df = pd.read_csv('./Data/training.csv', index_col='PIDN')\n",
      "test_df = pd.read_csv('./Data/sorted_test.csv', index_col='PIDN')\n",
      "\n",
      "# Clean and split for readability\n",
      "train_data_dict = clean.clean_data(train_df)\n",
      "test_data_dict = clean.clean_data(test_df)\n",
      "wave, spatial, targets = train_data_dict['wave'], train_data_dict['spatial'], train_data_dict['targets']\n",
      "wave_test, spatial_test = test_data_dict['wave'], test_data_dict['spatial']"
     ],
     "language": "python",
     "metadata": {},
     "outputs": [],
     "prompt_number": 10
    },
    {
     "cell_type": "code",
     "collapsed": false,
     "input": [
      "targets['P_bin'] = pd.qcut(targets.P, q = [0,.95,1])"
     ],
     "language": "python",
     "metadata": {},
     "outputs": [],
     "prompt_number": 11
    },
    {
     "cell_type": "code",
     "collapsed": false,
     "input": [
      "targets.P_bin.value_counts()"
     ],
     "language": "python",
     "metadata": {},
     "outputs": [
      {
       "metadata": {},
       "output_type": "pyout",
       "prompt_number": 12,
       "text": [
        "[-0.418, 0.971]    1099\n",
        "(0.971, 13.267]      58\n",
        "dtype: int64"
       ]
      }
     ],
     "prompt_number": 12
    },
    {
     "cell_type": "code",
     "collapsed": false,
     "input": [
      "svm_obj = svm.SVC('kernel':)\n",
      "X = pd.concat([wave, spatial], axis = 1)\n",
      "scores = cv.cross_val_score(svm_obj, X, targets.P_bin, cv = 3, verbose = 1)\n"
     ],
     "language": "python",
     "metadata": {},
     "outputs": [
      {
       "output_type": "stream",
       "stream": "stderr",
       "text": [
        "[Parallel(n_jobs=1)]: Done   1 jobs       | elapsed:    0.8s\n",
        "[Parallel(n_jobs=1)]: Done   3 out of   3 | elapsed:    2.2s finished\n"
       ]
      }
     ],
     "prompt_number": 9
    },
    {
     "cell_type": "code",
     "collapsed": false,
     "input": [
      "model_name = 'SVC-rbf'\n",
      "n_Cs = 10\n",
      "Cs = np.logspace(-3, 3, num=n_Cs) # Margin violation penalty\n",
      "n_gammas = 5\n",
      "gammas = np.logspace(-5, -1, num=n_gammas) # \n",
      "n_epsilons = 3\n",
      "epsilons = np.logspace(-7,1, num=n_epsilons) # Width of insensitive zone\n",
      "degrees = [3]\n",
      "# coef0s = [0, 1]\n",
      "\n",
      "\n",
      "params = [{'kernel':['rbf'], 'C':Cs, 'cache_size':[1000], \\\n",
      "            'gamma':gammas, }]\n",
      "#             {'kernel':['rbf'], 'C':Cs, 'cache_size':[1000], \n",
      "#              'epsilon':epsilons, 'gamma':gammas},\n",
      "#             {'kernel':['linear'], 'C':Cs, 'cache_size':[1000], \n",
      "#               'epsilon':epsilons}]\n",
      "\n",
      "gs_obj = grid_search.GridSearchCV(estimator = svm.SVC(), param_grid = params,\\\n",
      "                                  cv = 5, refit = True, verbose = 2)\n",
      "\n",
      "\n",
      "scaler_dict = {#'Filter -> Standardize' : pipe.Pipeline(steps = [('Light Filter' , fs.SelectPercentile(score_func=fs.f_regression, percentile = 90)),\\\n",
      "#                                                                 ('Feature Standardization', pp.StandardScaler())]),\n",
      "                                       'Feature Standardization' : pp.StandardScaler()}"
     ],
     "language": "python",
     "metadata": {},
     "outputs": [],
     "prompt_number": 27
    },
    {
     "cell_type": "code",
     "collapsed": false,
     "input": [
      "X = pd.concat([wave, spatial], axis = 1)\n",
      "tune.soilTune(gs_obj = gs_obj, X = X, Y = targets[['P_bin']], X_test = None, p=1,\\\n",
      "              tasks = ['evaluate'], scaler_dict = scaler_dict, \\\n",
      "              model_name = model_name, output_base_path='./Data/Preds/')"
     ],
     "language": "python",
     "metadata": {},
     "outputs": [
      {
       "output_type": "stream",
       "stream": "stdout",
       "text": [
        "Beginning Evaluation...\n",
        "\n",
        "Scale type: Feature Standardization:\n",
        "Fitting 5 folds for each of 50 candidates, totalling 250 fits"
       ]
      },
      {
       "output_type": "stream",
       "stream": "stdout",
       "text": [
        "\n",
        "[CV] cache_size=1000, kernel=rbf, C=0.001, gamma=1e-05 ...............\n",
        "[CV] ...... cache_size=1000, kernel=rbf, C=0.001, gamma=1e-05 -   0.6s"
       ]
      },
      {
       "output_type": "stream",
       "stream": "stdout",
       "text": [
        "\n",
        "[CV] cache_size=1000, kernel=rbf, C=0.001, gamma=1e-05 ...............\n",
        "[CV] ...... cache_size=1000, kernel=rbf, C=0.001, gamma=1e-05 -   0.6s"
       ]
      },
      {
       "output_type": "stream",
       "stream": "stdout",
       "text": [
        "\n",
        "[CV] cache_size=1000, kernel=rbf, C=0.001, gamma=1e-05 ...............\n",
        "[CV] ...... cache_size=1000, kernel=rbf, C=0.001, gamma=1e-05 -   0.6s"
       ]
      },
      {
       "output_type": "stream",
       "stream": "stdout",
       "text": [
        "\n",
        "[CV] cache_size=1000, kernel=rbf, C=0.001, gamma=1e-05 ...............\n",
        "[CV] ...... cache_size=1000, kernel=rbf, C=0.001, gamma=1e-05 -   0.6s"
       ]
      },
      {
       "output_type": "stream",
       "stream": "stdout",
       "text": [
        "\n",
        "[CV] cache_size=1000, kernel=rbf, C=0.001, gamma=1e-05 ...............\n",
        "[CV] ...... cache_size=1000, kernel=rbf, C=0.001, gamma=1e-05 -   0.6s"
       ]
      },
      {
       "output_type": "stream",
       "stream": "stdout",
       "text": [
        "\n",
        "[CV] cache_size=1000, kernel=rbf, C=0.001, gamma=0.0001 ..............\n",
        "[CV] ..... cache_size=1000, kernel=rbf, C=0.001, gamma=0.0001 -   0.5s"
       ]
      },
      {
       "output_type": "stream",
       "stream": "stdout",
       "text": [
        "\n",
        "[CV] cache_size=1000, kernel=rbf, C=0.001, gamma=0.0001 ..............\n",
        "[CV] ..... cache_size=1000, kernel=rbf, C=0.001, gamma=0.0001 -   0.5s"
       ]
      },
      {
       "output_type": "stream",
       "stream": "stdout",
       "text": [
        "\n",
        "[CV] cache_size=1000, kernel=rbf, C=0.001, gamma=0.0001 ..............\n",
        "[CV] ..... cache_size=1000, kernel=rbf, C=0.001, gamma=0.0001 -   0.6s"
       ]
      },
      {
       "output_type": "stream",
       "stream": "stdout",
       "text": [
        "\n",
        "[CV] cache_size=1000, kernel=rbf, C=0.001, gamma=0.0001 ..............\n",
        "[CV] ..... cache_size=1000, kernel=rbf, C=0.001, gamma=0.0001 -   0.5s"
       ]
      },
      {
       "output_type": "stream",
       "stream": "stdout",
       "text": [
        "\n",
        "[CV] cache_size=1000, kernel=rbf, C=0.001, gamma=0.0001 ..............\n",
        "[CV] ..... cache_size=1000, kernel=rbf, C=0.001, gamma=0.0001 -   0.6s"
       ]
      },
      {
       "output_type": "stream",
       "stream": "stdout",
       "text": [
        "\n",
        "[CV] cache_size=1000, kernel=rbf, C=0.001, gamma=0.001 ...............\n",
        "[CV] ...... cache_size=1000, kernel=rbf, C=0.001, gamma=0.001 -   0.5s"
       ]
      },
      {
       "output_type": "stream",
       "stream": "stdout",
       "text": [
        "\n",
        "[CV] cache_size=1000, kernel=rbf, C=0.001, gamma=0.001 ...............\n",
        "[CV] ...... cache_size=1000, kernel=rbf, C=0.001, gamma=0.001 -   0.5s"
       ]
      },
      {
       "output_type": "stream",
       "stream": "stdout",
       "text": [
        "\n",
        "[CV] cache_size=1000, kernel=rbf, C=0.001, gamma=0.001 ...............\n",
        "[CV] ...... cache_size=1000, kernel=rbf, C=0.001, gamma=0.001 -   0.5s"
       ]
      },
      {
       "output_type": "stream",
       "stream": "stdout",
       "text": [
        "\n",
        "[CV] cache_size=1000, kernel=rbf, C=0.001, gamma=0.001 ...............\n",
        "[CV] ...... cache_size=1000, kernel=rbf, C=0.001, gamma=0.001 -   0.6s"
       ]
      },
      {
       "output_type": "stream",
       "stream": "stdout",
       "text": [
        "\n",
        "[CV] cache_size=1000, kernel=rbf, C=0.001, gamma=0.001 ...............\n",
        "[CV] ...... cache_size=1000, kernel=rbf, C=0.001, gamma=0.001 -   0.6s"
       ]
      },
      {
       "output_type": "stream",
       "stream": "stdout",
       "text": [
        "\n",
        "[CV] cache_size=1000, kernel=rbf, C=0.001, gamma=0.01 ................\n",
        "[CV] ....... cache_size=1000, kernel=rbf, C=0.001, gamma=0.01 -   0.6s"
       ]
      },
      {
       "output_type": "stream",
       "stream": "stdout",
       "text": [
        "\n",
        "[CV] cache_size=1000, kernel=rbf, C=0.001, gamma=0.01 ................\n",
        "[CV] ....... cache_size=1000, kernel=rbf, C=0.001, gamma=0.01 -   0.7s"
       ]
      },
      {
       "output_type": "stream",
       "stream": "stdout",
       "text": [
        "\n",
        "[CV] cache_size=1000, kernel=rbf, C=0.001, gamma=0.01 ................\n",
        "[CV] ....... cache_size=1000, kernel=rbf, C=0.001, gamma=0.01 -   0.9s"
       ]
      },
      {
       "output_type": "stream",
       "stream": "stdout",
       "text": [
        "\n",
        "[CV] cache_size=1000, kernel=rbf, C=0.001, gamma=0.01 ................\n",
        "[CV] ....... cache_size=1000, kernel=rbf, C=0.001, gamma=0.01 -   0.9s"
       ]
      },
      {
       "output_type": "stream",
       "stream": "stdout",
       "text": [
        "\n",
        "[CV] cache_size=1000, kernel=rbf, C=0.001, gamma=0.01 ................\n",
        "[CV] ....... cache_size=1000, kernel=rbf, C=0.001, gamma=0.01 -   1.1s"
       ]
      },
      {
       "output_type": "stream",
       "stream": "stdout",
       "text": [
        "\n",
        "[CV] cache_size=1000, kernel=rbf, C=0.001, gamma=0.1 .................\n",
        "[CV] ........ cache_size=1000, kernel=rbf, C=0.001, gamma=0.1 -   0.8s"
       ]
      },
      {
       "output_type": "stream",
       "stream": "stdout",
       "text": [
        "\n",
        "[CV] cache_size=1000, kernel=rbf, C=0.001, gamma=0.1 .................\n",
        "[CV] ........ cache_size=1000, kernel=rbf, C=0.001, gamma=0.1 -   0.8s"
       ]
      },
      {
       "output_type": "stream",
       "stream": "stdout",
       "text": [
        "\n",
        "[CV] cache_size=1000, kernel=rbf, C=0.001, gamma=0.1 .................\n",
        "[CV] ........ cache_size=1000, kernel=rbf, C=0.001, gamma=0.1 -   0.6s"
       ]
      },
      {
       "output_type": "stream",
       "stream": "stdout",
       "text": [
        "\n",
        "[CV] cache_size=1000, kernel=rbf, C=0.001, gamma=0.1 .................\n",
        "[CV] ........ cache_size=1000, kernel=rbf, C=0.001, gamma=0.1 -   0.6s"
       ]
      },
      {
       "output_type": "stream",
       "stream": "stdout",
       "text": [
        "\n",
        "[CV] cache_size=1000, kernel=rbf, C=0.001, gamma=0.1 .................\n",
        "[CV] ........ cache_size=1000, kernel=rbf, C=0.001, gamma=0.1 -   0.6s"
       ]
      },
      {
       "output_type": "stream",
       "stream": "stdout",
       "text": [
        "\n",
        "[CV] cache_size=1000, kernel=rbf, C=0.00464158883361, gamma=1e-05 ....\n",
        "[CV]  cache_size=1000, kernel=rbf, C=0.00464158883361, gamma=1e-05 -   0.6s"
       ]
      },
      {
       "output_type": "stream",
       "stream": "stdout",
       "text": [
        "\n",
        "[CV] cache_size=1000, kernel=rbf, C=0.00464158883361, gamma=1e-05 ....\n",
        "[CV]  cache_size=1000, kernel=rbf, C=0.00464158883361, gamma=1e-05 -   0.5s"
       ]
      },
      {
       "output_type": "stream",
       "stream": "stdout",
       "text": [
        "\n",
        "[CV] cache_size=1000, kernel=rbf, C=0.00464158883361, gamma=1e-05 ....\n",
        "[CV]  cache_size=1000, kernel=rbf, C=0.00464158883361, gamma=1e-05 -   0.6s"
       ]
      },
      {
       "output_type": "stream",
       "stream": "stdout",
       "text": [
        "\n",
        "[CV] cache_size=1000, kernel=rbf, C=0.00464158883361, gamma=1e-05 ....\n",
        "[CV]  cache_size=1000, kernel=rbf, C=0.00464158883361, gamma=1e-05 -   0.5s"
       ]
      },
      {
       "output_type": "stream",
       "stream": "stdout",
       "text": [
        "\n",
        "[CV] cache_size=1000, kernel=rbf, C=0.00464158883361, gamma=1e-05 ....\n",
        "[CV]  cache_size=1000, kernel=rbf, C=0.00464158883361, gamma=1e-05 -   0.5s"
       ]
      },
      {
       "output_type": "stream",
       "stream": "stdout",
       "text": [
        "\n",
        "[CV] cache_size=1000, kernel=rbf, C=0.00464158883361, gamma=0.0001 ...\n",
        "[CV]  cache_size=1000, kernel=rbf, C=0.00464158883361, gamma=0.0001 -   0.5s"
       ]
      },
      {
       "output_type": "stream",
       "stream": "stdout",
       "text": [
        "\n",
        "[CV] cache_size=1000, kernel=rbf, C=0.00464158883361, gamma=0.0001 ...\n",
        "[CV]  cache_size=1000, kernel=rbf, C=0.00464158883361, gamma=0.0001 -   0.5s"
       ]
      },
      {
       "output_type": "stream",
       "stream": "stdout",
       "text": [
        "\n",
        "[CV] cache_size=1000, kernel=rbf, C=0.00464158883361, gamma=0.0001 ...\n",
        "[CV]  cache_size=1000, kernel=rbf, C=0.00464158883361, gamma=0.0001 -   0.5s"
       ]
      },
      {
       "output_type": "stream",
       "stream": "stdout",
       "text": [
        "\n",
        "[CV] cache_size=1000, kernel=rbf, C=0.00464158883361, gamma=0.0001 ...\n",
        "[CV]  cache_size=1000, kernel=rbf, C=0.00464158883361, gamma=0.0001 -   0.5s"
       ]
      },
      {
       "output_type": "stream",
       "stream": "stdout",
       "text": [
        "\n",
        "[CV] cache_size=1000, kernel=rbf, C=0.00464158883361, gamma=0.0001 ...\n",
        "[CV]  cache_size=1000, kernel=rbf, C=0.00464158883361, gamma=0.0001 -   0.5s"
       ]
      },
      {
       "output_type": "stream",
       "stream": "stdout",
       "text": [
        "\n",
        "[CV] cache_size=1000, kernel=rbf, C=0.00464158883361, gamma=0.001 ....\n",
        "[CV]  cache_size=1000, kernel=rbf, C=0.00464158883361, gamma=0.001 -   0.6s"
       ]
      },
      {
       "output_type": "stream",
       "stream": "stdout",
       "text": [
        "\n",
        "[CV] cache_size=1000, kernel=rbf, C=0.00464158883361, gamma=0.001 ....\n",
        "[CV]  cache_size=1000, kernel=rbf, C=0.00464158883361, gamma=0.001 -   0.6s"
       ]
      },
      {
       "output_type": "stream",
       "stream": "stdout",
       "text": [
        "\n",
        "[CV] cache_size=1000, kernel=rbf, C=0.00464158883361, gamma=0.001 ....\n",
        "[CV]  cache_size=1000, kernel=rbf, C=0.00464158883361, gamma=0.001 -   0.7s"
       ]
      },
      {
       "output_type": "stream",
       "stream": "stdout",
       "text": [
        "\n",
        "[CV] cache_size=1000, kernel=rbf, C=0.00464158883361, gamma=0.001 ....\n",
        "[CV]  cache_size=1000, kernel=rbf, C=0.00464158883361, gamma=0.001 -   0.7s"
       ]
      },
      {
       "output_type": "stream",
       "stream": "stdout",
       "text": [
        "\n",
        "[CV] cache_size=1000, kernel=rbf, C=0.00464158883361, gamma=0.001 ....\n",
        "[CV]  cache_size=1000, kernel=rbf, C=0.00464158883361, gamma=0.001 -   0.6s"
       ]
      },
      {
       "output_type": "stream",
       "stream": "stdout",
       "text": [
        "\n",
        "[CV] cache_size=1000, kernel=rbf, C=0.00464158883361, gamma=0.01 .....\n",
        "[CV]  cache_size=1000, kernel=rbf, C=0.00464158883361, gamma=0.01 -   1.2s"
       ]
      },
      {
       "output_type": "stream",
       "stream": "stderr",
       "text": [
        "[Parallel(n_jobs=1)]: Done   1 jobs       | elapsed:    0.6s\n",
        "[Parallel(n_jobs=1)]: Done  41 jobs       | elapsed:   26.1s\n"
       ]
      },
      {
       "output_type": "stream",
       "stream": "stdout",
       "text": [
        "\n",
        "[CV] cache_size=1000, kernel=rbf, C=0.00464158883361, gamma=0.01 .....\n",
        "[CV]  cache_size=1000, kernel=rbf, C=0.00464158883361, gamma=0.01 -   1.2s"
       ]
      },
      {
       "output_type": "stream",
       "stream": "stdout",
       "text": [
        "\n",
        "[CV] cache_size=1000, kernel=rbf, C=0.00464158883361, gamma=0.01 .....\n",
        "[CV]  cache_size=1000, kernel=rbf, C=0.00464158883361, gamma=0.01 -   1.3s"
       ]
      },
      {
       "output_type": "stream",
       "stream": "stdout",
       "text": [
        "\n",
        "[CV] cache_size=1000, kernel=rbf, C=0.00464158883361, gamma=0.01 .....\n",
        "[CV]  cache_size=1000, kernel=rbf, C=0.00464158883361, gamma=0.01 -   1.3s"
       ]
      },
      {
       "output_type": "stream",
       "stream": "stdout",
       "text": [
        "\n",
        "[CV] cache_size=1000, kernel=rbf, C=0.00464158883361, gamma=0.01 .....\n",
        "[CV]  cache_size=1000, kernel=rbf, C=0.00464158883361, gamma=0.01 -   1.2s"
       ]
      },
      {
       "output_type": "stream",
       "stream": "stdout",
       "text": [
        "\n",
        "[CV] cache_size=1000, kernel=rbf, C=0.00464158883361, gamma=0.1 ......\n",
        "[CV]  cache_size=1000, kernel=rbf, C=0.00464158883361, gamma=0.1 -   1.8s"
       ]
      },
      {
       "output_type": "stream",
       "stream": "stdout",
       "text": [
        "\n",
        "[CV] cache_size=1000, kernel=rbf, C=0.00464158883361, gamma=0.1 ......\n",
        "[CV]  cache_size=1000, kernel=rbf, C=0.00464158883361, gamma=0.1 -   1.8s"
       ]
      },
      {
       "output_type": "stream",
       "stream": "stdout",
       "text": [
        "\n",
        "[CV] cache_size=1000, kernel=rbf, C=0.00464158883361, gamma=0.1 ......\n",
        "[CV]  cache_size=1000, kernel=rbf, C=0.00464158883361, gamma=0.1 -   1.8s"
       ]
      },
      {
       "output_type": "stream",
       "stream": "stdout",
       "text": [
        "\n",
        "[CV] cache_size=1000, kernel=rbf, C=0.00464158883361, gamma=0.1 ......\n",
        "[CV]  cache_size=1000, kernel=rbf, C=0.00464158883361, gamma=0.1 -   1.8s"
       ]
      },
      {
       "output_type": "stream",
       "stream": "stdout",
       "text": [
        "\n",
        "[CV] cache_size=1000, kernel=rbf, C=0.00464158883361, gamma=0.1 ......\n",
        "[CV]  cache_size=1000, kernel=rbf, C=0.00464158883361, gamma=0.1 -   1.9s"
       ]
      },
      {
       "output_type": "stream",
       "stream": "stdout",
       "text": [
        "\n",
        "[CV] cache_size=1000, kernel=rbf, C=0.0215443469003, gamma=1e-05 .....\n",
        "[CV]  cache_size=1000, kernel=rbf, C=0.0215443469003, gamma=1e-05 -   0.5s"
       ]
      },
      {
       "output_type": "stream",
       "stream": "stdout",
       "text": [
        "\n",
        "[CV] cache_size=1000, kernel=rbf, C=0.0215443469003, gamma=1e-05 .....\n",
        "[CV]  cache_size=1000, kernel=rbf, C=0.0215443469003, gamma=1e-05 -   0.5s"
       ]
      },
      {
       "output_type": "stream",
       "stream": "stdout",
       "text": [
        "\n",
        "[CV] cache_size=1000, kernel=rbf, C=0.0215443469003, gamma=1e-05 .....\n",
        "[CV]  cache_size=1000, kernel=rbf, C=0.0215443469003, gamma=1e-05 -   0.5s"
       ]
      },
      {
       "output_type": "stream",
       "stream": "stdout",
       "text": [
        "\n",
        "[CV] cache_size=1000, kernel=rbf, C=0.0215443469003, gamma=1e-05 .....\n",
        "[CV]  cache_size=1000, kernel=rbf, C=0.0215443469003, gamma=1e-05 -   0.5s"
       ]
      },
      {
       "output_type": "stream",
       "stream": "stdout",
       "text": [
        "\n",
        "[CV] cache_size=1000, kernel=rbf, C=0.0215443469003, gamma=1e-05 .....\n",
        "[CV]  cache_size=1000, kernel=rbf, C=0.0215443469003, gamma=1e-05 -   0.5s"
       ]
      },
      {
       "output_type": "stream",
       "stream": "stdout",
       "text": [
        "\n",
        "[CV] cache_size=1000, kernel=rbf, C=0.0215443469003, gamma=0.0001 ....\n",
        "[CV]  cache_size=1000, kernel=rbf, C=0.0215443469003, gamma=0.0001 -   0.6s"
       ]
      },
      {
       "output_type": "stream",
       "stream": "stdout",
       "text": [
        "\n",
        "[CV] cache_size=1000, kernel=rbf, C=0.0215443469003, gamma=0.0001 ....\n",
        "[CV]  cache_size=1000, kernel=rbf, C=0.0215443469003, gamma=0.0001 -   0.6s"
       ]
      },
      {
       "output_type": "stream",
       "stream": "stdout",
       "text": [
        "\n",
        "[CV] cache_size=1000, kernel=rbf, C=0.0215443469003, gamma=0.0001 ....\n",
        "[CV]  cache_size=1000, kernel=rbf, C=0.0215443469003, gamma=0.0001 -   0.6s"
       ]
      },
      {
       "output_type": "stream",
       "stream": "stdout",
       "text": [
        "\n",
        "[CV] cache_size=1000, kernel=rbf, C=0.0215443469003, gamma=0.0001 ....\n",
        "[CV]  cache_size=1000, kernel=rbf, C=0.0215443469003, gamma=0.0001 -   0.6s"
       ]
      },
      {
       "output_type": "stream",
       "stream": "stdout",
       "text": [
        "\n",
        "[CV] cache_size=1000, kernel=rbf, C=0.0215443469003, gamma=0.0001 ....\n",
        "[CV]  cache_size=1000, kernel=rbf, C=0.0215443469003, gamma=0.0001 -   0.6s"
       ]
      },
      {
       "output_type": "stream",
       "stream": "stdout",
       "text": [
        "\n",
        "[CV] cache_size=1000, kernel=rbf, C=0.0215443469003, gamma=0.001 .....\n",
        "[CV]  cache_size=1000, kernel=rbf, C=0.0215443469003, gamma=0.001 -   0.8s"
       ]
      },
      {
       "output_type": "stream",
       "stream": "stdout",
       "text": [
        "\n",
        "[CV] cache_size=1000, kernel=rbf, C=0.0215443469003, gamma=0.001 .....\n",
        "[CV]  cache_size=1000, kernel=rbf, C=0.0215443469003, gamma=0.001 -   0.8s"
       ]
      },
      {
       "output_type": "stream",
       "stream": "stdout",
       "text": [
        "\n",
        "[CV] cache_size=1000, kernel=rbf, C=0.0215443469003, gamma=0.001 .....\n",
        "[CV]  cache_size=1000, kernel=rbf, C=0.0215443469003, gamma=0.001 -   0.8s"
       ]
      },
      {
       "output_type": "stream",
       "stream": "stdout",
       "text": [
        "\n",
        "[CV] cache_size=1000, kernel=rbf, C=0.0215443469003, gamma=0.001 .....\n",
        "[CV]  cache_size=1000, kernel=rbf, C=0.0215443469003, gamma=0.001 -   0.8s"
       ]
      },
      {
       "output_type": "stream",
       "stream": "stdout",
       "text": [
        "\n",
        "[CV] cache_size=1000, kernel=rbf, C=0.0215443469003, gamma=0.001 .....\n",
        "[CV]  cache_size=1000, kernel=rbf, C=0.0215443469003, gamma=0.001 -   0.7s"
       ]
      },
      {
       "output_type": "stream",
       "stream": "stdout",
       "text": [
        "\n",
        "[CV] cache_size=1000, kernel=rbf, C=0.0215443469003, gamma=0.01 ......\n",
        "[CV]  cache_size=1000, kernel=rbf, C=0.0215443469003, gamma=0.01 -   2.8s"
       ]
      },
      {
       "output_type": "stream",
       "stream": "stdout",
       "text": [
        "\n",
        "[CV] cache_size=1000, kernel=rbf, C=0.0215443469003, gamma=0.01 ......\n",
        "[CV]  cache_size=1000, kernel=rbf, C=0.0215443469003, gamma=0.01 -   2.7s"
       ]
      },
      {
       "output_type": "stream",
       "stream": "stdout",
       "text": [
        "\n",
        "[CV] cache_size=1000, kernel=rbf, C=0.0215443469003, gamma=0.01 ......\n",
        "[CV]  cache_size=1000, kernel=rbf, C=0.0215443469003, gamma=0.01 -   2.8s"
       ]
      },
      {
       "output_type": "stream",
       "stream": "stdout",
       "text": [
        "\n",
        "[CV] cache_size=1000, kernel=rbf, C=0.0215443469003, gamma=0.01 ......\n",
        "[CV]  cache_size=1000, kernel=rbf, C=0.0215443469003, gamma=0.01 -   2.9s"
       ]
      },
      {
       "output_type": "stream",
       "stream": "stdout",
       "text": [
        "\n",
        "[CV] cache_size=1000, kernel=rbf, C=0.0215443469003, gamma=0.01 ......\n",
        "[CV]  cache_size=1000, kernel=rbf, C=0.0215443469003, gamma=0.01 -   2.8s"
       ]
      },
      {
       "output_type": "stream",
       "stream": "stdout",
       "text": [
        "\n",
        "[CV] cache_size=1000, kernel=rbf, C=0.0215443469003, gamma=0.1 .......\n",
        "[CV]  cache_size=1000, kernel=rbf, C=0.0215443469003, gamma=0.1 -   4.1s"
       ]
      },
      {
       "output_type": "stream",
       "stream": "stdout",
       "text": [
        "\n",
        "[CV] cache_size=1000, kernel=rbf, C=0.0215443469003, gamma=0.1 .......\n",
        "[CV]  cache_size=1000, kernel=rbf, C=0.0215443469003, gamma=0.1 -   4.0s"
       ]
      },
      {
       "output_type": "stream",
       "stream": "stdout",
       "text": [
        "\n",
        "[CV] cache_size=1000, kernel=rbf, C=0.0215443469003, gamma=0.1 .......\n",
        "[CV]  cache_size=1000, kernel=rbf, C=0.0215443469003, gamma=0.1 -   4.0s"
       ]
      },
      {
       "output_type": "stream",
       "stream": "stdout",
       "text": [
        "\n",
        "[CV] cache_size=1000, kernel=rbf, C=0.0215443469003, gamma=0.1 .......\n",
        "[CV]  cache_size=1000, kernel=rbf, C=0.0215443469003, gamma=0.1 -   4.1s"
       ]
      },
      {
       "output_type": "stream",
       "stream": "stdout",
       "text": [
        "\n",
        "[CV] cache_size=1000, kernel=rbf, C=0.0215443469003, gamma=0.1 .......\n",
        "[CV]  cache_size=1000, kernel=rbf, C=0.0215443469003, gamma=0.1 -   4.0s"
       ]
      },
      {
       "output_type": "stream",
       "stream": "stdout",
       "text": [
        "\n",
        "[CV] cache_size=1000, kernel=rbf, C=0.1, gamma=1e-05 .................\n",
        "[CV] ........ cache_size=1000, kernel=rbf, C=0.1, gamma=1e-05 -   0.6s"
       ]
      },
      {
       "output_type": "stream",
       "stream": "stdout",
       "text": [
        "\n",
        "[CV] cache_size=1000, kernel=rbf, C=0.1, gamma=1e-05 .................\n",
        "[CV] ........ cache_size=1000, kernel=rbf, C=0.1, gamma=1e-05 -   0.6s"
       ]
      },
      {
       "output_type": "stream",
       "stream": "stdout",
       "text": [
        "\n",
        "[CV] cache_size=1000, kernel=rbf, C=0.1, gamma=1e-05 .................\n",
        "[CV] ........ cache_size=1000, kernel=rbf, C=0.1, gamma=1e-05 -   0.6s"
       ]
      },
      {
       "output_type": "stream",
       "stream": "stdout",
       "text": [
        "\n",
        "[CV] cache_size=1000, kernel=rbf, C=0.1, gamma=1e-05 .................\n",
        "[CV] ........ cache_size=1000, kernel=rbf, C=0.1, gamma=1e-05 -   0.6s"
       ]
      },
      {
       "output_type": "stream",
       "stream": "stdout",
       "text": [
        "\n",
        "[CV] cache_size=1000, kernel=rbf, C=0.1, gamma=1e-05 .................\n",
        "[CV] ........ cache_size=1000, kernel=rbf, C=0.1, gamma=1e-05 -   0.5s"
       ]
      },
      {
       "output_type": "stream",
       "stream": "stdout",
       "text": [
        "\n",
        "[CV] cache_size=1000, kernel=rbf, C=0.1, gamma=0.0001 ................\n",
        "[CV] ....... cache_size=1000, kernel=rbf, C=0.1, gamma=0.0001 -   0.7s"
       ]
      },
      {
       "output_type": "stream",
       "stream": "stdout",
       "text": [
        "\n",
        "[CV] cache_size=1000, kernel=rbf, C=0.1, gamma=0.0001 ................\n",
        "[CV] ....... cache_size=1000, kernel=rbf, C=0.1, gamma=0.0001 -   0.8s"
       ]
      },
      {
       "output_type": "stream",
       "stream": "stdout",
       "text": [
        "\n",
        "[CV] cache_size=1000, kernel=rbf, C=0.1, gamma=0.0001 ................\n",
        "[CV] ....... cache_size=1000, kernel=rbf, C=0.1, gamma=0.0001 -   0.8s"
       ]
      },
      {
       "output_type": "stream",
       "stream": "stdout",
       "text": [
        "\n",
        "[CV] cache_size=1000, kernel=rbf, C=0.1, gamma=0.0001 ................\n",
        "[CV] ....... cache_size=1000, kernel=rbf, C=0.1, gamma=0.0001 -   0.8s"
       ]
      },
      {
       "output_type": "stream",
       "stream": "stdout",
       "text": [
        "\n",
        "[CV] cache_size=1000, kernel=rbf, C=0.1, gamma=0.0001 ................\n",
        "[CV] ....... cache_size=1000, kernel=rbf, C=0.1, gamma=0.0001 -   0.7s"
       ]
      },
      {
       "output_type": "stream",
       "stream": "stdout",
       "text": [
        "\n",
        "[CV] cache_size=1000, kernel=rbf, C=0.1, gamma=0.001 .................\n",
        "[CV] ........ cache_size=1000, kernel=rbf, C=0.1, gamma=0.001 -   0.8s"
       ]
      },
      {
       "output_type": "stream",
       "stream": "stdout",
       "text": [
        "\n",
        "[CV] cache_size=1000, kernel=rbf, C=0.1, gamma=0.001 .................\n",
        "[CV] ........ cache_size=1000, kernel=rbf, C=0.1, gamma=0.001 -   0.9s"
       ]
      },
      {
       "output_type": "stream",
       "stream": "stdout",
       "text": [
        "\n",
        "[CV] cache_size=1000, kernel=rbf, C=0.1, gamma=0.001 .................\n",
        "[CV] ........ cache_size=1000, kernel=rbf, C=0.1, gamma=0.001 -   0.9s"
       ]
      },
      {
       "output_type": "stream",
       "stream": "stdout",
       "text": [
        "\n",
        "[CV] cache_size=1000, kernel=rbf, C=0.1, gamma=0.001 .................\n",
        "[CV] ........ cache_size=1000, kernel=rbf, C=0.1, gamma=0.001 -   0.9s"
       ]
      },
      {
       "output_type": "stream",
       "stream": "stdout",
       "text": [
        "\n",
        "[CV] cache_size=1000, kernel=rbf, C=0.1, gamma=0.001 .................\n",
        "[CV] ........ cache_size=1000, kernel=rbf, C=0.1, gamma=0.001 -   0.8s"
       ]
      },
      {
       "output_type": "stream",
       "stream": "stdout",
       "text": [
        "\n",
        "[CV] cache_size=1000, kernel=rbf, C=0.1, gamma=0.01 ..................\n",
        "[CV] ......... cache_size=1000, kernel=rbf, C=0.1, gamma=0.01 -   3.6s"
       ]
      },
      {
       "output_type": "stream",
       "stream": "stdout",
       "text": [
        "\n",
        "[CV] cache_size=1000, kernel=rbf, C=0.1, gamma=0.01 ..................\n",
        "[CV] ......... cache_size=1000, kernel=rbf, C=0.1, gamma=0.01 -   3.4s"
       ]
      },
      {
       "output_type": "stream",
       "stream": "stdout",
       "text": [
        "\n",
        "[CV] cache_size=1000, kernel=rbf, C=0.1, gamma=0.01 ..................\n",
        "[CV] ......... cache_size=1000, kernel=rbf, C=0.1, gamma=0.01 -   3.5s"
       ]
      },
      {
       "output_type": "stream",
       "stream": "stdout",
       "text": [
        "\n",
        "[CV] cache_size=1000, kernel=rbf, C=0.1, gamma=0.01 ..................\n",
        "[CV] ......... cache_size=1000, kernel=rbf, C=0.1, gamma=0.01 -   3.5s"
       ]
      },
      {
       "output_type": "stream",
       "stream": "stdout",
       "text": [
        "\n",
        "[CV] cache_size=1000, kernel=rbf, C=0.1, gamma=0.01 ..................\n",
        "[CV] ......... cache_size=1000, kernel=rbf, C=0.1, gamma=0.01 -   3.4s"
       ]
      },
      {
       "output_type": "stream",
       "stream": "stdout",
       "text": [
        "\n",
        "[CV] cache_size=1000, kernel=rbf, C=0.1, gamma=0.1 ...................\n",
        "[CV] .......... cache_size=1000, kernel=rbf, C=0.1, gamma=0.1 -   4.0s"
       ]
      },
      {
       "output_type": "stream",
       "stream": "stdout",
       "text": [
        "\n",
        "[CV] cache_size=1000, kernel=rbf, C=0.1, gamma=0.1 ...................\n",
        "[CV] .......... cache_size=1000, kernel=rbf, C=0.1, gamma=0.1 -   4.1s"
       ]
      },
      {
       "output_type": "stream",
       "stream": "stdout",
       "text": [
        "\n",
        "[CV] cache_size=1000, kernel=rbf, C=0.1, gamma=0.1 ...................\n",
        "[CV] .......... cache_size=1000, kernel=rbf, C=0.1, gamma=0.1 -   4.0s"
       ]
      },
      {
       "output_type": "stream",
       "stream": "stdout",
       "text": [
        "\n",
        "[CV] cache_size=1000, kernel=rbf, C=0.1, gamma=0.1 ...................\n",
        "[CV] .......... cache_size=1000, kernel=rbf, C=0.1, gamma=0.1 -   4.0s"
       ]
      },
      {
       "output_type": "stream",
       "stream": "stdout",
       "text": [
        "\n",
        "[CV] cache_size=1000, kernel=rbf, C=0.1, gamma=0.1 ...................\n",
        "[CV] .......... cache_size=1000, kernel=rbf, C=0.1, gamma=0.1 -   4.1s"
       ]
      },
      {
       "output_type": "stream",
       "stream": "stdout",
       "text": [
        "\n",
        "[CV] cache_size=1000, kernel=rbf, C=0.464158883361, gamma=1e-05 ......\n",
        "[CV]  cache_size=1000, kernel=rbf, C=0.464158883361, gamma=1e-05 -   0.7s"
       ]
      },
      {
       "output_type": "stream",
       "stream": "stdout",
       "text": [
        "\n",
        "[CV] cache_size=1000, kernel=rbf, C=0.464158883361, gamma=1e-05 ......\n",
        "[CV]  cache_size=1000, kernel=rbf, C=0.464158883361, gamma=1e-05 -   0.7s"
       ]
      },
      {
       "output_type": "stream",
       "stream": "stdout",
       "text": [
        "\n",
        "[CV] cache_size=1000, kernel=rbf, C=0.464158883361, gamma=1e-05 ......\n",
        "[CV]  cache_size=1000, kernel=rbf, C=0.464158883361, gamma=1e-05 -   0.8s"
       ]
      },
      {
       "output_type": "stream",
       "stream": "stdout",
       "text": [
        "\n",
        "[CV] cache_size=1000, kernel=rbf, C=0.464158883361, gamma=1e-05 ......\n",
        "[CV]  cache_size=1000, kernel=rbf, C=0.464158883361, gamma=1e-05 -   0.7s"
       ]
      },
      {
       "output_type": "stream",
       "stream": "stdout",
       "text": [
        "\n",
        "[CV] cache_size=1000, kernel=rbf, C=0.464158883361, gamma=1e-05 ......\n",
        "[CV]  cache_size=1000, kernel=rbf, C=0.464158883361, gamma=1e-05 -   0.7s"
       ]
      },
      {
       "output_type": "stream",
       "stream": "stdout",
       "text": [
        "\n",
        "[CV] cache_size=1000, kernel=rbf, C=0.464158883361, gamma=0.0001 .....\n",
        "[CV]  cache_size=1000, kernel=rbf, C=0.464158883361, gamma=0.0001 -   0.7s"
       ]
      },
      {
       "output_type": "stream",
       "stream": "stdout",
       "text": [
        "\n",
        "[CV] cache_size=1000, kernel=rbf, C=0.464158883361, gamma=0.0001 .....\n",
        "[CV]  cache_size=1000, kernel=rbf, C=0.464158883361, gamma=0.0001 -   0.8s"
       ]
      },
      {
       "output_type": "stream",
       "stream": "stdout",
       "text": [
        "\n",
        "[CV] cache_size=1000, kernel=rbf, C=0.464158883361, gamma=0.0001 .....\n",
        "[CV]  cache_size=1000, kernel=rbf, C=0.464158883361, gamma=0.0001 -   0.8s"
       ]
      },
      {
       "output_type": "stream",
       "stream": "stdout",
       "text": [
        "\n",
        "[CV] cache_size=1000, kernel=rbf, C=0.464158883361, gamma=0.0001 .....\n",
        "[CV]  cache_size=1000, kernel=rbf, C=0.464158883361, gamma=0.0001 -   0.9s"
       ]
      },
      {
       "output_type": "stream",
       "stream": "stdout",
       "text": [
        "\n",
        "[CV] cache_size=1000, kernel=rbf, C=0.464158883361, gamma=0.0001 .....\n",
        "[CV]  cache_size=1000, kernel=rbf, C=0.464158883361, gamma=0.0001 -   0.9s"
       ]
      },
      {
       "output_type": "stream",
       "stream": "stdout",
       "text": [
        "\n",
        "[CV] cache_size=1000, kernel=rbf, C=0.464158883361, gamma=0.001 ......\n",
        "[CV]  cache_size=1000, kernel=rbf, C=0.464158883361, gamma=0.001 -   0.9s"
       ]
      },
      {
       "output_type": "stream",
       "stream": "stdout",
       "text": [
        "\n",
        "[CV] cache_size=1000, kernel=rbf, C=0.464158883361, gamma=0.001 ......\n",
        "[CV]  cache_size=1000, kernel=rbf, C=0.464158883361, gamma=0.001 -   0.9s"
       ]
      },
      {
       "output_type": "stream",
       "stream": "stdout",
       "text": [
        "\n",
        "[CV] cache_size=1000, kernel=rbf, C=0.464158883361, gamma=0.001 ......\n",
        "[CV]  cache_size=1000, kernel=rbf, C=0.464158883361, gamma=0.001 -   0.9s"
       ]
      },
      {
       "output_type": "stream",
       "stream": "stdout",
       "text": [
        "\n",
        "[CV] cache_size=1000, kernel=rbf, C=0.464158883361, gamma=0.001 ......\n",
        "[CV]  cache_size=1000, kernel=rbf, C=0.464158883361, gamma=0.001 -   0.9s"
       ]
      },
      {
       "output_type": "stream",
       "stream": "stdout",
       "text": [
        "\n",
        "[CV] cache_size=1000, kernel=rbf, C=0.464158883361, gamma=0.001 ......\n",
        "[CV]  cache_size=1000, kernel=rbf, C=0.464158883361, gamma=0.001 -   0.8s"
       ]
      },
      {
       "output_type": "stream",
       "stream": "stdout",
       "text": [
        "\n",
        "[CV] cache_size=1000, kernel=rbf, C=0.464158883361, gamma=0.01 .......\n",
        "[CV]  cache_size=1000, kernel=rbf, C=0.464158883361, gamma=0.01 -   3.9s"
       ]
      },
      {
       "output_type": "stream",
       "stream": "stdout",
       "text": [
        "\n",
        "[CV] cache_size=1000, kernel=rbf, C=0.464158883361, gamma=0.01 .......\n",
        "[CV]  cache_size=1000, kernel=rbf, C=0.464158883361, gamma=0.01 -   3.8s"
       ]
      },
      {
       "output_type": "stream",
       "stream": "stdout",
       "text": [
        "\n",
        "[CV] cache_size=1000, kernel=rbf, C=0.464158883361, gamma=0.01 .......\n",
        "[CV]  cache_size=1000, kernel=rbf, C=0.464158883361, gamma=0.01 -   3.8s"
       ]
      },
      {
       "output_type": "stream",
       "stream": "stdout",
       "text": [
        "\n",
        "[CV] cache_size=1000, kernel=rbf, C=0.464158883361, gamma=0.01 .......\n",
        "[CV]  cache_size=1000, kernel=rbf, C=0.464158883361, gamma=0.01 -   3.8s"
       ]
      },
      {
       "output_type": "stream",
       "stream": "stdout",
       "text": [
        "\n",
        "[CV] cache_size=1000, kernel=rbf, C=0.464158883361, gamma=0.01 .......\n",
        "[CV]  cache_size=1000, kernel=rbf, C=0.464158883361, gamma=0.01 -   3.9s"
       ]
      },
      {
       "output_type": "stream",
       "stream": "stdout",
       "text": [
        "\n",
        "[CV] cache_size=1000, kernel=rbf, C=0.464158883361, gamma=0.1 ........\n",
        "[CV]  cache_size=1000, kernel=rbf, C=0.464158883361, gamma=0.1 -   4.2s"
       ]
      },
      {
       "output_type": "stream",
       "stream": "stdout",
       "text": [
        "\n",
        "[CV] cache_size=1000, kernel=rbf, C=0.464158883361, gamma=0.1 ........\n",
        "[CV]  cache_size=1000, kernel=rbf, C=0.464158883361, gamma=0.1 -   4.1s"
       ]
      },
      {
       "output_type": "stream",
       "stream": "stdout",
       "text": [
        "\n",
        "[CV] cache_size=1000, kernel=rbf, C=0.464158883361, gamma=0.1 ........\n",
        "[CV]  cache_size=1000, kernel=rbf, C=0.464158883361, gamma=0.1 -   4.0s"
       ]
      },
      {
       "output_type": "stream",
       "stream": "stdout",
       "text": [
        "\n",
        "[CV] cache_size=1000, kernel=rbf, C=0.464158883361, gamma=0.1 ........\n",
        "[CV]  cache_size=1000, kernel=rbf, C=0.464158883361, gamma=0.1 -   4.0s"
       ]
      },
      {
       "output_type": "stream",
       "stream": "stdout",
       "text": [
        "\n",
        "[CV] cache_size=1000, kernel=rbf, C=0.464158883361, gamma=0.1 ........\n",
        "[CV]  cache_size=1000, kernel=rbf, C=0.464158883361, gamma=0.1 -   4.1s"
       ]
      },
      {
       "output_type": "stream",
       "stream": "stdout",
       "text": [
        "\n",
        "[CV] cache_size=1000, kernel=rbf, C=2.15443469003, gamma=1e-05 .......\n",
        "[CV]  cache_size=1000, kernel=rbf, C=2.15443469003, gamma=1e-05 -   0.8s"
       ]
      },
      {
       "output_type": "stream",
       "stream": "stdout",
       "text": [
        "\n",
        "[CV] cache_size=1000, kernel=rbf, C=2.15443469003, gamma=1e-05 .......\n",
        "[CV]  cache_size=1000, kernel=rbf, C=2.15443469003, gamma=1e-05 -   0.9s"
       ]
      },
      {
       "output_type": "stream",
       "stream": "stdout",
       "text": [
        "\n",
        "[CV] cache_size=1000, kernel=rbf, C=2.15443469003, gamma=1e-05 .......\n",
        "[CV]  cache_size=1000, kernel=rbf, C=2.15443469003, gamma=1e-05 -   0.9s"
       ]
      },
      {
       "output_type": "stream",
       "stream": "stdout",
       "text": [
        "\n",
        "[CV] cache_size=1000, kernel=rbf, C=2.15443469003, gamma=1e-05 .......\n",
        "[CV]  cache_size=1000, kernel=rbf, C=2.15443469003, gamma=1e-05 -   0.8s"
       ]
      },
      {
       "output_type": "stream",
       "stream": "stdout",
       "text": [
        "\n",
        "[CV] cache_size=1000, kernel=rbf, C=2.15443469003, gamma=1e-05 .......\n",
        "[CV]  cache_size=1000, kernel=rbf, C=2.15443469003, gamma=1e-05 -   0.9s"
       ]
      },
      {
       "output_type": "stream",
       "stream": "stdout",
       "text": [
        "\n",
        "[CV] cache_size=1000, kernel=rbf, C=2.15443469003, gamma=0.0001 ......\n",
        "[CV]  cache_size=1000, kernel=rbf, C=2.15443469003, gamma=0.0001 -   0.8s"
       ]
      },
      {
       "output_type": "stream",
       "stream": "stdout",
       "text": [
        "\n",
        "[CV] cache_size=1000, kernel=rbf, C=2.15443469003, gamma=0.0001 ......\n",
        "[CV]  cache_size=1000, kernel=rbf, C=2.15443469003, gamma=0.0001 -   0.9s"
       ]
      },
      {
       "output_type": "stream",
       "stream": "stdout",
       "text": [
        "\n",
        "[CV] cache_size=1000, kernel=rbf, C=2.15443469003, gamma=0.0001 ......\n",
        "[CV]  cache_size=1000, kernel=rbf, C=2.15443469003, gamma=0.0001 -   0.9s"
       ]
      },
      {
       "output_type": "stream",
       "stream": "stdout",
       "text": [
        "\n",
        "[CV] cache_size=1000, kernel=rbf, C=2.15443469003, gamma=0.0001 ......\n",
        "[CV]  cache_size=1000, kernel=rbf, C=2.15443469003, gamma=0.0001 -   0.8s"
       ]
      },
      {
       "output_type": "stream",
       "stream": "stdout",
       "text": [
        "\n",
        "[CV] cache_size=1000, kernel=rbf, C=2.15443469003, gamma=0.0001 ......\n",
        "[CV]  cache_size=1000, kernel=rbf, C=2.15443469003, gamma=0.0001 -   0.8s"
       ]
      },
      {
       "output_type": "stream",
       "stream": "stdout",
       "text": [
        "\n",
        "[CV] cache_size=1000, kernel=rbf, C=2.15443469003, gamma=0.001 .......\n",
        "[CV]  cache_size=1000, kernel=rbf, C=2.15443469003, gamma=0.001 -   0.9s"
       ]
      },
      {
       "output_type": "stream",
       "stream": "stdout",
       "text": [
        "\n",
        "[CV] cache_size=1000, kernel=rbf, C=2.15443469003, gamma=0.001 .......\n",
        "[CV]  cache_size=1000, kernel=rbf, C=2.15443469003, gamma=0.001 -   0.9s"
       ]
      },
      {
       "output_type": "stream",
       "stream": "stdout",
       "text": [
        "\n",
        "[CV] cache_size=1000, kernel=rbf, C=2.15443469003, gamma=0.001 .......\n",
        "[CV]  cache_size=1000, kernel=rbf, C=2.15443469003, gamma=0.001 -   0.9s"
       ]
      },
      {
       "output_type": "stream",
       "stream": "stdout",
       "text": [
        "\n",
        "[CV] cache_size=1000, kernel=rbf, C=2.15443469003, gamma=0.001 .......\n",
        "[CV]  cache_size=1000, kernel=rbf, C=2.15443469003, gamma=0.001 -   0.9s"
       ]
      },
      {
       "output_type": "stream",
       "stream": "stdout",
       "text": [
        "\n",
        "[CV] cache_size=1000, kernel=rbf, C=2.15443469003, gamma=0.001 .......\n",
        "[CV]  cache_size=1000, kernel=rbf, C=2.15443469003, gamma=0.001 -   0.8s"
       ]
      },
      {
       "output_type": "stream",
       "stream": "stdout",
       "text": [
        "\n",
        "[CV] cache_size=1000, kernel=rbf, C=2.15443469003, gamma=0.01 ........\n",
        "[CV]  cache_size=1000, kernel=rbf, C=2.15443469003, gamma=0.01 -   4.1s"
       ]
      },
      {
       "output_type": "stream",
       "stream": "stdout",
       "text": [
        "\n",
        "[CV] cache_size=1000, kernel=rbf, C=2.15443469003, gamma=0.01 ........\n",
        "[CV]  cache_size=1000, kernel=rbf, C=2.15443469003, gamma=0.01 -   3.9s"
       ]
      },
      {
       "output_type": "stream",
       "stream": "stdout",
       "text": [
        "\n",
        "[CV] cache_size=1000, kernel=rbf, C=2.15443469003, gamma=0.01 ........\n",
        "[CV]  cache_size=1000, kernel=rbf, C=2.15443469003, gamma=0.01 -   4.1s"
       ]
      },
      {
       "output_type": "stream",
       "stream": "stdout",
       "text": [
        "\n",
        "[CV] cache_size=1000, kernel=rbf, C=2.15443469003, gamma=0.01 ........\n",
        "[CV]  cache_size=1000, kernel=rbf, C=2.15443469003, gamma=0.01 -   3.9s"
       ]
      },
      {
       "output_type": "stream",
       "stream": "stdout",
       "text": [
        "\n",
        "[CV] cache_size=1000, kernel=rbf, C=2.15443469003, gamma=0.01 ........\n",
        "[CV]  cache_size=1000, kernel=rbf, C=2.15443469003, gamma=0.01 -   3.9s"
       ]
      },
      {
       "output_type": "stream",
       "stream": "stdout",
       "text": [
        "\n",
        "[CV] cache_size=1000, kernel=rbf, C=2.15443469003, gamma=0.1 .........\n",
        "[CV]  cache_size=1000, kernel=rbf, C=2.15443469003, gamma=0.1 -   4.0s"
       ]
      },
      {
       "output_type": "stream",
       "stream": "stdout",
       "text": [
        "\n",
        "[CV] cache_size=1000, kernel=rbf, C=2.15443469003, gamma=0.1 .........\n",
        "[CV]  cache_size=1000, kernel=rbf, C=2.15443469003, gamma=0.1 -   4.0s"
       ]
      },
      {
       "output_type": "stream",
       "stream": "stdout",
       "text": [
        "\n",
        "[CV] cache_size=1000, kernel=rbf, C=2.15443469003, gamma=0.1 .........\n",
        "[CV]  cache_size=1000, kernel=rbf, C=2.15443469003, gamma=0.1 -   4.0s"
       ]
      },
      {
       "output_type": "stream",
       "stream": "stdout",
       "text": [
        "\n",
        "[CV] cache_size=1000, kernel=rbf, C=2.15443469003, gamma=0.1 .........\n",
        "[CV]  cache_size=1000, kernel=rbf, C=2.15443469003, gamma=0.1 -   4.1s"
       ]
      },
      {
       "output_type": "stream",
       "stream": "stdout",
       "text": [
        "\n",
        "[CV] cache_size=1000, kernel=rbf, C=2.15443469003, gamma=0.1 .........\n",
        "[CV]  cache_size=1000, kernel=rbf, C=2.15443469003, gamma=0.1 -   4.1s"
       ]
      },
      {
       "output_type": "stream",
       "stream": "stdout",
       "text": [
        "\n",
        "[CV] cache_size=1000, kernel=rbf, C=10.0, gamma=1e-05 ................\n",
        "[CV] ....... cache_size=1000, kernel=rbf, C=10.0, gamma=1e-05 -   0.8s"
       ]
      },
      {
       "output_type": "stream",
       "stream": "stdout",
       "text": [
        "\n",
        "[CV] cache_size=1000, kernel=rbf, C=10.0, gamma=1e-05 ................\n",
        "[CV] ....... cache_size=1000, kernel=rbf, C=10.0, gamma=1e-05 -   0.9s"
       ]
      },
      {
       "output_type": "stream",
       "stream": "stdout",
       "text": [
        "\n",
        "[CV] cache_size=1000, kernel=rbf, C=10.0, gamma=1e-05 ................\n",
        "[CV] ....... cache_size=1000, kernel=rbf, C=10.0, gamma=1e-05 -   0.9s"
       ]
      },
      {
       "output_type": "stream",
       "stream": "stdout",
       "text": [
        "\n",
        "[CV] cache_size=1000, kernel=rbf, C=10.0, gamma=1e-05 ................\n",
        "[CV] ....... cache_size=1000, kernel=rbf, C=10.0, gamma=1e-05 -   0.8s"
       ]
      },
      {
       "output_type": "stream",
       "stream": "stdout",
       "text": [
        "\n",
        "[CV] cache_size=1000, kernel=rbf, C=10.0, gamma=1e-05 ................\n",
        "[CV] ....... cache_size=1000, kernel=rbf, C=10.0, gamma=1e-05 -   0.8s"
       ]
      },
      {
       "output_type": "stream",
       "stream": "stdout",
       "text": [
        "\n",
        "[CV] cache_size=1000, kernel=rbf, C=10.0, gamma=0.0001 ...............\n",
        "[CV] ...... cache_size=1000, kernel=rbf, C=10.0, gamma=0.0001 -   0.7s"
       ]
      },
      {
       "output_type": "stream",
       "stream": "stdout",
       "text": [
        "\n",
        "[CV] cache_size=1000, kernel=rbf, C=10.0, gamma=0.0001 ...............\n",
        "[CV] ...... cache_size=1000, kernel=rbf, C=10.0, gamma=0.0001 -   0.9s"
       ]
      },
      {
       "output_type": "stream",
       "stream": "stdout",
       "text": [
        "\n",
        "[CV] cache_size=1000, kernel=rbf, C=10.0, gamma=0.0001 ...............\n",
        "[CV] ...... cache_size=1000, kernel=rbf, C=10.0, gamma=0.0001 -   0.9s"
       ]
      },
      {
       "output_type": "stream",
       "stream": "stdout",
       "text": [
        "\n",
        "[CV] cache_size=1000, kernel=rbf, C=10.0, gamma=0.0001 ...............\n",
        "[CV] ...... cache_size=1000, kernel=rbf, C=10.0, gamma=0.0001 -   0.8s"
       ]
      },
      {
       "output_type": "stream",
       "stream": "stdout",
       "text": [
        "\n",
        "[CV] cache_size=1000, kernel=rbf, C=10.0, gamma=0.0001 ...............\n",
        "[CV] ...... cache_size=1000, kernel=rbf, C=10.0, gamma=0.0001 -   0.8s"
       ]
      },
      {
       "output_type": "stream",
       "stream": "stdout",
       "text": [
        "\n",
        "[CV] cache_size=1000, kernel=rbf, C=10.0, gamma=0.001 ................\n",
        "[CV] ....... cache_size=1000, kernel=rbf, C=10.0, gamma=0.001 -   0.9s"
       ]
      },
      {
       "output_type": "stream",
       "stream": "stdout",
       "text": [
        "\n",
        "[CV] cache_size=1000, kernel=rbf, C=10.0, gamma=0.001 ................\n",
        "[CV] ....... cache_size=1000, kernel=rbf, C=10.0, gamma=0.001 -   0.9s"
       ]
      },
      {
       "output_type": "stream",
       "stream": "stdout",
       "text": [
        "\n",
        "[CV] cache_size=1000, kernel=rbf, C=10.0, gamma=0.001 ................\n",
        "[CV] ....... cache_size=1000, kernel=rbf, C=10.0, gamma=0.001 -   0.9s"
       ]
      },
      {
       "output_type": "stream",
       "stream": "stdout",
       "text": [
        "\n",
        "[CV] cache_size=1000, kernel=rbf, C=10.0, gamma=0.001 ................\n",
        "[CV] ....... cache_size=1000, kernel=rbf, C=10.0, gamma=0.001 -   0.8s"
       ]
      },
      {
       "output_type": "stream",
       "stream": "stdout",
       "text": [
        "\n",
        "[CV] cache_size=1000, kernel=rbf, C=10.0, gamma=0.001 ................\n",
        "[CV] ....... cache_size=1000, kernel=rbf, C=10.0, gamma=0.001 -   0.8s"
       ]
      },
      {
       "output_type": "stream",
       "stream": "stdout",
       "text": [
        "\n",
        "[CV] cache_size=1000, kernel=rbf, C=10.0, gamma=0.01 .................\n",
        "[CV] ........ cache_size=1000, kernel=rbf, C=10.0, gamma=0.01 -   3.9s"
       ]
      },
      {
       "output_type": "stream",
       "stream": "stdout",
       "text": [
        "\n",
        "[CV] cache_size=1000, kernel=rbf, C=10.0, gamma=0.01 .................\n",
        "[CV] ........ cache_size=1000, kernel=rbf, C=10.0, gamma=0.01 -   3.8s"
       ]
      },
      {
       "output_type": "stream",
       "stream": "stdout",
       "text": [
        "\n",
        "[CV] cache_size=1000, kernel=rbf, C=10.0, gamma=0.01 .................\n",
        "[CV] ........ cache_size=1000, kernel=rbf, C=10.0, gamma=0.01 -   3.9s"
       ]
      },
      {
       "output_type": "stream",
       "stream": "stdout",
       "text": [
        "\n",
        "[CV] cache_size=1000, kernel=rbf, C=10.0, gamma=0.01 .................\n",
        "[CV] ........ cache_size=1000, kernel=rbf, C=10.0, gamma=0.01 -   3.8s"
       ]
      },
      {
       "output_type": "stream",
       "stream": "stdout",
       "text": [
        "\n",
        "[CV] cache_size=1000, kernel=rbf, C=10.0, gamma=0.01 .................\n",
        "[CV] ........ cache_size=1000, kernel=rbf, C=10.0, gamma=0.01 -   3.9s"
       ]
      },
      {
       "output_type": "stream",
       "stream": "stdout",
       "text": [
        "\n",
        "[CV] cache_size=1000, kernel=rbf, C=10.0, gamma=0.1 ..................\n",
        "[CV] ......... cache_size=1000, kernel=rbf, C=10.0, gamma=0.1 -   4.1s"
       ]
      },
      {
       "output_type": "stream",
       "stream": "stdout",
       "text": [
        "\n",
        "[CV] cache_size=1000, kernel=rbf, C=10.0, gamma=0.1 ..................\n",
        "[CV] ......... cache_size=1000, kernel=rbf, C=10.0, gamma=0.1 -   4.0s"
       ]
      },
      {
       "output_type": "stream",
       "stream": "stdout",
       "text": [
        "\n",
        "[CV] cache_size=1000, kernel=rbf, C=10.0, gamma=0.1 ..................\n",
        "[CV] ......... cache_size=1000, kernel=rbf, C=10.0, gamma=0.1 -   4.0s"
       ]
      },
      {
       "output_type": "stream",
       "stream": "stdout",
       "text": [
        "\n",
        "[CV] cache_size=1000, kernel=rbf, C=10.0, gamma=0.1 ..................\n",
        "[CV] ......... cache_size=1000, kernel=rbf, C=10.0, gamma=0.1 -   4.1s"
       ]
      },
      {
       "output_type": "stream",
       "stream": "stdout",
       "text": [
        "\n",
        "[CV] cache_size=1000, kernel=rbf, C=10.0, gamma=0.1 ..................\n",
        "[CV] ......... cache_size=1000, kernel=rbf, C=10.0, gamma=0.1 -   4.1s"
       ]
      },
      {
       "output_type": "stream",
       "stream": "stdout",
       "text": [
        "\n",
        "[CV] cache_size=1000, kernel=rbf, C=46.4158883361, gamma=1e-05 .......\n",
        "[CV]  cache_size=1000, kernel=rbf, C=46.4158883361, gamma=1e-05 -   0.9s"
       ]
      },
      {
       "output_type": "stream",
       "stream": "stdout",
       "text": [
        "\n",
        "[CV] cache_size=1000, kernel=rbf, C=46.4158883361, gamma=1e-05 .......\n",
        "[CV]  cache_size=1000, kernel=rbf, C=46.4158883361, gamma=1e-05 -   1.0s"
       ]
      },
      {
       "output_type": "stream",
       "stream": "stdout",
       "text": [
        "\n",
        "[CV] cache_size=1000, kernel=rbf, C=46.4158883361, gamma=1e-05 .......\n",
        "[CV]  cache_size=1000, kernel=rbf, C=46.4158883361, gamma=1e-05 -   1.0s"
       ]
      },
      {
       "output_type": "stream",
       "stream": "stdout",
       "text": [
        "\n",
        "[CV] cache_size=1000, kernel=rbf, C=46.4158883361, gamma=1e-05 .......\n",
        "[CV]  cache_size=1000, kernel=rbf, C=46.4158883361, gamma=1e-05 -   0.8s"
       ]
      },
      {
       "output_type": "stream",
       "stream": "stdout",
       "text": [
        "\n",
        "[CV] cache_size=1000, kernel=rbf, C=46.4158883361, gamma=1e-05 .......\n",
        "[CV]  cache_size=1000, kernel=rbf, C=46.4158883361, gamma=1e-05 -   0.8s"
       ]
      },
      {
       "output_type": "stream",
       "stream": "stdout",
       "text": [
        "\n",
        "[CV] cache_size=1000, kernel=rbf, C=46.4158883361, gamma=0.0001 ......\n",
        "[CV]  cache_size=1000, kernel=rbf, C=46.4158883361, gamma=0.0001 -   0.8s"
       ]
      },
      {
       "output_type": "stream",
       "stream": "stdout",
       "text": [
        "\n",
        "[CV] cache_size=1000, kernel=rbf, C=46.4158883361, gamma=0.0001 ......\n",
        "[CV]  cache_size=1000, kernel=rbf, C=46.4158883361, gamma=0.0001 -   0.9s"
       ]
      },
      {
       "output_type": "stream",
       "stream": "stdout",
       "text": [
        "\n",
        "[CV] cache_size=1000, kernel=rbf, C=46.4158883361, gamma=0.0001 ......\n",
        "[CV]  cache_size=1000, kernel=rbf, C=46.4158883361, gamma=0.0001 -   0.9s"
       ]
      },
      {
       "output_type": "stream",
       "stream": "stdout",
       "text": [
        "\n",
        "[CV] cache_size=1000, kernel=rbf, C=46.4158883361, gamma=0.0001 ......\n",
        "[CV]  cache_size=1000, kernel=rbf, C=46.4158883361, gamma=0.0001 -   0.8s"
       ]
      },
      {
       "output_type": "stream",
       "stream": "stdout",
       "text": [
        "\n",
        "[CV] cache_size=1000, kernel=rbf, C=46.4158883361, gamma=0.0001 ......\n",
        "[CV]  cache_size=1000, kernel=rbf, C=46.4158883361, gamma=0.0001 -   0.8s"
       ]
      },
      {
       "output_type": "stream",
       "stream": "stdout",
       "text": [
        "\n",
        "[CV] cache_size=1000, kernel=rbf, C=46.4158883361, gamma=0.001 .......\n",
        "[CV]  cache_size=1000, kernel=rbf, C=46.4158883361, gamma=0.001 -   0.8s"
       ]
      },
      {
       "output_type": "stream",
       "stream": "stdout",
       "text": [
        "\n",
        "[CV] cache_size=1000, kernel=rbf, C=46.4158883361, gamma=0.001 .......\n",
        "[CV]  cache_size=1000, kernel=rbf, C=46.4158883361, gamma=0.001 -   0.8s"
       ]
      },
      {
       "output_type": "stream",
       "stream": "stdout",
       "text": [
        "\n",
        "[CV] cache_size=1000, kernel=rbf, C=46.4158883361, gamma=0.001 .......\n",
        "[CV]  cache_size=1000, kernel=rbf, C=46.4158883361, gamma=0.001 -   0.9s"
       ]
      },
      {
       "output_type": "stream",
       "stream": "stdout",
       "text": [
        "\n",
        "[CV] cache_size=1000, kernel=rbf, C=46.4158883361, gamma=0.001 .......\n",
        "[CV]  cache_size=1000, kernel=rbf, C=46.4158883361, gamma=0.001 -   0.8s"
       ]
      },
      {
       "output_type": "stream",
       "stream": "stdout",
       "text": [
        "\n",
        "[CV] cache_size=1000, kernel=rbf, C=46.4158883361, gamma=0.001 .......\n",
        "[CV]  cache_size=1000, kernel=rbf, C=46.4158883361, gamma=0.001 -   0.7s"
       ]
      },
      {
       "output_type": "stream",
       "stream": "stdout",
       "text": [
        "\n",
        "[CV] cache_size=1000, kernel=rbf, C=46.4158883361, gamma=0.01 ........\n",
        "[CV]  cache_size=1000, kernel=rbf, C=46.4158883361, gamma=0.01 -   3.9s"
       ]
      },
      {
       "output_type": "stream",
       "stream": "stdout",
       "text": [
        "\n",
        "[CV] cache_size=1000, kernel=rbf, C=46.4158883361, gamma=0.01 ........\n",
        "[CV]  cache_size=1000, kernel=rbf, C=46.4158883361, gamma=0.01 -   3.8s"
       ]
      },
      {
       "output_type": "stream",
       "stream": "stdout",
       "text": [
        "\n",
        "[CV] cache_size=1000, kernel=rbf, C=46.4158883361, gamma=0.01 ........\n",
        "[CV]  cache_size=1000, kernel=rbf, C=46.4158883361, gamma=0.01 -   3.8s"
       ]
      },
      {
       "output_type": "stream",
       "stream": "stdout",
       "text": [
        "\n",
        "[CV] cache_size=1000, kernel=rbf, C=46.4158883361, gamma=0.01 ........\n",
        "[CV]  cache_size=1000, kernel=rbf, C=46.4158883361, gamma=0.01 -   3.9s"
       ]
      },
      {
       "output_type": "stream",
       "stream": "stdout",
       "text": [
        "\n",
        "[CV] cache_size=1000, kernel=rbf, C=46.4158883361, gamma=0.01 ........\n",
        "[CV]  cache_size=1000, kernel=rbf, C=46.4158883361, gamma=0.01 -   3.9s"
       ]
      },
      {
       "output_type": "stream",
       "stream": "stdout",
       "text": [
        "\n",
        "[CV] cache_size=1000, kernel=rbf, C=46.4158883361, gamma=0.1 .........\n",
        "[CV]  cache_size=1000, kernel=rbf, C=46.4158883361, gamma=0.1 -   4.0s"
       ]
      },
      {
       "output_type": "stream",
       "stream": "stdout",
       "text": [
        "\n",
        "[CV] cache_size=1000, kernel=rbf, C=46.4158883361, gamma=0.1 .........\n",
        "[CV]  cache_size=1000, kernel=rbf, C=46.4158883361, gamma=0.1 -   4.0s"
       ]
      },
      {
       "output_type": "stream",
       "stream": "stdout",
       "text": [
        "\n",
        "[CV] cache_size=1000, kernel=rbf, C=46.4158883361, gamma=0.1 .........\n",
        "[CV]  cache_size=1000, kernel=rbf, C=46.4158883361, gamma=0.1 -   4.0s"
       ]
      },
      {
       "output_type": "stream",
       "stream": "stdout",
       "text": [
        "\n",
        "[CV] cache_size=1000, kernel=rbf, C=46.4158883361, gamma=0.1 .........\n",
        "[CV]  cache_size=1000, kernel=rbf, C=46.4158883361, gamma=0.1 -   4.1s"
       ]
      },
      {
       "output_type": "stream",
       "stream": "stdout",
       "text": [
        "\n",
        "[CV] cache_size=1000, kernel=rbf, C=46.4158883361, gamma=0.1 .........\n",
        "[CV]  cache_size=1000, kernel=rbf, C=46.4158883361, gamma=0.1 -   4.0s"
       ]
      },
      {
       "output_type": "stream",
       "stream": "stdout",
       "text": [
        "\n",
        "[CV] cache_size=1000, kernel=rbf, C=215.443469003, gamma=1e-05 .......\n",
        "[CV]  cache_size=1000, kernel=rbf, C=215.443469003, gamma=1e-05 -   0.8s"
       ]
      },
      {
       "output_type": "stream",
       "stream": "stdout",
       "text": [
        "\n",
        "[CV] cache_size=1000, kernel=rbf, C=215.443469003, gamma=1e-05 .......\n",
        "[CV]  cache_size=1000, kernel=rbf, C=215.443469003, gamma=1e-05 -   0.9s"
       ]
      },
      {
       "output_type": "stream",
       "stream": "stdout",
       "text": [
        "\n",
        "[CV] cache_size=1000, kernel=rbf, C=215.443469003, gamma=1e-05 .......\n",
        "[CV]  cache_size=1000, kernel=rbf, C=215.443469003, gamma=1e-05 -   0.9s"
       ]
      },
      {
       "output_type": "stream",
       "stream": "stdout",
       "text": [
        "\n",
        "[CV] cache_size=1000, kernel=rbf, C=215.443469003, gamma=1e-05 .......\n",
        "[CV]  cache_size=1000, kernel=rbf, C=215.443469003, gamma=1e-05 -   0.8s"
       ]
      },
      {
       "output_type": "stream",
       "stream": "stdout",
       "text": [
        "\n",
        "[CV] cache_size=1000, kernel=rbf, C=215.443469003, gamma=1e-05 .......\n",
        "[CV]  cache_size=1000, kernel=rbf, C=215.443469003, gamma=1e-05 -   0.8s"
       ]
      },
      {
       "output_type": "stream",
       "stream": "stdout",
       "text": [
        "\n",
        "[CV] cache_size=1000, kernel=rbf, C=215.443469003, gamma=0.0001 ......\n",
        "[CV]  cache_size=1000, kernel=rbf, C=215.443469003, gamma=0.0001 -   0.9s"
       ]
      },
      {
       "output_type": "stream",
       "stream": "stdout",
       "text": [
        "\n",
        "[CV] cache_size=1000, kernel=rbf, C=215.443469003, gamma=0.0001 ......\n",
        "[CV]  cache_size=1000, kernel=rbf, C=215.443469003, gamma=0.0001 -   0.9s"
       ]
      },
      {
       "output_type": "stream",
       "stream": "stdout",
       "text": [
        "\n",
        "[CV] cache_size=1000, kernel=rbf, C=215.443469003, gamma=0.0001 ......\n",
        "[CV]  cache_size=1000, kernel=rbf, C=215.443469003, gamma=0.0001 -   0.9s"
       ]
      },
      {
       "output_type": "stream",
       "stream": "stdout",
       "text": [
        "\n",
        "[CV] cache_size=1000, kernel=rbf, C=215.443469003, gamma=0.0001 ......\n",
        "[CV]  cache_size=1000, kernel=rbf, C=215.443469003, gamma=0.0001 -   0.9s"
       ]
      },
      {
       "output_type": "stream",
       "stream": "stdout",
       "text": [
        "\n",
        "[CV] cache_size=1000, kernel=rbf, C=215.443469003, gamma=0.0001 ......\n",
        "[CV]  cache_size=1000, kernel=rbf, C=215.443469003, gamma=0.0001 -   0.8s"
       ]
      },
      {
       "output_type": "stream",
       "stream": "stdout",
       "text": [
        "\n",
        "[CV] cache_size=1000, kernel=rbf, C=215.443469003, gamma=0.001 .......\n",
        "[CV]  cache_size=1000, kernel=rbf, C=215.443469003, gamma=0.001 -   0.7s"
       ]
      },
      {
       "output_type": "stream",
       "stream": "stdout",
       "text": [
        "\n",
        "[CV] cache_size=1000, kernel=rbf, C=215.443469003, gamma=0.001 .......\n",
        "[CV]  cache_size=1000, kernel=rbf, C=215.443469003, gamma=0.001 -   0.8s"
       ]
      },
      {
       "output_type": "stream",
       "stream": "stdout",
       "text": [
        "\n",
        "[CV] cache_size=1000, kernel=rbf, C=215.443469003, gamma=0.001 .......\n",
        "[CV]  cache_size=1000, kernel=rbf, C=215.443469003, gamma=0.001 -   0.8s"
       ]
      },
      {
       "output_type": "stream",
       "stream": "stdout",
       "text": [
        "\n",
        "[CV] cache_size=1000, kernel=rbf, C=215.443469003, gamma=0.001 .......\n",
        "[CV]  cache_size=1000, kernel=rbf, C=215.443469003, gamma=0.001 -   0.7s"
       ]
      },
      {
       "output_type": "stream",
       "stream": "stdout",
       "text": [
        "\n",
        "[CV] cache_size=1000, kernel=rbf, C=215.443469003, gamma=0.001 .......\n",
        "[CV]  cache_size=1000, kernel=rbf, C=215.443469003, gamma=0.001 -   0.7s"
       ]
      },
      {
       "output_type": "stream",
       "stream": "stdout",
       "text": [
        "\n",
        "[CV] cache_size=1000, kernel=rbf, C=215.443469003, gamma=0.01 ........\n",
        "[CV]  cache_size=1000, kernel=rbf, C=215.443469003, gamma=0.01 -   3.9s"
       ]
      },
      {
       "output_type": "stream",
       "stream": "stdout",
       "text": [
        "\n",
        "[CV] cache_size=1000, kernel=rbf, C=215.443469003, gamma=0.01 ........\n",
        "[CV]  cache_size=1000, kernel=rbf, C=215.443469003, gamma=0.01 -   3.8s"
       ]
      },
      {
       "output_type": "stream",
       "stream": "stdout",
       "text": [
        "\n",
        "[CV] cache_size=1000, kernel=rbf, C=215.443469003, gamma=0.01 ........\n",
        "[CV]  cache_size=1000, kernel=rbf, C=215.443469003, gamma=0.01 -   3.9s"
       ]
      },
      {
       "output_type": "stream",
       "stream": "stdout",
       "text": [
        "\n",
        "[CV] cache_size=1000, kernel=rbf, C=215.443469003, gamma=0.01 ........\n",
        "[CV]  cache_size=1000, kernel=rbf, C=215.443469003, gamma=0.01 -   3.8s"
       ]
      },
      {
       "output_type": "stream",
       "stream": "stdout",
       "text": [
        "\n",
        "[CV] cache_size=1000, kernel=rbf, C=215.443469003, gamma=0.01 ........\n",
        "[CV]  cache_size=1000, kernel=rbf, C=215.443469003, gamma=0.01 -   3.8s"
       ]
      },
      {
       "output_type": "stream",
       "stream": "stdout",
       "text": [
        "\n",
        "[CV] cache_size=1000, kernel=rbf, C=215.443469003, gamma=0.1 .........\n",
        "[CV]  cache_size=1000, kernel=rbf, C=215.443469003, gamma=0.1 -   4.2s"
       ]
      },
      {
       "output_type": "stream",
       "stream": "stdout",
       "text": [
        "\n",
        "[CV] cache_size=1000, kernel=rbf, C=215.443469003, gamma=0.1 .........\n",
        "[CV]  cache_size=1000, kernel=rbf, C=215.443469003, gamma=0.1 -   4.0s"
       ]
      },
      {
       "output_type": "stream",
       "stream": "stdout",
       "text": [
        "\n",
        "[CV] cache_size=1000, kernel=rbf, C=215.443469003, gamma=0.1 .........\n",
        "[CV]  cache_size=1000, kernel=rbf, C=215.443469003, gamma=0.1 -   4.0s"
       ]
      },
      {
       "output_type": "stream",
       "stream": "stdout",
       "text": [
        "\n",
        "[CV] cache_size=1000, kernel=rbf, C=215.443469003, gamma=0.1 .........\n",
        "[CV]  cache_size=1000, kernel=rbf, C=215.443469003, gamma=0.1 -   4.1s"
       ]
      },
      {
       "output_type": "stream",
       "stream": "stdout",
       "text": [
        "\n",
        "[CV] cache_size=1000, kernel=rbf, C=215.443469003, gamma=0.1 .........\n",
        "[CV]  cache_size=1000, kernel=rbf, C=215.443469003, gamma=0.1 -   4.0s"
       ]
      },
      {
       "output_type": "stream",
       "stream": "stdout",
       "text": [
        "\n",
        "[CV] cache_size=1000, kernel=rbf, C=1000.0, gamma=1e-05 ..............\n",
        "[CV] ..... cache_size=1000, kernel=rbf, C=1000.0, gamma=1e-05 -   0.9s"
       ]
      },
      {
       "output_type": "stream",
       "stream": "stdout",
       "text": [
        "\n",
        "[CV] cache_size=1000, kernel=rbf, C=1000.0, gamma=1e-05 ..............\n",
        "[CV] ..... cache_size=1000, kernel=rbf, C=1000.0, gamma=1e-05 -   1.0s"
       ]
      },
      {
       "output_type": "stream",
       "stream": "stdout",
       "text": [
        "\n",
        "[CV] cache_size=1000, kernel=rbf, C=1000.0, gamma=1e-05 ..............\n",
        "[CV] ..... cache_size=1000, kernel=rbf, C=1000.0, gamma=1e-05 -   1.0s"
       ]
      },
      {
       "output_type": "stream",
       "stream": "stdout",
       "text": [
        "\n",
        "[CV] cache_size=1000, kernel=rbf, C=1000.0, gamma=1e-05 ..............\n",
        "[CV] ..... cache_size=1000, kernel=rbf, C=1000.0, gamma=1e-05 -   0.9s"
       ]
      },
      {
       "output_type": "stream",
       "stream": "stdout",
       "text": [
        "\n",
        "[CV] cache_size=1000, kernel=rbf, C=1000.0, gamma=1e-05 ..............\n",
        "[CV] ..... cache_size=1000, kernel=rbf, C=1000.0, gamma=1e-05 -   0.9s"
       ]
      },
      {
       "output_type": "stream",
       "stream": "stdout",
       "text": [
        "\n",
        "[CV] cache_size=1000, kernel=rbf, C=1000.0, gamma=0.0001 .............\n",
        "[CV] .... cache_size=1000, kernel=rbf, C=1000.0, gamma=0.0001 -   0.9s"
       ]
      },
      {
       "output_type": "stream",
       "stream": "stdout",
       "text": [
        "\n",
        "[CV] cache_size=1000, kernel=rbf, C=1000.0, gamma=0.0001 .............\n",
        "[CV] .... cache_size=1000, kernel=rbf, C=1000.0, gamma=0.0001 -   1.1s"
       ]
      },
      {
       "output_type": "stream",
       "stream": "stdout",
       "text": [
        "\n",
        "[CV] cache_size=1000, kernel=rbf, C=1000.0, gamma=0.0001 .............\n",
        "[CV] .... cache_size=1000, kernel=rbf, C=1000.0, gamma=0.0001 -   0.9s"
       ]
      },
      {
       "output_type": "stream",
       "stream": "stdout",
       "text": [
        "\n",
        "[CV] cache_size=1000, kernel=rbf, C=1000.0, gamma=0.0001 .............\n",
        "[CV] .... cache_size=1000, kernel=rbf, C=1000.0, gamma=0.0001 -   0.9s"
       ]
      },
      {
       "output_type": "stream",
       "stream": "stdout",
       "text": [
        "\n",
        "[CV] cache_size=1000, kernel=rbf, C=1000.0, gamma=0.0001 .............\n",
        "[CV] .... cache_size=1000, kernel=rbf, C=1000.0, gamma=0.0001 -   0.9s"
       ]
      },
      {
       "output_type": "stream",
       "stream": "stdout",
       "text": [
        "\n",
        "[CV] cache_size=1000, kernel=rbf, C=1000.0, gamma=0.001 ..............\n",
        "[CV] ..... cache_size=1000, kernel=rbf, C=1000.0, gamma=0.001 -   0.7s"
       ]
      },
      {
       "output_type": "stream",
       "stream": "stdout",
       "text": [
        "\n",
        "[CV] cache_size=1000, kernel=rbf, C=1000.0, gamma=0.001 ..............\n",
        "[CV] ..... cache_size=1000, kernel=rbf, C=1000.0, gamma=0.001 -   0.8s"
       ]
      },
      {
       "output_type": "stream",
       "stream": "stdout",
       "text": [
        "\n",
        "[CV] cache_size=1000, kernel=rbf, C=1000.0, gamma=0.001 ..............\n",
        "[CV] ..... cache_size=1000, kernel=rbf, C=1000.0, gamma=0.001 -   0.8s"
       ]
      },
      {
       "output_type": "stream",
       "stream": "stdout",
       "text": [
        "\n",
        "[CV] cache_size=1000, kernel=rbf, C=1000.0, gamma=0.001 ..............\n",
        "[CV] ..... cache_size=1000, kernel=rbf, C=1000.0, gamma=0.001 -   0.8s"
       ]
      },
      {
       "output_type": "stream",
       "stream": "stdout",
       "text": [
        "\n",
        "[CV] cache_size=1000, kernel=rbf, C=1000.0, gamma=0.001 ..............\n",
        "[CV] ..... cache_size=1000, kernel=rbf, C=1000.0, gamma=0.001 -   0.7s"
       ]
      },
      {
       "output_type": "stream",
       "stream": "stdout",
       "text": [
        "\n",
        "[CV] cache_size=1000, kernel=rbf, C=1000.0, gamma=0.01 ...............\n",
        "[CV] ...... cache_size=1000, kernel=rbf, C=1000.0, gamma=0.01 -   4.0s"
       ]
      },
      {
       "output_type": "stream",
       "stream": "stdout",
       "text": [
        "\n",
        "[CV] cache_size=1000, kernel=rbf, C=1000.0, gamma=0.01 ...............\n",
        "[CV] ...... cache_size=1000, kernel=rbf, C=1000.0, gamma=0.01 -   4.0s"
       ]
      },
      {
       "output_type": "stream",
       "stream": "stdout",
       "text": [
        "\n",
        "[CV] cache_size=1000, kernel=rbf, C=1000.0, gamma=0.01 ...............\n",
        "[CV] ...... cache_size=1000, kernel=rbf, C=1000.0, gamma=0.01 -   4.3s"
       ]
      },
      {
       "output_type": "stream",
       "stream": "stdout",
       "text": [
        "\n",
        "[CV] cache_size=1000, kernel=rbf, C=1000.0, gamma=0.01 ...............\n",
        "[CV] ...... cache_size=1000, kernel=rbf, C=1000.0, gamma=0.01 -   4.4s"
       ]
      },
      {
       "output_type": "stream",
       "stream": "stdout",
       "text": [
        "\n",
        "[CV] cache_size=1000, kernel=rbf, C=1000.0, gamma=0.01 ...............\n",
        "[CV] ...... cache_size=1000, kernel=rbf, C=1000.0, gamma=0.01 -   3.8s"
       ]
      },
      {
       "output_type": "stream",
       "stream": "stdout",
       "text": [
        "\n",
        "[CV] cache_size=1000, kernel=rbf, C=1000.0, gamma=0.1 ................\n",
        "[CV] ....... cache_size=1000, kernel=rbf, C=1000.0, gamma=0.1 -   4.1s"
       ]
      },
      {
       "output_type": "stream",
       "stream": "stdout",
       "text": [
        "\n",
        "[CV] cache_size=1000, kernel=rbf, C=1000.0, gamma=0.1 ................\n",
        "[CV] ....... cache_size=1000, kernel=rbf, C=1000.0, gamma=0.1 -   4.0s"
       ]
      },
      {
       "output_type": "stream",
       "stream": "stdout",
       "text": [
        "\n",
        "[CV] cache_size=1000, kernel=rbf, C=1000.0, gamma=0.1 ................\n",
        "[CV] ....... cache_size=1000, kernel=rbf, C=1000.0, gamma=0.1 -   4.0s"
       ]
      },
      {
       "output_type": "stream",
       "stream": "stdout",
       "text": [
        "\n",
        "[CV] cache_size=1000, kernel=rbf, C=1000.0, gamma=0.1 ................\n",
        "[CV] ....... cache_size=1000, kernel=rbf, C=1000.0, gamma=0.1 -   4.0s"
       ]
      },
      {
       "output_type": "stream",
       "stream": "stdout",
       "text": [
        "\n",
        "[CV] cache_size=1000, kernel=rbf, C=1000.0, gamma=0.1 ................\n",
        "[CV] ....... cache_size=1000, kernel=rbf, C=1000.0, gamma=0.1 -   4.0s"
       ]
      },
      {
       "output_type": "stream",
       "stream": "stderr",
       "text": [
        "[Parallel(n_jobs=1)]: Done 162 jobs       | elapsed:  4.1min\n",
        "[Parallel(n_jobs=1)]: Done 250 out of 250 | elapsed:  7.5min finished\n"
       ]
      },
      {
       "output_type": "stream",
       "stream": "stdout",
       "text": [
        "\n",
        "\n",
        "P_bin:"
       ]
      },
      {
       "output_type": "stream",
       "stream": "stdout",
       "text": [
        "\n",
        "Cache_Size: 1000\n",
        "Kernel: rbf\n",
        "C: 0.001\n",
        "Gamma: 1e-05\n",
        "Internal CV RMSE: -0.949870354365\n",
        "Internal CV SDev:0.00196145424515\n",
        "Time elapsed in main loop: 448.599480152\n",
        "On 50 parameter/scaling permutations.\n"
       ]
      },
      {
       "html": [
        "<div style=\"max-height:1000px;max-width:1500px;overflow:auto;\">\n",
        "<table border=\"1\" class=\"dataframe\">\n",
        "  <thead>\n",
        "    <tr>\n",
        "      <th>Target</th>\n",
        "      <th colspan=\"2\" halign=\"left\">P_bin</th>\n",
        "    </tr>\n",
        "    <tr>\n",
        "      <th>Statistic</th>\n",
        "      <th>RMSE MEAN</th>\n",
        "      <th>RMSE STD</th>\n",
        "    </tr>\n",
        "    <tr>\n",
        "      <th>Feature Scaling</th>\n",
        "      <th></th>\n",
        "      <th></th>\n",
        "    </tr>\n",
        "  </thead>\n",
        "  <tbody>\n",
        "    <tr>\n",
        "      <th>Feature Standardization</th>\n",
        "      <td>-0.9498704</td>\n",
        "      <td> 0.001961454</td>\n",
        "    </tr>\n",
        "  </tbody>\n",
        "</table>\n",
        "</div>"
       ],
       "metadata": {},
       "output_type": "pyout",
       "prompt_number": 28,
       "text": [
        "Target                       P_bin             \n",
        "Statistic                RMSE MEAN     RMSE STD\n",
        "Feature Scaling                                \n",
        "Feature Standardization -0.9498704  0.001961454"
       ]
      }
     ],
     "prompt_number": 28
    },
    {
     "cell_type": "code",
     "collapsed": false,
     "input": [
      "X_test = pd.concat([wave, spatial], axis = 1)\n",
      "X_test = scaler_dict['Feature Standardization'].transform(X_test)\n",
      "preds = gs_obj.predict(X_test)"
     ],
     "language": "python",
     "metadata": {},
     "outputs": [],
     "prompt_number": 29
    },
    {
     "cell_type": "code",
     "collapsed": false,
     "input": [
      "np.all(preds == preds[0])"
     ],
     "language": "python",
     "metadata": {},
     "outputs": [
      {
       "metadata": {},
       "output_type": "pyout",
       "prompt_number": 31,
       "text": [
        "True"
       ]
      }
     ],
     "prompt_number": 31
    }
   ],
   "metadata": {}
  }
 ]
}