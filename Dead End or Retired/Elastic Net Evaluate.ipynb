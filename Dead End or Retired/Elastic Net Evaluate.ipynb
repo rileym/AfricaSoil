{
 "metadata": {
  "name": "",
  "signature": "sha256:4dc2f9f7dfec24553f0c1f2fc2cfbf073a806760916d8e6290d47b23a18700c7"
 },
 "nbformat": 3,
 "nbformat_minor": 0,
 "worksheets": [
  {
   "cells": [
    {
     "cell_type": "heading",
     "level": 2,
     "metadata": {},
     "source": [
      "Estimate Generalization Loss of Elastic Net"
     ]
    },
    {
     "cell_type": "code",
     "collapsed": false,
     "input": [
      "import pandas as pd\n",
      "import numpy as np\n",
      "import sklearn.linear_model as lm\n",
      "import sklearn.grid_search as grid_search\n",
      "import sklearn.cross_validation as cv\n",
      "import sklearn.preprocessing as pp\n",
      "import sklearn.metrics as metrics\n",
      "import soilCleanTools as clean\n",
      "import time\n",
      "import timeit"
     ],
     "language": "python",
     "metadata": {},
     "outputs": [],
     "prompt_number": 33
    },
    {
     "cell_type": "code",
     "collapsed": false,
     "input": [
      "def print_params(target_name, param_dict):\n",
      "    \n",
      "    print('\\n' + target_name + ':')\n",
      "    for (parameter, value) in param_dict.iteritems():\n",
      "        print(parameter.title()+': ' + str(value))\n",
      "        \n"
     ],
     "language": "python",
     "metadata": {},
     "outputs": [],
     "prompt_number": 34
    },
    {
     "cell_type": "code",
     "collapsed": false,
     "input": [
      "##\n",
      "## Read in and clean the data.\n",
      "##\n",
      "\n",
      "# Read in data\n",
      "train_df = pd.read_csv('./Data/training.csv', index_col='PIDN')\n",
      "\n",
      "\n",
      "# Clean and split for readability\n",
      "train_data_dict = clean.clean_data(train_df)\n",
      "wave, spatial, targets = train_data_dict['wave'], train_data_dict['spatial'], train_data_dict['targets']\n"
     ],
     "language": "python",
     "metadata": {},
     "outputs": [],
     "prompt_number": 35
    },
    {
     "cell_type": "code",
     "collapsed": false,
     "input": [
      "##\n",
      "## Construct all objects needed for the evaluation loop.\n",
      "##\n",
      "\n",
      "# Model and Specifications \n",
      "\n",
      "model_name = 'ElasticNet'\n",
      "l1_ratios = [.05,.1,.95,.99,.995,1]\n",
      "n_alphas = 100\n",
      "alphas = np.logspace(-11, -4, num=n_alphas)\n",
      "#\n",
      "params = {'loss':['squared_loss'], 'penalty':['elasticnet'], \\\n",
      "          'random_state':[1234], 'eta0':[0.0001], 'shuffle':[True], \\\n",
      "          'alpha':alphas, 'l1_ratio':l1_ratios}\n",
      "gs_obj = grid_search.GridSearchCV(estimator = lm.SGDRegressor(), param_grid = params,\\\n",
      "                                  scoring = 'mean_squared_error', cv = 3, refit = True)\n"
     ],
     "language": "python",
     "metadata": {},
     "outputs": [],
     "prompt_number": 36
    },
    {
     "cell_type": "code",
     "collapsed": false,
     "input": [
      "#Split data for evaluation\n",
      "train_prop = .9\n",
      "(train_idx, val_idx) = cv.train_test_split(wave.index, train_size=train_prop)\n",
      "scaler = pp.StandardScaler(with_mean = True, with_std = True)\n",
      "X_train = scaler.fit_transform(wave.loc[train_idx,:])\n",
      "X_val = scaler.transform(wave.loc[val_idx,:])"
     ],
     "language": "python",
     "metadata": {},
     "outputs": [],
     "prompt_number": 37
    },
    {
     "cell_type": "code",
     "collapsed": false,
     "input": [
      "#Build DataFrame to record results\n",
      "results_cols = pd.Index(targets.columns, name='Target')\n",
      "results = pd.Series(index=results_cols, name='RMSE')"
     ],
     "language": "python",
     "metadata": {},
     "outputs": [],
     "prompt_number": 38
    },
    {
     "cell_type": "code",
     "collapsed": false,
     "input": [
      "start_time = timeit.default_timer()\n",
      "\n",
      "# Fit model to the data (and perform CV to choose optimal meta-parameters) against each target variable\n",
      "for (target_name, y) in targets.iteritems() :\n",
      "\n",
      "    gs_obj.fit(X = X_train, y=y.loc[train_idx])\n",
      "    y_pred = gs_obj.predict(X=X_val)\n",
      "    mse = metrics.mean_squared_error(y_pred=y_pred, y_true=y.loc[val_idx])\n",
      "    results[target_name] = mse**(.5)\n",
      "    print_params(target_name, gs_obj.best_params_)\n",
      "\n",
      "# Capture elapsed time\n",
      "elapsed = timeit.default_timer() - start_time\n",
      "print(elapsed)"
     ],
     "language": "python",
     "metadata": {},
     "outputs": [
      {
       "output_type": "stream",
       "stream": "stdout",
       "text": [
        "\n",
        "Ca:\n",
        "Loss: squared_loss\n",
        "Eta0: 0.0001\n",
        "Shuffle: True\n",
        "L1_Ratio: 1\n",
        "Penalty: elasticnet\n",
        "Random_State: 1234\n",
        "Alpha: 1e-11\n",
        "\n",
        "P:"
       ]
      },
      {
       "output_type": "stream",
       "stream": "stdout",
       "text": [
        "\n",
        "Loss: squared_loss\n",
        "Eta0: 0.0001\n",
        "Shuffle: True\n",
        "L1_Ratio: 0.05\n",
        "Penalty: elasticnet\n",
        "Random_State: 1234\n",
        "Alpha: 0.0001\n",
        "\n",
        "pH:"
       ]
      },
      {
       "output_type": "stream",
       "stream": "stdout",
       "text": [
        "\n",
        "Loss: squared_loss\n",
        "Eta0: 0.0001\n",
        "Shuffle: True\n",
        "L1_Ratio: 1\n",
        "Penalty: elasticnet\n",
        "Random_State: 1234\n",
        "Alpha: 1e-11\n",
        "\n",
        "SOC:"
       ]
      },
      {
       "output_type": "stream",
       "stream": "stdout",
       "text": [
        "\n",
        "Loss: squared_loss\n",
        "Eta0: 0.0001\n",
        "Shuffle: True\n",
        "L1_Ratio: 1\n",
        "Penalty: elasticnet\n",
        "Random_State: 1234\n",
        "Alpha: 1e-11\n",
        "\n",
        "Sand:"
       ]
      },
      {
       "output_type": "stream",
       "stream": "stdout",
       "text": [
        "\n",
        "Loss: squared_loss\n",
        "Eta0: 0.0001\n",
        "Shuffle: True\n",
        "L1_Ratio: 1\n",
        "Penalty: elasticnet\n",
        "Random_State: 1234\n",
        "Alpha: 1e-11\n",
        "2571.44366813\n"
       ]
      }
     ],
     "prompt_number": 39
    },
    {
     "cell_type": "code",
     "collapsed": false,
     "input": [
      "# Save predictions with this preprocessing protol to disk.\n",
      "path = './Data/Preds/'+model_name+'-results-'+time.strftime(\"%m-%d\")+'.csv' #model-preprocess-date\n",
      "results.to_csv(path = path)"
     ],
     "language": "python",
     "metadata": {},
     "outputs": [],
     "prompt_number": 40
    }
   ],
   "metadata": {}
  }
 ]
}