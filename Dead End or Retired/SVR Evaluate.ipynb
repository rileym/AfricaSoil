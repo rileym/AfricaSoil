{
 "metadata": {
  "name": "",
  "signature": "sha256:7e517e5332a6efbafa2c7afa9f0bac3f0320b1c7bc5ac9cc275fa4c6080dfa42"
 },
 "nbformat": 3,
 "nbformat_minor": 0,
 "worksheets": [
  {
   "cells": [
    {
     "cell_type": "heading",
     "level": 2,
     "metadata": {},
     "source": [
      "Estimate Generalization Error of Tuned SVR"
     ]
    },
    {
     "cell_type": "code",
     "collapsed": false,
     "input": [
      "import pandas as pd\n",
      "import numpy as np\n",
      "import sklearn.svm as svm\n",
      "import sklearn.grid_search as grid_search\n",
      "import sklearn.cross_validation as cv\n",
      "import sklearn.preprocessing as pp\n",
      "import sklearn.metrics as metrics\n",
      "import soilCleanTools as clean\n",
      "import time\n",
      "import timeit"
     ],
     "language": "python",
     "metadata": {},
     "outputs": [],
     "prompt_number": 1
    },
    {
     "cell_type": "code",
     "collapsed": false,
     "input": [
      "##\n",
      "## Read in and clean the data.\n",
      "##\n",
      "\n",
      "# Read in data\n",
      "train_df = pd.read_csv('./Data/training.csv', index_col='PIDN')\n",
      "\n",
      "\n",
      "# Clean and split for readability\n",
      "train_data_dict = clean.clean_data(train_df)\n",
      "wave, spatial, targets = train_data_dict['wave'], train_data_dict['spatial'], train_data_dict['targets']"
     ],
     "language": "python",
     "metadata": {},
     "outputs": [],
     "prompt_number": 2
    },
    {
     "cell_type": "code",
     "collapsed": false,
     "input": [
      "##\n",
      "## Construct all objects needed for the evaluation loop.\n",
      "##\n",
      "\n",
      "# Model and Specifications \n",
      "\n",
      "model_name = 'SVR'\n",
      "n_Cs = 5\n",
      "Cs = np.logspace(0, 4.5, num=n_Cs) # Margin violation penalty\n",
      "n_gammas = 5\n",
      "gammas = np.logspace(-6, -3, num=n_gammas) # \n",
      "n_epsilons = 3\n",
      "epsilons = np.logspace(-2.5, .75, num=n_epsilons) # Width of insensitive zone\n",
      "\n",
      "params = [{'kernel':['rbf'], 'C':Cs, 'gamma':gammas, 'epsilon':epsilons, 'cache_size':[1000]}]#,\\\n",
      "#           {'kernel':['poly'], 'C':Cs, 'gamma':gammas, 'epsilon':epsilons, \\\n",
      "#            'degree':[2,3]}]\n",
      "gs_obj = grid_search.GridSearchCV(estimator = svm.SVR(), param_grid = params,\\\n",
      "                                  scoring = 'mean_squared_error', cv = 3, refit = True)\n"
     ],
     "language": "python",
     "metadata": {},
     "outputs": [],
     "prompt_number": 3
    },
    {
     "cell_type": "code",
     "collapsed": false,
     "input": [
      "#Split data for evaluation\n",
      "train_prop = .9\n",
      "(train_idx, val_idx) = cv.train_test_split(wave.index, train_size=train_prop)\n",
      "scaler = pp.StandardScaler(with_mean = True, with_std = True)\n",
      "X_train = scaler.fit_transform(wave.loc[train_idx,:])\n",
      "X_val = scaler.transform(wave.loc[val_idx,:])"
     ],
     "language": "python",
     "metadata": {},
     "outputs": [],
     "prompt_number": 4
    },
    {
     "cell_type": "code",
     "collapsed": false,
     "input": [
      "#Build DataFrame to record results\n",
      "results_cols = pd.Index(targets.columns, name='Target')\n",
      "results = pd.Series(index=results_cols, name='RMSE')"
     ],
     "language": "python",
     "metadata": {},
     "outputs": [],
     "prompt_number": 5
    },
    {
     "cell_type": "code",
     "collapsed": false,
     "input": [
      "start_time = timeit.default_timer()\n",
      "\n",
      "# Fit model to the data (and perform CV to choose optimal meta-parameters) against each target variable, (perform prediction, perf. measurement) and record in recoding obj\n",
      "for (target_name, y) in targets.iteritems() :\n",
      "\n",
      "    gs_obj.fit(X = X_train, y=y.loc[train_idx])\n",
      "    y_pred = gs_obj.predict(X=X_val)\n",
      "    mse = metrics.mean_squared_error(y_pred=y_pred, y_true=y.loc[val_idx])\n",
      "    results[target_name] = mse**(.5)\n",
      "    \n",
      "\n",
      "# Capture elapsed time\n",
      "elapsed = timeit.default_timer() - start_time\n",
      "print('Time elapsed: ' + str(elapsed))"
     ],
     "language": "python",
     "metadata": {},
     "outputs": [
      {
       "output_type": "stream",
       "stream": "stdout",
       "text": [
        "Time elapsed: 4499.58180594\n"
       ]
      }
     ],
     "prompt_number": 6
    },
    {
     "cell_type": "code",
     "collapsed": false,
     "input": [
      "# Save predictions with this preprocessing protol to disk.\n",
      "path = './Data/Preds/results-'+model_name+'-'+time.strftime(\"%m-%d\")+'.csv' #model-preprocess-date\n",
      "results.to_csv(path= path)"
     ],
     "language": "python",
     "metadata": {},
     "outputs": [],
     "prompt_number": 7
    }
   ],
   "metadata": {}
  }
 ]
}