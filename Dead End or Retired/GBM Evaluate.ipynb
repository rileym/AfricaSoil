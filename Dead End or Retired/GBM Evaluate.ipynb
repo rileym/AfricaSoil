{
 "metadata": {
  "name": "",
  "signature": "sha256:07e114571c5bcadc2446c4b74192d8d6fe4f87d845bb195dadb3b0c461ed7324"
 },
 "nbformat": 3,
 "nbformat_minor": 0,
 "worksheets": [
  {
   "cells": [
    {
     "cell_type": "heading",
     "level": 2,
     "metadata": {},
     "source": [
      "Estimate Generalization Error of the Gradient Boosting Machine."
     ]
    },
    {
     "cell_type": "code",
     "collapsed": false,
     "input": [
      "import pandas as pd\n",
      "import numpy as np\n",
      "import sklearn.ensemble as gbm\n",
      "import sklearn.grid_search as grid_search\n",
      "import sklearn.preprocessing as pp\n",
      "import sklearn.decomposition as decomp\n",
      "import sklearn.pipeline as pipe\n",
      "import sklearn.metrics as metrics\n",
      "import sklearn.feature_selection as fs\n",
      "import soilCleanTools as clean\n",
      "import soilTuningTools as tune\n",
      "import correlationGrouper as cg"
     ],
     "language": "python",
     "metadata": {},
     "outputs": [],
     "prompt_number": 1
    },
    {
     "cell_type": "heading",
     "level": 4,
     "metadata": {},
     "source": [
      "Read in data"
     ]
    },
    {
     "cell_type": "code",
     "collapsed": false,
     "input": [
      "# Read in data\n",
      "train_df = pd.read_csv('./Data/training.csv', index_col='PIDN')\n",
      "\n",
      "# Clean and split for readability\n",
      "train_data_dict = clean.clean_data(train_df)\n",
      "wave, spatial, targets = train_data_dict['wave'], train_data_dict['spatial'], train_data_dict['targets']"
     ],
     "language": "python",
     "metadata": {},
     "outputs": [],
     "prompt_number": 2
    },
    {
     "cell_type": "heading",
     "level": 4,
     "metadata": {},
     "source": [
      "Specify model and parameter search-space"
     ]
    },
    {
     "cell_type": "code",
     "collapsed": false,
     "input": [
      "model_name = 'GBM-both'\n",
      "\n",
      "depths = [4,6]\n",
      "\n",
      "params = {'loss':['ls'],\n",
      "          'learning_rate':[.0001],\n",
      "          'n_estimators':[10000],\n",
      "          'max_depth':depths,\n",
      "          'subsample':[1/np.sqrt(1000)],\n",
      "          'verbose':[True]\n",
      "          }\n",
      "\n",
      "#'max_features' : ['sqrt'] \n",
      "\n",
      "# steps = [('Correlation Filter', fs.SelectPercentile( score_func = fs.f_regression, percentile = 92)),\n",
      "#          ('Correlation Grouper .95', cg.CorrelationGrouper())]\n",
      "# cgFilter = pipe.Pipeline(steps = steps)\n",
      "\n",
      "# steps = [('Feature MAXMIN',pp.MinMaxScaler(feature_range = (-1,1))),\n",
      "#          ('Correlation Filter', fs.SelectPercentile( score_func = fs.f_regression, percentile = 95)),\n",
      "#          ('PCA 20', decomp.PCA(n_components = 20))]\n",
      "# superPC = pipe.Pipeline(steps = steps)\n",
      "\n",
      "scaler_dict = { 'PCA 20' : decomp.PCA(n_components = 20),\n",
      "               'Filter 90, PCA 20' : pipe.Pipeline(steps = [('Filter', fs.SelectPercentile(score_func=fs.f_regression,\\\n",
      "                                                                                           percentile=90)),\\\n",
      "                                                            ('PCA 20' , decomp.PCA(n_components=20))]) }\n",
      "\n",
      "gs_obj = grid_search.GridSearchCV(estimator = gbm.GradientBoostingRegressor(), param_grid = params,\\\n",
      "                                  scoring = metrics.make_scorer(tune.rmse, greater_is_better=False),\\\n",
      "                                  cv = 6, refit = True, verbose = 2)\n"
     ],
     "language": "python",
     "metadata": {},
     "outputs": [],
     "prompt_number": 3
    },
    {
     "cell_type": "heading",
     "level": 4,
     "metadata": {},
     "source": [
      "Tune and evaluate"
     ]
    },
    {
     "cell_type": "code",
     "collapsed": false,
     "input": [
      "X = pd.concat([wave, spatial], axis = 1)\n",
      "results = tune.soilTune(gs_obj = gs_obj, X = X, Y = targets[['Ca']], scaler_dict = scaler_dict,\\\n",
      "              model_name = model_name, output_base_path='./Data/Preds/')"
     ],
     "language": "python",
     "metadata": {},
     "outputs": [
      {
       "output_type": "stream",
       "stream": "stdout",
       "text": [
        "Beginning Evaluation...\n",
        "\n",
        "Scale type: PCA 20:\n",
        "Fitting 6 folds for each of 2 candidates, totalling 12 fits"
       ]
      },
      {
       "output_type": "stream",
       "stream": "stdout",
       "text": [
        "\n",
        "[CV] loss=ls, verbose=True, learning_rate=0.0001, n_estimators=10000, subsample=0.0316227766017, max_depth=4 \n",
        "      Iter       Train Loss      OOB Improve   Remaining Time \n",
        "         1           1.0435           0.0002           38.70s\n",
        "         2           2.0367           0.0002           23.72s\n",
        "         3           3.3977           0.0000           18.70s\n",
        "         4           0.4894           0.0001           15.99s\n",
        "         5           2.0792           0.0002           17.55s\n",
        "         6           1.1917           0.0000           15.95s\n",
        "         7           0.4529           0.0000           14.96s\n",
        "         8           0.2218           0.0000           14.14s\n",
        "         9           0.2373          -0.0000           13.41s\n",
        "        10           3.7301           0.0002           12.99s\n",
        "        20           0.1947           0.0000           11.01s\n",
        "        30           0.9963           0.0001           11.38s\n",
        "        40           3.3126           0.0002           10.85s"
       ]
      },
      {
       "output_type": "stream",
       "stream": "stdout",
       "text": [
        "\n",
        "        50           0.5689           0.0001           11.40s\n",
        "        60           0.2470           0.0000           11.48s\n",
        "        70           1.7436           0.0001           12.25s\n",
        "        80           2.2413           0.0001           13.06s"
       ]
      },
      {
       "output_type": "stream",
       "stream": "stdout",
       "text": [
        "\n",
        "        90           0.2932           0.0000           12.71s\n",
        "       100           0.4182           0.0000           12.96s\n",
        "       200           0.2612          -0.0000           17.25s"
       ]
      },
      {
       "output_type": "stream",
       "stream": "stdout",
       "text": [
        "\n",
        "       300           3.1376           0.0001           14.94s"
       ]
      },
      {
       "output_type": "stream",
       "stream": "stdout",
       "text": [
        "\n",
        "       400           0.5441           0.0000           13.04s"
       ]
      },
      {
       "output_type": "stream",
       "stream": "stdout",
       "text": [
        "\n",
        "       500           0.2701           0.0000           11.79s"
       ]
      },
      {
       "output_type": "stream",
       "stream": "stdout",
       "text": [
        "\n",
        "       600           0.1621           0.0000           11.04s"
       ]
      },
      {
       "output_type": "stream",
       "stream": "stdout",
       "text": [
        "\n",
        "       700           0.6139           0.0001           10.60s"
       ]
      },
      {
       "output_type": "stream",
       "stream": "stdout",
       "text": [
        "\n",
        "       800           0.8935           0.0001           10.69s"
       ]
      },
      {
       "output_type": "stream",
       "stream": "stdout",
       "text": [
        "\n",
        "       900           0.3086           0.0000           10.18s"
       ]
      },
      {
       "output_type": "stream",
       "stream": "stdout",
       "text": [
        "\n",
        "      1000           0.1363           0.0000            9.86s"
       ]
      },
      {
       "output_type": "stream",
       "stream": "stdout",
       "text": [
        "\n",
        "      2000           0.2744           0.0000            6.69s"
       ]
      },
      {
       "output_type": "stream",
       "stream": "stdout",
       "text": [
        "\n",
        "      3000           0.2131           0.0000            6.47s"
       ]
      },
      {
       "output_type": "stream",
       "stream": "stdout",
       "text": [
        "\n",
        "      4000           0.2409           0.0000            5.32s"
       ]
      },
      {
       "output_type": "stream",
       "stream": "stdout",
       "text": [
        "\n",
        "      5000           1.9003           0.0000            4.54s"
       ]
      },
      {
       "output_type": "stream",
       "stream": "stdout",
       "text": [
        "\n",
        "      6000           1.1740           0.0001            3.43s"
       ]
      },
      {
       "output_type": "stream",
       "stream": "stdout",
       "text": [
        "\n",
        "      7000           0.1552           0.0000            2.57s"
       ]
      },
      {
       "output_type": "stream",
       "stream": "stdout",
       "text": [
        "\n",
        "      8000           1.9159           0.0000            1.67s"
       ]
      },
      {
       "output_type": "stream",
       "stream": "stdout",
       "text": [
        "\n",
        "      9000           1.7174          -0.0000            0.81s"
       ]
      },
      {
       "output_type": "stream",
       "stream": "stdout",
       "text": [
        "\n",
        "     10000           0.4381           0.0001            0.00s"
       ]
      },
      {
       "output_type": "stream",
       "stream": "stdout",
       "text": [
        "\n",
        "[CV]  loss=ls, verbose=True, learning_rate=0.0001, n_estimators=10000, subsample=0.0316227766017, max_depth=4 -   8.0s"
       ]
      },
      {
       "output_type": "stream",
       "stream": "stdout",
       "text": [
        "\n",
        "[CV] loss=ls, verbose=True, learning_rate=0.0001, n_estimators=10000, subsample=0.0316227766017, max_depth=4 "
       ]
      },
      {
       "output_type": "stream",
       "stream": "stdout",
       "text": [
        "\n",
        "      Iter       Train Loss      OOB Improve   Remaining Time \n",
        "         1           3.4802           0.0001           22.24s\n",
        "         2           1.5659           0.0001           17.41s\n",
        "         3           0.1583           0.0000           16.08s\n",
        "         4           0.1919           0.0000           15.51s\n",
        "         5           0.3880           0.0000           14.85s\n",
        "         6           1.4871           0.0000           14.34s\n",
        "         7           0.8933           0.0001           14.10s\n",
        "         8           2.0199           0.0001           13.77s\n",
        "         9           0.5581           0.0000           13.52s\n",
        "        10           0.2452           0.0000           13.31s\n",
        "        20           0.7155           0.0001           14.20s\n",
        "        30           4.9097           0.0000           12.35s\n",
        "        40           0.6709           0.0001           12.33s"
       ]
      },
      {
       "output_type": "stream",
       "stream": "stdout",
       "text": [
        "\n",
        "        50           4.6532           0.0002           12.25s\n",
        "        60           6.2821           0.0001           13.40s\n",
        "        70           0.5446           0.0000           13.74s\n",
        "        80           5.5989           0.0001           14.36s"
       ]
      },
      {
       "output_type": "stream",
       "stream": "stdout",
       "text": [
        "\n",
        "        90           0.5757           0.0001           15.76s\n",
        "       100           0.2463           0.0000           15.73s\n",
        "       200           0.8338           0.0001           15.92s"
       ]
      },
      {
       "output_type": "stream",
       "stream": "stdout",
       "text": [
        "\n",
        "       300           0.2462           0.0000           14.14s"
       ]
      },
      {
       "output_type": "stream",
       "stream": "stdout",
       "text": [
        "\n",
        "       400           0.2945           0.0000           14.58s"
       ]
      },
      {
       "output_type": "stream",
       "stream": "stdout",
       "text": [
        "\n",
        "       500           1.1568           0.0001           15.51s"
       ]
      },
      {
       "output_type": "stream",
       "stream": "stdout",
       "text": [
        "\n",
        "       600           0.3369           0.0000           15.69s"
       ]
      },
      {
       "output_type": "stream",
       "stream": "stdout",
       "text": [
        "\n",
        "       700           0.1499           0.0000           14.88s"
       ]
      },
      {
       "output_type": "stream",
       "stream": "stdout",
       "text": [
        "\n",
        "       800           0.6997           0.0001           14.36s"
       ]
      },
      {
       "output_type": "stream",
       "stream": "stdout",
       "text": [
        "\n",
        "       900           0.4068           0.0001           13.79s"
       ]
      },
      {
       "output_type": "stream",
       "stream": "stdout",
       "text": [
        "\n",
        "      1000           0.1997           0.0000           13.27s"
       ]
      },
      {
       "output_type": "stream",
       "stream": "stdout",
       "text": [
        "\n",
        "      2000           0.5907           0.0000           11.32s"
       ]
      },
      {
       "output_type": "stream",
       "stream": "stdout",
       "text": [
        "\n",
        "      3000           3.0384           0.0002            8.51s"
       ]
      },
      {
       "output_type": "stream",
       "stream": "stdout",
       "text": [
        "\n",
        "      4000           0.6176           0.0000            6.63s"
       ]
      },
      {
       "output_type": "stream",
       "stream": "stdout",
       "text": [
        "\n",
        "      5000           1.3209           0.0001            5.52s"
       ]
      },
      {
       "output_type": "stream",
       "stream": "stdout",
       "text": [
        "\n",
        "      6000           0.6700           0.0000            4.15s"
       ]
      },
      {
       "output_type": "stream",
       "stream": "stdout",
       "text": [
        "\n",
        "      7000           0.1353          -0.0000            2.99s"
       ]
      },
      {
       "output_type": "stream",
       "stream": "stdout",
       "text": [
        "\n",
        "      8000           1.3553           0.0001            1.90s"
       ]
      },
      {
       "output_type": "stream",
       "stream": "stdout",
       "text": [
        "\n",
        "      9000           0.1665           0.0000            0.91s"
       ]
      },
      {
       "output_type": "stream",
       "stream": "stdout",
       "text": [
        "\n",
        "     10000           0.6371           0.0001            0.00s"
       ]
      },
      {
       "output_type": "stream",
       "stream": "stdout",
       "text": [
        "\n",
        "[CV]  loss=ls, verbose=True, learning_rate=0.0001, n_estimators=10000, subsample=0.0316227766017, max_depth=4 -   8.9s"
       ]
      },
      {
       "output_type": "stream",
       "stream": "stdout",
       "text": [
        "\n",
        "[CV] loss=ls, verbose=True, learning_rate=0.0001, n_estimators=10000, subsample=0.0316227766017, max_depth=4 \n",
        "      Iter       Train Loss      OOB Improve   Remaining Time \n",
        "         1           0.2550          -0.0000           29.50s\n",
        "         2           0.1647           0.0000           22.10s\n",
        "         3           0.2230           0.0000           21.80s\n",
        "         4           3.1284           0.0001           22.98s\n",
        "         5           0.5907           0.0000           21.37s\n",
        "         6           2.4993           0.0002           19.95s\n",
        "         7           0.5736           0.0001           18.58s\n",
        "         8           0.6536           0.0000           17.78s\n",
        "         9           0.1406           0.0000           16.88s\n",
        "        10           0.4222           0.0000           16.25s\n",
        "        20           1.1404           0.0001           13.03s"
       ]
      },
      {
       "output_type": "stream",
       "stream": "stdout",
       "text": [
        "\n",
        "        30           0.5100           0.0000           13.34s\n",
        "        40           1.6461           0.0002           12.21s\n",
        "        50           1.8234           0.0001           12.40s\n",
        "        60           0.4830           0.0001           12.47s\n",
        "        70           0.1639           0.0000           12.66s"
       ]
      },
      {
       "output_type": "stream",
       "stream": "stdout",
       "text": [
        "\n",
        "        80           0.1324           0.0000           13.77s\n",
        "        90           0.1622           0.0000           13.83s\n",
        "       100           1.1177           0.0001           13.11s\n",
        "       200           2.9583           0.0001           10.47s"
       ]
      },
      {
       "output_type": "stream",
       "stream": "stdout",
       "text": [
        "\n",
        "       300           0.4396           0.0000            9.75s"
       ]
      },
      {
       "output_type": "stream",
       "stream": "stdout",
       "text": [
        "\n",
        "       400           0.2802           0.0000            9.89s"
       ]
      },
      {
       "output_type": "stream",
       "stream": "stdout",
       "text": [
        "\n",
        "       500           0.5970           0.0001            9.40s"
       ]
      },
      {
       "output_type": "stream",
       "stream": "stdout",
       "text": [
        "\n",
        "       600           0.4720           0.0001            9.24s"
       ]
      },
      {
       "output_type": "stream",
       "stream": "stdout",
       "text": [
        "\n",
        "       700           0.1651           0.0000            9.12s"
       ]
      },
      {
       "output_type": "stream",
       "stream": "stdout",
       "text": [
        "\n",
        "       800           1.6517           0.0001            8.86s"
       ]
      },
      {
       "output_type": "stream",
       "stream": "stdout",
       "text": [
        "\n",
        "       900           0.3403           0.0000            9.21s"
       ]
      },
      {
       "output_type": "stream",
       "stream": "stdout",
       "text": [
        "\n",
        "      1000           3.4798           0.0001            9.46s"
       ]
      },
      {
       "output_type": "stream",
       "stream": "stdout",
       "text": [
        "\n",
        "      2000           0.0984           0.0000            9.06s"
       ]
      },
      {
       "output_type": "stream",
       "stream": "stdout",
       "text": [
        "\n",
        "      3000           0.2198           0.0000            7.10s"
       ]
      },
      {
       "output_type": "stream",
       "stream": "stdout",
       "text": [
        "\n",
        "      4000           0.2910           0.0000            6.63s"
       ]
      },
      {
       "output_type": "stream",
       "stream": "stdout",
       "text": [
        "\n",
        "      5000           0.0908           0.0000            5.24s"
       ]
      },
      {
       "output_type": "stream",
       "stream": "stdout",
       "text": [
        "\n",
        "      6000           2.8536           0.0001            4.48s"
       ]
      },
      {
       "output_type": "stream",
       "stream": "stdout",
       "text": [
        "\n",
        "      7000           2.5121           0.0001            3.22s"
       ]
      },
      {
       "output_type": "stream",
       "stream": "stdout",
       "text": [
        "\n",
        "      8000           1.2172           0.0001            2.03s"
       ]
      },
      {
       "output_type": "stream",
       "stream": "stdout",
       "text": [
        "\n",
        "      9000           0.1094           0.0000            0.97s"
       ]
      },
      {
       "output_type": "stream",
       "stream": "stdout",
       "text": [
        "\n",
        "     10000           0.8744           0.0000            0.00s"
       ]
      },
      {
       "output_type": "stream",
       "stream": "stdout",
       "text": [
        "\n",
        "[CV]  loss=ls, verbose=True, learning_rate=0.0001, n_estimators=10000, subsample=0.0316227766017, max_depth=4 -   9.4s"
       ]
      },
      {
       "output_type": "stream",
       "stream": "stdout",
       "text": [
        "\n",
        "[CV] loss=ls, verbose=True, learning_rate=0.0001, n_estimators=10000, subsample=0.0316227766017, max_depth=4 \n",
        "      Iter       Train Loss      OOB Improve   Remaining Time \n",
        "         1           0.3134           0.0000           25.12s\n",
        "         2           0.8464           0.0000           17.34s\n",
        "         3           0.1429           0.0000           16.72s\n",
        "         4           1.9274           0.0001           17.98s\n",
        "         5           0.8145           0.0001           15.90s\n",
        "         6           1.7438           0.0001           14.56s\n",
        "         7           1.7394           0.0000           15.65s\n",
        "         8           1.6316           0.0001           15.26s\n",
        "         9           0.1457          -0.0000           14.48s\n",
        "        10           1.7056           0.0001           13.88s\n",
        "        20           4.1290           0.0002           10.83s\n",
        "        30           4.1234           0.0001            9.69s"
       ]
      },
      {
       "output_type": "stream",
       "stream": "stdout",
       "text": [
        "\n",
        "        40           0.6866           0.0001           10.16s\n",
        "        50           0.6374           0.0000            9.95s\n",
        "        60           0.3434           0.0000           10.64s\n",
        "        70           0.3130           0.0000           11.27s\n",
        "        80           3.6902           0.0001           11.57s"
       ]
      },
      {
       "output_type": "stream",
       "stream": "stdout",
       "text": [
        "\n",
        "        90           1.1452           0.0001           11.89s\n",
        "       100           0.5775           0.0000           11.24s\n",
        "       200           0.1537           0.0000            9.91s"
       ]
      },
      {
       "output_type": "stream",
       "stream": "stdout",
       "text": [
        "\n",
        "       300           0.6092           0.0000           10.06s"
       ]
      },
      {
       "output_type": "stream",
       "stream": "stdout",
       "text": [
        "\n",
        "       400           1.5014           0.0000            9.82s"
       ]
      },
      {
       "output_type": "stream",
       "stream": "stdout",
       "text": [
        "\n",
        "       500           0.4857           0.0000            9.06s"
       ]
      },
      {
       "output_type": "stream",
       "stream": "stdout",
       "text": [
        "\n",
        "       600           1.5030           0.0000            8.79s"
       ]
      },
      {
       "output_type": "stream",
       "stream": "stdout",
       "text": [
        "\n",
        "       700           0.4007           0.0000            8.30s"
       ]
      },
      {
       "output_type": "stream",
       "stream": "stdout",
       "text": [
        "\n",
        "       800           0.5096           0.0000            8.53s"
       ]
      },
      {
       "output_type": "stream",
       "stream": "stdout",
       "text": [
        "\n",
        "       900           0.1932           0.0000            8.76s"
       ]
      },
      {
       "output_type": "stream",
       "stream": "stdout",
       "text": [
        "\n",
        "      1000           0.1018          -0.0000            9.01s"
       ]
      },
      {
       "output_type": "stream",
       "stream": "stdout",
       "text": [
        "\n",
        "      2000           0.1857           0.0000            6.25s"
       ]
      },
      {
       "output_type": "stream",
       "stream": "stdout",
       "text": [
        "\n",
        "      3000           1.8051           0.0000            4.87s"
       ]
      },
      {
       "output_type": "stream",
       "stream": "stdout",
       "text": [
        "\n",
        "      4000           0.0839           0.0000            3.92s"
       ]
      },
      {
       "output_type": "stream",
       "stream": "stdout",
       "text": [
        "\n",
        "      5000           0.5348           0.0000            3.11s"
       ]
      },
      {
       "output_type": "stream",
       "stream": "stdout",
       "text": [
        "\n",
        "      6000           0.3013           0.0000            2.44s"
       ]
      },
      {
       "output_type": "stream",
       "stream": "stdout",
       "text": [
        "\n",
        "      7000           2.4364           0.0001            1.81s"
       ]
      },
      {
       "output_type": "stream",
       "stream": "stdout",
       "text": [
        "\n",
        "      8000           0.9146           0.0001            1.18s"
       ]
      },
      {
       "output_type": "stream",
       "stream": "stdout",
       "text": [
        "\n",
        "      9000           0.2155           0.0000            0.59s"
       ]
      },
      {
       "output_type": "stream",
       "stream": "stdout",
       "text": [
        "\n",
        "     10000           0.1466          -0.0000            0.00s"
       ]
      },
      {
       "output_type": "stream",
       "stream": "stdout",
       "text": [
        "\n",
        "[CV]  loss=ls, verbose=True, learning_rate=0.0001, n_estimators=10000, subsample=0.0316227766017, max_depth=4 -   5.9s"
       ]
      },
      {
       "output_type": "stream",
       "stream": "stdout",
       "text": [
        "\n",
        "[CV] loss=ls, verbose=True, learning_rate=0.0001, n_estimators=10000, subsample=0.0316227766017, max_depth=4 \n",
        "      Iter       Train Loss      OOB Improve   Remaining Time \n",
        "         1           0.1285           0.0000           23.95s\n",
        "         2           0.1806          -0.0000           16.83s\n",
        "         3           1.0583           0.0002           13.60s\n",
        "         4           1.3844           0.0001           11.85s\n",
        "         5           0.3340           0.0000           11.17s\n",
        "         6           0.3830           0.0000           10.81s\n",
        "         7           0.3654          -0.0000           11.49s\n",
        "         8           0.2382           0.0000           11.53s\n",
        "         9           1.7294           0.0000           11.13s\n",
        "        10           0.3198          -0.0000           10.81s\n",
        "        20           4.7766           0.0001           10.05s\n",
        "        30           1.3758           0.0001            9.69s"
       ]
      },
      {
       "output_type": "stream",
       "stream": "stdout",
       "text": [
        "\n",
        "        40           0.6346           0.0001           11.14s\n",
        "        50           0.4025           0.0000           11.09s\n",
        "        60           0.6553           0.0001           10.70s\n",
        "        70           0.6376           0.0000           10.26s\n",
        "        80           3.7811           0.0000           10.38s"
       ]
      },
      {
       "output_type": "stream",
       "stream": "stdout",
       "text": [
        "\n",
        "        90           0.1980           0.0000           10.36s\n",
        "       100           2.5786           0.0000           10.23s\n",
        "       200           0.3366           0.0000            9.26s"
       ]
      },
      {
       "output_type": "stream",
       "stream": "stdout",
       "text": [
        "\n",
        "       300           0.4460           0.0000            8.18s"
       ]
      },
      {
       "output_type": "stream",
       "stream": "stdout",
       "text": [
        "\n",
        "       400           0.1700           0.0000            7.83s"
       ]
      },
      {
       "output_type": "stream",
       "stream": "stdout",
       "text": [
        "\n",
        "       500           0.1953           0.0000            7.47s"
       ]
      },
      {
       "output_type": "stream",
       "stream": "stdout",
       "text": [
        "\n",
        "       600           0.2846           0.0000            7.50s"
       ]
      },
      {
       "output_type": "stream",
       "stream": "stdout",
       "text": [
        "\n",
        "       700           3.0459           0.0001            7.44s"
       ]
      },
      {
       "output_type": "stream",
       "stream": "stdout",
       "text": [
        "\n",
        "       800           0.1817           0.0000            7.29s"
       ]
      },
      {
       "output_type": "stream",
       "stream": "stdout",
       "text": [
        "\n",
        "       900           0.1589           0.0000            7.23s"
       ]
      },
      {
       "output_type": "stream",
       "stream": "stdout",
       "text": [
        "\n",
        "      1000           3.4791           0.0001            7.19s"
       ]
      },
      {
       "output_type": "stream",
       "stream": "stdout",
       "text": [
        "\n",
        "      2000           0.3870           0.0001            5.37s"
       ]
      },
      {
       "output_type": "stream",
       "stream": "stdout",
       "text": [
        "\n",
        "      3000           1.2209           0.0000            4.38s"
       ]
      },
      {
       "output_type": "stream",
       "stream": "stdout",
       "text": [
        "\n",
        "      4000           0.9833           0.0000            3.62s"
       ]
      },
      {
       "output_type": "stream",
       "stream": "stdout",
       "text": [
        "\n",
        "      5000           3.0152           0.0001            2.99s"
       ]
      },
      {
       "output_type": "stream",
       "stream": "stdout",
       "text": [
        "\n",
        "      6000           3.7397           0.0001            2.33s"
       ]
      },
      {
       "output_type": "stream",
       "stream": "stdout",
       "text": [
        "\n",
        "      7000           0.5153           0.0000            1.73s"
       ]
      },
      {
       "output_type": "stream",
       "stream": "stdout",
       "text": [
        "\n",
        "      8000           0.7729           0.0001            1.14s"
       ]
      },
      {
       "output_type": "stream",
       "stream": "stdout",
       "text": [
        "\n",
        "      9000           1.5514           0.0001            0.56s"
       ]
      },
      {
       "output_type": "stream",
       "stream": "stdout",
       "text": [
        "\n",
        "     10000           0.1590           0.0000            0.00s"
       ]
      },
      {
       "output_type": "stream",
       "stream": "stdout",
       "text": [
        "\n",
        "[CV]  loss=ls, verbose=True, learning_rate=0.0001, n_estimators=10000, subsample=0.0316227766017, max_depth=4 -   5.7s"
       ]
      },
      {
       "output_type": "stream",
       "stream": "stdout",
       "text": [
        "\n",
        "[CV] loss=ls, verbose=True, learning_rate=0.0001, n_estimators=10000, subsample=0.0316227766017, max_depth=4 \n",
        "      Iter       Train Loss      OOB Improve   Remaining Time \n",
        "         1           4.9063           0.0001           16.29s\n",
        "         2           0.4487           0.0000           10.48s\n",
        "         3           0.1391           0.0000            8.70s\n",
        "         4           0.3097           0.0000            7.68s\n",
        "         5           4.6642           0.0001            7.06s\n",
        "         6           0.7904           0.0001            6.86s\n",
        "         7           0.1396           0.0000            6.64s\n",
        "         8           0.2764           0.0000            6.51s\n",
        "         9           0.2224           0.0000            6.28s\n",
        "        10           1.1540           0.0001            6.14s\n",
        "        20           0.9627           0.0001            5.32s\n",
        "        30           0.8112           0.0000            6.29s\n",
        "        40           1.3764           0.0001            6.80s"
       ]
      },
      {
       "output_type": "stream",
       "stream": "stdout",
       "text": [
        "\n",
        "        50           0.2000           0.0000            8.16s\n",
        "        60           0.7789           0.0001            9.24s\n",
        "        70           0.2485          -0.0000            8.98s\n",
        "        80           0.7428           0.0000            8.62s\n",
        "        90           0.1387           0.0000            8.21s\n",
        "       100           0.2184           0.0000            7.84s"
       ]
      },
      {
       "output_type": "stream",
       "stream": "stdout",
       "text": [
        "\n",
        "       200           1.9576           0.0001            8.83s"
       ]
      },
      {
       "output_type": "stream",
       "stream": "stdout",
       "text": [
        "\n",
        "       300           0.1370           0.0000            8.47s"
       ]
      },
      {
       "output_type": "stream",
       "stream": "stdout",
       "text": [
        "\n",
        "       400           0.1963           0.0000            8.05s"
       ]
      },
      {
       "output_type": "stream",
       "stream": "stdout",
       "text": [
        "\n",
        "       500           0.1938           0.0000            7.98s"
       ]
      },
      {
       "output_type": "stream",
       "stream": "stdout",
       "text": [
        "\n",
        "       600           0.5865           0.0000            7.37s"
       ]
      },
      {
       "output_type": "stream",
       "stream": "stdout",
       "text": [
        "\n",
        "       700           0.5656           0.0000            7.36s"
       ]
      },
      {
       "output_type": "stream",
       "stream": "stdout",
       "text": [
        "\n",
        "       800           1.0076           0.0000            7.24s"
       ]
      },
      {
       "output_type": "stream",
       "stream": "stdout",
       "text": [
        "\n",
        "       900           0.2492           0.0000            7.18s"
       ]
      },
      {
       "output_type": "stream",
       "stream": "stdout",
       "text": [
        "\n",
        "      1000           1.1405           0.0000            6.87s"
       ]
      },
      {
       "output_type": "stream",
       "stream": "stdout",
       "text": [
        "\n",
        "      2000           0.4181           0.0000            5.54s"
       ]
      },
      {
       "output_type": "stream",
       "stream": "stdout",
       "text": [
        "\n",
        "      3000           0.9838           0.0000            4.43s"
       ]
      },
      {
       "output_type": "stream",
       "stream": "stdout",
       "text": [
        "\n",
        "      4000           0.3624           0.0000            3.68s"
       ]
      },
      {
       "output_type": "stream",
       "stream": "stdout",
       "text": [
        "\n",
        "      5000           0.6278           0.0000            2.98s"
       ]
      },
      {
       "output_type": "stream",
       "stream": "stdout",
       "text": [
        "\n",
        "      6000           0.8968           0.0000            2.35s"
       ]
      },
      {
       "output_type": "stream",
       "stream": "stdout",
       "text": [
        "\n",
        "      7000           0.3419           0.0000            1.75s"
       ]
      },
      {
       "output_type": "stream",
       "stream": "stdout",
       "text": [
        "\n",
        "      8000           0.2475           0.0000            1.14s"
       ]
      },
      {
       "output_type": "stream",
       "stream": "stdout",
       "text": [
        "\n",
        "      9000           0.7261           0.0000            0.57s"
       ]
      },
      {
       "output_type": "stream",
       "stream": "stdout",
       "text": [
        "\n",
        "     10000           3.1797           0.0001            0.00s"
       ]
      },
      {
       "output_type": "stream",
       "stream": "stdout",
       "text": [
        "\n",
        "[CV]  loss=ls, verbose=True, learning_rate=0.0001, n_estimators=10000, subsample=0.0316227766017, max_depth=4 -   5.7s\n",
        "[CV] loss=ls, verbose=True, learning_rate=0.0001, n_estimators=10000, subsample=0.0316227766017, max_depth=6 "
       ]
      },
      {
       "output_type": "stream",
       "stream": "stdout",
       "text": [
        "\n",
        "      Iter       Train Loss      OOB Improve   Remaining Time \n",
        "         1           2.1550           0.0001           28.25s\n",
        "         2           0.1240          -0.0000           21.34s\n",
        "         3           0.3009           0.0000           18.29s\n",
        "         4           3.5628           0.0000           19.48s\n",
        "         5           0.7231           0.0000           17.50s\n",
        "         6           0.2601           0.0000           16.14s\n",
        "         7           3.4017           0.0001           15.50s\n",
        "         8           0.1987           0.0000           15.11s\n",
        "         9           3.4122           0.0001           14.45s\n",
        "        10           2.6774           0.0001           14.16s\n",
        "        20           3.7051           0.0001           12.67s\n",
        "        30           1.1657           0.0002           13.00s\n",
        "        40           1.5034           0.0001           13.22s"
       ]
      },
      {
       "output_type": "stream",
       "stream": "stdout",
       "text": [
        "\n",
        "        50           0.1058          -0.0000           14.08s\n",
        "        60           1.2219           0.0001           13.89s\n",
        "        70           5.6484           0.0001           12.96s\n",
        "        80           6.0605           0.0002           12.17s\n",
        "        90           0.2434           0.0000           12.20s"
       ]
      },
      {
       "output_type": "stream",
       "stream": "stdout",
       "text": [
        "\n",
        "       100           1.1927           0.0002           12.31s\n",
        "       200           0.6963           0.0000           11.27s"
       ]
      },
      {
       "output_type": "stream",
       "stream": "stdout",
       "text": [
        "\n",
        "       300           0.9179           0.0000           10.59s"
       ]
      },
      {
       "output_type": "stream",
       "stream": "stdout",
       "text": [
        "\n",
        "       400           0.3189           0.0000            9.90s"
       ]
      },
      {
       "output_type": "stream",
       "stream": "stdout",
       "text": [
        "\n",
        "       500           1.5969           0.0001            9.80s"
       ]
      },
      {
       "output_type": "stream",
       "stream": "stdout",
       "text": [
        "\n",
        "       600           1.6446           0.0000            9.43s"
       ]
      },
      {
       "output_type": "stream",
       "stream": "stdout",
       "text": [
        "\n",
        "       700           0.7536           0.0001            9.46s"
       ]
      },
      {
       "output_type": "stream",
       "stream": "stdout",
       "text": [
        "\n",
        "       800           0.4234           0.0001            9.24s"
       ]
      },
      {
       "output_type": "stream",
       "stream": "stdout",
       "text": [
        "\n",
        "       900           0.2380           0.0000            9.06s"
       ]
      },
      {
       "output_type": "stream",
       "stream": "stdout",
       "text": [
        "\n",
        "      1000           0.1917           0.0000            8.95s"
       ]
      },
      {
       "output_type": "stream",
       "stream": "stdout",
       "text": [
        "\n",
        "      2000           0.5322           0.0000            7.16s"
       ]
      },
      {
       "output_type": "stream",
       "stream": "stdout",
       "text": [
        "\n",
        "      3000           2.4896           0.0001            5.86s"
       ]
      },
      {
       "output_type": "stream",
       "stream": "stdout",
       "text": [
        "\n",
        "      4000           0.1388           0.0000            4.92s"
       ]
      },
      {
       "output_type": "stream",
       "stream": "stdout",
       "text": [
        "\n",
        "      5000           0.3218           0.0000            4.02s"
       ]
      },
      {
       "output_type": "stream",
       "stream": "stdout",
       "text": [
        "\n",
        "      6000           2.1758           0.0001            3.17s"
       ]
      },
      {
       "output_type": "stream",
       "stream": "stdout",
       "text": [
        "\n",
        "      7000           0.4456           0.0000            2.38s"
       ]
      },
      {
       "output_type": "stream",
       "stream": "stdout",
       "text": [
        "\n",
        "      8000           0.9015           0.0000            1.56s"
       ]
      },
      {
       "output_type": "stream",
       "stream": "stdout",
       "text": [
        "\n",
        "      9000           0.2815           0.0000            0.77s"
       ]
      },
      {
       "output_type": "stream",
       "stream": "stdout",
       "text": [
        "\n",
        "     10000           0.1137           0.0000            0.00s"
       ]
      },
      {
       "output_type": "stream",
       "stream": "stdout",
       "text": [
        "\n",
        "[CV]  loss=ls, verbose=True, learning_rate=0.0001, n_estimators=10000, subsample=0.0316227766017, max_depth=6 -   7.9s"
       ]
      },
      {
       "output_type": "stream",
       "stream": "stdout",
       "text": [
        "\n",
        "[CV] loss=ls, verbose=True, learning_rate=0.0001, n_estimators=10000, subsample=0.0316227766017, max_depth=6 \n",
        "      Iter       Train Loss      OOB Improve   Remaining Time \n",
        "         1           0.3013           0.0000           17.26s\n",
        "         2           2.7958           0.0001           11.91s\n",
        "         3           0.5680           0.0000            9.97s\n",
        "         4           2.3292           0.0002            8.94s\n",
        "         5           0.1864           0.0000            9.21s\n",
        "         6           0.5003           0.0000            8.73s\n",
        "         7           0.4636           0.0001            8.49s\n",
        "         8           0.1280           0.0000            8.56s\n",
        "         9           1.3265           0.0001            8.23s\n",
        "        10           0.3821           0.0000            8.13s\n",
        "        20           3.0578           0.0002            7.40s\n",
        "        30           1.8920           0.0001            7.20s\n",
        "        40           0.2089           0.0000            7.21s\n",
        "        50           0.1384          -0.0000            7.12s\n",
        "        60           0.4832           0.0001            8.14s"
       ]
      },
      {
       "output_type": "stream",
       "stream": "stdout",
       "text": [
        "\n",
        "        70           2.0933           0.0001            9.29s\n",
        "        80           1.1538           0.0000            8.97s\n",
        "        90           4.5877           0.0002            9.42s\n",
        "       100           0.6521           0.0001            9.93s\n"
       ]
      },
      {
       "output_type": "stream",
       "stream": "stdout",
       "text": [
        "       200           0.4255           0.0001           10.74s\n",
        "       300           0.7414           0.0000            9.23s"
       ]
      },
      {
       "output_type": "stream",
       "stream": "stdout",
       "text": [
        "\n",
        "       400           2.7065           0.0001            9.51s"
       ]
      },
      {
       "output_type": "stream",
       "stream": "stdout",
       "text": [
        "\n",
        "       500           0.2534           0.0000            9.41s"
       ]
      },
      {
       "output_type": "stream",
       "stream": "stdout",
       "text": [
        "\n",
        "       600           0.3817           0.0000            9.26s"
       ]
      },
      {
       "output_type": "stream",
       "stream": "stdout",
       "text": [
        "\n",
        "       700           1.2095           0.0001            9.24s"
       ]
      },
      {
       "output_type": "stream",
       "stream": "stdout",
       "text": [
        "\n",
        "       800           0.1949           0.0000            9.13s"
       ]
      },
      {
       "output_type": "stream",
       "stream": "stdout",
       "text": [
        "\n",
        "       900           0.6630           0.0001            9.01s"
       ]
      },
      {
       "output_type": "stream",
       "stream": "stdout",
       "text": [
        "\n",
        "      1000           0.4498           0.0001            8.86s"
       ]
      },
      {
       "output_type": "stream",
       "stream": "stdout",
       "text": [
        "\n",
        "      2000           2.4622           0.0001            6.69s"
       ]
      },
      {
       "output_type": "stream",
       "stream": "stdout",
       "text": [
        "\n",
        "      3000           0.6324           0.0000            5.68s"
       ]
      },
      {
       "output_type": "stream",
       "stream": "stdout",
       "text": [
        "\n",
        "      4000           0.2623           0.0000            4.76s"
       ]
      },
      {
       "output_type": "stream",
       "stream": "stdout",
       "text": [
        "\n",
        "      5000           0.2133           0.0000            3.89s"
       ]
      },
      {
       "output_type": "stream",
       "stream": "stdout",
       "text": [
        "\n",
        "      6000           0.5737           0.0000            3.07s"
       ]
      },
      {
       "output_type": "stream",
       "stream": "stdout",
       "text": [
        "\n",
        "      7000           0.2499           0.0000            2.30s"
       ]
      },
      {
       "output_type": "stream",
       "stream": "stdout",
       "text": [
        "\n",
        "      8000           0.4287           0.0001            1.55s"
       ]
      },
      {
       "output_type": "stream",
       "stream": "stdout",
       "text": [
        "\n",
        "      9000           0.3519           0.0000            0.78s"
       ]
      },
      {
       "output_type": "stream",
       "stream": "stdout",
       "text": [
        "\n",
        "     10000           1.1950           0.0001            0.00s"
       ]
      },
      {
       "output_type": "stream",
       "stream": "stdout",
       "text": [
        "\n",
        "[CV]  loss=ls, verbose=True, learning_rate=0.0001, n_estimators=10000, subsample=0.0316227766017, max_depth=6 -   7.9s"
       ]
      },
      {
       "output_type": "stream",
       "stream": "stdout",
       "text": [
        "\n",
        "[CV] loss=ls, verbose=True, learning_rate=0.0001, n_estimators=10000, subsample=0.0316227766017, max_depth=6 \n",
        "      Iter       Train Loss      OOB Improve   Remaining Time \n",
        "         1           0.6069           0.0000           19.42s\n",
        "         2           0.1734           0.0000           13.53s\n",
        "         3           0.3227           0.0000           11.09s\n",
        "         4           0.3756           0.0000            9.98s\n",
        "         5           0.9914           0.0001            9.30s\n",
        "         6           0.2333           0.0001            9.16s\n",
        "         7           0.1313           0.0000            9.02s\n",
        "         8           5.6281           0.0000            8.85s\n",
        "         9           0.3321           0.0000            8.73s\n",
        "        10           0.2162           0.0000            8.51s\n",
        "        20           2.9224           0.0001            7.47s\n",
        "        30           0.2492          -0.0000            8.13s\n",
        "        40           1.0372           0.0001            8.13s\n",
        "        50           0.1298           0.0000            9.26s"
       ]
      },
      {
       "output_type": "stream",
       "stream": "stdout",
       "text": [
        "\n",
        "        60           0.1158           0.0000           10.14s\n",
        "        70           0.4768           0.0001           11.31s\n",
        "        80           0.2314           0.0000           11.64s\n",
        "        90           0.1540           0.0000           11.84s"
       ]
      },
      {
       "output_type": "stream",
       "stream": "stdout",
       "text": [
        "\n",
        "       100           0.1765           0.0000           12.93s\n",
        "       200           0.5749           0.0000           11.40s"
       ]
      },
      {
       "output_type": "stream",
       "stream": "stdout",
       "text": [
        "\n",
        "       300           0.3746           0.0000           10.47s"
       ]
      },
      {
       "output_type": "stream",
       "stream": "stdout",
       "text": [
        "\n",
        "       400           0.5928           0.0001           10.05s"
       ]
      },
      {
       "output_type": "stream",
       "stream": "stdout",
       "text": [
        "\n",
        "       500           4.0806           0.0000            9.94s"
       ]
      },
      {
       "output_type": "stream",
       "stream": "stdout",
       "text": [
        "\n",
        "       600           5.1186           0.0001           10.05s"
       ]
      },
      {
       "output_type": "stream",
       "stream": "stdout",
       "text": [
        "\n",
        "       700           0.3656           0.0000            9.77s"
       ]
      },
      {
       "output_type": "stream",
       "stream": "stdout",
       "text": [
        "\n",
        "       800           0.2523           0.0000            9.70s"
       ]
      },
      {
       "output_type": "stream",
       "stream": "stdout",
       "text": [
        "\n",
        "       900           0.1891           0.0000            9.57s"
       ]
      },
      {
       "output_type": "stream",
       "stream": "stdout",
       "text": [
        "\n",
        "      1000           2.2912           0.0001            9.32s"
       ]
      },
      {
       "output_type": "stream",
       "stream": "stdout",
       "text": [
        "\n",
        "      2000           0.2576           0.0000            7.14s"
       ]
      },
      {
       "output_type": "stream",
       "stream": "stdout",
       "text": [
        "\n",
        "      3000           0.2294           0.0000            6.13s"
       ]
      },
      {
       "output_type": "stream",
       "stream": "stdout",
       "text": [
        "\n",
        "      4000           0.8408           0.0001            5.42s"
       ]
      },
      {
       "output_type": "stream",
       "stream": "stdout",
       "text": [
        "\n",
        "      5000           1.2540           0.0000            4.34s"
       ]
      },
      {
       "output_type": "stream",
       "stream": "stdout",
       "text": [
        "\n",
        "      6000           0.1733           0.0000            3.40s"
       ]
      },
      {
       "output_type": "stream",
       "stream": "stdout",
       "text": [
        "\n",
        "      7000           1.6108           0.0000            2.52s"
       ]
      },
      {
       "output_type": "stream",
       "stream": "stdout",
       "text": [
        "\n",
        "      8000           0.3716           0.0000            1.68s"
       ]
      },
      {
       "output_type": "stream",
       "stream": "stdout",
       "text": [
        "\n",
        "      9000           0.2579           0.0000            0.83s"
       ]
      },
      {
       "output_type": "stream",
       "stream": "stdout",
       "text": [
        "\n",
        "     10000           0.1959          -0.0000            0.00s"
       ]
      },
      {
       "output_type": "stream",
       "stream": "stdout",
       "text": [
        "\n",
        "[CV]  loss=ls, verbose=True, learning_rate=0.0001, n_estimators=10000, subsample=0.0316227766017, max_depth=6 -   8.4s"
       ]
      },
      {
       "output_type": "stream",
       "stream": "stdout",
       "text": [
        "\n",
        "[CV] loss=ls, verbose=True, learning_rate=0.0001, n_estimators=10000, subsample=0.0316227766017, max_depth=6 \n",
        "      Iter       Train Loss      OOB Improve   Remaining Time \n",
        "         1           0.1195           0.0000           28.28s\n",
        "         2           0.8220           0.0001           20.15s\n",
        "         3           0.1181           0.0000           17.22s\n",
        "         4           0.1031           0.0000           16.29s\n",
        "         5           0.5380           0.0001           15.03s\n",
        "         6           0.2792           0.0000           14.53s\n",
        "         7           0.8233           0.0001           14.23s\n",
        "         8           0.2264           0.0000           13.77s\n",
        "         9           3.5766           0.0002           13.32s\n",
        "        10           0.1275           0.0000           13.24s\n",
        "        20           0.3668           0.0000           13.33s\n",
        "        30           0.2547           0.0000           14.91s"
       ]
      },
      {
       "output_type": "stream",
       "stream": "stdout",
       "text": [
        "\n",
        "        40           0.2431           0.0000           15.21s\n",
        "        50           3.7526           0.0001           14.43s\n",
        "        60           0.1377           0.0000           15.62s\n",
        "        70           0.1443           0.0000           14.44s"
       ]
      },
      {
       "output_type": "stream",
       "stream": "stdout",
       "text": [
        "\n",
        "        80           0.1940           0.0000           14.49s\n",
        "        90           0.1868           0.0000           15.18s\n",
        "       100           0.8209           0.0001           15.04s\n",
        "       200           0.2424           0.0000           11.55s"
       ]
      },
      {
       "output_type": "stream",
       "stream": "stdout",
       "text": [
        "\n",
        "       300           1.3524           0.0001           10.48s"
       ]
      },
      {
       "output_type": "stream",
       "stream": "stdout",
       "text": [
        "\n",
        "       400           1.0734           0.0001           10.34s"
       ]
      },
      {
       "output_type": "stream",
       "stream": "stdout",
       "text": [
        "\n",
        "       500           0.3424           0.0000           10.19s"
       ]
      },
      {
       "output_type": "stream",
       "stream": "stdout",
       "text": [
        "\n",
        "       600           1.3953           0.0000            9.96s"
       ]
      },
      {
       "output_type": "stream",
       "stream": "stdout",
       "text": [
        "\n",
        "       700           1.4753           0.0001            9.65s"
       ]
      },
      {
       "output_type": "stream",
       "stream": "stdout",
       "text": [
        "\n",
        "       800           3.7814           0.0000            9.49s"
       ]
      },
      {
       "output_type": "stream",
       "stream": "stdout",
       "text": [
        "\n",
        "       900           0.2396           0.0000            9.34s"
       ]
      },
      {
       "output_type": "stream",
       "stream": "stdout",
       "text": [
        "\n",
        "      1000           0.1918           0.0000            9.22s"
       ]
      },
      {
       "output_type": "stream",
       "stream": "stdout",
       "text": [
        "\n",
        "      2000           0.1549           0.0000            7.17s"
       ]
      },
      {
       "output_type": "stream",
       "stream": "stdout",
       "text": [
        "\n",
        "      3000           3.2161           0.0000            5.87s"
       ]
      },
      {
       "output_type": "stream",
       "stream": "stdout",
       "text": [
        "\n",
        "      4000           0.3754           0.0000            4.87s"
       ]
      },
      {
       "output_type": "stream",
       "stream": "stdout",
       "text": [
        "\n",
        "      5000           1.7863           0.0001            4.03s"
       ]
      },
      {
       "output_type": "stream",
       "stream": "stdout",
       "text": [
        "\n",
        "      6000           0.2601           0.0000            3.19s"
       ]
      },
      {
       "output_type": "stream",
       "stream": "stdout",
       "text": [
        "\n",
        "      7000           0.2483           0.0000            2.36s"
       ]
      },
      {
       "output_type": "stream",
       "stream": "stdout",
       "text": [
        "\n",
        "      8000           0.0927           0.0000            1.57s"
       ]
      },
      {
       "output_type": "stream",
       "stream": "stdout",
       "text": [
        "\n",
        "      9000           0.0787           0.0000            0.78s"
       ]
      },
      {
       "output_type": "stream",
       "stream": "stdout",
       "text": [
        "\n",
        "     10000           1.1154           0.0001            0.00s"
       ]
      },
      {
       "output_type": "stream",
       "stream": "stdout",
       "text": [
        "\n",
        "[CV]  loss=ls, verbose=True, learning_rate=0.0001, n_estimators=10000, subsample=0.0316227766017, max_depth=6 -   7.8s"
       ]
      },
      {
       "output_type": "stream",
       "stream": "stdout",
       "text": [
        "\n",
        "[CV] loss=ls, verbose=True, learning_rate=0.0001, n_estimators=10000, subsample=0.0316227766017, max_depth=6 \n",
        "      Iter       Train Loss      OOB Improve   Remaining Time \n",
        "         1           1.3641           0.0001           24.80s\n",
        "         2           2.0259           0.0001           21.58s\n",
        "         3           0.6485           0.0001           18.61s\n",
        "         4           0.5466           0.0001           17.43s\n",
        "         5           0.4431           0.0000           16.88s\n",
        "         6           0.3938           0.0000           16.68s\n",
        "         7           0.2086           0.0000           16.20s\n",
        "         8           0.3180           0.0000           15.69s\n",
        "         9           0.2710          -0.0000           15.30s\n",
        "        10           3.6090           0.0000           14.82s\n",
        "        20           0.6035           0.0001           12.95s\n",
        "        30           0.1728           0.0000           13.81s"
       ]
      },
      {
       "output_type": "stream",
       "stream": "stdout",
       "text": [
        "\n",
        "        40           0.2751           0.0000           13.14s\n",
        "        50           0.2083           0.0000           13.46s\n",
        "        60           1.7010           0.0000           13.59s\n",
        "        70           1.8009           0.0002           13.50s"
       ]
      },
      {
       "output_type": "stream",
       "stream": "stdout",
       "text": [
        "\n",
        "        80           0.3157           0.0001           15.31s\n",
        "        90           0.8566           0.0001           14.88s\n",
        "       100           1.4003           0.0001           14.56s\n",
        "       200           0.6994           0.0001           12.89s"
       ]
      },
      {
       "output_type": "stream",
       "stream": "stdout",
       "text": [
        "\n",
        "       300           1.2748           0.0001           11.58s"
       ]
      },
      {
       "output_type": "stream",
       "stream": "stdout",
       "text": [
        "\n",
        "       400           0.9924           0.0001           11.01s"
       ]
      },
      {
       "output_type": "stream",
       "stream": "stdout",
       "text": [
        "\n",
        "       500           5.5689           0.0003           10.62s"
       ]
      },
      {
       "output_type": "stream",
       "stream": "stdout",
       "text": [
        "\n",
        "       600           0.3215           0.0000           10.31s"
       ]
      },
      {
       "output_type": "stream",
       "stream": "stdout",
       "text": [
        "\n",
        "       700           0.5901           0.0001           10.23s"
       ]
      },
      {
       "output_type": "stream",
       "stream": "stdout",
       "text": [
        "\n",
        "       800           0.2900           0.0000           10.25s"
       ]
      },
      {
       "output_type": "stream",
       "stream": "stdout",
       "text": [
        "\n",
        "       900           5.5425           0.0001           10.22s"
       ]
      },
      {
       "output_type": "stream",
       "stream": "stdout",
       "text": [
        "\n",
        "      1000           1.4812           0.0001           10.00s"
       ]
      },
      {
       "output_type": "stream",
       "stream": "stdout",
       "text": [
        "\n",
        "      2000           0.1668           0.0000            7.61s"
       ]
      },
      {
       "output_type": "stream",
       "stream": "stdout",
       "text": [
        "\n",
        "      3000           0.3029           0.0000            6.12s"
       ]
      },
      {
       "output_type": "stream",
       "stream": "stdout",
       "text": [
        "\n",
        "      4000           0.1377           0.0000            4.96s"
       ]
      },
      {
       "output_type": "stream",
       "stream": "stdout",
       "text": [
        "\n",
        "      5000           0.3610           0.0000            4.02s"
       ]
      },
      {
       "output_type": "stream",
       "stream": "stdout",
       "text": [
        "\n",
        "      6000           0.4737           0.0000            3.21s"
       ]
      },
      {
       "output_type": "stream",
       "stream": "stdout",
       "text": [
        "\n",
        "      7000           0.7166           0.0001            2.46s"
       ]
      },
      {
       "output_type": "stream",
       "stream": "stdout",
       "text": [
        "\n",
        "      8000           0.1643           0.0000            1.65s"
       ]
      },
      {
       "output_type": "stream",
       "stream": "stdout",
       "text": [
        "\n",
        "      9000           0.0819          -0.0000            0.82s"
       ]
      },
      {
       "output_type": "stream",
       "stream": "stdout",
       "text": [
        "\n",
        "     10000           2.7001           0.0000            0.00s"
       ]
      },
      {
       "output_type": "stream",
       "stream": "stdout",
       "text": [
        "\n",
        "[CV]  loss=ls, verbose=True, learning_rate=0.0001, n_estimators=10000, subsample=0.0316227766017, max_depth=6 -   8.2s"
       ]
      },
      {
       "output_type": "stream",
       "stream": "stdout",
       "text": [
        "\n",
        "[CV] loss=ls, verbose=True, learning_rate=0.0001, n_estimators=10000, subsample=0.0316227766017, max_depth=6 \n",
        "      Iter       Train Loss      OOB Improve   Remaining Time \n",
        "         1           1.4072           0.0000           23.23s\n",
        "         2           1.5615           0.0001           17.31s\n",
        "         3           0.5183           0.0000           15.20s\n",
        "         4           0.4148           0.0000           14.09s\n",
        "         5           0.4666           0.0000           13.64s\n",
        "         6           0.3358           0.0000           13.24s\n",
        "         7           0.8815           0.0001           12.81s\n",
        "         8           2.7151           0.0001           12.92s\n",
        "         9           1.3438           0.0000           12.74s\n",
        "        10           0.3009           0.0000           12.67s\n",
        "        20           1.7593           0.0001           13.10s\n",
        "        30           1.4353           0.0000           13.89s"
       ]
      },
      {
       "output_type": "stream",
       "stream": "stdout",
       "text": [
        "\n",
        "        40           0.4811           0.0001           12.35s\n",
        "        50           0.5272           0.0000           13.02s\n",
        "        60           1.2792           0.0001           13.18s\n",
        "        70           0.1350           0.0000           13.08s"
       ]
      },
      {
       "output_type": "stream",
       "stream": "stdout",
       "text": [
        "\n",
        "        80           3.5930           0.0001           13.34s\n",
        "        90           0.5844           0.0000           13.62s\n",
        "       100           0.1696           0.0000           13.72s\n",
        "       200           0.2569           0.0000           11.92s"
       ]
      },
      {
       "output_type": "stream",
       "stream": "stdout",
       "text": [
        "\n",
        "       300           0.6496           0.0001           10.91s"
       ]
      },
      {
       "output_type": "stream",
       "stream": "stdout",
       "text": [
        "\n",
        "       400           7.2894           0.0002           10.27s"
       ]
      },
      {
       "output_type": "stream",
       "stream": "stdout",
       "text": [
        "\n",
        "       500           0.3150           0.0000            9.91s"
       ]
      },
      {
       "output_type": "stream",
       "stream": "stdout",
       "text": [
        "\n",
        "       600           0.2747           0.0000            9.85s"
       ]
      },
      {
       "output_type": "stream",
       "stream": "stdout",
       "text": [
        "\n",
        "       700           1.5795           0.0002            9.64s"
       ]
      },
      {
       "output_type": "stream",
       "stream": "stdout",
       "text": [
        "\n",
        "       800           0.1273           0.0000            9.43s"
       ]
      },
      {
       "output_type": "stream",
       "stream": "stdout",
       "text": [
        "\n",
        "       900           1.3418           0.0000            9.22s"
       ]
      },
      {
       "output_type": "stream",
       "stream": "stdout",
       "text": [
        "\n",
        "      1000           0.1726           0.0000            9.02s"
       ]
      },
      {
       "output_type": "stream",
       "stream": "stdout",
       "text": [
        "\n",
        "      2000           0.8856           0.0000            7.00s"
       ]
      },
      {
       "output_type": "stream",
       "stream": "stdout",
       "text": [
        "\n",
        "      3000           0.1391           0.0000            5.74s"
       ]
      },
      {
       "output_type": "stream",
       "stream": "stdout",
       "text": [
        "\n",
        "      4000           0.7557           0.0000            4.81s"
       ]
      },
      {
       "output_type": "stream",
       "stream": "stdout",
       "text": [
        "\n",
        "      5000           0.1654           0.0000            4.00s"
       ]
      },
      {
       "output_type": "stream",
       "stream": "stdout",
       "text": [
        "\n",
        "      6000           0.6789           0.0001            3.15s"
       ]
      },
      {
       "output_type": "stream",
       "stream": "stdout",
       "text": [
        "\n",
        "      7000           0.1233           0.0000            2.46s"
       ]
      },
      {
       "output_type": "stream",
       "stream": "stdout",
       "text": [
        "\n",
        "      8000           0.2161           0.0000            1.65s"
       ]
      },
      {
       "output_type": "stream",
       "stream": "stdout",
       "text": [
        "\n",
        "      9000           0.2279           0.0000            0.82s"
       ]
      },
      {
       "output_type": "stream",
       "stream": "stdout",
       "text": [
        "\n",
        "     10000           0.2066          -0.0000            0.00s"
       ]
      },
      {
       "output_type": "stream",
       "stream": "stdout",
       "text": [
        "\n",
        "[CV]  loss=ls, verbose=True, learning_rate=0.0001, n_estimators=10000, subsample=0.0316227766017, max_depth=6 -   8.2s"
       ]
      },
      {
       "output_type": "stream",
       "stream": "stderr",
       "text": [
        "[Parallel(n_jobs=1)]: Done   1 jobs       | elapsed:    8.0s\n",
        "[Parallel(n_jobs=1)]: Done  12 out of  12 | elapsed:  1.5min finished\n"
       ]
      },
      {
       "output_type": "stream",
       "stream": "stdout",
       "text": [
        "\n",
        "      Iter       Train Loss      OOB Improve   Remaining Time \n",
        "         1           0.6014           0.0000           35.40s\n",
        "         2           0.5824           0.0000           25.19s\n",
        "         3           0.6078           0.0001           22.44s\n",
        "         4           1.1557           0.0002           20.09s\n",
        "         5           3.9229           0.0002           18.89s\n",
        "         6           0.1510           0.0000           17.87s\n",
        "         7           0.1046           0.0000           17.26s\n",
        "         8           4.1825           0.0002           16.57s\n",
        "         9           0.1343           0.0000           16.25s\n",
        "        10           0.5148           0.0001           15.86s\n",
        "        20           0.5249           0.0001           11.74s\n",
        "        30           0.8625           0.0001           11.30s"
       ]
      },
      {
       "output_type": "stream",
       "stream": "stdout",
       "text": [
        "\n",
        "        40           0.2468           0.0000           14.19s\n",
        "        50           0.1995           0.0000           13.22s\n",
        "        60           2.5031           0.0001           13.57s\n",
        "        70           0.6233           0.0000           14.21s"
       ]
      },
      {
       "output_type": "stream",
       "stream": "stdout",
       "text": [
        "\n",
        "        80           0.3092           0.0000           14.73s\n",
        "        90           0.1761           0.0000           14.69s\n",
        "       100           1.4199           0.0001           13.96s\n",
        "       200           0.2008           0.0000           11.14s"
       ]
      },
      {
       "output_type": "stream",
       "stream": "stdout",
       "text": [
        "\n",
        "       300           0.3177           0.0000           10.57s"
       ]
      },
      {
       "output_type": "stream",
       "stream": "stdout",
       "text": [
        "\n",
        "       400           0.1819           0.0000           10.09s"
       ]
      },
      {
       "output_type": "stream",
       "stream": "stdout",
       "text": [
        "\n",
        "       500           0.3955           0.0000           10.12s"
       ]
      },
      {
       "output_type": "stream",
       "stream": "stdout",
       "text": [
        "\n",
        "       600           1.5790           0.0001           10.00s"
       ]
      },
      {
       "output_type": "stream",
       "stream": "stdout",
       "text": [
        "\n",
        "       700           0.3225           0.0001            9.73s"
       ]
      },
      {
       "output_type": "stream",
       "stream": "stdout",
       "text": [
        "\n",
        "       800           0.3198           0.0000            9.77s"
       ]
      },
      {
       "output_type": "stream",
       "stream": "stdout",
       "text": [
        "\n",
        "       900           0.4050           0.0000            9.65s"
       ]
      },
      {
       "output_type": "stream",
       "stream": "stdout",
       "text": [
        "\n",
        "      1000           0.2388           0.0000            9.44s"
       ]
      },
      {
       "output_type": "stream",
       "stream": "stdout",
       "text": [
        "\n",
        "      2000           1.0205           0.0000            8.13s"
       ]
      },
      {
       "output_type": "stream",
       "stream": "stdout",
       "text": [
        "\n",
        "      3000           0.4086           0.0000            6.72s"
       ]
      },
      {
       "output_type": "stream",
       "stream": "stdout",
       "text": [
        "\n",
        "      4000           2.7272           0.0001            5.63s"
       ]
      },
      {
       "output_type": "stream",
       "stream": "stdout",
       "text": [
        "\n",
        "      5000           0.0750           0.0000            4.62s"
       ]
      },
      {
       "output_type": "stream",
       "stream": "stdout",
       "text": [
        "\n",
        "      6000           0.0805           0.0000            3.65s"
       ]
      },
      {
       "output_type": "stream",
       "stream": "stdout",
       "text": [
        "\n",
        "      7000           0.7070           0.0000            2.77s"
       ]
      },
      {
       "output_type": "stream",
       "stream": "stdout",
       "text": [
        "\n",
        "      8000           0.1975           0.0000            1.83s"
       ]
      },
      {
       "output_type": "stream",
       "stream": "stdout",
       "text": [
        "\n",
        "      9000           0.8218           0.0000            0.91s"
       ]
      },
      {
       "output_type": "stream",
       "stream": "stdout",
       "text": [
        "\n",
        "     10000           0.4328           0.0001            0.00s"
       ]
      },
      {
       "output_type": "stream",
       "stream": "stdout",
       "text": [
        "\n",
        "\n",
        "Ca:\n",
        "Loss: ls\n",
        "Verbose: True\n",
        "Learning_Rate: 0.0001\n",
        "N_Estimators: 10000\n",
        "Subsample: 0.0316227766017\n",
        "Max_Depth: 6\n",
        "Internal CV RMSE: 0.822857558466\n",
        "Internal CV SDev:0.162405474169\n",
        "Validation RMSE: 0.944130059771"
       ]
      },
      {
       "output_type": "stream",
       "stream": "stdout",
       "text": [
        "\n",
        "\n",
        "Scale type: Filter 90, PCA 20:\n",
        "Fitting 6 folds for each of 2 candidates, totalling 12 fits"
       ]
      },
      {
       "output_type": "stream",
       "stream": "stdout",
       "text": [
        "\n",
        "[CV] loss=ls, verbose=True, learning_rate=0.0001, n_estimators=10000, subsample=0.0316227766017, max_depth=4 \n",
        "      Iter       Train Loss      OOB Improve   Remaining Time \n",
        "         1           0.4231           0.0000           24.72s\n",
        "         2           0.7441           0.0000           16.98s\n",
        "         3           4.0262           0.0001           14.81s\n",
        "         4           0.1790           0.0000           13.28s\n",
        "         5           0.1568           0.0000           11.72s\n",
        "         6           0.9396           0.0000           10.57s\n",
        "         7           1.9327           0.0001            9.94s\n",
        "         8           0.1728           0.0000            9.46s\n",
        "         9           0.1968           0.0000            9.37s\n",
        "        10           0.4120           0.0001            9.16s\n",
        "        20           5.5072           0.0002           10.50s\n",
        "        30           3.4655           0.0001           10.49s\n",
        "        40           3.4782           0.0000            9.15s\n",
        "        50           0.2638           0.0000            8.28s\n",
        "        60           0.4001           0.0001            7.84s\n",
        "        70           0.3612           0.0000            7.65s"
       ]
      },
      {
       "output_type": "stream",
       "stream": "stdout",
       "text": [
        "\n",
        "        80           3.8692           0.0000            7.64s\n",
        "        90           1.8561           0.0001            7.87s\n",
        "       100           0.6708           0.0001            8.39s\n",
        "       200           1.3671           0.0001            6.84s"
       ]
      },
      {
       "output_type": "stream",
       "stream": "stdout",
       "text": [
        "\n",
        "       300           0.2818           0.0000            6.87s"
       ]
      },
      {
       "output_type": "stream",
       "stream": "stdout",
       "text": [
        "\n",
        "       400           1.3801           0.0001            6.63s"
       ]
      },
      {
       "output_type": "stream",
       "stream": "stdout",
       "text": [
        "\n",
        "       500           0.1858           0.0000            6.63s"
       ]
      },
      {
       "output_type": "stream",
       "stream": "stdout",
       "text": [
        "\n",
        "       600           2.2015           0.0001            6.45s"
       ]
      },
      {
       "output_type": "stream",
       "stream": "stdout",
       "text": [
        "\n",
        "       700           1.2384           0.0002            6.59s"
       ]
      },
      {
       "output_type": "stream",
       "stream": "stdout",
       "text": [
        "\n",
        "       800           0.2563           0.0000            6.43s"
       ]
      },
      {
       "output_type": "stream",
       "stream": "stdout",
       "text": [
        "\n",
        "       900           0.1680           0.0000            6.27s"
       ]
      },
      {
       "output_type": "stream",
       "stream": "stdout",
       "text": [
        "\n",
        "      1000           1.1159           0.0001            6.15s"
       ]
      },
      {
       "output_type": "stream",
       "stream": "stdout",
       "text": [
        "\n",
        "      2000           0.1926           0.0000            4.72s"
       ]
      },
      {
       "output_type": "stream",
       "stream": "stdout",
       "text": [
        "\n",
        "      3000           0.1365           0.0000            3.96s"
       ]
      },
      {
       "output_type": "stream",
       "stream": "stdout",
       "text": [
        "\n",
        "      4000           0.1719           0.0000            3.34s"
       ]
      },
      {
       "output_type": "stream",
       "stream": "stdout",
       "text": [
        "\n",
        "      5000           0.2793           0.0000            2.79s"
       ]
      },
      {
       "output_type": "stream",
       "stream": "stdout",
       "text": [
        "\n",
        "      6000           0.8457           0.0000            2.20s"
       ]
      },
      {
       "output_type": "stream",
       "stream": "stdout",
       "text": [
        "\n",
        "      7000           1.2989           0.0001            1.63s"
       ]
      },
      {
       "output_type": "stream",
       "stream": "stdout",
       "text": [
        "\n",
        "      8000           0.1352           0.0000            1.12s"
       ]
      },
      {
       "output_type": "stream",
       "stream": "stdout",
       "text": [
        "\n",
        "      9000           0.6910           0.0000            0.56s"
       ]
      },
      {
       "output_type": "stream",
       "stream": "stdout",
       "text": [
        "\n",
        "     10000           0.1887           0.0000            0.00s"
       ]
      },
      {
       "output_type": "stream",
       "stream": "stdout",
       "text": [
        "\n",
        "[CV]  loss=ls, verbose=True, learning_rate=0.0001, n_estimators=10000, subsample=0.0316227766017, max_depth=4 -   5.7s"
       ]
      },
      {
       "output_type": "stream",
       "stream": "stdout",
       "text": [
        "\n",
        "[CV] loss=ls, verbose=True, learning_rate=0.0001, n_estimators=10000, subsample=0.0316227766017, max_depth=4 \n",
        "      Iter       Train Loss      OOB Improve   Remaining Time \n",
        "         1           0.6575           0.0000           16.17s\n",
        "         2           1.1574           0.0001           10.63s\n",
        "         3           0.7551           0.0000            8.88s\n",
        "         4           0.4484           0.0001            7.78s\n",
        "         5           0.6429           0.0000            7.36s\n",
        "         6           1.0072           0.0001            7.17s\n",
        "         7           1.4760           0.0001            6.83s\n",
        "         8           2.4123           0.0000            6.57s\n",
        "         9           0.1326           0.0000            6.51s\n",
        "        10           0.4052           0.0000            6.34s"
       ]
      },
      {
       "output_type": "stream",
       "stream": "stdout",
       "text": [
        "\n",
        "        20           3.6914           0.0000            8.86s\n",
        "        30           0.9698           0.0000            9.89s\n",
        "        40           3.4256           0.0001            9.59s\n",
        "        50           0.1410          -0.0000            9.15s\n",
        "        60           3.4224           0.0002            8.38s\n",
        "        70           0.3116           0.0001            7.88s\n",
        "        80           1.2393           0.0001            7.47s"
       ]
      },
      {
       "output_type": "stream",
       "stream": "stdout",
       "text": [
        "\n",
        "        90           1.4577           0.0001            7.56s\n",
        "       100           0.1820           0.0000            7.74s\n",
        "       200           0.5102           0.0001            7.20s"
       ]
      },
      {
       "output_type": "stream",
       "stream": "stdout",
       "text": [
        "\n",
        "       300           0.8074           0.0001            6.68s"
       ]
      },
      {
       "output_type": "stream",
       "stream": "stdout",
       "text": [
        "\n",
        "       400           0.5989           0.0000            6.48s"
       ]
      },
      {
       "output_type": "stream",
       "stream": "stdout",
       "text": [
        "\n",
        "       500           0.1697           0.0000            6.51s"
       ]
      },
      {
       "output_type": "stream",
       "stream": "stdout",
       "text": [
        "\n",
        "       600           0.2203           0.0000            6.46s"
       ]
      },
      {
       "output_type": "stream",
       "stream": "stdout",
       "text": [
        "\n",
        "       700           0.5751           0.0001            6.33s"
       ]
      },
      {
       "output_type": "stream",
       "stream": "stdout",
       "text": [
        "\n",
        "       800           0.2286           0.0000            6.19s"
       ]
      },
      {
       "output_type": "stream",
       "stream": "stdout",
       "text": [
        "\n",
        "       900           0.5484           0.0001            6.20s"
       ]
      },
      {
       "output_type": "stream",
       "stream": "stdout",
       "text": [
        "\n",
        "      1000           1.4891           0.0001            6.13s"
       ]
      },
      {
       "output_type": "stream",
       "stream": "stdout",
       "text": [
        "\n",
        "      2000           2.7982           0.0001            4.72s"
       ]
      },
      {
       "output_type": "stream",
       "stream": "stdout",
       "text": [
        "\n",
        "      3000           0.3245           0.0001            4.21s"
       ]
      },
      {
       "output_type": "stream",
       "stream": "stdout",
       "text": [
        "\n",
        "      4000           0.7366           0.0000            3.68s"
       ]
      },
      {
       "output_type": "stream",
       "stream": "stdout",
       "text": [
        "\n",
        "      5000           0.1095           0.0000            2.98s"
       ]
      },
      {
       "output_type": "stream",
       "stream": "stdout",
       "text": [
        "\n",
        "      6000           0.5269           0.0000            2.32s"
       ]
      },
      {
       "output_type": "stream",
       "stream": "stdout",
       "text": [
        "\n",
        "      7000           0.0856           0.0000            1.73s"
       ]
      },
      {
       "output_type": "stream",
       "stream": "stdout",
       "text": [
        "\n",
        "      8000           2.4288           0.0000            1.14s"
       ]
      },
      {
       "output_type": "stream",
       "stream": "stdout",
       "text": [
        "\n",
        "      9000           0.1953           0.0000            0.56s"
       ]
      },
      {
       "output_type": "stream",
       "stream": "stdout",
       "text": [
        "\n",
        "     10000           0.2824           0.0000            0.00s"
       ]
      },
      {
       "output_type": "stream",
       "stream": "stdout",
       "text": [
        "\n",
        "[CV]  loss=ls, verbose=True, learning_rate=0.0001, n_estimators=10000, subsample=0.0316227766017, max_depth=4 -   5.7s"
       ]
      },
      {
       "output_type": "stream",
       "stream": "stdout",
       "text": [
        "\n",
        "[CV] loss=ls, verbose=True, learning_rate=0.0001, n_estimators=10000, subsample=0.0316227766017, max_depth=4 \n",
        "      Iter       Train Loss      OOB Improve   Remaining Time \n",
        "         1           0.4929           0.0001           26.05s\n",
        "         2           1.3280           0.0000           19.81s\n",
        "         3           1.2042           0.0000           19.70s\n",
        "         4           0.5666           0.0001           20.18s\n",
        "         5           0.2477           0.0000           19.94s\n",
        "         6           0.2007           0.0000           19.37s\n",
        "         7           0.1615           0.0000           18.83s\n",
        "         8           0.1116           0.0000           18.72s\n",
        "         9           1.2477           0.0001           18.01s\n",
        "        10           0.8237           0.0001           17.67s\n",
        "        20           0.8755           0.0001           12.13s\n",
        "        30           0.9343           0.0000            9.65s\n",
        "        40           0.2096           0.0000            8.90s\n",
        "        50           0.2391           0.0000            8.70s"
       ]
      },
      {
       "output_type": "stream",
       "stream": "stdout",
       "text": [
        "\n",
        "        60           1.3538           0.0001            8.66s\n",
        "        70           0.2189           0.0000            8.73s\n",
        "        80           0.7241           0.0000            8.94s\n",
        "        90           0.1303           0.0000            8.44s\n",
        "       100           3.5762           0.0001            8.22s\n",
        "       200           1.2170           0.0001            6.95s"
       ]
      },
      {
       "output_type": "stream",
       "stream": "stdout",
       "text": [
        "\n",
        "       300           0.5698           0.0001            6.90s"
       ]
      },
      {
       "output_type": "stream",
       "stream": "stdout",
       "text": [
        "\n",
        "       400           0.5251           0.0000            6.76s"
       ]
      },
      {
       "output_type": "stream",
       "stream": "stdout",
       "text": [
        "\n",
        "       500           0.1776           0.0000            6.53s"
       ]
      },
      {
       "output_type": "stream",
       "stream": "stdout",
       "text": [
        "\n",
        "       600           2.1083           0.0001            6.38s"
       ]
      },
      {
       "output_type": "stream",
       "stream": "stdout",
       "text": [
        "\n",
        "       700           0.1730           0.0000            6.31s"
       ]
      },
      {
       "output_type": "stream",
       "stream": "stdout",
       "text": [
        "\n",
        "       800           0.1409           0.0000            6.49s"
       ]
      },
      {
       "output_type": "stream",
       "stream": "stdout",
       "text": [
        "\n",
        "       900           0.4845           0.0000            6.40s"
       ]
      },
      {
       "output_type": "stream",
       "stream": "stdout",
       "text": [
        "\n",
        "      1000           0.1854           0.0000            6.43s"
       ]
      },
      {
       "output_type": "stream",
       "stream": "stdout",
       "text": [
        "\n",
        "      2000           0.3588           0.0000            4.90s"
       ]
      },
      {
       "output_type": "stream",
       "stream": "stdout",
       "text": [
        "\n",
        "      3000           0.6314           0.0001            4.10s"
       ]
      },
      {
       "output_type": "stream",
       "stream": "stdout",
       "text": [
        "\n",
        "      4000           0.7930           0.0000            3.49s"
       ]
      },
      {
       "output_type": "stream",
       "stream": "stdout",
       "text": [
        "\n",
        "      5000           0.9219           0.0001            2.82s"
       ]
      },
      {
       "output_type": "stream",
       "stream": "stdout",
       "text": [
        "\n",
        "      6000           0.9084           0.0000            2.24s"
       ]
      },
      {
       "output_type": "stream",
       "stream": "stdout",
       "text": [
        "\n",
        "      7000           0.3919          -0.0000            1.67s"
       ]
      },
      {
       "output_type": "stream",
       "stream": "stdout",
       "text": [
        "\n",
        "      8000           0.3403           0.0000            1.10s"
       ]
      },
      {
       "output_type": "stream",
       "stream": "stdout",
       "text": [
        "\n",
        "      9000           1.7767           0.0000            0.55s"
       ]
      },
      {
       "output_type": "stream",
       "stream": "stdout",
       "text": [
        "\n",
        "     10000           0.7065           0.0000            0.00s"
       ]
      },
      {
       "output_type": "stream",
       "stream": "stdout",
       "text": [
        "\n",
        "[CV]  loss=ls, verbose=True, learning_rate=0.0001, n_estimators=10000, subsample=0.0316227766017, max_depth=4 -   5.6s"
       ]
      },
      {
       "output_type": "stream",
       "stream": "stdout",
       "text": [
        "\n",
        "[CV] loss=ls, verbose=True, learning_rate=0.0001, n_estimators=10000, subsample=0.0316227766017, max_depth=4 \n",
        "      Iter       Train Loss      OOB Improve   Remaining Time \n",
        "         1           1.3802           0.0001           35.65s\n",
        "         2           0.9259           0.0001           26.68s\n",
        "         3           3.6275           0.0001           22.46s\n",
        "         4           0.4091           0.0000           20.53s\n",
        "         5           3.9321           0.0001           18.02s\n",
        "         6           1.0080           0.0000           15.83s\n",
        "         7           0.1999           0.0000           14.16s\n",
        "         8           1.3085           0.0000           13.01s\n",
        "         9           0.9395           0.0000           12.08s\n",
        "        10           0.5578           0.0000           11.88s\n",
        "        20           0.1179           0.0000            9.44s\n",
        "        30           0.1323           0.0000            7.89s\n",
        "        40           1.8359           0.0001            7.07s\n",
        "        50           1.4546           0.0001            6.63s"
       ]
      },
      {
       "output_type": "stream",
       "stream": "stdout",
       "text": [
        "\n",
        "        60           0.2916           0.0000            6.70s\n",
        "        70           1.1398           0.0001            6.60s\n",
        "        80           0.8954           0.0000            7.37s\n",
        "        90           0.3479           0.0000            7.60s\n",
        "       100           1.1533           0.0000            7.31s\n",
        "       200           0.3688           0.0000            6.23s"
       ]
      },
      {
       "output_type": "stream",
       "stream": "stdout",
       "text": [
        "\n",
        "       300           0.1159           0.0000            6.37s"
       ]
      },
      {
       "output_type": "stream",
       "stream": "stdout",
       "text": [
        "\n",
        "       400           0.5869           0.0001            6.22s"
       ]
      },
      {
       "output_type": "stream",
       "stream": "stdout",
       "text": [
        "\n",
        "       500           1.1644           0.0001            6.14s"
       ]
      },
      {
       "output_type": "stream",
       "stream": "stdout",
       "text": [
        "\n",
        "       600           0.3181           0.0000            6.36s"
       ]
      },
      {
       "output_type": "stream",
       "stream": "stdout",
       "text": [
        "\n",
        "       700           0.3210          -0.0000            6.46s"
       ]
      },
      {
       "output_type": "stream",
       "stream": "stdout",
       "text": [
        "\n",
        "       800           0.1147           0.0000            6.29s"
       ]
      },
      {
       "output_type": "stream",
       "stream": "stdout",
       "text": [
        "\n",
        "       900           0.1774           0.0000            6.16s"
       ]
      },
      {
       "output_type": "stream",
       "stream": "stdout",
       "text": [
        "\n",
        "      1000           0.1133           0.0000            6.16s"
       ]
      },
      {
       "output_type": "stream",
       "stream": "stdout",
       "text": [
        "\n",
        "      2000           0.8493           0.0001            4.98s"
       ]
      },
      {
       "output_type": "stream",
       "stream": "stdout",
       "text": [
        "\n",
        "      3000           0.2083          -0.0000            4.18s"
       ]
      },
      {
       "output_type": "stream",
       "stream": "stdout",
       "text": [
        "\n",
        "      4000           0.7082           0.0000            3.43s"
       ]
      },
      {
       "output_type": "stream",
       "stream": "stdout",
       "text": [
        "\n",
        "      5000           0.0782           0.0000            2.88s"
       ]
      },
      {
       "output_type": "stream",
       "stream": "stdout",
       "text": [
        "\n",
        "      6000           0.0992           0.0000            2.33s"
       ]
      },
      {
       "output_type": "stream",
       "stream": "stdout",
       "text": [
        "\n",
        "      7000           0.1384           0.0000            1.71s"
       ]
      },
      {
       "output_type": "stream",
       "stream": "stdout",
       "text": [
        "\n",
        "      8000           0.1557           0.0000            1.12s"
       ]
      },
      {
       "output_type": "stream",
       "stream": "stdout",
       "text": [
        "\n",
        "      9000           1.1462           0.0000            0.55s"
       ]
      },
      {
       "output_type": "stream",
       "stream": "stdout",
       "text": [
        "\n",
        "     10000           0.1061           0.0000            0.00s"
       ]
      },
      {
       "output_type": "stream",
       "stream": "stdout",
       "text": [
        "\n",
        "[CV]  loss=ls, verbose=True, learning_rate=0.0001, n_estimators=10000, subsample=0.0316227766017, max_depth=4 -   5.5s"
       ]
      },
      {
       "output_type": "stream",
       "stream": "stdout",
       "text": [
        "\n",
        "[CV] loss=ls, verbose=True, learning_rate=0.0001, n_estimators=10000, subsample=0.0316227766017, max_depth=4 \n",
        "      Iter       Train Loss      OOB Improve   Remaining Time \n",
        "         1           1.0704           0.0001           23.66s\n",
        "         2           0.5052          -0.0000           17.97s\n",
        "         3           0.2750           0.0000           14.18s\n",
        "         4           1.3557           0.0001           11.80s\n",
        "         5           0.4530           0.0001           10.40s\n",
        "         6           0.3141          -0.0000            9.50s\n",
        "         7           0.1630           0.0000            8.90s\n",
        "         8           0.5358           0.0001            8.42s\n",
        "         9           0.3019           0.0001            8.00s\n",
        "        10           0.2791          -0.0000            7.73s\n",
        "        20           0.1992           0.0000            6.61s\n",
        "        30           2.7088           0.0002            6.78s\n",
        "        40           0.2780           0.0000            6.19s\n",
        "        50           1.3237           0.0001            5.95s"
       ]
      },
      {
       "output_type": "stream",
       "stream": "stdout",
       "text": [
        "\n",
        "        60           1.5909           0.0001            6.63s\n",
        "        70           0.6815           0.0000            6.79s\n",
        "        80           0.2499           0.0000            6.65s\n",
        "        90           0.1166          -0.0000            6.73s\n",
        "       100           0.1820           0.0000            7.14s\n",
        "       200           0.5476           0.0001            6.13s"
       ]
      },
      {
       "output_type": "stream",
       "stream": "stdout",
       "text": [
        "\n",
        "       300           1.4640           0.0000            6.06s"
       ]
      },
      {
       "output_type": "stream",
       "stream": "stdout",
       "text": [
        "\n",
        "       400           0.5399          -0.0000            6.53s"
       ]
      },
      {
       "output_type": "stream",
       "stream": "stdout",
       "text": [
        "\n",
        "       500           0.2853           0.0000            6.54s"
       ]
      },
      {
       "output_type": "stream",
       "stream": "stdout",
       "text": [
        "\n",
        "       600           0.1524           0.0000            6.49s"
       ]
      },
      {
       "output_type": "stream",
       "stream": "stdout",
       "text": [
        "\n",
        "       700           0.9328           0.0000            6.38s"
       ]
      },
      {
       "output_type": "stream",
       "stream": "stdout",
       "text": [
        "\n",
        "       800           2.5031           0.0001            6.28s"
       ]
      },
      {
       "output_type": "stream",
       "stream": "stdout",
       "text": [
        "\n",
        "       900           0.2896           0.0000            6.16s"
       ]
      },
      {
       "output_type": "stream",
       "stream": "stdout",
       "text": [
        "\n",
        "      1000           1.4532           0.0001            6.04s"
       ]
      },
      {
       "output_type": "stream",
       "stream": "stdout",
       "text": [
        "\n",
        "      2000           0.4666           0.0000            4.80s"
       ]
      },
      {
       "output_type": "stream",
       "stream": "stdout",
       "text": [
        "\n",
        "      3000           1.2596           0.0001            4.03s"
       ]
      },
      {
       "output_type": "stream",
       "stream": "stdout",
       "text": [
        "\n",
        "      4000           0.5722           0.0001            3.37s"
       ]
      },
      {
       "output_type": "stream",
       "stream": "stdout",
       "text": [
        "\n",
        "      5000           0.1771           0.0000            2.76s"
       ]
      },
      {
       "output_type": "stream",
       "stream": "stdout",
       "text": [
        "\n",
        "      6000           0.9495          -0.0000            2.20s"
       ]
      },
      {
       "output_type": "stream",
       "stream": "stdout",
       "text": [
        "\n",
        "      7000           1.9921           0.0001            1.63s"
       ]
      },
      {
       "output_type": "stream",
       "stream": "stdout",
       "text": [
        "\n",
        "      8000           0.6356           0.0001            1.08s"
       ]
      },
      {
       "output_type": "stream",
       "stream": "stdout",
       "text": [
        "\n",
        "      9000           0.1787          -0.0000            0.53s"
       ]
      },
      {
       "output_type": "stream",
       "stream": "stdout",
       "text": [
        "\n",
        "     10000           0.8457           0.0001            0.00s"
       ]
      },
      {
       "output_type": "stream",
       "stream": "stdout",
       "text": [
        "\n",
        "[CV]  loss=ls, verbose=True, learning_rate=0.0001, n_estimators=10000, subsample=0.0316227766017, max_depth=4 -   5.4s"
       ]
      },
      {
       "output_type": "stream",
       "stream": "stdout",
       "text": [
        "\n",
        "[CV] loss=ls, verbose=True, learning_rate=0.0001, n_estimators=10000, subsample=0.0316227766017, max_depth=4 \n",
        "      Iter       Train Loss      OOB Improve   Remaining Time \n",
        "         1           0.6830           0.0001           47.49s\n",
        "         2           1.1342           0.0002           30.63s\n",
        "         3           0.3796           0.0000           25.31s\n",
        "         4           1.2480           0.0001           20.91s\n",
        "         5           1.0231           0.0001           17.77s\n",
        "         6           0.1503           0.0000           15.86s\n",
        "         7           0.2316           0.0000           14.65s\n",
        "         8           0.2946           0.0000           13.80s\n",
        "         9           1.3655           0.0001           13.55s\n",
        "        10           0.1648           0.0000           13.17s\n",
        "        20           0.1997           0.0000            9.20s\n",
        "        30           4.5027           0.0001            7.64s\n",
        "        40           0.1073           0.0000            6.93s"
       ]
      },
      {
       "output_type": "stream",
       "stream": "stdout",
       "text": [
        "\n",
        "        50           0.7063           0.0001            7.19s\n",
        "        60           0.3628           0.0000            7.42s\n",
        "        70           0.1191           0.0000            8.47s\n",
        "        80           1.0445           0.0001            8.53s\n",
        "        90           0.1284           0.0000            8.64s"
       ]
      },
      {
       "output_type": "stream",
       "stream": "stdout",
       "text": [
        "\n",
        "       100           0.4878           0.0001            9.05s\n",
        "       200           0.9512           0.0001            7.49s"
       ]
      },
      {
       "output_type": "stream",
       "stream": "stdout",
       "text": [
        "\n",
        "       300           0.6656           0.0000            6.93s"
       ]
      },
      {
       "output_type": "stream",
       "stream": "stdout",
       "text": [
        "\n",
        "       400           0.4887           0.0000            6.65s"
       ]
      },
      {
       "output_type": "stream",
       "stream": "stdout",
       "text": [
        "\n",
        "       500           1.3698           0.0001            6.55s"
       ]
      },
      {
       "output_type": "stream",
       "stream": "stdout",
       "text": [
        "\n",
        "       600           0.8302           0.0001            6.39s"
       ]
      },
      {
       "output_type": "stream",
       "stream": "stdout",
       "text": [
        "\n",
        "       700           0.6691           0.0001            6.29s"
       ]
      },
      {
       "output_type": "stream",
       "stream": "stdout",
       "text": [
        "\n",
        "       800           0.5853           0.0000            6.19s"
       ]
      },
      {
       "output_type": "stream",
       "stream": "stdout",
       "text": [
        "\n",
        "       900           1.5876           0.0001            6.26s"
       ]
      },
      {
       "output_type": "stream",
       "stream": "stdout",
       "text": [
        "\n",
        "      1000           0.2539           0.0000            6.29s"
       ]
      },
      {
       "output_type": "stream",
       "stream": "stdout",
       "text": [
        "\n",
        "      2000           0.1264          -0.0000            4.93s"
       ]
      },
      {
       "output_type": "stream",
       "stream": "stdout",
       "text": [
        "\n",
        "      3000           1.0347           0.0000            4.21s"
       ]
      },
      {
       "output_type": "stream",
       "stream": "stdout",
       "text": [
        "\n",
        "      4000           2.9631           0.0000            3.56s"
       ]
      },
      {
       "output_type": "stream",
       "stream": "stdout",
       "text": [
        "\n",
        "      5000           0.6405           0.0000            2.90s"
       ]
      },
      {
       "output_type": "stream",
       "stream": "stdout",
       "text": [
        "\n",
        "      6000           0.3579           0.0000            2.29s"
       ]
      },
      {
       "output_type": "stream",
       "stream": "stdout",
       "text": [
        "\n",
        "      7000           0.9507           0.0000            1.71s"
       ]
      },
      {
       "output_type": "stream",
       "stream": "stdout",
       "text": [
        "\n",
        "      8000           0.5279           0.0000            1.16s"
       ]
      },
      {
       "output_type": "stream",
       "stream": "stdout",
       "text": [
        "\n",
        "      9000           0.8273           0.0001            0.57s"
       ]
      },
      {
       "output_type": "stream",
       "stream": "stdout",
       "text": [
        "\n",
        "     10000           0.5313           0.0000            0.00s"
       ]
      },
      {
       "output_type": "stream",
       "stream": "stdout",
       "text": [
        "\n",
        "[CV]  loss=ls, verbose=True, learning_rate=0.0001, n_estimators=10000, subsample=0.0316227766017, max_depth=4 -   5.7s"
       ]
      },
      {
       "output_type": "stream",
       "stream": "stdout",
       "text": [
        "\n",
        "[CV] loss=ls, verbose=True, learning_rate=0.0001, n_estimators=10000, subsample=0.0316227766017, max_depth=6 \n",
        "      Iter       Train Loss      OOB Improve   Remaining Time \n",
        "         1           0.1904           0.0000           48.13s\n",
        "         2           0.5184           0.0001           37.25s\n",
        "         3           0.1136           0.0000           32.82s\n",
        "         4           0.4372           0.0001           28.40s\n",
        "         5           0.2376           0.0000           25.71s\n",
        "         6           0.3525           0.0000           24.14s\n",
        "         7           0.9157           0.0001           22.33s\n",
        "         8           1.8820           0.0001           20.32s\n",
        "         9           1.2398           0.0001           18.73s\n",
        "        10           0.4912           0.0001           17.54s\n",
        "        20           0.6156           0.0001           13.63s\n",
        "        30           0.1166           0.0000           12.73s"
       ]
      },
      {
       "output_type": "stream",
       "stream": "stdout",
       "text": [
        "\n",
        "        40           0.1657           0.0000           12.45s\n",
        "        50           0.6340           0.0001           13.76s\n",
        "        60           1.3025           0.0000           13.30s\n",
        "        70           3.6313           0.0001           13.30s"
       ]
      },
      {
       "output_type": "stream",
       "stream": "stdout",
       "text": [
        "\n",
        "        80           2.9497           0.0001           12.60s\n",
        "        90           1.0825           0.0001           12.50s\n",
        "       100           0.3793           0.0000           12.92s\n",
        "       200           0.5693           0.0001           10.89s"
       ]
      },
      {
       "output_type": "stream",
       "stream": "stdout",
       "text": [
        "\n",
        "       300           0.4873           0.0001            9.87s"
       ]
      },
      {
       "output_type": "stream",
       "stream": "stdout",
       "text": [
        "\n",
        "       400           0.2136           0.0000            9.50s"
       ]
      },
      {
       "output_type": "stream",
       "stream": "stdout",
       "text": [
        "\n",
        "       500           2.7276           0.0001            9.08s"
       ]
      },
      {
       "output_type": "stream",
       "stream": "stdout",
       "text": [
        "\n",
        "       600           1.4428           0.0001            8.81s"
       ]
      },
      {
       "output_type": "stream",
       "stream": "stdout",
       "text": [
        "\n",
        "       700           1.1946           0.0001            8.51s"
       ]
      },
      {
       "output_type": "stream",
       "stream": "stdout",
       "text": [
        "\n",
        "       800           0.4128           0.0000            8.27s"
       ]
      },
      {
       "output_type": "stream",
       "stream": "stdout",
       "text": [
        "\n",
        "       900           2.4621           0.0001            8.04s"
       ]
      },
      {
       "output_type": "stream",
       "stream": "stdout",
       "text": [
        "\n",
        "      1000           0.5809           0.0001            7.86s"
       ]
      },
      {
       "output_type": "stream",
       "stream": "stdout",
       "text": [
        "\n",
        "      2000           2.8315           0.0002            6.47s"
       ]
      },
      {
       "output_type": "stream",
       "stream": "stdout",
       "text": [
        "\n",
        "      3000           0.3369           0.0000            5.41s"
       ]
      },
      {
       "output_type": "stream",
       "stream": "stdout",
       "text": [
        "\n",
        "      4000           0.4506           0.0000            4.57s"
       ]
      },
      {
       "output_type": "stream",
       "stream": "stdout",
       "text": [
        "\n",
        "      5000           0.3568           0.0001            3.90s"
       ]
      },
      {
       "output_type": "stream",
       "stream": "stdout",
       "text": [
        "\n",
        "      6000           1.8633           0.0001            3.29s"
       ]
      },
      {
       "output_type": "stream",
       "stream": "stdout",
       "text": [
        "\n",
        "      7000           0.2847           0.0001            2.42s"
       ]
      },
      {
       "output_type": "stream",
       "stream": "stdout",
       "text": [
        "\n",
        "      8000           0.1307           0.0000            1.61s"
       ]
      },
      {
       "output_type": "stream",
       "stream": "stdout",
       "text": [
        "\n",
        "      9000           0.4684           0.0000            0.79s"
       ]
      },
      {
       "output_type": "stream",
       "stream": "stdout",
       "text": [
        "\n",
        "     10000           0.8598           0.0000            0.00s"
       ]
      },
      {
       "output_type": "stream",
       "stream": "stdout",
       "text": [
        "\n",
        "[CV]  loss=ls, verbose=True, learning_rate=0.0001, n_estimators=10000, subsample=0.0316227766017, max_depth=6 -   7.9s"
       ]
      },
      {
       "output_type": "stream",
       "stream": "stdout",
       "text": [
        "\n",
        "[CV] loss=ls, verbose=True, learning_rate=0.0001, n_estimators=10000, subsample=0.0316227766017, max_depth=6 \n",
        "      Iter       Train Loss      OOB Improve   Remaining Time \n",
        "         1           0.4565           0.0000           29.09s\n",
        "         2           0.5921           0.0001           23.34s\n",
        "         3           0.2054           0.0000           25.24s\n",
        "         4           1.1753           0.0002           24.65s\n",
        "         5           3.0361           0.0001           23.61s\n",
        "         6           0.2427           0.0000           21.45s\n",
        "         7           1.4387           0.0001           20.55s\n",
        "         8           0.1107           0.0000           20.38s\n",
        "         9           3.8726           0.0001           20.22s\n",
        "        10           0.4803          -0.0000           19.85s\n",
        "        20           4.3789           0.0002           15.67s\n",
        "        30           0.4675           0.0001           14.87s"
       ]
      },
      {
       "output_type": "stream",
       "stream": "stdout",
       "text": [
        "\n",
        "        40           1.3944           0.0001           14.46s\n",
        "        50           1.7883           0.0001           14.19s\n",
        "        60           5.2234           0.0002           13.46s\n",
        "        70           0.8182           0.0001           12.73s\n",
        "        80           0.9915           0.0001           11.90s"
       ]
      },
      {
       "output_type": "stream",
       "stream": "stdout",
       "text": [
        "\n",
        "        90           5.8118           0.0002           11.33s\n",
        "       100           0.5277           0.0000           11.02s\n",
        "       200           3.8948           0.0001           10.04s"
       ]
      },
      {
       "output_type": "stream",
       "stream": "stdout",
       "text": [
        "\n",
        "       300           3.6090           0.0001            9.23s"
       ]
      },
      {
       "output_type": "stream",
       "stream": "stdout",
       "text": [
        "\n",
        "       400           0.2921          -0.0000            9.72s"
       ]
      },
      {
       "output_type": "stream",
       "stream": "stdout",
       "text": [
        "\n",
        "       500           2.0944           0.0002            9.32s"
       ]
      },
      {
       "output_type": "stream",
       "stream": "stdout",
       "text": [
        "\n",
        "       600           1.4483           0.0001            9.08s"
       ]
      },
      {
       "output_type": "stream",
       "stream": "stdout",
       "text": [
        "\n",
        "       700           0.5496           0.0001            8.82s"
       ]
      },
      {
       "output_type": "stream",
       "stream": "stdout",
       "text": [
        "\n",
        "       800           1.7183           0.0001            8.69s"
       ]
      },
      {
       "output_type": "stream",
       "stream": "stdout",
       "text": [
        "\n",
        "       900           1.2650           0.0000            8.48s"
       ]
      },
      {
       "output_type": "stream",
       "stream": "stdout",
       "text": [
        "\n",
        "      1000           0.2313           0.0000            8.28s"
       ]
      },
      {
       "output_type": "stream",
       "stream": "stdout",
       "text": [
        "\n",
        "      2000           2.0831           0.0001            7.03s"
       ]
      },
      {
       "output_type": "stream",
       "stream": "stdout",
       "text": [
        "\n",
        "      3000           0.4405           0.0000            5.97s"
       ]
      },
      {
       "output_type": "stream",
       "stream": "stdout",
       "text": [
        "\n",
        "      4000           0.6355           0.0001            5.06s"
       ]
      },
      {
       "output_type": "stream",
       "stream": "stdout",
       "text": [
        "\n",
        "      5000           2.8970           0.0001            4.07s"
       ]
      },
      {
       "output_type": "stream",
       "stream": "stdout",
       "text": [
        "\n",
        "      6000           1.5483           0.0000            3.16s"
       ]
      },
      {
       "output_type": "stream",
       "stream": "stdout",
       "text": [
        "\n",
        "      7000           0.1420           0.0000            2.42s"
       ]
      },
      {
       "output_type": "stream",
       "stream": "stdout",
       "text": [
        "\n",
        "      8000           2.0985           0.0001            1.61s"
       ]
      },
      {
       "output_type": "stream",
       "stream": "stdout",
       "text": [
        "\n",
        "      9000           1.6461           0.0001            0.80s"
       ]
      },
      {
       "output_type": "stream",
       "stream": "stdout",
       "text": [
        "\n",
        "     10000           2.0645           0.0001            0.00s"
       ]
      },
      {
       "output_type": "stream",
       "stream": "stdout",
       "text": [
        "\n",
        "[CV]  loss=ls, verbose=True, learning_rate=0.0001, n_estimators=10000, subsample=0.0316227766017, max_depth=6 -   8.1s"
       ]
      },
      {
       "output_type": "stream",
       "stream": "stdout",
       "text": [
        "\n",
        "[CV] loss=ls, verbose=True, learning_rate=0.0001, n_estimators=10000, subsample=0.0316227766017, max_depth=6 \n",
        "      Iter       Train Loss      OOB Improve   Remaining Time \n",
        "         1           0.2805           0.0000           26.49s\n",
        "         2           1.3473           0.0001           17.30s\n",
        "         3           1.3839           0.0001           15.54s\n",
        "         4           2.0699           0.0001           13.41s\n",
        "         5           0.5445           0.0001           12.06s\n",
        "         6           0.3063           0.0000           12.71s\n",
        "         7           3.1918           0.0001           14.23s\n",
        "         8           3.1819           0.0001           15.21s\n",
        "         9           0.4123           0.0000           15.90s\n",
        "        10           0.2171           0.0000           15.95s\n",
        "        20           0.2652           0.0000           14.45s\n",
        "        30           0.9284           0.0000           12.64s\n",
        "        40           1.0142           0.0001           11.10s"
       ]
      },
      {
       "output_type": "stream",
       "stream": "stdout",
       "text": [
        "\n",
        "        50           0.3730           0.0000           11.65s\n",
        "        60           0.6452           0.0001           11.34s\n",
        "        70           0.2756           0.0000           12.03s\n",
        "        80           1.7401           0.0001           11.34s\n",
        "        90           0.2201           0.0000           10.82s"
       ]
      },
      {
       "output_type": "stream",
       "stream": "stdout",
       "text": [
        "\n",
        "       100           1.1385           0.0001           10.88s\n",
        "       200           0.4114           0.0000            9.16s"
       ]
      },
      {
       "output_type": "stream",
       "stream": "stdout",
       "text": [
        "\n",
        "       300           0.5152           0.0001            8.57s"
       ]
      },
      {
       "output_type": "stream",
       "stream": "stdout",
       "text": [
        "\n",
        "       400           0.2013           0.0000            8.35s"
       ]
      },
      {
       "output_type": "stream",
       "stream": "stdout",
       "text": [
        "\n",
        "       500           0.4019           0.0000            8.15s"
       ]
      },
      {
       "output_type": "stream",
       "stream": "stdout",
       "text": [
        "\n",
        "       600           0.2956           0.0000            8.40s"
       ]
      },
      {
       "output_type": "stream",
       "stream": "stdout",
       "text": [
        "\n",
        "       700           0.2105           0.0000            8.19s"
       ]
      },
      {
       "output_type": "stream",
       "stream": "stdout",
       "text": [
        "\n",
        "       800           0.4247           0.0000            8.10s"
       ]
      },
      {
       "output_type": "stream",
       "stream": "stdout",
       "text": [
        "\n",
        "       900           0.1487           0.0000            7.97s"
       ]
      },
      {
       "output_type": "stream",
       "stream": "stdout",
       "text": [
        "\n",
        "      1000           0.7517           0.0001            7.86s"
       ]
      },
      {
       "output_type": "stream",
       "stream": "stdout",
       "text": [
        "\n",
        "      2000           0.1467           0.0000            6.99s"
       ]
      },
      {
       "output_type": "stream",
       "stream": "stdout",
       "text": [
        "\n",
        "      3000           2.3120           0.0001            5.92s"
       ]
      },
      {
       "output_type": "stream",
       "stream": "stdout",
       "text": [
        "\n",
        "      4000           0.3247           0.0001            4.84s"
       ]
      },
      {
       "output_type": "stream",
       "stream": "stdout",
       "text": [
        "\n",
        "      5000           0.1547           0.0000            4.06s"
       ]
      },
      {
       "output_type": "stream",
       "stream": "stdout",
       "text": [
        "\n",
        "      6000           0.4858           0.0000            3.22s"
       ]
      },
      {
       "output_type": "stream",
       "stream": "stdout",
       "text": [
        "\n",
        "      7000           0.8388           0.0000            2.37s"
       ]
      },
      {
       "output_type": "stream",
       "stream": "stdout",
       "text": [
        "\n",
        "      8000           0.1110           0.0000            1.55s"
       ]
      },
      {
       "output_type": "stream",
       "stream": "stdout",
       "text": [
        "\n",
        "      9000           0.1693           0.0000            0.77s"
       ]
      },
      {
       "output_type": "stream",
       "stream": "stdout",
       "text": [
        "\n",
        "     10000           0.9245           0.0000            0.00s"
       ]
      },
      {
       "output_type": "stream",
       "stream": "stdout",
       "text": [
        "\n",
        "[CV]  loss=ls, verbose=True, learning_rate=0.0001, n_estimators=10000, subsample=0.0316227766017, max_depth=6 -   7.7s"
       ]
      },
      {
       "output_type": "stream",
       "stream": "stdout",
       "text": [
        "\n",
        "[CV] loss=ls, verbose=True, learning_rate=0.0001, n_estimators=10000, subsample=0.0316227766017, max_depth=6 \n",
        "      Iter       Train Loss      OOB Improve   Remaining Time \n",
        "         1           2.1802           0.0001           38.09s\n",
        "         2           0.7129           0.0001           29.89s\n",
        "         3           1.2903           0.0001           27.68s\n",
        "         4           0.4251           0.0001           24.42s\n",
        "         5           0.4753           0.0000           22.36s\n",
        "         6           0.2266          -0.0000           20.89s\n",
        "         7           3.5685           0.0001           19.07s\n",
        "         8           0.2380           0.0001           17.55s\n",
        "         9           3.5776          -0.0000           16.87s\n",
        "        10           0.2337           0.0000           16.74s\n",
        "        20           0.4782           0.0001           11.62s\n",
        "        30           0.7740           0.0000            9.86s"
       ]
      },
      {
       "output_type": "stream",
       "stream": "stdout",
       "text": [
        "\n",
        "        40           1.6194           0.0001           10.35s\n",
        "        50           0.3027           0.0000           11.85s\n",
        "        60           0.1790           0.0000           11.67s\n",
        "        70           0.1887           0.0000           10.91s\n",
        "        80           0.2805           0.0000           10.37s"
       ]
      },
      {
       "output_type": "stream",
       "stream": "stdout",
       "text": [
        "\n",
        "        90           0.6436           0.0000            9.97s\n",
        "       100           0.7417           0.0000            9.65s\n",
        "       200           1.3045           0.0000            8.79s"
       ]
      },
      {
       "output_type": "stream",
       "stream": "stdout",
       "text": [
        "\n",
        "       300           0.3943           0.0000            8.54s"
       ]
      },
      {
       "output_type": "stream",
       "stream": "stdout",
       "text": [
        "\n",
        "       400           0.1175           0.0000            8.25s"
       ]
      },
      {
       "output_type": "stream",
       "stream": "stdout",
       "text": [
        "\n",
        "       500           0.4850           0.0000            8.12s"
       ]
      },
      {
       "output_type": "stream",
       "stream": "stdout",
       "text": [
        "\n",
        "       600           0.2022           0.0000            8.21s"
       ]
      },
      {
       "output_type": "stream",
       "stream": "stdout",
       "text": [
        "\n",
        "       700           0.4440           0.0001            8.61s"
       ]
      },
      {
       "output_type": "stream",
       "stream": "stdout",
       "text": [
        "\n",
        "       800           1.4284           0.0001            8.37s"
       ]
      },
      {
       "output_type": "stream",
       "stream": "stdout",
       "text": [
        "\n",
        "       900           0.1164          -0.0000            8.36s"
       ]
      },
      {
       "output_type": "stream",
       "stream": "stdout",
       "text": [
        "\n",
        "      1000           0.7029           0.0000            8.33s"
       ]
      },
      {
       "output_type": "stream",
       "stream": "stdout",
       "text": [
        "\n",
        "      2000           2.1103           0.0001            6.48s"
       ]
      },
      {
       "output_type": "stream",
       "stream": "stdout",
       "text": [
        "\n",
        "      3000           1.2247           0.0001            5.39s"
       ]
      },
      {
       "output_type": "stream",
       "stream": "stdout",
       "text": [
        "\n",
        "      4000           1.0387           0.0001            4.84s"
       ]
      },
      {
       "output_type": "stream",
       "stream": "stdout",
       "text": [
        "\n",
        "      5000           0.8890           0.0001            3.93s"
       ]
      },
      {
       "output_type": "stream",
       "stream": "stdout",
       "text": [
        "\n",
        "      6000           3.0361           0.0001            3.08s"
       ]
      },
      {
       "output_type": "stream",
       "stream": "stdout",
       "text": [
        "\n",
        "      7000           0.1490          -0.0000            2.31s"
       ]
      },
      {
       "output_type": "stream",
       "stream": "stdout",
       "text": [
        "\n",
        "      8000           0.1871           0.0000            1.54s"
       ]
      },
      {
       "output_type": "stream",
       "stream": "stdout",
       "text": [
        "\n",
        "      9000           0.1108           0.0000            0.76s"
       ]
      },
      {
       "output_type": "stream",
       "stream": "stdout",
       "text": [
        "\n",
        "     10000           0.0860           0.0000            0.00s"
       ]
      },
      {
       "output_type": "stream",
       "stream": "stdout",
       "text": [
        "\n",
        "[CV]  loss=ls, verbose=True, learning_rate=0.0001, n_estimators=10000, subsample=0.0316227766017, max_depth=6 -   7.7s"
       ]
      },
      {
       "output_type": "stream",
       "stream": "stdout",
       "text": [
        "\n",
        "[CV] loss=ls, verbose=True, learning_rate=0.0001, n_estimators=10000, subsample=0.0316227766017, max_depth=6 \n",
        "      Iter       Train Loss      OOB Improve   Remaining Time \n",
        "         1           3.8622           0.0001           41.03s\n",
        "         2           0.4925           0.0000           40.16s\n",
        "         3           2.9321           0.0001           52.68s\n",
        "         4           0.1519           0.0000           42.71s\n",
        "         5           2.6219           0.0001           36.56s\n",
        "         6           1.7698           0.0001           34.49s\n",
        "         7           0.2567           0.0000           32.16s\n",
        "         8           0.6432           0.0001           29.82s\n",
        "         9           1.8292           0.0001           27.73s\n",
        "        10           0.5771           0.0000           26.06s\n",
        "        20           7.4553           0.0001           17.93s"
       ]
      },
      {
       "output_type": "stream",
       "stream": "stdout",
       "text": [
        "\n",
        "        30           0.6584           0.0001           14.44s\n",
        "        40           0.2566           0.0000           12.60s\n",
        "        50           0.6810           0.0000           13.03s\n",
        "        60           0.7011           0.0001           12.19s\n",
        "        70           0.6609           0.0001           11.55s\n",
        "        80           0.5620           0.0000           11.02s"
       ]
      },
      {
       "output_type": "stream",
       "stream": "stdout",
       "text": [
        "\n",
        "        90           0.1612           0.0000           10.55s\n",
        "       100           0.3870           0.0000           10.10s\n",
        "       200           2.1387           0.0000            8.87s"
       ]
      },
      {
       "output_type": "stream",
       "stream": "stdout",
       "text": [
        "\n",
        "       300           3.1990           0.0001            8.55s"
       ]
      },
      {
       "output_type": "stream",
       "stream": "stdout",
       "text": [
        "\n",
        "       400           0.3454          -0.0000            8.47s"
       ]
      },
      {
       "output_type": "stream",
       "stream": "stdout",
       "text": [
        "\n",
        "       500           0.1660           0.0000            8.41s"
       ]
      },
      {
       "output_type": "stream",
       "stream": "stdout",
       "text": [
        "\n",
        "       600           2.0391           0.0002            8.16s"
       ]
      },
      {
       "output_type": "stream",
       "stream": "stdout",
       "text": [
        "\n",
        "       700           2.0197           0.0001            7.98s"
       ]
      },
      {
       "output_type": "stream",
       "stream": "stdout",
       "text": [
        "\n",
        "       800           0.4086           0.0001            7.93s"
       ]
      },
      {
       "output_type": "stream",
       "stream": "stdout",
       "text": [
        "\n",
        "       900           3.1581           0.0002            7.89s"
       ]
      },
      {
       "output_type": "stream",
       "stream": "stdout",
       "text": [
        "\n",
        "      1000           0.5872           0.0001            7.75s"
       ]
      },
      {
       "output_type": "stream",
       "stream": "stdout",
       "text": [
        "\n",
        "      2000           0.2879           0.0000            6.54s"
       ]
      },
      {
       "output_type": "stream",
       "stream": "stdout",
       "text": [
        "\n",
        "      3000           0.2925           0.0001            5.41s"
       ]
      },
      {
       "output_type": "stream",
       "stream": "stdout",
       "text": [
        "\n",
        "      4000           2.9116           0.0001            4.55s"
       ]
      },
      {
       "output_type": "stream",
       "stream": "stdout",
       "text": [
        "\n",
        "      5000           0.2068           0.0001            3.72s"
       ]
      },
      {
       "output_type": "stream",
       "stream": "stdout",
       "text": [
        "\n",
        "      6000           0.2011           0.0000            2.98s"
       ]
      },
      {
       "output_type": "stream",
       "stream": "stdout",
       "text": [
        "\n",
        "      7000           1.7995           0.0001            2.22s"
       ]
      },
      {
       "output_type": "stream",
       "stream": "stdout",
       "text": [
        "\n",
        "      8000           0.5519           0.0000            1.47s"
       ]
      },
      {
       "output_type": "stream",
       "stream": "stdout",
       "text": [
        "\n",
        "      9000           0.3513           0.0000            0.74s"
       ]
      },
      {
       "output_type": "stream",
       "stream": "stdout",
       "text": [
        "\n",
        "     10000           3.5385           0.0000            0.00s"
       ]
      },
      {
       "output_type": "stream",
       "stream": "stdout",
       "text": [
        "\n",
        "[CV]  loss=ls, verbose=True, learning_rate=0.0001, n_estimators=10000, subsample=0.0316227766017, max_depth=6 -   7.5s"
       ]
      },
      {
       "output_type": "stream",
       "stream": "stdout",
       "text": [
        "\n",
        "[CV] loss=ls, verbose=True, learning_rate=0.0001, n_estimators=10000, subsample=0.0316227766017, max_depth=6 \n",
        "      Iter       Train Loss      OOB Improve   Remaining Time \n",
        "         1           1.8067           0.0001           43.86s\n",
        "         2           1.0255           0.0001           30.37s\n",
        "         3           0.4942           0.0000           23.04s\n",
        "         4           0.2725           0.0000           18.87s\n",
        "         5           0.7355           0.0000           16.22s\n",
        "         6           0.8425           0.0000           14.77s\n",
        "         7           0.2175           0.0000           14.00s\n",
        "         8           0.4848           0.0001           14.50s\n",
        "         9           0.2470           0.0000           14.29s\n",
        "        10           2.6352           0.0001           13.60s\n",
        "        20           0.1884           0.0000           11.37s"
       ]
      },
      {
       "output_type": "stream",
       "stream": "stdout",
       "text": [
        "\n",
        "        30           2.6672           0.0001            9.96s\n",
        "        40           1.7612           0.0001            9.51s\n",
        "        50           1.4239           0.0001           10.19s\n",
        "        60           1.5800           0.0001           10.23s\n",
        "        70           0.3452           0.0000            9.95s\n",
        "        80           0.9589           0.0001            9.48s"
       ]
      },
      {
       "output_type": "stream",
       "stream": "stdout",
       "text": [
        "\n",
        "        90           0.4555           0.0000            9.39s\n",
        "       100           0.2488           0.0000            9.18s\n",
        "       200           3.4285           0.0001            8.52s"
       ]
      },
      {
       "output_type": "stream",
       "stream": "stdout",
       "text": [
        "\n",
        "       300           0.4463           0.0000            8.95s"
       ]
      },
      {
       "output_type": "stream",
       "stream": "stdout",
       "text": [
        "\n",
        "       400           0.2628           0.0000            8.75s"
       ]
      },
      {
       "output_type": "stream",
       "stream": "stdout",
       "text": [
        "\n",
        "       500           0.1273           0.0000            8.99s"
       ]
      },
      {
       "output_type": "stream",
       "stream": "stdout",
       "text": [
        "\n",
        "       600           3.2159           0.0001            8.75s"
       ]
      },
      {
       "output_type": "stream",
       "stream": "stdout",
       "text": [
        "\n",
        "       700           0.4191           0.0001            8.53s"
       ]
      },
      {
       "output_type": "stream",
       "stream": "stdout",
       "text": [
        "\n",
        "       800           1.1554           0.0001            8.35s"
       ]
      },
      {
       "output_type": "stream",
       "stream": "stdout",
       "text": [
        "\n",
        "       900           0.8517           0.0001            8.36s"
       ]
      },
      {
       "output_type": "stream",
       "stream": "stdout",
       "text": [
        "\n",
        "      1000           0.2072           0.0000            8.16s"
       ]
      },
      {
       "output_type": "stream",
       "stream": "stdout",
       "text": [
        "\n",
        "      2000           0.5658           0.0001            7.56s"
       ]
      },
      {
       "output_type": "stream",
       "stream": "stdout",
       "text": [
        "\n",
        "      3000           0.5374           0.0000            6.06s"
       ]
      },
      {
       "output_type": "stream",
       "stream": "stdout",
       "text": [
        "\n",
        "      4000           0.1309          -0.0000            5.20s"
       ]
      },
      {
       "output_type": "stream",
       "stream": "stdout",
       "text": [
        "\n",
        "      5000           0.2292           0.0000            4.33s"
       ]
      },
      {
       "output_type": "stream",
       "stream": "stdout",
       "text": [
        "\n",
        "      6000           0.2273           0.0000            3.39s"
       ]
      },
      {
       "output_type": "stream",
       "stream": "stdout",
       "text": [
        "\n",
        "      7000           0.5468           0.0000            2.49s"
       ]
      },
      {
       "output_type": "stream",
       "stream": "stdout",
       "text": [
        "\n",
        "      8000           0.1091           0.0000            1.67s"
       ]
      },
      {
       "output_type": "stream",
       "stream": "stdout",
       "text": [
        "\n",
        "      9000           0.6218           0.0001            0.83s"
       ]
      },
      {
       "output_type": "stream",
       "stream": "stdout",
       "text": [
        "\n",
        "     10000           0.1006           0.0000            0.00s"
       ]
      },
      {
       "output_type": "stream",
       "stream": "stdout",
       "text": [
        "\n",
        "[CV]  loss=ls, verbose=True, learning_rate=0.0001, n_estimators=10000, subsample=0.0316227766017, max_depth=6 -   8.3s"
       ]
      },
      {
       "output_type": "stream",
       "stream": "stderr",
       "text": [
        "[Parallel(n_jobs=1)]: Done   1 jobs       | elapsed:    5.7s\n",
        "[Parallel(n_jobs=1)]: Done  12 out of  12 | elapsed:  1.3min finished\n"
       ]
      },
      {
       "output_type": "stream",
       "stream": "stdout",
       "text": [
        "\n",
        "      Iter       Train Loss      OOB Improve   Remaining Time \n",
        "         1           1.2888           0.0001           20.33s\n",
        "         2           0.7555           0.0001           14.11s\n",
        "         3           0.6839           0.0001           14.00s\n",
        "         4           0.4828           0.0000           14.55s\n",
        "         5           0.9179           0.0001           14.63s\n",
        "         6           0.9297           0.0001           15.22s\n",
        "         7           3.3572           0.0001           15.60s\n",
        "         8           3.0986           0.0001           17.04s\n",
        "         9           0.1149           0.0000           17.62s\n",
        "        10           0.4513           0.0001           18.08s\n",
        "        20           0.3803           0.0000           16.12s\n",
        "        30           0.4794           0.0001           15.17s"
       ]
      },
      {
       "output_type": "stream",
       "stream": "stdout",
       "text": [
        "\n",
        "        40           2.2374           0.0001           16.17s\n",
        "        50           0.1942           0.0000           15.17s\n",
        "        60           0.2596           0.0000           14.20s\n",
        "        70           0.2095           0.0000           13.24s\n",
        "        80           1.5519           0.0001           12.50s"
       ]
      },
      {
       "output_type": "stream",
       "stream": "stdout",
       "text": [
        "\n",
        "        90           0.3928           0.0000           12.83s\n",
        "       100           0.1907           0.0000           13.37s\n",
        "       200           0.1731           0.0000           12.98s"
       ]
      },
      {
       "output_type": "stream",
       "stream": "stdout",
       "text": [
        "\n",
        "       300           0.1355           0.0000           12.39s"
       ]
      },
      {
       "output_type": "stream",
       "stream": "stdout",
       "text": [
        "\n",
        "       400           0.8898           0.0002           11.63s"
       ]
      },
      {
       "output_type": "stream",
       "stream": "stdout",
       "text": [
        "\n",
        "       500           0.2113           0.0000           11.09s"
       ]
      },
      {
       "output_type": "stream",
       "stream": "stdout",
       "text": [
        "\n",
        "       600           2.1375           0.0001           10.60s"
       ]
      },
      {
       "output_type": "stream",
       "stream": "stdout",
       "text": [
        "\n",
        "       700           0.4356           0.0000           10.22s"
       ]
      },
      {
       "output_type": "stream",
       "stream": "stdout",
       "text": [
        "\n",
        "       800           0.4686           0.0000           10.18s"
       ]
      },
      {
       "output_type": "stream",
       "stream": "stdout",
       "text": [
        "\n",
        "       900           0.1533           0.0000           10.02s"
       ]
      },
      {
       "output_type": "stream",
       "stream": "stdout",
       "text": [
        "\n",
        "      1000           0.4608           0.0000            9.92s"
       ]
      },
      {
       "output_type": "stream",
       "stream": "stdout",
       "text": [
        "\n",
        "      2000           0.4862           0.0000            7.80s"
       ]
      },
      {
       "output_type": "stream",
       "stream": "stdout",
       "text": [
        "\n",
        "      3000           0.1177           0.0000            6.53s"
       ]
      },
      {
       "output_type": "stream",
       "stream": "stdout",
       "text": [
        "\n",
        "      4000           0.2345           0.0000            5.46s"
       ]
      },
      {
       "output_type": "stream",
       "stream": "stdout",
       "text": [
        "\n",
        "      5000           0.1465           0.0000            4.49s"
       ]
      },
      {
       "output_type": "stream",
       "stream": "stdout",
       "text": [
        "\n",
        "      6000           0.9983           0.0001            3.59s"
       ]
      },
      {
       "output_type": "stream",
       "stream": "stdout",
       "text": [
        "\n",
        "      7000           0.7087           0.0001            2.75s"
       ]
      },
      {
       "output_type": "stream",
       "stream": "stdout",
       "text": [
        "\n",
        "      8000           0.9803           0.0000            1.82s"
       ]
      },
      {
       "output_type": "stream",
       "stream": "stdout",
       "text": [
        "\n",
        "      9000           0.1035           0.0000            0.91s"
       ]
      },
      {
       "output_type": "stream",
       "stream": "stdout",
       "text": [
        "\n",
        "     10000           0.4156           0.0000            0.00s"
       ]
      },
      {
       "output_type": "stream",
       "stream": "stdout",
       "text": [
        "\n",
        "\n",
        "Ca:\n",
        "Loss: ls\n",
        "Verbose: True\n",
        "Learning_Rate: 0.0001\n",
        "N_Estimators: 10000\n",
        "Subsample: 0.0316227766017\n",
        "Max_Depth: 6\n",
        "Internal CV RMSE: 0.822935245723\n",
        "Internal CV SDev:0.153699682697\n",
        "Validation RMSE: 0.946179465333"
       ]
      },
      {
       "output_type": "stream",
       "stream": "stdout",
       "text": [
        "\n",
        "Time elapsed in main loop: 197.464309931\n",
        "On 4 parameter/scaling permutations.\n"
       ]
      }
     ],
     "prompt_number": 4
    }
   ],
   "metadata": {}
  }
 ]
}