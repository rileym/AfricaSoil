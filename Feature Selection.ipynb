{
 "metadata": {
  "name": "",
  "signature": "sha256:e03a446e58307f57617b9ae1bff65f13bf65864cf9991160efe0d0b1647abc65"
 },
 "nbformat": 3,
 "nbformat_minor": 0,
 "worksheets": [
  {
   "cells": [
    {
     "cell_type": "code",
     "collapsed": false,
     "input": [
      "import pandas as pd\n",
      "import numpy as np\n",
      "import sklearn.preprocessing as pp\n",
      "import sklearn.decomposition as decomp\n",
      "import sklearn.base as base\n",
      "import soilCleanTools as clean\n",
      "import soilTuningTools as tune\n",
      "import correlationGrouper as cg"
     ],
     "language": "python",
     "metadata": {},
     "outputs": [],
     "prompt_number": 1
    },
    {
     "cell_type": "code",
     "collapsed": false,
     "input": [
      "%matplotlib inline"
     ],
     "language": "python",
     "metadata": {},
     "outputs": [],
     "prompt_number": 2
    },
    {
     "cell_type": "code",
     "collapsed": false,
     "input": [
      "# Read in data\n",
      "train_df = pd.read_csv('./Data/training.csv', index_col='PIDN')\n",
      "test_df = pd.read_csv('./Data/sorted_test.csv', index_col='PIDN')\n",
      "\n",
      "# Clean and split for readability\n",
      "train_data_dict = clean.clean_data(train_df)\n",
      "test_data_dict = clean.clean_data(test_df)\n",
      "wave, spatial, targets = train_data_dict['wave'], train_data_dict['spatial'], train_data_dict['targets']\n",
      "wave_test, spatial_test = test_data_dict['wave'], test_data_dict['spatial']"
     ],
     "language": "python",
     "metadata": {},
     "outputs": [],
     "prompt_number": 3
    },
    {
     "cell_type": "code",
     "collapsed": false,
     "input": [
      "cgTrans = cg.CorrelationGrouper(alpha = .95)\n",
      "cgTrans.fit(wave, targets.P)\n",
      "cgTrans.get_num_groups()"
     ],
     "language": "python",
     "metadata": {},
     "outputs": [
      {
       "metadata": {},
       "output_type": "pyout",
       "prompt_number": 4,
       "text": [
        "50"
       ]
      }
     ],
     "prompt_number": 4
    },
    {
     "cell_type": "code",
     "collapsed": false,
     "input": [
      "cgTrans.get_num_groups()"
     ],
     "language": "python",
     "metadata": {},
     "outputs": [
      {
       "metadata": {},
       "output_type": "pyout",
       "prompt_number": 5,
       "text": [
        "50"
       ]
      }
     ],
     "prompt_number": 5
    },
    {
     "cell_type": "code",
     "collapsed": false,
     "input": [
      "cgTrans.get_keys()"
     ],
     "language": "python",
     "metadata": {},
     "outputs": [
      {
       "metadata": {},
       "output_type": "pyout",
       "prompt_number": 6,
       "text": [
        "Wave Numbers\n",
        "m7497.96        9\n",
        "m7496.04        9\n",
        "m7494.11        9\n",
        "m7492.18        9\n",
        "m7490.25        9\n",
        "m7488.32        9\n",
        "m7486.39        9\n",
        "m7484.46        9\n",
        "m7482.54        9\n",
        "m7480.61        9\n",
        "m7478.68        9\n",
        "m7476.75        9\n",
        "m7474.82        9\n",
        "m7472.89        9\n",
        "m7470.97        9\n",
        "...\n",
        "m626.759        3553\n",
        "m624.83         3553\n",
        "m622.902        3553\n",
        "m620.973        3553\n",
        "m619.045        3553\n",
        "m617.116        3553\n",
        "m615.188        3560\n",
        "m613.259        3560\n",
        "m611.331        3560\n",
        "m609.402        3560\n",
        "m607.474        3560\n",
        "m605.545        3560\n",
        "m603.617        3560\n",
        "m601.688        3560\n",
        "m599.76         3560\n",
        "Name: 0, Length: 3563, dtype: int64"
       ]
      }
     ],
     "prompt_number": 6
    },
    {
     "cell_type": "code",
     "collapsed": false,
     "input": [
      "cgTrans.transform(wave).iloc[0,:].plot(kind = 'bar')"
     ],
     "language": "python",
     "metadata": {},
     "outputs": [
      {
       "metadata": {},
       "output_type": "pyout",
       "prompt_number": 7,
       "text": [
        "<matplotlib.axes.AxesSubplot at 0x1038039d0>"
       ]
      },
      {
       "metadata": {},
       "output_type": "display_data",
       "png": "[encoded data removed]",
       "text": [
        "<matplotlib.figure.Figure at 0x103803dd0>"
       ]
      }
     ],
     "prompt_number": 7
    },
    {
     "cell_type": "code",
     "collapsed": false,
     "input": [
      "cgTrans.transform(wave_test).iloc[0,:].plot(kind = 'bar')"
     ],
     "language": "python",
     "metadata": {},
     "outputs": [
      {
       "metadata": {},
       "output_type": "pyout",
       "prompt_number": 8,
       "text": [
        "<matplotlib.axes.AxesSubplot at 0x109821190>"
       ]
      },
      {
       "metadata": {},
       "output_type": "display_data",
       "png": "[encoded data removed]",
       "text": [
        "<matplotlib.figure.Figure at 0x109821810>"
       ]
      }
     ],
     "prompt_number": 8
    }
   ],
   "metadata": {}
  }
 ]
}