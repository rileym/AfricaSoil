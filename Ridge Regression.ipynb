{
 "metadata": {
  "name": "",
  "signature": "sha256:db2a2efc9f1b820d8853284b859e207a189af93e580e1933066f8401e817b43f"
 },
 "nbformat": 3,
 "nbformat_minor": 0,
 "worksheets": [
  {
   "cells": [
    {
     "cell_type": "code",
     "collapsed": false,
     "input": [
      "import pandas as pd\n",
      "import numpy as np\n",
      "import matplotlib.pyplot as plt\n",
      "import sklearn.linear_model as lm\n",
      "import sklearn.metrics as metrics\n",
      "import sklearn.decomposition as decomp\n",
      "import sklearn.feature_selection as fs\n",
      "import sklearn.pipeline as pipe\n",
      "import sklearn.grid_search as gs\n",
      "import sklearn.cross_validation as cv\n",
      "import sklearn.preprocessing as pp\n",
      "import soilCleanTools as clean\n",
      "import soilTuningTools as tune\n",
      "import functools as functools\n",
      "import timeit\n",
      "import time"
     ],
     "language": "python",
     "metadata": {},
     "outputs": [],
     "prompt_number": 1
    },
    {
     "cell_type": "code",
     "collapsed": false,
     "input": [
      "##\n",
      "## Read in and perform basic transformations of the data\n",
      "##\n",
      "\n",
      "# Read in data\n",
      "train_df = pd.read_csv('./Data/training.csv', index_col='PIDN')\n",
      "test_df = pd.read_csv('./Data/sorted_test.csv', index_col='PIDN')\n",
      "\n",
      "# Clean and split for readability\n",
      "data_dict = clean.clean_data(train_df)\n",
      "data_test_dict = clean.clean_data(test_df)\n",
      "wave, spatial, targets = data_dict['wave'], data_dict['spatial'], data_dict['targets']\n",
      "wave_test, spatial_test = data_test_dict['wave'], data_test_dict['spatial']"
     ],
     "language": "python",
     "metadata": {},
     "outputs": [],
     "prompt_number": 2
    },
    {
     "cell_type": "heading",
     "level": 4,
     "metadata": {},
     "source": [
      "Tune combinations of: alpha, X scaling, y transformation"
     ]
    },
    {
     "cell_type": "heading",
     "level": 4,
     "metadata": {},
     "source": [
      "Automated tuning"
     ]
    },
    {
     "cell_type": "code",
     "collapsed": false,
     "input": [
      "sclrs = [#('75 Filter', pipe.Pipeline([('Corr Filter' , fs.SelectPercentile(score_func=fs.f_regression, percentile=75)),\\\n",
      "#                       ('Standardization', pp.StandardScaler())])),\n",
      "#          ('80 Filter', pipe.Pipeline([('Corr Filter' , fs.SelectPercentile(score_func=fs.f_regression, percentile=80)),\\\n",
      "#                       ('Standardization', pp.StandardScaler())])),\n",
      "#          ('85 Filter', pipe.Pipeline([('Corr Filter' , fs.SelectPercentile(score_func=fs.f_regression, percentile=85)),\\\n",
      "#                       ('Standardization', pp.StandardScaler())])),\n",
      "         ('90 Filter', pipe.Pipeline([('Corr Filter' , fs.SelectPercentile(score_func=fs.f_regression, percentile=90)),\\\n",
      "                      ('Standardization', pp.StandardScaler())])),\n",
      "         ('95 Filter', pipe.Pipeline([('Corr Filter' , fs.SelectPercentile(score_func=fs.f_regression, percentile=95)),\\\n",
      "                      ('Standardization', pp.StandardScaler())])),\n",
      "         ('No Filter', pp.StandardScaler())]\n",
      "\n",
      "\n",
      "# y_trans_func = np.arcsinh\n",
      "# y_inv_trans = np.sinh\n",
      "\n",
      "\n",
      "# offset = np.abs(min(targets.SOC)) + np.exp(-1)\n",
      "# y_trans_func = lambda y : np.log(offset + y)\n",
      "# y_inv_trans = lambda z : np.exp(z) - offset\n",
      "\n",
      "\n",
      "y_trans_func = y_inv_trans = lambda y : y\n",
      "\n",
      "X = pd.concat([wave, spatial], axis = 1)\n",
      "Y = y_trans_func(targets)\n",
      "\n",
      "\n",
      "k = 10\n",
      "n_alphas = 20\n",
      "alphas = np.linspace(.1,.7,n_alphas)   #np.logspace(-4, -2.2, n_alphas)\n",
      "clmns = pd.MultiIndex.from_product([Y.columns, alphas, [x[0] for x in sclrs]], names = ['Target', 'Alpha', 'Scale Type'])\n",
      "folds = cv.KFold(n = X.shape[0], n_folds = k, shuffle = True)\n",
      "cv_values = pd.DataFrame(index = range(k), columns = clmns)\n",
      "\n",
      "for (target_name, target) in Y[['Sand']].iteritems():\n",
      "    print(target_name + ':')\n",
      "    for (i, (train_idx, test_idx)) in enumerate(folds):\n",
      "        print('\\n....... Fold ' + str(i) + ' .......')\n",
      "        \n",
      "        y_train = target.iloc[train_idx]\n",
      "        y_test = target.iloc[test_idx]\n",
      "        print('Extremes of test set: ')# + str(np.sum(y_inv_trans(y_test) > 3)))      \n",
      "        print(np.sort(y_inv_trans(y_test))[-3:])\n",
      "        for (sclr_name, sclr) in sclrs:\n",
      "            \n",
      "            print('\\nScaler: ' + sclr_name)\n",
      "            X_train = sclr.fit_transform(X.iloc[train_idx,:], y_train)\n",
      "            X_test = sclr.transform(X.iloc[test_idx,:])\n",
      "            \n",
      "            for alpha in alphas:\n",
      "                print('\\tAlpha: ' + str(alpha))\n",
      "                rr_obj = lm.Ridge(alpha = alpha, fit_intercept=True)\n",
      "                rr_obj.fit(X_train, y_train)\n",
      "                y_pred = rr_obj.predict(X_test)\n",
      "                error = tune.trans_then_rmse(y_pred, y_test, y_inv_trans) #y values in transformed space, care about performace\n",
      "                                                                    #in original space.  \n",
      "            \n",
      "                cv_values.ix[i, (target_name, alpha, sclr_name)] = error\n",
      "                print('\\tRMSE: ' + str(error))\n",
      "\n",
      "        \n",
      "# print('Means:') \n",
      "# print(cv_values.mean(axis = 0))\n",
      "# print(np.sqrt((cv_values['P']**2).sum(axis = 0).div(k)))\n",
      "# # print(cv_values.mean(axis = 0))\n",
      "# print('STD:')\n",
      "# print(cv_values['P'].std(axis = 0))"
     ],
     "language": "python",
     "metadata": {},
     "outputs": [
      {
       "output_type": "stream",
       "stream": "stdout",
       "text": [
        "Sand:\n",
        "\n",
        "....... Fold 0 .......\n",
        "Extremes of test set: \n",
        "[ 1.88250716  2.06899913  2.25168515]\n",
        "\n",
        "Scaler: 90 Filter\n",
        "\tAlpha: 0.1"
       ]
      },
      {
       "output_type": "stream",
       "stream": "stdout",
       "text": [
        "\n",
        "\tRMSE: 0.31893112175"
       ]
      },
      {
       "output_type": "stream",
       "stream": "stdout",
       "text": [
        "\n",
        "\tAlpha: 0.131578947368\n",
        "\tRMSE: 0.319747132007"
       ]
      },
      {
       "output_type": "stream",
       "stream": "stdout",
       "text": [
        "\n",
        "\tAlpha: 0.163157894737\n",
        "\tRMSE: 0.320361995393"
       ]
      },
      {
       "output_type": "stream",
       "stream": "stdout",
       "text": [
        "\n",
        "\tAlpha: 0.194736842105\n",
        "\tRMSE: 0.320841136622"
       ]
      },
      {
       "output_type": "stream",
       "stream": "stdout",
       "text": [
        "\n",
        "\tAlpha: 0.226315789474\n",
        "\tRMSE: 0.321226565715"
       ]
      },
      {
       "output_type": "stream",
       "stream": "stdout",
       "text": [
        "\n",
        "\tAlpha: 0.257894736842\n",
        "\tRMSE: 0.321545636733"
       ]
      },
      {
       "output_type": "stream",
       "stream": "stdout",
       "text": [
        "\n",
        "\tAlpha: 0.289473684211\n",
        "\tRMSE: 0.321816642048"
       ]
      },
      {
       "output_type": "stream",
       "stream": "stdout",
       "text": [
        "\n",
        "\tAlpha: 0.321052631579\n",
        "\tRMSE: 0.322052135366"
       ]
      },
      {
       "output_type": "stream",
       "stream": "stdout",
       "text": [
        "\n",
        "\tAlpha: 0.352631578947\n",
        "\tRMSE: 0.322260931598"
       ]
      },
      {
       "output_type": "stream",
       "stream": "stdout",
       "text": [
        "\n",
        "\tAlpha: 0.384210526316\n",
        "\tRMSE: 0.322449344466"
       ]
      },
      {
       "output_type": "stream",
       "stream": "stdout",
       "text": [
        "\n",
        "\tAlpha: 0.415789473684\n",
        "\tRMSE: 0.322621974763"
       ]
      },
      {
       "output_type": "stream",
       "stream": "stdout",
       "text": [
        "\n",
        "\tAlpha: 0.447368421053\n",
        "\tRMSE: 0.322782225872"
       ]
      },
      {
       "output_type": "stream",
       "stream": "stdout",
       "text": [
        "\n",
        "\tAlpha: 0.478947368421\n",
        "\tRMSE: 0.322932648946"
       ]
      },
      {
       "output_type": "stream",
       "stream": "stdout",
       "text": [
        "\n",
        "\tAlpha: 0.510526315789\n",
        "\tRMSE: 0.32307517891"
       ]
      },
      {
       "output_type": "stream",
       "stream": "stdout",
       "text": [
        "\n",
        "\tAlpha: 0.542105263158\n",
        "\tRMSE: 0.323211298817"
       ]
      },
      {
       "output_type": "stream",
       "stream": "stdout",
       "text": [
        "\n",
        "\tAlpha: 0.573684210526\n",
        "\tRMSE: 0.323342156211"
       ]
      },
      {
       "output_type": "stream",
       "stream": "stdout",
       "text": [
        "\n",
        "\tAlpha: 0.605263157895\n",
        "\tRMSE: 0.323468646721"
       ]
      },
      {
       "output_type": "stream",
       "stream": "stdout",
       "text": [
        "\n",
        "\tAlpha: 0.636842105263\n",
        "\tRMSE: 0.323591474918"
       ]
      },
      {
       "output_type": "stream",
       "stream": "stdout",
       "text": [
        "\n",
        "\tAlpha: 0.668421052632\n",
        "\tRMSE: 0.323711199136"
       ]
      },
      {
       "output_type": "stream",
       "stream": "stdout",
       "text": [
        "\n",
        "\tAlpha: 0.7\n",
        "\tRMSE: 0.323828264863"
       ]
      },
      {
       "output_type": "stream",
       "stream": "stdout",
       "text": [
        "\n",
        "\n",
        "Scaler: 95 Filter\n",
        "\tAlpha: 0.1"
       ]
      },
      {
       "output_type": "stream",
       "stream": "stdout",
       "text": [
        "\n",
        "\tRMSE: 0.318269477999"
       ]
      },
      {
       "output_type": "stream",
       "stream": "stdout",
       "text": [
        "\n",
        "\tAlpha: 0.131578947368\n",
        "\tRMSE: 0.319221267248"
       ]
      },
      {
       "output_type": "stream",
       "stream": "stdout",
       "text": [
        "\n",
        "\tAlpha: 0.163157894737\n",
        "\tRMSE: 0.319915089592"
       ]
      },
      {
       "output_type": "stream",
       "stream": "stdout",
       "text": [
        "\n",
        "\tAlpha: 0.194736842105\n",
        "\tRMSE: 0.320438881022"
       ]
      },
      {
       "output_type": "stream",
       "stream": "stdout",
       "text": [
        "\n",
        "\tAlpha: 0.226315789474\n",
        "\tRMSE: 0.320847550035"
       ]
      },
      {
       "output_type": "stream",
       "stream": "stdout",
       "text": [
        "\n",
        "\tAlpha: 0.257894736842\n",
        "\tRMSE: 0.321175955441"
       ]
      },
      {
       "output_type": "stream",
       "stream": "stdout",
       "text": [
        "\n",
        "\tAlpha: 0.289473684211\n",
        "\tRMSE: 0.321446948778"
       ]
      },
      {
       "output_type": "stream",
       "stream": "stdout",
       "text": [
        "\n",
        "\tAlpha: 0.321052631579\n",
        "\tRMSE: 0.321675985106"
       ]
      },
      {
       "output_type": "stream",
       "stream": "stdout",
       "text": [
        "\n",
        "\tAlpha: 0.352631578947\n",
        "\tRMSE: 0.321873805532"
       ]
      },
      {
       "output_type": "stream",
       "stream": "stdout",
       "text": [
        "\n",
        "\tAlpha: 0.384210526316\n",
        "\tRMSE: 0.322048049271"
       ]
      },
      {
       "output_type": "stream",
       "stream": "stdout",
       "text": [
        "\n",
        "\tAlpha: 0.415789473684\n",
        "\tRMSE: 0.322204256005"
       ]
      },
      {
       "output_type": "stream",
       "stream": "stdout",
       "text": [
        "\n",
        "\tAlpha: 0.447368421053\n",
        "\tRMSE: 0.322346509215"
       ]
      },
      {
       "output_type": "stream",
       "stream": "stdout",
       "text": [
        "\n",
        "\tAlpha: 0.478947368421\n",
        "\tRMSE: 0.322477860936"
       ]
      },
      {
       "output_type": "stream",
       "stream": "stdout",
       "text": [
        "\n",
        "\tAlpha: 0.510526315789\n",
        "\tRMSE: 0.322600619251"
       ]
      },
      {
       "output_type": "stream",
       "stream": "stdout",
       "text": [
        "\n",
        "\tAlpha: 0.542105263158\n",
        "\tRMSE: 0.322716547178"
       ]
      },
      {
       "output_type": "stream",
       "stream": "stdout",
       "text": [
        "\n",
        "\tAlpha: 0.573684210526\n",
        "\tRMSE: 0.32282700292"
       ]
      },
      {
       "output_type": "stream",
       "stream": "stdout",
       "text": [
        "\n",
        "\tAlpha: 0.605263157895\n",
        "\tRMSE: 0.322933040449"
       ]
      },
      {
       "output_type": "stream",
       "stream": "stdout",
       "text": [
        "\n",
        "\tAlpha: 0.636842105263\n",
        "\tRMSE: 0.32303548271"
       ]
      },
      {
       "output_type": "stream",
       "stream": "stdout",
       "text": [
        "\n",
        "\tAlpha: 0.668421052632\n",
        "\tRMSE: 0.323134975619"
       ]
      },
      {
       "output_type": "stream",
       "stream": "stdout",
       "text": [
        "\n",
        "\tAlpha: 0.7\n",
        "\tRMSE: 0.323232028352"
       ]
      },
      {
       "output_type": "stream",
       "stream": "stdout",
       "text": [
        "\n",
        "\n",
        "Scaler: No Filter\n",
        "\tAlpha: 0.1"
       ]
      },
      {
       "output_type": "stream",
       "stream": "stdout",
       "text": [
        "\n",
        "\tRMSE: 0.318158340297"
       ]
      },
      {
       "output_type": "stream",
       "stream": "stdout",
       "text": [
        "\n",
        "\tAlpha: 0.131578947368\n",
        "\tRMSE: 0.318642624118"
       ]
      },
      {
       "output_type": "stream",
       "stream": "stdout",
       "text": [
        "\n",
        "\tAlpha: 0.163157894737\n",
        "\tRMSE: 0.319012416414"
       ]
      },
      {
       "output_type": "stream",
       "stream": "stdout",
       "text": [
        "\n",
        "\tAlpha: 0.194736842105\n",
        "\tRMSE: 0.319290614388"
       ]
      },
      {
       "output_type": "stream",
       "stream": "stdout",
       "text": [
        "\n",
        "\tAlpha: 0.226315789474\n",
        "\tRMSE: 0.319499244695"
       ]
      },
      {
       "output_type": "stream",
       "stream": "stdout",
       "text": [
        "\n",
        "\tAlpha: 0.257894736842\n",
        "\tRMSE: 0.319655290535"
       ]
      },
      {
       "output_type": "stream",
       "stream": "stdout",
       "text": [
        "\n",
        "\tAlpha: 0.289473684211\n",
        "\tRMSE: 0.319771349085"
       ]
      },
      {
       "output_type": "stream",
       "stream": "stdout",
       "text": [
        "\n",
        "\tAlpha: 0.321052631579\n",
        "\tRMSE: 0.319856749421"
       ]
      },
      {
       "output_type": "stream",
       "stream": "stdout",
       "text": [
        "\n",
        "\tAlpha: 0.352631578947\n",
        "\tRMSE: 0.319918458252"
       ]
      },
      {
       "output_type": "stream",
       "stream": "stdout",
       "text": [
        "\n",
        "\tAlpha: 0.384210526316\n",
        "\tRMSE: 0.319961734317"
       ]
      },
      {
       "output_type": "stream",
       "stream": "stdout",
       "text": [
        "\n",
        "\tAlpha: 0.415789473684\n",
        "\tRMSE: 0.319990589841"
       ]
      },
      {
       "output_type": "stream",
       "stream": "stdout",
       "text": [
        "\n",
        "\tAlpha: 0.447368421053\n",
        "\tRMSE: 0.320008116409"
       ]
      },
      {
       "output_type": "stream",
       "stream": "stdout",
       "text": [
        "\n",
        "\tAlpha: 0.478947368421\n",
        "\tRMSE: 0.320016717361"
       ]
      },
      {
       "output_type": "stream",
       "stream": "stdout",
       "text": [
        "\n",
        "\tAlpha: 0.510526315789\n",
        "\tRMSE: 0.320018275611"
       ]
      },
      {
       "output_type": "stream",
       "stream": "stdout",
       "text": [
        "\n",
        "\tAlpha: 0.542105263158\n",
        "\tRMSE: 0.320014276392"
       ]
      },
      {
       "output_type": "stream",
       "stream": "stdout",
       "text": [
        "\n",
        "\tAlpha: 0.573684210526\n",
        "\tRMSE: 0.320005898154"
       ]
      },
      {
       "output_type": "stream",
       "stream": "stdout",
       "text": [
        "\n",
        "\tAlpha: 0.605263157895\n",
        "\tRMSE: 0.319994080658"
       ]
      },
      {
       "output_type": "stream",
       "stream": "stdout",
       "text": [
        "\n",
        "\tAlpha: 0.636842105263\n",
        "\tRMSE: 0.319979576524"
       ]
      },
      {
       "output_type": "stream",
       "stream": "stdout",
       "text": [
        "\n",
        "\tAlpha: 0.668421052632\n",
        "\tRMSE: 0.319962990628"
       ]
      },
      {
       "output_type": "stream",
       "stream": "stdout",
       "text": [
        "\n",
        "\tAlpha: 0.7\n",
        "\tRMSE: 0.319944810496"
       ]
      },
      {
       "output_type": "stream",
       "stream": "stdout",
       "text": [
        "\n",
        "\n",
        "....... Fold 1 .......\n",
        "Extremes of test set: \n",
        "[ 1.9434025   2.00049188  2.03474551]\n",
        "\n",
        "Scaler: 90 Filter\n",
        "\tAlpha: 0.1"
       ]
      },
      {
       "output_type": "stream",
       "stream": "stdout",
       "text": [
        "\n",
        "\tRMSE: 0.294382410357"
       ]
      },
      {
       "output_type": "stream",
       "stream": "stdout",
       "text": [
        "\n",
        "\tAlpha: 0.131578947368\n",
        "\tRMSE: 0.292371190142"
       ]
      },
      {
       "output_type": "stream",
       "stream": "stdout",
       "text": [
        "\n",
        "\tAlpha: 0.163157894737\n",
        "\tRMSE: 0.290969619715"
       ]
      },
      {
       "output_type": "stream",
       "stream": "stdout",
       "text": [
        "\n",
        "\tAlpha: 0.194736842105\n",
        "\tRMSE: 0.289933258599"
       ]
      },
      {
       "output_type": "stream",
       "stream": "stdout",
       "text": [
        "\n",
        "\tAlpha: 0.226315789474\n",
        "\tRMSE: 0.289136504928"
       ]
      },
      {
       "output_type": "stream",
       "stream": "stdout",
       "text": [
        "\n",
        "\tAlpha: 0.257894736842\n",
        "\tRMSE: 0.28850751887"
       ]
      },
      {
       "output_type": "stream",
       "stream": "stdout",
       "text": [
        "\n",
        "\tAlpha: 0.289473684211\n",
        "\tRMSE: 0.288001883208"
       ]
      },
      {
       "output_type": "stream",
       "stream": "stdout",
       "text": [
        "\n",
        "\tAlpha: 0.321052631579\n",
        "\tRMSE: 0.28759043729"
       ]
      },
      {
       "output_type": "stream",
       "stream": "stdout",
       "text": [
        "\n",
        "\tAlpha: 0.352631578947\n",
        "\tRMSE: 0.287253096959"
       ]
      },
      {
       "output_type": "stream",
       "stream": "stdout",
       "text": [
        "\n",
        "\tAlpha: 0.384210526316\n",
        "\tRMSE: 0.286975477102"
       ]
      },
      {
       "output_type": "stream",
       "stream": "stdout",
       "text": [
        "\n",
        "\tAlpha: 0.415789473684\n",
        "\tRMSE: 0.286746934214"
       ]
      },
      {
       "output_type": "stream",
       "stream": "stdout",
       "text": [
        "\n",
        "\tAlpha: 0.447368421053\n",
        "\tRMSE: 0.286559375415"
       ]
      },
      {
       "output_type": "stream",
       "stream": "stdout",
       "text": [
        "\n",
        "\tAlpha: 0.478947368421\n",
        "\tRMSE: 0.286406503397"
       ]
      },
      {
       "output_type": "stream",
       "stream": "stdout",
       "text": [
        "\n",
        "\tAlpha: 0.510526315789\n",
        "\tRMSE: 0.286283320458"
       ]
      },
      {
       "output_type": "stream",
       "stream": "stdout",
       "text": [
        "\n",
        "\tAlpha: 0.542105263158\n",
        "\tRMSE: 0.286185792545"
       ]
      },
      {
       "output_type": "stream",
       "stream": "stdout",
       "text": [
        "\n",
        "\tAlpha: 0.573684210526\n",
        "\tRMSE: 0.286110615414"
       ]
      },
      {
       "output_type": "stream",
       "stream": "stdout",
       "text": [
        "\n",
        "\tAlpha: 0.605263157895\n",
        "\tRMSE: 0.286055047913"
       ]
      },
      {
       "output_type": "stream",
       "stream": "stdout",
       "text": [
        "\n",
        "\tAlpha: 0.636842105263\n",
        "\tRMSE: 0.286016790559"
       ]
      },
      {
       "output_type": "stream",
       "stream": "stdout",
       "text": [
        "\n",
        "\tAlpha: 0.668421052632\n",
        "\tRMSE: 0.285993895387"
       ]
      },
      {
       "output_type": "stream",
       "stream": "stdout",
       "text": [
        "\n",
        "\tAlpha: 0.7\n",
        "\tRMSE: 0.285984697852"
       ]
      },
      {
       "output_type": "stream",
       "stream": "stdout",
       "text": [
        "\n",
        "\n",
        "Scaler: 95 Filter\n",
        "\tAlpha: 0.1"
       ]
      },
      {
       "output_type": "stream",
       "stream": "stdout",
       "text": [
        "\n",
        "\tRMSE: 0.291032257071"
       ]
      },
      {
       "output_type": "stream",
       "stream": "stdout",
       "text": [
        "\n",
        "\tAlpha: 0.131578947368\n",
        "\tRMSE: 0.289250381848"
       ]
      },
      {
       "output_type": "stream",
       "stream": "stdout",
       "text": [
        "\n",
        "\tAlpha: 0.163157894737\n",
        "\tRMSE: 0.288149226404"
       ]
      },
      {
       "output_type": "stream",
       "stream": "stdout",
       "text": [
        "\n",
        "\tAlpha: 0.194736842105\n",
        "\tRMSE: 0.287430097042"
       ]
      },
      {
       "output_type": "stream",
       "stream": "stdout",
       "text": [
        "\n",
        "\tAlpha: 0.226315789474\n",
        "\tRMSE: 0.286942664821"
       ]
      },
      {
       "output_type": "stream",
       "stream": "stdout",
       "text": [
        "\n",
        "\tAlpha: 0.257894736842\n",
        "\tRMSE: 0.286604011874"
       ]
      },
      {
       "output_type": "stream",
       "stream": "stdout",
       "text": [
        "\n",
        "\tAlpha: 0.289473684211\n",
        "\tRMSE: 0.286365248929"
       ]
      },
      {
       "output_type": "stream",
       "stream": "stdout",
       "text": [
        "\n",
        "\tAlpha: 0.321052631579\n",
        "\tRMSE: 0.286196033465"
       ]
      },
      {
       "output_type": "stream",
       "stream": "stdout",
       "text": [
        "\n",
        "\tAlpha: 0.352631578947\n",
        "\tRMSE: 0.286076743914"
       ]
      },
      {
       "output_type": "stream",
       "stream": "stdout",
       "text": [
        "\n",
        "\tAlpha: 0.384210526316\n",
        "\tRMSE: 0.285994252963"
       ]
      },
      {
       "output_type": "stream",
       "stream": "stdout",
       "text": [
        "\n",
        "\tAlpha: 0.415789473684\n",
        "\tRMSE: 0.28593952111"
       ]
      },
      {
       "output_type": "stream",
       "stream": "stdout",
       "text": [
        "\n",
        "\tAlpha: 0.447368421053\n",
        "\tRMSE: 0.285906166103"
       ]
      },
      {
       "output_type": "stream",
       "stream": "stdout",
       "text": [
        "\n",
        "\tAlpha: 0.478947368421\n",
        "\tRMSE: 0.285889581315"
       ]
      },
      {
       "output_type": "stream",
       "stream": "stdout",
       "text": [
        "\n",
        "\tAlpha: 0.510526315789\n",
        "\tRMSE: 0.285886375418"
       ]
      },
      {
       "output_type": "stream",
       "stream": "stdout",
       "text": [
        "\n",
        "\tAlpha: 0.542105263158\n",
        "\tRMSE: 0.285894006701"
       ]
      },
      {
       "output_type": "stream",
       "stream": "stdout",
       "text": [
        "\n",
        "\tAlpha: 0.573684210526\n",
        "\tRMSE: 0.285910538756"
       ]
      },
      {
       "output_type": "stream",
       "stream": "stdout",
       "text": [
        "\n",
        "\tAlpha: 0.605263157895\n",
        "\tRMSE: 0.285934473886"
       ]
      },
      {
       "output_type": "stream",
       "stream": "stdout",
       "text": [
        "\n",
        "\tAlpha: 0.636842105263\n",
        "\tRMSE: 0.285964637346"
       ]
      },
      {
       "output_type": "stream",
       "stream": "stdout",
       "text": [
        "\n",
        "\tAlpha: 0.668421052632\n",
        "\tRMSE: 0.286000095585"
       ]
      },
      {
       "output_type": "stream",
       "stream": "stdout",
       "text": [
        "\n",
        "\tAlpha: 0.7\n",
        "\tRMSE: 0.286040097586"
       ]
      },
      {
       "output_type": "stream",
       "stream": "stdout",
       "text": [
        "\n",
        "\n",
        "Scaler: No Filter\n",
        "\tAlpha: 0.1"
       ]
      },
      {
       "output_type": "stream",
       "stream": "stdout",
       "text": [
        "\n",
        "\tRMSE: 0.299911394327"
       ]
      },
      {
       "output_type": "stream",
       "stream": "stdout",
       "text": [
        "\n",
        "\tAlpha: 0.131578947368\n",
        "\tRMSE: 0.298680732214"
       ]
      },
      {
       "output_type": "stream",
       "stream": "stdout",
       "text": [
        "\n",
        "\tAlpha: 0.163157894737\n",
        "\tRMSE: 0.297889169655"
       ]
      },
      {
       "output_type": "stream",
       "stream": "stdout",
       "text": [
        "\n",
        "\tAlpha: 0.194736842105\n",
        "\tRMSE: 0.297357316454"
       ]
      },
      {
       "output_type": "stream",
       "stream": "stdout",
       "text": [
        "\n",
        "\tAlpha: 0.226315789474\n",
        "\tRMSE: 0.29699054807"
       ]
      },
      {
       "output_type": "stream",
       "stream": "stdout",
       "text": [
        "\n",
        "\tAlpha: 0.257894736842\n",
        "\tRMSE: 0.296734227844"
       ]
      },
      {
       "output_type": "stream",
       "stream": "stdout",
       "text": [
        "\n",
        "\tAlpha: 0.289473684211\n",
        "\tRMSE: 0.296554715101"
       ]
      },
      {
       "output_type": "stream",
       "stream": "stdout",
       "text": [
        "\n",
        "\tAlpha: 0.321052631579\n",
        "\tRMSE: 0.296430265711"
       ]
      },
      {
       "output_type": "stream",
       "stream": "stdout",
       "text": [
        "\n",
        "\tAlpha: 0.352631578947\n",
        "\tRMSE: 0.296346275295"
       ]
      },
      {
       "output_type": "stream",
       "stream": "stdout",
       "text": [
        "\n",
        "\tAlpha: 0.384210526316\n",
        "\tRMSE: 0.296292623021"
       ]
      },
      {
       "output_type": "stream",
       "stream": "stdout",
       "text": [
        "\n",
        "\tAlpha: 0.415789473684\n",
        "\tRMSE: 0.296262109258"
       ]
      },
      {
       "output_type": "stream",
       "stream": "stdout",
       "text": [
        "\n",
        "\tAlpha: 0.447368421053\n",
        "\tRMSE: 0.296249497051"
       ]
      },
      {
       "output_type": "stream",
       "stream": "stdout",
       "text": [
        "\n",
        "\tAlpha: 0.478947368421\n",
        "\tRMSE: 0.296250903036"
       ]
      },
      {
       "output_type": "stream",
       "stream": "stdout",
       "text": [
        "\n",
        "\tAlpha: 0.510526315789\n",
        "\tRMSE: 0.296263398703"
       ]
      },
      {
       "output_type": "stream",
       "stream": "stdout",
       "text": [
        "\n",
        "\tAlpha: 0.542105263158\n",
        "\tRMSE: 0.296284742608"
       ]
      },
      {
       "output_type": "stream",
       "stream": "stdout",
       "text": [
        "\n",
        "\tAlpha: 0.573684210526\n",
        "\tRMSE: 0.296313196411"
       ]
      },
      {
       "output_type": "stream",
       "stream": "stdout",
       "text": [
        "\n",
        "\tAlpha: 0.605263157895\n",
        "\tRMSE: 0.296347396008"
       ]
      },
      {
       "output_type": "stream",
       "stream": "stdout",
       "text": [
        "\n",
        "\tAlpha: 0.636842105263\n",
        "\tRMSE: 0.296386259616"
       ]
      },
      {
       "output_type": "stream",
       "stream": "stdout",
       "text": [
        "\n",
        "\tAlpha: 0.668421052632\n",
        "\tRMSE: 0.296428921176"
       ]
      },
      {
       "output_type": "stream",
       "stream": "stdout",
       "text": [
        "\n",
        "\tAlpha: 0.7\n",
        "\tRMSE: 0.2964746814"
       ]
      },
      {
       "output_type": "stream",
       "stream": "stdout",
       "text": [
        "\n",
        "\n",
        "....... Fold 2 .......\n",
        "Extremes of test set: \n",
        "[ 2.07661105  2.11086468  2.1184766 ]\n",
        "\n",
        "Scaler: 90 Filter\n",
        "\tAlpha: 0.1"
       ]
      },
      {
       "output_type": "stream",
       "stream": "stdout",
       "text": [
        "\n",
        "\tRMSE: 0.343022368368"
       ]
      },
      {
       "output_type": "stream",
       "stream": "stdout",
       "text": [
        "\n",
        "\tAlpha: 0.131578947368\n",
        "\tRMSE: 0.341755402393"
       ]
      },
      {
       "output_type": "stream",
       "stream": "stdout",
       "text": [
        "\n",
        "\tAlpha: 0.163157894737\n",
        "\tRMSE: 0.340395493831"
       ]
      },
      {
       "output_type": "stream",
       "stream": "stdout",
       "text": [
        "\n",
        "\tAlpha: 0.194736842105\n",
        "\tRMSE: 0.33908367764"
       ]
      },
      {
       "output_type": "stream",
       "stream": "stdout",
       "text": [
        "\n",
        "\tAlpha: 0.226315789474\n",
        "\tRMSE: 0.33787478047"
       ]
      },
      {
       "output_type": "stream",
       "stream": "stdout",
       "text": [
        "\n",
        "\tAlpha: 0.257894736842\n",
        "\tRMSE: 0.336785672187"
       ]
      },
      {
       "output_type": "stream",
       "stream": "stdout",
       "text": [
        "\n",
        "\tAlpha: 0.289473684211\n",
        "\tRMSE: 0.335816279724"
       ]
      },
      {
       "output_type": "stream",
       "stream": "stdout",
       "text": [
        "\n",
        "\tAlpha: 0.321052631579\n",
        "\tRMSE: 0.334959225235"
       ]
      },
      {
       "output_type": "stream",
       "stream": "stdout",
       "text": [
        "\n",
        "\tAlpha: 0.352631578947\n",
        "\tRMSE: 0.334204378997"
       ]
      },
      {
       "output_type": "stream",
       "stream": "stdout",
       "text": [
        "\n",
        "\tAlpha: 0.384210526316\n",
        "\tRMSE: 0.333541022982"
       ]
      },
      {
       "output_type": "stream",
       "stream": "stdout",
       "text": [
        "\n",
        "\tAlpha: 0.415789473684\n",
        "\tRMSE: 0.332958853015"
       ]
      },
      {
       "output_type": "stream",
       "stream": "stdout",
       "text": [
        "\n",
        "\tAlpha: 0.447368421053\n",
        "\tRMSE: 0.332448405396"
       ]
      },
      {
       "output_type": "stream",
       "stream": "stdout",
       "text": [
        "\n",
        "\tAlpha: 0.478947368421\n",
        "\tRMSE: 0.332001197504"
       ]
      },
      {
       "output_type": "stream",
       "stream": "stdout",
       "text": [
        "\n",
        "\tAlpha: 0.510526315789\n",
        "\tRMSE: 0.331609728759"
       ]
      },
      {
       "output_type": "stream",
       "stream": "stdout",
       "text": [
        "\n",
        "\tAlpha: 0.542105263158\n",
        "\tRMSE: 0.331267417169"
       ]
      },
      {
       "output_type": "stream",
       "stream": "stdout",
       "text": [
        "\n",
        "\tAlpha: 0.573684210526\n",
        "\tRMSE: 0.33096851011"
       ]
      },
      {
       "output_type": "stream",
       "stream": "stdout",
       "text": [
        "\n",
        "\tAlpha: 0.605263157895\n",
        "\tRMSE: 0.330707988997"
       ]
      },
      {
       "output_type": "stream",
       "stream": "stdout",
       "text": [
        "\n",
        "\tAlpha: 0.636842105263\n",
        "\tRMSE: 0.33048147737"
       ]
      },
      {
       "output_type": "stream",
       "stream": "stdout",
       "text": [
        "\n",
        "\tAlpha: 0.668421052632\n",
        "\tRMSE: 0.330285156755"
       ]
      },
      {
       "output_type": "stream",
       "stream": "stdout",
       "text": [
        "\n",
        "\tAlpha: 0.7\n",
        "\tRMSE: 0.330115691725"
       ]
      },
      {
       "output_type": "stream",
       "stream": "stdout",
       "text": [
        "\n",
        "\n",
        "Scaler: 95 Filter\n",
        "\tAlpha: 0.1"
       ]
      },
      {
       "output_type": "stream",
       "stream": "stdout",
       "text": [
        "\n",
        "\tRMSE: 0.328990180033"
       ]
      },
      {
       "output_type": "stream",
       "stream": "stdout",
       "text": [
        "\n",
        "\tAlpha: 0.131578947368\n",
        "\tRMSE: 0.328112478207"
       ]
      },
      {
       "output_type": "stream",
       "stream": "stdout",
       "text": [
        "\n",
        "\tAlpha: 0.163157894737\n",
        "\tRMSE: 0.327118337684"
       ]
      },
      {
       "output_type": "stream",
       "stream": "stdout",
       "text": [
        "\n",
        "\tAlpha: 0.194736842105\n",
        "\tRMSE: 0.3261300068"
       ]
      },
      {
       "output_type": "stream",
       "stream": "stdout",
       "text": [
        "\n",
        "\tAlpha: 0.226315789474\n",
        "\tRMSE: 0.325201962511"
       ]
      },
      {
       "output_type": "stream",
       "stream": "stdout",
       "text": [
        "\n",
        "\tAlpha: 0.257894736842\n",
        "\tRMSE: 0.324355051272"
       ]
      },
      {
       "output_type": "stream",
       "stream": "stdout",
       "text": [
        "\n",
        "\tAlpha: 0.289473684211\n",
        "\tRMSE: 0.323594016196"
       ]
      },
      {
       "output_type": "stream",
       "stream": "stdout",
       "text": [
        "\n",
        "\tAlpha: 0.321052631579\n",
        "\tRMSE: 0.322916130521"
       ]
      },
      {
       "output_type": "stream",
       "stream": "stdout",
       "text": [
        "\n",
        "\tAlpha: 0.352631578947\n",
        "\tRMSE: 0.322315450421"
       ]
      },
      {
       "output_type": "stream",
       "stream": "stdout",
       "text": [
        "\n",
        "\tAlpha: 0.384210526316\n",
        "\tRMSE: 0.321784911871"
       ]
      },
      {
       "output_type": "stream",
       "stream": "stdout",
       "text": [
        "\n",
        "\tAlpha: 0.415789473684\n",
        "\tRMSE: 0.321317351016"
       ]
      },
      {
       "output_type": "stream",
       "stream": "stdout",
       "text": [
        "\n",
        "\tAlpha: 0.447368421053\n",
        "\tRMSE: 0.320905979667"
       ]
      },
      {
       "output_type": "stream",
       "stream": "stdout",
       "text": [
        "\n",
        "\tAlpha: 0.478947368421\n",
        "\tRMSE: 0.320544583356"
       ]
      },
      {
       "output_type": "stream",
       "stream": "stdout",
       "text": [
        "\n",
        "\tAlpha: 0.510526315789\n",
        "\tRMSE: 0.320227578963"
       ]
      },
      {
       "output_type": "stream",
       "stream": "stdout",
       "text": [
        "\n",
        "\tAlpha: 0.542105263158\n",
        "\tRMSE: 0.319950003243"
       ]
      },
      {
       "output_type": "stream",
       "stream": "stdout",
       "text": [
        "\n",
        "\tAlpha: 0.573684210526\n",
        "\tRMSE: 0.319707469461"
       ]
      },
      {
       "output_type": "stream",
       "stream": "stdout",
       "text": [
        "\n",
        "\tAlpha: 0.605263157895\n",
        "\tRMSE: 0.319496111699"
       ]
      },
      {
       "output_type": "stream",
       "stream": "stdout",
       "text": [
        "\n",
        "\tAlpha: 0.636842105263\n",
        "\tRMSE: 0.319312526763"
       ]
      },
      {
       "output_type": "stream",
       "stream": "stdout",
       "text": [
        "\n",
        "\tAlpha: 0.668421052632\n",
        "\tRMSE: 0.319153718605"
       ]
      },
      {
       "output_type": "stream",
       "stream": "stdout",
       "text": [
        "\n",
        "\tAlpha: 0.7\n",
        "\tRMSE: 0.319017047502"
       ]
      },
      {
       "output_type": "stream",
       "stream": "stdout",
       "text": [
        "\n",
        "\n",
        "Scaler: No Filter\n",
        "\tAlpha: 0.1"
       ]
      },
      {
       "output_type": "stream",
       "stream": "stdout",
       "text": [
        "\n",
        "\tRMSE: 0.309090445529"
       ]
      },
      {
       "output_type": "stream",
       "stream": "stdout",
       "text": [
        "\n",
        "\tAlpha: 0.131578947368\n",
        "\tRMSE: 0.308068930262"
       ]
      },
      {
       "output_type": "stream",
       "stream": "stdout",
       "text": [
        "\n",
        "\tAlpha: 0.163157894737\n",
        "\tRMSE: 0.307274271424"
       ]
      },
      {
       "output_type": "stream",
       "stream": "stdout",
       "text": [
        "\n",
        "\tAlpha: 0.194736842105\n",
        "\tRMSE: 0.306655655445"
       ]
      },
      {
       "output_type": "stream",
       "stream": "stdout",
       "text": [
        "\n",
        "\tAlpha: 0.226315789474\n",
        "\tRMSE: 0.306173916644"
       ]
      },
      {
       "output_type": "stream",
       "stream": "stdout",
       "text": [
        "\n",
        "\tAlpha: 0.257894736842\n",
        "\tRMSE: 0.305799122758"
       ]
      },
      {
       "output_type": "stream",
       "stream": "stdout",
       "text": [
        "\n",
        "\tAlpha: 0.289473684211\n",
        "\tRMSE: 0.305508498408"
       ]
      },
      {
       "output_type": "stream",
       "stream": "stdout",
       "text": [
        "\n",
        "\tAlpha: 0.321052631579\n",
        "\tRMSE: 0.305284665086"
       ]
      },
      {
       "output_type": "stream",
       "stream": "stdout",
       "text": [
        "\n",
        "\tAlpha: 0.352631578947\n",
        "\tRMSE: 0.305114271512"
       ]
      },
      {
       "output_type": "stream",
       "stream": "stdout",
       "text": [
        "\n",
        "\tAlpha: 0.384210526316\n",
        "\tRMSE: 0.304986971464"
       ]
      },
      {
       "output_type": "stream",
       "stream": "stdout",
       "text": [
        "\n",
        "\tAlpha: 0.415789473684\n",
        "\tRMSE: 0.304894673005"
       ]
      },
      {
       "output_type": "stream",
       "stream": "stdout",
       "text": [
        "\n",
        "\tAlpha: 0.447368421053\n",
        "\tRMSE: 0.304830988755"
       ]
      },
      {
       "output_type": "stream",
       "stream": "stdout",
       "text": [
        "\n",
        "\tAlpha: 0.478947368421\n",
        "\tRMSE: 0.304790831885"
       ]
      },
      {
       "output_type": "stream",
       "stream": "stdout",
       "text": [
        "\n",
        "\tAlpha: 0.510526315789\n",
        "\tRMSE: 0.304770117159"
       ]
      },
      {
       "output_type": "stream",
       "stream": "stdout",
       "text": [
        "\n",
        "\tAlpha: 0.542105263158\n",
        "\tRMSE: 0.304765537891"
       ]
      },
      {
       "output_type": "stream",
       "stream": "stdout",
       "text": [
        "\n",
        "\tAlpha: 0.573684210526\n",
        "\tRMSE: 0.304774397982"
       ]
      },
      {
       "output_type": "stream",
       "stream": "stdout",
       "text": [
        "\n",
        "\tAlpha: 0.605263157895\n",
        "\tRMSE: 0.304794484298"
       ]
      },
      {
       "output_type": "stream",
       "stream": "stdout",
       "text": [
        "\n",
        "\tAlpha: 0.636842105263\n",
        "\tRMSE: 0.304823968811"
       ]
      },
      {
       "output_type": "stream",
       "stream": "stdout",
       "text": [
        "\n",
        "\tAlpha: 0.668421052632\n",
        "\tRMSE: 0.30486133291"
       ]
      },
      {
       "output_type": "stream",
       "stream": "stdout",
       "text": [
        "\n",
        "\tAlpha: 0.7\n",
        "\tRMSE: 0.304905308353"
       ]
      },
      {
       "output_type": "stream",
       "stream": "stdout",
       "text": [
        "\n",
        "\n",
        "....... Fold 3 .......\n",
        "Extremes of test set: \n",
        "[ 1.92817866  2.09183489  2.12989447]\n",
        "\n",
        "Scaler: 90 Filter\n",
        "\tAlpha: 0.1"
       ]
      },
      {
       "output_type": "stream",
       "stream": "stdout",
       "text": [
        "\n",
        "\tRMSE: 0.373919536876"
       ]
      },
      {
       "output_type": "stream",
       "stream": "stdout",
       "text": [
        "\n",
        "\tAlpha: 0.131578947368\n",
        "\tRMSE: 0.377350555797"
       ]
      },
      {
       "output_type": "stream",
       "stream": "stdout",
       "text": [
        "\n",
        "\tAlpha: 0.163157894737\n",
        "\tRMSE: 0.380220323867"
       ]
      },
      {
       "output_type": "stream",
       "stream": "stdout",
       "text": [
        "\n",
        "\tAlpha: 0.194736842105\n",
        "\tRMSE: 0.382687776152"
       ]
      },
      {
       "output_type": "stream",
       "stream": "stdout",
       "text": [
        "\n",
        "\tAlpha: 0.226315789474\n",
        "\tRMSE: 0.384849197315"
       ]
      },
      {
       "output_type": "stream",
       "stream": "stdout",
       "text": [
        "\n",
        "\tAlpha: 0.257894736842\n",
        "\tRMSE: 0.386768638312"
       ]
      },
      {
       "output_type": "stream",
       "stream": "stdout",
       "text": [
        "\n",
        "\tAlpha: 0.289473684211\n",
        "\tRMSE: 0.388491442803"
       ]
      },
      {
       "output_type": "stream",
       "stream": "stdout",
       "text": [
        "\n",
        "\tAlpha: 0.321052631579\n",
        "\tRMSE: 0.390051154547"
       ]
      },
      {
       "output_type": "stream",
       "stream": "stdout",
       "text": [
        "\n",
        "\tAlpha: 0.352631578947\n",
        "\tRMSE: 0.391473412318"
       ]
      },
      {
       "output_type": "stream",
       "stream": "stdout",
       "text": [
        "\n",
        "\tAlpha: 0.384210526316\n",
        "\tRMSE: 0.39277831408"
       ]
      },
      {
       "output_type": "stream",
       "stream": "stdout",
       "text": [
        "\n",
        "\tAlpha: 0.415789473684\n",
        "\tRMSE: 0.39398193534"
       ]
      },
      {
       "output_type": "stream",
       "stream": "stdout",
       "text": [
        "\n",
        "\tAlpha: 0.447368421053\n",
        "\tRMSE: 0.395097348461"
       ]
      },
      {
       "output_type": "stream",
       "stream": "stdout",
       "text": [
        "\n",
        "\tAlpha: 0.478947368421\n",
        "\tRMSE: 0.396135331765"
       ]
      },
      {
       "output_type": "stream",
       "stream": "stdout",
       "text": [
        "\n",
        "\tAlpha: 0.510526315789\n",
        "\tRMSE: 0.397104877461"
       ]
      },
      {
       "output_type": "stream",
       "stream": "stdout",
       "text": [
        "\n",
        "\tAlpha: 0.542105263158\n",
        "\tRMSE: 0.39801356442"
       ]
      },
      {
       "output_type": "stream",
       "stream": "stdout",
       "text": [
        "\n",
        "\tAlpha: 0.573684210526\n",
        "\tRMSE: 0.398867837517"
       ]
      },
      {
       "output_type": "stream",
       "stream": "stdout",
       "text": [
        "\n",
        "\tAlpha: 0.605263157895\n",
        "\tRMSE: 0.399673220641"
       ]
      },
      {
       "output_type": "stream",
       "stream": "stdout",
       "text": [
        "\n",
        "\tAlpha: 0.636842105263\n",
        "\tRMSE: 0.400434481719"
       ]
      },
      {
       "output_type": "stream",
       "stream": "stdout",
       "text": [
        "\n",
        "\tAlpha: 0.668421052632\n",
        "\tRMSE: 0.40115576224"
       ]
      },
      {
       "output_type": "stream",
       "stream": "stdout",
       "text": [
        "\n",
        "\tAlpha: 0.7\n",
        "\tRMSE: 0.401840680195"
       ]
      },
      {
       "output_type": "stream",
       "stream": "stdout",
       "text": [
        "\n",
        "\n",
        "Scaler: 95 Filter\n",
        "\tAlpha: 0.1"
       ]
      },
      {
       "output_type": "stream",
       "stream": "stdout",
       "text": [
        "\n",
        "\tRMSE: 0.355645380088"
       ]
      },
      {
       "output_type": "stream",
       "stream": "stdout",
       "text": [
        "\n",
        "\tAlpha: 0.131578947368\n",
        "\tRMSE: 0.359254240655"
       ]
      },
      {
       "output_type": "stream",
       "stream": "stdout",
       "text": [
        "\n",
        "\tAlpha: 0.163157894737\n",
        "\tRMSE: 0.362445553413"
       ]
      },
      {
       "output_type": "stream",
       "stream": "stdout",
       "text": [
        "\n",
        "\tAlpha: 0.194736842105\n",
        "\tRMSE: 0.365274478827"
       ]
      },
      {
       "output_type": "stream",
       "stream": "stdout",
       "text": [
        "\n",
        "\tAlpha: 0.226315789474\n",
        "\tRMSE: 0.367796087171"
       ]
      },
      {
       "output_type": "stream",
       "stream": "stdout",
       "text": [
        "\n",
        "\tAlpha: 0.257894736842\n",
        "\tRMSE: 0.370057872548"
       ]
      },
      {
       "output_type": "stream",
       "stream": "stdout",
       "text": [
        "\n",
        "\tAlpha: 0.289473684211\n",
        "\tRMSE: 0.372099156391"
       ]
      },
      {
       "output_type": "stream",
       "stream": "stdout",
       "text": [
        "\n",
        "\tAlpha: 0.321052631579\n",
        "\tRMSE: 0.373952138454"
       ]
      },
      {
       "output_type": "stream",
       "stream": "stdout",
       "text": [
        "\n",
        "\tAlpha: 0.352631578947\n",
        "\tRMSE: 0.375643188257"
       ]
      },
      {
       "output_type": "stream",
       "stream": "stdout",
       "text": [
        "\n",
        "\tAlpha: 0.384210526316\n",
        "\tRMSE: 0.377194000186"
       ]
      },
      {
       "output_type": "stream",
       "stream": "stdout",
       "text": [
        "\n",
        "\tAlpha: 0.415789473684\n",
        "\tRMSE: 0.378622538324"
       ]
      },
      {
       "output_type": "stream",
       "stream": "stdout",
       "text": [
        "\n",
        "\tAlpha: 0.447368421053\n",
        "\tRMSE: 0.379943784626"
       ]
      },
      {
       "output_type": "stream",
       "stream": "stdout",
       "text": [
        "\n",
        "\tAlpha: 0.478947368421\n",
        "\tRMSE: 0.381170324907"
       ]
      },
      {
       "output_type": "stream",
       "stream": "stdout",
       "text": [
        "\n",
        "\tAlpha: 0.510526315789\n",
        "\tRMSE: 0.382312807159"
       ]
      },
      {
       "output_type": "stream",
       "stream": "stdout",
       "text": [
        "\n",
        "\tAlpha: 0.542105263158\n",
        "\tRMSE: 0.383380301084"
       ]
      },
      {
       "output_type": "stream",
       "stream": "stdout",
       "text": [
        "\n",
        "\tAlpha: 0.573684210526\n",
        "\tRMSE: 0.384380581651"
       ]
      },
      {
       "output_type": "stream",
       "stream": "stdout",
       "text": [
        "\n",
        "\tAlpha: 0.605263157895\n",
        "\tRMSE: 0.385320354175"
       ]
      },
      {
       "output_type": "stream",
       "stream": "stdout",
       "text": [
        "\n",
        "\tAlpha: 0.636842105263\n",
        "\tRMSE: 0.386205434195"
       ]
      },
      {
       "output_type": "stream",
       "stream": "stdout",
       "text": [
        "\n",
        "\tAlpha: 0.668421052632\n",
        "\tRMSE: 0.387040892292"
       ]
      },
      {
       "output_type": "stream",
       "stream": "stdout",
       "text": [
        "\n",
        "\tAlpha: 0.7\n",
        "\tRMSE: 0.3878311714"
       ]
      },
      {
       "output_type": "stream",
       "stream": "stdout",
       "text": [
        "\n",
        "\n",
        "Scaler: No Filter\n",
        "\tAlpha: 0.1"
       ]
      },
      {
       "output_type": "stream",
       "stream": "stdout",
       "text": [
        "\n",
        "\tRMSE: 0.34596622577"
       ]
      },
      {
       "output_type": "stream",
       "stream": "stdout",
       "text": [
        "\n",
        "\tAlpha: 0.131578947368\n",
        "\tRMSE: 0.349016420455"
       ]
      },
      {
       "output_type": "stream",
       "stream": "stdout",
       "text": [
        "\n",
        "\tAlpha: 0.163157894737\n",
        "\tRMSE: 0.351824655331"
       ]
      },
      {
       "output_type": "stream",
       "stream": "stdout",
       "text": [
        "\n",
        "\tAlpha: 0.194736842105\n",
        "\tRMSE: 0.354388340239"
       ]
      },
      {
       "output_type": "stream",
       "stream": "stdout",
       "text": [
        "\n",
        "\tAlpha: 0.226315789474\n",
        "\tRMSE: 0.356727145791"
       ]
      },
      {
       "output_type": "stream",
       "stream": "stdout",
       "text": [
        "\n",
        "\tAlpha: 0.257894736842\n",
        "\tRMSE: 0.358865269517"
       ]
      },
      {
       "output_type": "stream",
       "stream": "stdout",
       "text": [
        "\n",
        "\tAlpha: 0.289473684211\n",
        "\tRMSE: 0.360826038243"
       ]
      },
      {
       "output_type": "stream",
       "stream": "stdout",
       "text": [
        "\n",
        "\tAlpha: 0.321052631579\n",
        "\tRMSE: 0.362630351047"
       ]
      },
      {
       "output_type": "stream",
       "stream": "stdout",
       "text": [
        "\n",
        "\tAlpha: 0.352631578947\n",
        "\tRMSE: 0.364296421609"
       ]
      },
      {
       "output_type": "stream",
       "stream": "stdout",
       "text": [
        "\n",
        "\tAlpha: 0.384210526316\n",
        "\tRMSE: 0.365839959134"
       ]
      },
      {
       "output_type": "stream",
       "stream": "stdout",
       "text": [
        "\n",
        "\tAlpha: 0.415789473684\n",
        "\tRMSE: 0.367274475503"
       ]
      },
      {
       "output_type": "stream",
       "stream": "stdout",
       "text": [
        "\n",
        "\tAlpha: 0.447368421053\n",
        "\tRMSE: 0.368611603467"
       ]
      },
      {
       "output_type": "stream",
       "stream": "stdout",
       "text": [
        "\n",
        "\tAlpha: 0.478947368421\n",
        "\tRMSE: 0.369861385749"
       ]
      },
      {
       "output_type": "stream",
       "stream": "stdout",
       "text": [
        "\n",
        "\tAlpha: 0.510526315789\n",
        "\tRMSE: 0.371032524334"
       ]
      },
      {
       "output_type": "stream",
       "stream": "stdout",
       "text": [
        "\n",
        "\tAlpha: 0.542105263158\n",
        "\tRMSE: 0.372132590321"
       ]
      },
      {
       "output_type": "stream",
       "stream": "stdout",
       "text": [
        "\n",
        "\tAlpha: 0.573684210526\n",
        "\tRMSE: 0.373168198794"
       ]
      },
      {
       "output_type": "stream",
       "stream": "stdout",
       "text": [
        "\n",
        "\tAlpha: 0.605263157895\n",
        "\tRMSE: 0.374145153917"
       ]
      },
      {
       "output_type": "stream",
       "stream": "stdout",
       "text": [
        "\n",
        "\tAlpha: 0.636842105263\n",
        "\tRMSE: 0.37506856933"
       ]
      },
      {
       "output_type": "stream",
       "stream": "stdout",
       "text": [
        "\n",
        "\tAlpha: 0.668421052632\n",
        "\tRMSE: 0.37594296819"
       ]
      },
      {
       "output_type": "stream",
       "stream": "stdout",
       "text": [
        "\n",
        "\tAlpha: 0.7\n",
        "\tRMSE: 0.376772366587"
       ]
      },
      {
       "output_type": "stream",
       "stream": "stdout",
       "text": [
        "\n",
        "\n",
        "....... Fold 4 .......\n",
        "Extremes of test set: \n",
        "[ 1.7036271   1.77974627  2.0537753 ]\n",
        "\n",
        "Scaler: 90 Filter\n",
        "\tAlpha: 0.1"
       ]
      },
      {
       "output_type": "stream",
       "stream": "stdout",
       "text": [
        "\n",
        "\tRMSE: 0.354966127647"
       ]
      },
      {
       "output_type": "stream",
       "stream": "stdout",
       "text": [
        "\n",
        "\tAlpha: 0.131578947368\n",
        "\tRMSE: 0.355844484324"
       ]
      },
      {
       "output_type": "stream",
       "stream": "stdout",
       "text": [
        "\n",
        "\tAlpha: 0.163157894737\n",
        "\tRMSE: 0.35666457985"
       ]
      },
      {
       "output_type": "stream",
       "stream": "stdout",
       "text": [
        "\n",
        "\tAlpha: 0.194736842105\n",
        "\tRMSE: 0.357410529517"
       ]
      },
      {
       "output_type": "stream",
       "stream": "stdout",
       "text": [
        "\n",
        "\tAlpha: 0.226315789474\n",
        "\tRMSE: 0.358086323508"
       ]
      },
      {
       "output_type": "stream",
       "stream": "stdout",
       "text": [
        "\n",
        "\tAlpha: 0.257894736842\n",
        "\tRMSE: 0.358699996816"
       ]
      },
      {
       "output_type": "stream",
       "stream": "stdout",
       "text": [
        "\n",
        "\tAlpha: 0.289473684211\n",
        "\tRMSE: 0.359259594403"
       ]
      },
      {
       "output_type": "stream",
       "stream": "stdout",
       "text": [
        "\n",
        "\tAlpha: 0.321052631579\n",
        "\tRMSE: 0.359772202719"
       ]
      },
      {
       "output_type": "stream",
       "stream": "stdout",
       "text": [
        "\n",
        "\tAlpha: 0.352631578947\n",
        "\tRMSE: 0.360243835421"
       ]
      },
      {
       "output_type": "stream",
       "stream": "stdout",
       "text": [
        "\n",
        "\tAlpha: 0.384210526316\n",
        "\tRMSE: 0.360679547387"
       ]
      },
      {
       "output_type": "stream",
       "stream": "stdout",
       "text": [
        "\n",
        "\tAlpha: 0.415789473684\n",
        "\tRMSE: 0.361083590934"
       ]
      },
      {
       "output_type": "stream",
       "stream": "stdout",
       "text": [
        "\n",
        "\tAlpha: 0.447368421053\n",
        "\tRMSE: 0.361459560589"
       ]
      },
      {
       "output_type": "stream",
       "stream": "stdout",
       "text": [
        "\n",
        "\tAlpha: 0.478947368421\n",
        "\tRMSE: 0.361810514052"
       ]
      },
      {
       "output_type": "stream",
       "stream": "stdout",
       "text": [
        "\n",
        "\tAlpha: 0.510526315789\n",
        "\tRMSE: 0.362139069731"
       ]
      },
      {
       "output_type": "stream",
       "stream": "stdout",
       "text": [
        "\n",
        "\tAlpha: 0.542105263158\n",
        "\tRMSE: 0.362447484488"
       ]
      },
      {
       "output_type": "stream",
       "stream": "stdout",
       "text": [
        "\n",
        "\tAlpha: 0.573684210526\n",
        "\tRMSE: 0.362737715552"
       ]
      },
      {
       "output_type": "stream",
       "stream": "stdout",
       "text": [
        "\n",
        "\tAlpha: 0.605263157895\n",
        "\tRMSE: 0.363011470039"
       ]
      },
      {
       "output_type": "stream",
       "stream": "stdout",
       "text": [
        "\n",
        "\tAlpha: 0.636842105263\n",
        "\tRMSE: 0.363270244805"
       ]
      },
      {
       "output_type": "stream",
       "stream": "stdout",
       "text": [
        "\n",
        "\tAlpha: 0.668421052632\n",
        "\tRMSE: 0.363515358738"
       ]
      },
      {
       "output_type": "stream",
       "stream": "stdout",
       "text": [
        "\n",
        "\tAlpha: 0.7\n",
        "\tRMSE: 0.363747979139"
       ]
      },
      {
       "output_type": "stream",
       "stream": "stdout",
       "text": [
        "\n",
        "\n",
        "Scaler: 95 Filter\n",
        "\tAlpha: 0.1"
       ]
      },
      {
       "output_type": "stream",
       "stream": "stdout",
       "text": [
        "\n",
        "\tRMSE: 0.346207164018"
       ]
      },
      {
       "output_type": "stream",
       "stream": "stdout",
       "text": [
        "\n",
        "\tAlpha: 0.131578947368\n",
        "\tRMSE: 0.346136985499"
       ]
      },
      {
       "output_type": "stream",
       "stream": "stdout",
       "text": [
        "\n",
        "\tAlpha: 0.163157894737\n",
        "\tRMSE: 0.34635311158"
       ]
      },
      {
       "output_type": "stream",
       "stream": "stdout",
       "text": [
        "\n",
        "\tAlpha: 0.194736842105\n",
        "\tRMSE: 0.346688095867"
       ]
      },
      {
       "output_type": "stream",
       "stream": "stdout",
       "text": [
        "\n",
        "\tAlpha: 0.226315789474\n",
        "\tRMSE: 0.347069515887"
       ]
      },
      {
       "output_type": "stream",
       "stream": "stdout",
       "text": [
        "\n",
        "\tAlpha: 0.257894736842\n",
        "\tRMSE: 0.347463742614"
       ]
      },
      {
       "output_type": "stream",
       "stream": "stdout",
       "text": [
        "\n",
        "\tAlpha: 0.289473684211\n",
        "\tRMSE: 0.347854553109"
       ]
      },
      {
       "output_type": "stream",
       "stream": "stdout",
       "text": [
        "\n",
        "\tAlpha: 0.321052631579\n",
        "\tRMSE: 0.348234093465"
       ]
      },
      {
       "output_type": "stream",
       "stream": "stdout",
       "text": [
        "\n",
        "\tAlpha: 0.352631578947\n",
        "\tRMSE: 0.348598737589"
       ]
      },
      {
       "output_type": "stream",
       "stream": "stdout",
       "text": [
        "\n",
        "\tAlpha: 0.384210526316\n",
        "\tRMSE: 0.348947065837"
       ]
      },
      {
       "output_type": "stream",
       "stream": "stdout",
       "text": [
        "\n",
        "\tAlpha: 0.415789473684\n",
        "\tRMSE: 0.349278828648"
       ]
      },
      {
       "output_type": "stream",
       "stream": "stdout",
       "text": [
        "\n",
        "\tAlpha: 0.447368421053\n",
        "\tRMSE: 0.349594394707"
       ]
      },
      {
       "output_type": "stream",
       "stream": "stdout",
       "text": [
        "\n",
        "\tAlpha: 0.478947368421\n",
        "\tRMSE: 0.349894448818"
       ]
      },
      {
       "output_type": "stream",
       "stream": "stdout",
       "text": [
        "\n",
        "\tAlpha: 0.510526315789\n",
        "\tRMSE: 0.35017982343"
       ]
      },
      {
       "output_type": "stream",
       "stream": "stdout",
       "text": [
        "\n",
        "\tAlpha: 0.542105263158\n",
        "\tRMSE: 0.350451403933"
       ]
      },
      {
       "output_type": "stream",
       "stream": "stdout",
       "text": [
        "\n",
        "\tAlpha: 0.573684210526\n",
        "\tRMSE: 0.350710075647"
       ]
      },
      {
       "output_type": "stream",
       "stream": "stdout",
       "text": [
        "\n",
        "\tAlpha: 0.605263157895\n",
        "\tRMSE: 0.350956694824"
       ]
      },
      {
       "output_type": "stream",
       "stream": "stdout",
       "text": [
        "\n",
        "\tAlpha: 0.636842105263\n",
        "\tRMSE: 0.351192073631"
       ]
      },
      {
       "output_type": "stream",
       "stream": "stdout",
       "text": [
        "\n",
        "\tAlpha: 0.668421052632\n",
        "\tRMSE: 0.351416973308"
       ]
      },
      {
       "output_type": "stream",
       "stream": "stdout",
       "text": [
        "\n",
        "\tAlpha: 0.7\n",
        "\tRMSE: 0.351632102119"
       ]
      },
      {
       "output_type": "stream",
       "stream": "stdout",
       "text": [
        "\n",
        "\n",
        "Scaler: No Filter\n",
        "\tAlpha: 0.1"
       ]
      },
      {
       "output_type": "stream",
       "stream": "stdout",
       "text": [
        "\n",
        "\tRMSE: 0.341206516942"
       ]
      },
      {
       "output_type": "stream",
       "stream": "stdout",
       "text": [
        "\n",
        "\tAlpha: 0.131578947368\n",
        "\tRMSE: 0.339710293227"
       ]
      },
      {
       "output_type": "stream",
       "stream": "stdout",
       "text": [
        "\n",
        "\tAlpha: 0.163157894737\n",
        "\tRMSE: 0.338895739228"
       ]
      },
      {
       "output_type": "stream",
       "stream": "stdout",
       "text": [
        "\n",
        "\tAlpha: 0.194736842105\n",
        "\tRMSE: 0.338467994727"
       ]
      },
      {
       "output_type": "stream",
       "stream": "stdout",
       "text": [
        "\n",
        "\tAlpha: 0.226315789474\n",
        "\tRMSE: 0.338271312687"
       ]
      },
      {
       "output_type": "stream",
       "stream": "stdout",
       "text": [
        "\n",
        "\tAlpha: 0.257894736842\n",
        "\tRMSE: 0.338217499916"
       ]
      },
      {
       "output_type": "stream",
       "stream": "stdout",
       "text": [
        "\n",
        "\tAlpha: 0.289473684211\n",
        "\tRMSE: 0.338253924357"
       ]
      },
      {
       "output_type": "stream",
       "stream": "stdout",
       "text": [
        "\n",
        "\tAlpha: 0.321052631579\n",
        "\tRMSE: 0.338347885783"
       ]
      },
      {
       "output_type": "stream",
       "stream": "stdout",
       "text": [
        "\n",
        "\tAlpha: 0.352631578947\n",
        "\tRMSE: 0.338478424571"
       ]
      },
      {
       "output_type": "stream",
       "stream": "stdout",
       "text": [
        "\n",
        "\tAlpha: 0.384210526316\n",
        "\tRMSE: 0.338631779277"
       ]
      },
      {
       "output_type": "stream",
       "stream": "stdout",
       "text": [
        "\n",
        "\tAlpha: 0.415789473684\n",
        "\tRMSE: 0.338798748496"
       ]
      },
      {
       "output_type": "stream",
       "stream": "stdout",
       "text": [
        "\n",
        "\tAlpha: 0.447368421053\n",
        "\tRMSE: 0.33897309875"
       ]
      },
      {
       "output_type": "stream",
       "stream": "stdout",
       "text": [
        "\n",
        "\tAlpha: 0.478947368421\n",
        "\tRMSE: 0.339150572073"
       ]
      },
      {
       "output_type": "stream",
       "stream": "stdout",
       "text": [
        "\n",
        "\tAlpha: 0.510526315789\n",
        "\tRMSE: 0.339328250188"
       ]
      },
      {
       "output_type": "stream",
       "stream": "stdout",
       "text": [
        "\n",
        "\tAlpha: 0.542105263158\n",
        "\tRMSE: 0.339504137427"
       ]
      },
      {
       "output_type": "stream",
       "stream": "stdout",
       "text": [
        "\n",
        "\tAlpha: 0.573684210526\n",
        "\tRMSE: 0.339676881512"
       ]
      },
      {
       "output_type": "stream",
       "stream": "stdout",
       "text": [
        "\n",
        "\tAlpha: 0.605263157895\n",
        "\tRMSE: 0.339845583326"
       ]
      },
      {
       "output_type": "stream",
       "stream": "stdout",
       "text": [
        "\n",
        "\tAlpha: 0.636842105263\n",
        "\tRMSE: 0.340009665315"
       ]
      },
      {
       "output_type": "stream",
       "stream": "stdout",
       "text": [
        "\n",
        "\tAlpha: 0.668421052632\n",
        "\tRMSE: 0.34016877923"
       ]
      },
      {
       "output_type": "stream",
       "stream": "stdout",
       "text": [
        "\n",
        "\tAlpha: 0.7\n",
        "\tRMSE: 0.340322740731"
       ]
      },
      {
       "output_type": "stream",
       "stream": "stdout",
       "text": [
        "\n",
        "\n",
        "....... Fold 5 .......\n",
        "Extremes of test set: \n",
        "[ 1.87489524  2.01571571  2.08041701]\n",
        "\n",
        "Scaler: 90 Filter\n",
        "\tAlpha: 0.1"
       ]
      },
      {
       "output_type": "stream",
       "stream": "stdout",
       "text": [
        "\n",
        "\tRMSE: 0.372906429296"
       ]
      },
      {
       "output_type": "stream",
       "stream": "stdout",
       "text": [
        "\n",
        "\tAlpha: 0.131578947368\n",
        "\tRMSE: 0.371432106742"
       ]
      },
      {
       "output_type": "stream",
       "stream": "stdout",
       "text": [
        "\n",
        "\tAlpha: 0.163157894737\n",
        "\tRMSE: 0.370111573631"
       ]
      },
      {
       "output_type": "stream",
       "stream": "stdout",
       "text": [
        "\n",
        "\tAlpha: 0.194736842105\n",
        "\tRMSE: 0.368934170533"
       ]
      },
      {
       "output_type": "stream",
       "stream": "stdout",
       "text": [
        "\n",
        "\tAlpha: 0.226315789474\n",
        "\tRMSE: 0.367880530338"
       ]
      },
      {
       "output_type": "stream",
       "stream": "stdout",
       "text": [
        "\n",
        "\tAlpha: 0.257894736842\n",
        "\tRMSE: 0.366932577169"
       ]
      },
      {
       "output_type": "stream",
       "stream": "stdout",
       "text": [
        "\n",
        "\tAlpha: 0.289473684211\n",
        "\tRMSE: 0.366075144412"
       ]
      },
      {
       "output_type": "stream",
       "stream": "stdout",
       "text": [
        "\n",
        "\tAlpha: 0.321052631579\n",
        "\tRMSE: 0.365295794713"
       ]
      },
      {
       "output_type": "stream",
       "stream": "stdout",
       "text": [
        "\n",
        "\tAlpha: 0.352631578947\n",
        "\tRMSE: 0.364584328002"
       ]
      },
      {
       "output_type": "stream",
       "stream": "stdout",
       "text": [
        "\n",
        "\tAlpha: 0.384210526316\n",
        "\tRMSE: 0.363932318031"
       ]
      },
      {
       "output_type": "stream",
       "stream": "stdout",
       "text": [
        "\n",
        "\tAlpha: 0.415789473684\n",
        "\tRMSE: 0.363332739329"
       ]
      },
      {
       "output_type": "stream",
       "stream": "stdout",
       "text": [
        "\n",
        "\tAlpha: 0.447368421053\n",
        "\tRMSE: 0.362779679495"
       ]
      },
      {
       "output_type": "stream",
       "stream": "stdout",
       "text": [
        "\n",
        "\tAlpha: 0.478947368421\n",
        "\tRMSE: 0.362268119177"
       ]
      },
      {
       "output_type": "stream",
       "stream": "stdout",
       "text": [
        "\n",
        "\tAlpha: 0.510526315789\n",
        "\tRMSE: 0.361793763095"
       ]
      },
      {
       "output_type": "stream",
       "stream": "stdout",
       "text": [
        "\n",
        "\tAlpha: 0.542105263158\n",
        "\tRMSE: 0.361352909083"
       ]
      },
      {
       "output_type": "stream",
       "stream": "stdout",
       "text": [
        "\n",
        "\tAlpha: 0.573684210526\n",
        "\tRMSE: 0.360942345486"
       ]
      },
      {
       "output_type": "stream",
       "stream": "stdout",
       "text": [
        "\n",
        "\tAlpha: 0.605263157895\n",
        "\tRMSE: 0.360559269868"
       ]
      },
      {
       "output_type": "stream",
       "stream": "stdout",
       "text": [
        "\n",
        "\tAlpha: 0.636842105263\n",
        "\tRMSE: 0.360201223917"
       ]
      },
      {
       "output_type": "stream",
       "stream": "stdout",
       "text": [
        "\n",
        "\tAlpha: 0.668421052632\n",
        "\tRMSE: 0.359866040807"
       ]
      },
      {
       "output_type": "stream",
       "stream": "stdout",
       "text": [
        "\n",
        "\tAlpha: 0.7\n",
        "\tRMSE: 0.359551802222"
       ]
      },
      {
       "output_type": "stream",
       "stream": "stdout",
       "text": [
        "\n",
        "\n",
        "Scaler: 95 Filter\n",
        "\tAlpha: 0.1"
       ]
      },
      {
       "output_type": "stream",
       "stream": "stdout",
       "text": [
        "\n",
        "\tRMSE: 0.387224055006"
       ]
      },
      {
       "output_type": "stream",
       "stream": "stdout",
       "text": [
        "\n",
        "\tAlpha: 0.131578947368\n",
        "\tRMSE: 0.383458702412"
       ]
      },
      {
       "output_type": "stream",
       "stream": "stdout",
       "text": [
        "\n",
        "\tAlpha: 0.163157894737\n",
        "\tRMSE: 0.380557692957"
       ]
      },
      {
       "output_type": "stream",
       "stream": "stdout",
       "text": [
        "\n",
        "\tAlpha: 0.194736842105\n",
        "\tRMSE: 0.378258896275"
       ]
      },
      {
       "output_type": "stream",
       "stream": "stdout",
       "text": [
        "\n",
        "\tAlpha: 0.226315789474\n",
        "\tRMSE: 0.37639137684"
       ]
      },
      {
       "output_type": "stream",
       "stream": "stdout",
       "text": [
        "\n",
        "\tAlpha: 0.257894736842\n",
        "\tRMSE: 0.374841519141"
       ]
      },
      {
       "output_type": "stream",
       "stream": "stdout",
       "text": [
        "\n",
        "\tAlpha: 0.289473684211\n",
        "\tRMSE: 0.373531761005"
       ]
      },
      {
       "output_type": "stream",
       "stream": "stdout",
       "text": [
        "\n",
        "\tAlpha: 0.321052631579\n",
        "\tRMSE: 0.372407703413"
       ]
      },
      {
       "output_type": "stream",
       "stream": "stdout",
       "text": [
        "\n",
        "\tAlpha: 0.352631578947\n",
        "\tRMSE: 0.3714302196"
       ]
      },
      {
       "output_type": "stream",
       "stream": "stdout",
       "text": [
        "\n",
        "\tAlpha: 0.384210526316\n",
        "\tRMSE: 0.370570515732"
       ]
      },
      {
       "output_type": "stream",
       "stream": "stdout",
       "text": [
        "\n",
        "\tAlpha: 0.415789473684\n",
        "\tRMSE: 0.369806960685"
       ]
      },
      {
       "output_type": "stream",
       "stream": "stdout",
       "text": [
        "\n",
        "\tAlpha: 0.447368421053\n",
        "\tRMSE: 0.369123000314"
       ]
      },
      {
       "output_type": "stream",
       "stream": "stdout",
       "text": [
        "\n",
        "\tAlpha: 0.478947368421\n",
        "\tRMSE: 0.368505752947"
       ]
      },
      {
       "output_type": "stream",
       "stream": "stdout",
       "text": [
        "\n",
        "\tAlpha: 0.510526315789\n",
        "\tRMSE: 0.367945042977"
       ]
      },
      {
       "output_type": "stream",
       "stream": "stdout",
       "text": [
        "\n",
        "\tAlpha: 0.542105263158\n",
        "\tRMSE: 0.367432722602"
       ]
      },
      {
       "output_type": "stream",
       "stream": "stdout",
       "text": [
        "\n",
        "\tAlpha: 0.573684210526\n",
        "\tRMSE: 0.366962187062"
       ]
      },
      {
       "output_type": "stream",
       "stream": "stdout",
       "text": [
        "\n",
        "\tAlpha: 0.605263157895\n",
        "\tRMSE: 0.366528022359"
       ]
      },
      {
       "output_type": "stream",
       "stream": "stdout",
       "text": [
        "\n",
        "\tAlpha: 0.636842105263\n",
        "\tRMSE: 0.366125745285"
       ]
      },
      {
       "output_type": "stream",
       "stream": "stdout",
       "text": [
        "\n",
        "\tAlpha: 0.668421052632\n",
        "\tRMSE: 0.365751608836"
       ]
      },
      {
       "output_type": "stream",
       "stream": "stdout",
       "text": [
        "\n",
        "\tAlpha: 0.7\n",
        "\tRMSE: 0.365402454674"
       ]
      },
      {
       "output_type": "stream",
       "stream": "stdout",
       "text": [
        "\n",
        "\n",
        "Scaler: No Filter\n",
        "\tAlpha: 0.1"
       ]
      },
      {
       "output_type": "stream",
       "stream": "stdout",
       "text": [
        "\n",
        "\tRMSE: 0.376180587486"
       ]
      },
      {
       "output_type": "stream",
       "stream": "stdout",
       "text": [
        "\n",
        "\tAlpha: 0.131578947368\n",
        "\tRMSE: 0.372986632737"
       ]
      },
      {
       "output_type": "stream",
       "stream": "stdout",
       "text": [
        "\n",
        "\tAlpha: 0.163157894737\n",
        "\tRMSE: 0.370850841256"
       ]
      },
      {
       "output_type": "stream",
       "stream": "stdout",
       "text": [
        "\n",
        "\tAlpha: 0.194736842105\n",
        "\tRMSE: 0.369372447892"
       ]
      },
      {
       "output_type": "stream",
       "stream": "stdout",
       "text": [
        "\n",
        "\tAlpha: 0.226315789474\n",
        "\tRMSE: 0.368322773575"
       ]
      },
      {
       "output_type": "stream",
       "stream": "stdout",
       "text": [
        "\n",
        "\tAlpha: 0.257894736842\n",
        "\tRMSE: 0.367563728913"
       ]
      },
      {
       "output_type": "stream",
       "stream": "stdout",
       "text": [
        "\n",
        "\tAlpha: 0.289473684211\n",
        "\tRMSE: 0.367007968629"
       ]
      },
      {
       "output_type": "stream",
       "stream": "stdout",
       "text": [
        "\n",
        "\tAlpha: 0.321052631579\n",
        "\tRMSE: 0.366598084259"
       ]
      },
      {
       "output_type": "stream",
       "stream": "stdout",
       "text": [
        "\n",
        "\tAlpha: 0.352631578947\n",
        "\tRMSE: 0.366295114162"
       ]
      },
      {
       "output_type": "stream",
       "stream": "stdout",
       "text": [
        "\n",
        "\tAlpha: 0.384210526316\n",
        "\tRMSE: 0.3660718897"
       ]
      },
      {
       "output_type": "stream",
       "stream": "stdout",
       "text": [
        "\n",
        "\tAlpha: 0.415789473684\n",
        "\tRMSE: 0.365909022265"
       ]
      },
      {
       "output_type": "stream",
       "stream": "stdout",
       "text": [
        "\n",
        "\tAlpha: 0.447368421053\n",
        "\tRMSE: 0.365792396862"
       ]
      },
      {
       "output_type": "stream",
       "stream": "stdout",
       "text": [
        "\n",
        "\tAlpha: 0.478947368421\n",
        "\tRMSE: 0.365711558428"
       ]
      },
      {
       "output_type": "stream",
       "stream": "stdout",
       "text": [
        "\n",
        "\tAlpha: 0.510526315789\n",
        "\tRMSE: 0.365658644931"
       ]
      },
      {
       "output_type": "stream",
       "stream": "stdout",
       "text": [
        "\n",
        "\tAlpha: 0.542105263158\n",
        "\tRMSE: 0.365627665329"
       ]
      },
      {
       "output_type": "stream",
       "stream": "stdout",
       "text": [
        "\n",
        "\tAlpha: 0.573684210526\n",
        "\tRMSE: 0.365614000621"
       ]
      },
      {
       "output_type": "stream",
       "stream": "stdout",
       "text": [
        "\n",
        "\tAlpha: 0.605263157895\n",
        "\tRMSE: 0.365614052649"
       ]
      },
      {
       "output_type": "stream",
       "stream": "stdout",
       "text": [
        "\n",
        "\tAlpha: 0.636842105263\n",
        "\tRMSE: 0.36562499272"
       ]
      },
      {
       "output_type": "stream",
       "stream": "stdout",
       "text": [
        "\n",
        "\tAlpha: 0.668421052632\n",
        "\tRMSE: 0.365644578978"
       ]
      },
      {
       "output_type": "stream",
       "stream": "stdout",
       "text": [
        "\n",
        "\tAlpha: 0.7\n",
        "\tRMSE: 0.365671021892"
       ]
      },
      {
       "output_type": "stream",
       "stream": "stdout",
       "text": [
        "\n",
        "\n",
        "....... Fold 6 .......\n",
        "Extremes of test set: \n",
        "[ 1.79497011  1.89011908  1.89011908]\n",
        "\n",
        "Scaler: 90 Filter\n",
        "\tAlpha: 0.1"
       ]
      },
      {
       "output_type": "stream",
       "stream": "stdout",
       "text": [
        "\n",
        "\tRMSE: 0.297226135972"
       ]
      },
      {
       "output_type": "stream",
       "stream": "stdout",
       "text": [
        "\n",
        "\tAlpha: 0.131578947368\n",
        "\tRMSE: 0.297315196948"
       ]
      },
      {
       "output_type": "stream",
       "stream": "stdout",
       "text": [
        "\n",
        "\tAlpha: 0.163157894737\n",
        "\tRMSE: 0.29750063684"
       ]
      },
      {
       "output_type": "stream",
       "stream": "stdout",
       "text": [
        "\n",
        "\tAlpha: 0.194736842105\n",
        "\tRMSE: 0.297761565569"
       ]
      },
      {
       "output_type": "stream",
       "stream": "stdout",
       "text": [
        "\n",
        "\tAlpha: 0.226315789474\n",
        "\tRMSE: 0.298076730011"
       ]
      },
      {
       "output_type": "stream",
       "stream": "stdout",
       "text": [
        "\n",
        "\tAlpha: 0.257894736842\n",
        "\tRMSE: 0.298429478152"
       ]
      },
      {
       "output_type": "stream",
       "stream": "stdout",
       "text": [
        "\n",
        "\tAlpha: 0.289473684211\n",
        "\tRMSE: 0.298807569427"
       ]
      },
      {
       "output_type": "stream",
       "stream": "stdout",
       "text": [
        "\n",
        "\tAlpha: 0.321052631579\n",
        "\tRMSE: 0.299202163348"
       ]
      },
      {
       "output_type": "stream",
       "stream": "stdout",
       "text": [
        "\n",
        "\tAlpha: 0.352631578947\n",
        "\tRMSE: 0.299606893343"
       ]
      },
      {
       "output_type": "stream",
       "stream": "stdout",
       "text": [
        "\n",
        "\tAlpha: 0.384210526316\n",
        "\tRMSE: 0.300017165443"
       ]
      },
      {
       "output_type": "stream",
       "stream": "stdout",
       "text": [
        "\n",
        "\tAlpha: 0.415789473684\n",
        "\tRMSE: 0.300429655286"
       ]
      },
      {
       "output_type": "stream",
       "stream": "stdout",
       "text": [
        "\n",
        "\tAlpha: 0.447368421053\n",
        "\tRMSE: 0.300841952667"
       ]
      },
      {
       "output_type": "stream",
       "stream": "stdout",
       "text": [
        "\n",
        "\tAlpha: 0.478947368421\n",
        "\tRMSE: 0.301252310509"
       ]
      },
      {
       "output_type": "stream",
       "stream": "stdout",
       "text": [
        "\n",
        "\tAlpha: 0.510526315789\n",
        "\tRMSE: 0.30165946651"
       ]
      },
      {
       "output_type": "stream",
       "stream": "stdout",
       "text": [
        "\n",
        "\tAlpha: 0.542105263158\n",
        "\tRMSE: 0.302062515416"
       ]
      },
      {
       "output_type": "stream",
       "stream": "stdout",
       "text": [
        "\n",
        "\tAlpha: 0.573684210526\n",
        "\tRMSE: 0.302460816665"
       ]
      },
      {
       "output_type": "stream",
       "stream": "stdout",
       "text": [
        "\n",
        "\tAlpha: 0.605263157895\n",
        "\tRMSE: 0.302853927049"
       ]
      },
      {
       "output_type": "stream",
       "stream": "stdout",
       "text": [
        "\n",
        "\tAlpha: 0.636842105263\n",
        "\tRMSE: 0.303241551143"
       ]
      },
      {
       "output_type": "stream",
       "stream": "stdout",
       "text": [
        "\n",
        "\tAlpha: 0.668421052632\n",
        "\tRMSE: 0.303623504537"
       ]
      },
      {
       "output_type": "stream",
       "stream": "stdout",
       "text": [
        "\n",
        "\tAlpha: 0.7\n",
        "\tRMSE: 0.303999686351"
       ]
      },
      {
       "output_type": "stream",
       "stream": "stdout",
       "text": [
        "\n",
        "\n",
        "Scaler: 95 Filter\n",
        "\tAlpha: 0.1"
       ]
      },
      {
       "output_type": "stream",
       "stream": "stdout",
       "text": [
        "\n",
        "\tRMSE: 0.306379365496"
       ]
      },
      {
       "output_type": "stream",
       "stream": "stdout",
       "text": [
        "\n",
        "\tAlpha: 0.131578947368\n",
        "\tRMSE: 0.307128586886"
       ]
      },
      {
       "output_type": "stream",
       "stream": "stdout",
       "text": [
        "\n",
        "\tAlpha: 0.163157894737\n",
        "\tRMSE: 0.307789051953"
       ]
      },
      {
       "output_type": "stream",
       "stream": "stdout",
       "text": [
        "\n",
        "\tAlpha: 0.194736842105\n",
        "\tRMSE: 0.3083954665"
       ]
      },
      {
       "output_type": "stream",
       "stream": "stdout",
       "text": [
        "\n",
        "\tAlpha: 0.226315789474\n",
        "\tRMSE: 0.308962066085"
       ]
      },
      {
       "output_type": "stream",
       "stream": "stdout",
       "text": [
        "\n",
        "\tAlpha: 0.257894736842\n",
        "\tRMSE: 0.309495779174"
       ]
      },
      {
       "output_type": "stream",
       "stream": "stdout",
       "text": [
        "\n",
        "\tAlpha: 0.289473684211\n",
        "\tRMSE: 0.31000065021"
       ]
      },
      {
       "output_type": "stream",
       "stream": "stdout",
       "text": [
        "\n",
        "\tAlpha: 0.321052631579\n",
        "\tRMSE: 0.310479476223"
       ]
      },
      {
       "output_type": "stream",
       "stream": "stdout",
       "text": [
        "\n",
        "\tAlpha: 0.352631578947\n",
        "\tRMSE: 0.310934454811"
       ]
      },
      {
       "output_type": "stream",
       "stream": "stdout",
       "text": [
        "\n",
        "\tAlpha: 0.384210526316\n",
        "\tRMSE: 0.311367454101"
       ]
      },
      {
       "output_type": "stream",
       "stream": "stdout",
       "text": [
        "\n",
        "\tAlpha: 0.415789473684\n",
        "\tRMSE: 0.311780130426"
       ]
      },
      {
       "output_type": "stream",
       "stream": "stdout",
       "text": [
        "\n",
        "\tAlpha: 0.447368421053\n",
        "\tRMSE: 0.312173982661"
       ]
      },
      {
       "output_type": "stream",
       "stream": "stdout",
       "text": [
        "\n",
        "\tAlpha: 0.478947368421\n",
        "\tRMSE: 0.312550379655"
       ]
      },
      {
       "output_type": "stream",
       "stream": "stdout",
       "text": [
        "\n",
        "\tAlpha: 0.510526315789\n",
        "\tRMSE: 0.312910576128"
       ]
      },
      {
       "output_type": "stream",
       "stream": "stdout",
       "text": [
        "\n",
        "\tAlpha: 0.542105263158\n",
        "\tRMSE: 0.313255723596"
       ]
      },
      {
       "output_type": "stream",
       "stream": "stdout",
       "text": [
        "\n",
        "\tAlpha: 0.573684210526\n",
        "\tRMSE: 0.313586879113"
       ]
      },
      {
       "output_type": "stream",
       "stream": "stdout",
       "text": [
        "\n",
        "\tAlpha: 0.605263157895\n",
        "\tRMSE: 0.313905012949"
       ]
      },
      {
       "output_type": "stream",
       "stream": "stdout",
       "text": [
        "\n",
        "\tAlpha: 0.636842105263\n",
        "\tRMSE: 0.314211015657"
       ]
      },
      {
       "output_type": "stream",
       "stream": "stdout",
       "text": [
        "\n",
        "\tAlpha: 0.668421052632\n",
        "\tRMSE: 0.314505704686"
       ]
      },
      {
       "output_type": "stream",
       "stream": "stdout",
       "text": [
        "\n",
        "\tAlpha: 0.7\n",
        "\tRMSE: 0.314789830566"
       ]
      },
      {
       "output_type": "stream",
       "stream": "stdout",
       "text": [
        "\n",
        "\n",
        "Scaler: No Filter\n",
        "\tAlpha: 0.1"
       ]
      },
      {
       "output_type": "stream",
       "stream": "stdout",
       "text": [
        "\n",
        "\tRMSE: 0.303645141302"
       ]
      },
      {
       "output_type": "stream",
       "stream": "stdout",
       "text": [
        "\n",
        "\tAlpha: 0.131578947368\n",
        "\tRMSE: 0.303477571432"
       ]
      },
      {
       "output_type": "stream",
       "stream": "stdout",
       "text": [
        "\n",
        "\tAlpha: 0.163157894737\n",
        "\tRMSE: 0.303373426387"
       ]
      },
      {
       "output_type": "stream",
       "stream": "stdout",
       "text": [
        "\n",
        "\tAlpha: 0.194736842105\n",
        "\tRMSE: 0.303332367351"
       ]
      },
      {
       "output_type": "stream",
       "stream": "stdout",
       "text": [
        "\n",
        "\tAlpha: 0.226315789474\n",
        "\tRMSE: 0.303344970535"
       ]
      },
      {
       "output_type": "stream",
       "stream": "stdout",
       "text": [
        "\n",
        "\tAlpha: 0.257894736842\n",
        "\tRMSE: 0.30340056329"
       ]
      },
      {
       "output_type": "stream",
       "stream": "stdout",
       "text": [
        "\n",
        "\tAlpha: 0.289473684211\n",
        "\tRMSE: 0.303489597287"
       ]
      },
      {
       "output_type": "stream",
       "stream": "stdout",
       "text": [
        "\n",
        "\tAlpha: 0.321052631579\n",
        "\tRMSE: 0.303604173704"
       ]
      },
      {
       "output_type": "stream",
       "stream": "stdout",
       "text": [
        "\n",
        "\tAlpha: 0.352631578947\n",
        "\tRMSE: 0.303737968811"
       ]
      },
      {
       "output_type": "stream",
       "stream": "stdout",
       "text": [
        "\n",
        "\tAlpha: 0.384210526316\n",
        "\tRMSE: 0.303885994429"
       ]
      },
      {
       "output_type": "stream",
       "stream": "stdout",
       "text": [
        "\n",
        "\tAlpha: 0.415789473684\n",
        "\tRMSE: 0.304044342467"
       ]
      },
      {
       "output_type": "stream",
       "stream": "stdout",
       "text": [
        "\n",
        "\tAlpha: 0.447368421053\n",
        "\tRMSE: 0.304209960255"
       ]
      },
      {
       "output_type": "stream",
       "stream": "stdout",
       "text": [
        "\n",
        "\tAlpha: 0.478947368421\n",
        "\tRMSE: 0.304380466527"
       ]
      },
      {
       "output_type": "stream",
       "stream": "stdout",
       "text": [
        "\n",
        "\tAlpha: 0.510526315789\n",
        "\tRMSE: 0.304554005309"
       ]
      },
      {
       "output_type": "stream",
       "stream": "stdout",
       "text": [
        "\n",
        "\tAlpha: 0.542105263158\n",
        "\tRMSE: 0.304729131564"
       ]
      },
      {
       "output_type": "stream",
       "stream": "stdout",
       "text": [
        "\n",
        "\tAlpha: 0.573684210526\n",
        "\tRMSE: 0.304904722217"
       ]
      },
      {
       "output_type": "stream",
       "stream": "stdout",
       "text": [
        "\n",
        "\tAlpha: 0.605263157895\n",
        "\tRMSE: 0.305079906989"
       ]
      },
      {
       "output_type": "stream",
       "stream": "stdout",
       "text": [
        "\n",
        "\tAlpha: 0.636842105263\n",
        "\tRMSE: 0.305254014602"
       ]
      },
      {
       "output_type": "stream",
       "stream": "stdout",
       "text": [
        "\n",
        "\tAlpha: 0.668421052632\n",
        "\tRMSE: 0.305426530817"
       ]
      },
      {
       "output_type": "stream",
       "stream": "stdout",
       "text": [
        "\n",
        "\tAlpha: 0.7\n",
        "\tRMSE: 0.305597065598"
       ]
      },
      {
       "output_type": "stream",
       "stream": "stdout",
       "text": [
        "\n",
        "\n",
        "....... Fold 7 .......\n",
        "Extremes of test set: \n",
        "[ 1.82922374  1.91295483  2.13370043]\n",
        "\n",
        "Scaler: 90 Filter\n",
        "\tAlpha: 0.1"
       ]
      },
      {
       "output_type": "stream",
       "stream": "stdout",
       "text": [
        "\n",
        "\tRMSE: 0.320508327404"
       ]
      },
      {
       "output_type": "stream",
       "stream": "stdout",
       "text": [
        "\n",
        "\tAlpha: 0.131578947368\n",
        "\tRMSE: 0.323633869654"
       ]
      },
      {
       "output_type": "stream",
       "stream": "stdout",
       "text": [
        "\n",
        "\tAlpha: 0.163157894737\n",
        "\tRMSE: 0.326406812871"
       ]
      },
      {
       "output_type": "stream",
       "stream": "stdout",
       "text": [
        "\n",
        "\tAlpha: 0.194736842105\n",
        "\tRMSE: 0.328874622432"
       ]
      },
      {
       "output_type": "stream",
       "stream": "stdout",
       "text": [
        "\n",
        "\tAlpha: 0.226315789474\n",
        "\tRMSE: 0.331091508961"
       ]
      },
      {
       "output_type": "stream",
       "stream": "stdout",
       "text": [
        "\n",
        "\tAlpha: 0.257894736842\n",
        "\tRMSE: 0.333101957465"
       ]
      },
      {
       "output_type": "stream",
       "stream": "stdout",
       "text": [
        "\n",
        "\tAlpha: 0.289473684211\n",
        "\tRMSE: 0.334940493437"
       ]
      },
      {
       "output_type": "stream",
       "stream": "stdout",
       "text": [
        "\n",
        "\tAlpha: 0.321052631579\n",
        "\tRMSE: 0.336633843872"
       ]
      },
      {
       "output_type": "stream",
       "stream": "stdout",
       "text": [
        "\n",
        "\tAlpha: 0.352631578947\n",
        "\tRMSE: 0.338202950683"
       ]
      },
      {
       "output_type": "stream",
       "stream": "stdout",
       "text": [
        "\n",
        "\tAlpha: 0.384210526316\n",
        "\tRMSE: 0.339664485517"
       ]
      },
      {
       "output_type": "stream",
       "stream": "stdout",
       "text": [
        "\n",
        "\tAlpha: 0.415789473684\n",
        "\tRMSE: 0.341031934236"
       ]
      },
      {
       "output_type": "stream",
       "stream": "stdout",
       "text": [
        "\n",
        "\tAlpha: 0.447368421053\n",
        "\tRMSE: 0.342316368512"
       ]
      },
      {
       "output_type": "stream",
       "stream": "stdout",
       "text": [
        "\n",
        "\tAlpha: 0.478947368421\n",
        "\tRMSE: 0.343526999665"
       ]
      },
      {
       "output_type": "stream",
       "stream": "stdout",
       "text": [
        "\n",
        "\tAlpha: 0.510526315789\n",
        "\tRMSE: 0.344671581956"
       ]
      },
      {
       "output_type": "stream",
       "stream": "stdout",
       "text": [
        "\n",
        "\tAlpha: 0.542105263158\n",
        "\tRMSE: 0.345756711086"
       ]
      },
      {
       "output_type": "stream",
       "stream": "stdout",
       "text": [
        "\n",
        "\tAlpha: 0.573684210526\n",
        "\tRMSE: 0.346788048809"
       ]
      },
      {
       "output_type": "stream",
       "stream": "stdout",
       "text": [
        "\n",
        "\tAlpha: 0.605263157895\n",
        "\tRMSE: 0.347770494588"
       ]
      },
      {
       "output_type": "stream",
       "stream": "stdout",
       "text": [
        "\n",
        "\tAlpha: 0.636842105263\n",
        "\tRMSE: 0.348708318704"
       ]
      },
      {
       "output_type": "stream",
       "stream": "stdout",
       "text": [
        "\n",
        "\tAlpha: 0.668421052632\n",
        "\tRMSE: 0.349605266944"
       ]
      },
      {
       "output_type": "stream",
       "stream": "stdout",
       "text": [
        "\n",
        "\tAlpha: 0.7\n",
        "\tRMSE: 0.350464643894"
       ]
      },
      {
       "output_type": "stream",
       "stream": "stdout",
       "text": [
        "\n",
        "\n",
        "Scaler: 95 Filter\n",
        "\tAlpha: 0.1"
       ]
      },
      {
       "output_type": "stream",
       "stream": "stdout",
       "text": [
        "\n",
        "\tRMSE: 0.301606507791"
       ]
      },
      {
       "output_type": "stream",
       "stream": "stdout",
       "text": [
        "\n",
        "\tAlpha: 0.131578947368\n",
        "\tRMSE: 0.303224155835"
       ]
      },
      {
       "output_type": "stream",
       "stream": "stdout",
       "text": [
        "\n",
        "\tAlpha: 0.163157894737\n",
        "\tRMSE: 0.305176413047"
       ]
      },
      {
       "output_type": "stream",
       "stream": "stdout",
       "text": [
        "\n",
        "\tAlpha: 0.194736842105\n",
        "\tRMSE: 0.307142800393"
       ]
      },
      {
       "output_type": "stream",
       "stream": "stdout",
       "text": [
        "\n",
        "\tAlpha: 0.226315789474\n",
        "\tRMSE: 0.309019149271"
       ]
      },
      {
       "output_type": "stream",
       "stream": "stdout",
       "text": [
        "\n",
        "\tAlpha: 0.257894736842\n",
        "\tRMSE: 0.310775044064"
       ]
      },
      {
       "output_type": "stream",
       "stream": "stdout",
       "text": [
        "\n",
        "\tAlpha: 0.289473684211\n",
        "\tRMSE: 0.312407083671"
       ]
      },
      {
       "output_type": "stream",
       "stream": "stdout",
       "text": [
        "\n",
        "\tAlpha: 0.321052631579\n",
        "\tRMSE: 0.313921792619"
       ]
      },
      {
       "output_type": "stream",
       "stream": "stdout",
       "text": [
        "\n",
        "\tAlpha: 0.352631578947\n",
        "\tRMSE: 0.315328934408"
       ]
      },
      {
       "output_type": "stream",
       "stream": "stdout",
       "text": [
        "\n",
        "\tAlpha: 0.384210526316\n",
        "\tRMSE: 0.316638815901"
       ]
      },
      {
       "output_type": "stream",
       "stream": "stdout",
       "text": [
        "\n",
        "\tAlpha: 0.415789473684\n",
        "\tRMSE: 0.317861220899"
       ]
      },
      {
       "output_type": "stream",
       "stream": "stdout",
       "text": [
        "\n",
        "\tAlpha: 0.447368421053\n",
        "\tRMSE: 0.319005034108"
       ]
      },
      {
       "output_type": "stream",
       "stream": "stdout",
       "text": [
        "\n",
        "\tAlpha: 0.478947368421\n",
        "\tRMSE: 0.320078160862"
       ]
      },
      {
       "output_type": "stream",
       "stream": "stdout",
       "text": [
        "\n",
        "\tAlpha: 0.510526315789\n",
        "\tRMSE: 0.321087569989"
       ]
      },
      {
       "output_type": "stream",
       "stream": "stdout",
       "text": [
        "\n",
        "\tAlpha: 0.542105263158\n",
        "\tRMSE: 0.322039382751"
       ]
      },
      {
       "output_type": "stream",
       "stream": "stdout",
       "text": [
        "\n",
        "\tAlpha: 0.573684210526\n",
        "\tRMSE: 0.322938973369"
       ]
      },
      {
       "output_type": "stream",
       "stream": "stdout",
       "text": [
        "\n",
        "\tAlpha: 0.605263157895\n",
        "\tRMSE: 0.323791066235"
       ]
      },
      {
       "output_type": "stream",
       "stream": "stdout",
       "text": [
        "\n",
        "\tAlpha: 0.636842105263\n",
        "\tRMSE: 0.324599823939"
       ]
      },
      {
       "output_type": "stream",
       "stream": "stdout",
       "text": [
        "\n",
        "\tAlpha: 0.668421052632\n",
        "\tRMSE: 0.325368924452"
       ]
      },
      {
       "output_type": "stream",
       "stream": "stdout",
       "text": [
        "\n",
        "\tAlpha: 0.7\n",
        "\tRMSE: 0.326101627678"
       ]
      },
      {
       "output_type": "stream",
       "stream": "stdout",
       "text": [
        "\n",
        "\n",
        "Scaler: No Filter\n",
        "\tAlpha: 0.1"
       ]
      },
      {
       "output_type": "stream",
       "stream": "stdout",
       "text": [
        "\n",
        "\tRMSE: 0.307170425573"
       ]
      },
      {
       "output_type": "stream",
       "stream": "stdout",
       "text": [
        "\n",
        "\tAlpha: 0.131578947368\n",
        "\tRMSE: 0.306113871532"
       ]
      },
      {
       "output_type": "stream",
       "stream": "stdout",
       "text": [
        "\n",
        "\tAlpha: 0.163157894737\n",
        "\tRMSE: 0.306123670518"
       ]
      },
      {
       "output_type": "stream",
       "stream": "stdout",
       "text": [
        "\n",
        "\tAlpha: 0.194736842105\n",
        "\tRMSE: 0.306644675088"
       ]
      },
      {
       "output_type": "stream",
       "stream": "stdout",
       "text": [
        "\n",
        "\tAlpha: 0.226315789474\n",
        "\tRMSE: 0.307414459432"
       ]
      },
      {
       "output_type": "stream",
       "stream": "stdout",
       "text": [
        "\n",
        "\tAlpha: 0.257894736842\n",
        "\tRMSE: 0.308299910665"
       ]
      },
      {
       "output_type": "stream",
       "stream": "stdout",
       "text": [
        "\n",
        "\tAlpha: 0.289473684211\n",
        "\tRMSE: 0.309230373857"
       ]
      },
      {
       "output_type": "stream",
       "stream": "stdout",
       "text": [
        "\n",
        "\tAlpha: 0.321052631579\n",
        "\tRMSE: 0.310167381864"
       ]
      },
      {
       "output_type": "stream",
       "stream": "stdout",
       "text": [
        "\n",
        "\tAlpha: 0.352631578947\n",
        "\tRMSE: 0.311089870085"
       ]
      },
      {
       "output_type": "stream",
       "stream": "stdout",
       "text": [
        "\n",
        "\tAlpha: 0.384210526316\n",
        "\tRMSE: 0.311986519399"
       ]
      },
      {
       "output_type": "stream",
       "stream": "stdout",
       "text": [
        "\n",
        "\tAlpha: 0.415789473684\n",
        "\tRMSE: 0.312851603845"
       ]
      },
      {
       "output_type": "stream",
       "stream": "stdout",
       "text": [
        "\n",
        "\tAlpha: 0.447368421053\n",
        "\tRMSE: 0.313682655169"
       ]
      },
      {
       "output_type": "stream",
       "stream": "stdout",
       "text": [
        "\n",
        "\tAlpha: 0.478947368421\n",
        "\tRMSE: 0.314479110836"
       ]
      },
      {
       "output_type": "stream",
       "stream": "stdout",
       "text": [
        "\n",
        "\tAlpha: 0.510526315789\n",
        "\tRMSE: 0.31524151371"
       ]
      },
      {
       "output_type": "stream",
       "stream": "stdout",
       "text": [
        "\n",
        "\tAlpha: 0.542105263158\n",
        "\tRMSE: 0.315971030533"
       ]
      },
      {
       "output_type": "stream",
       "stream": "stdout",
       "text": [
        "\n",
        "\tAlpha: 0.573684210526\n",
        "\tRMSE: 0.316669159129"
       ]
      },
      {
       "output_type": "stream",
       "stream": "stdout",
       "text": [
        "\n",
        "\tAlpha: 0.605263157895\n",
        "\tRMSE: 0.317337549674"
       ]
      },
      {
       "output_type": "stream",
       "stream": "stdout",
       "text": [
        "\n",
        "\tAlpha: 0.636842105263\n",
        "\tRMSE: 0.317977895922"
       ]
      },
      {
       "output_type": "stream",
       "stream": "stdout",
       "text": [
        "\n",
        "\tAlpha: 0.668421052632\n",
        "\tRMSE: 0.318591869976"
       ]
      },
      {
       "output_type": "stream",
       "stream": "stdout",
       "text": [
        "\n",
        "\tAlpha: 0.7\n",
        "\tRMSE: 0.319181084293"
       ]
      },
      {
       "output_type": "stream",
       "stream": "stdout",
       "text": [
        "\n",
        "\n",
        "....... Fold 8 .......\n",
        "Extremes of test set: \n",
        "[ 1.86728332  1.90153695  1.93579058]\n",
        "\n",
        "Scaler: 90 Filter\n",
        "\tAlpha: 0.1"
       ]
      },
      {
       "output_type": "stream",
       "stream": "stdout",
       "text": [
        "\n",
        "\tRMSE: 0.415479852412"
       ]
      },
      {
       "output_type": "stream",
       "stream": "stdout",
       "text": [
        "\n",
        "\tAlpha: 0.131578947368\n",
        "\tRMSE: 0.4144508562"
       ]
      },
      {
       "output_type": "stream",
       "stream": "stdout",
       "text": [
        "\n",
        "\tAlpha: 0.163157894737\n",
        "\tRMSE: 0.413812740653"
       ]
      },
      {
       "output_type": "stream",
       "stream": "stdout",
       "text": [
        "\n",
        "\tAlpha: 0.194736842105\n",
        "\tRMSE: 0.413392345778"
       ]
      },
      {
       "output_type": "stream",
       "stream": "stdout",
       "text": [
        "\n",
        "\tAlpha: 0.226315789474\n",
        "\tRMSE: 0.413105541862"
       ]
      },
      {
       "output_type": "stream",
       "stream": "stdout",
       "text": [
        "\n",
        "\tAlpha: 0.257894736842\n",
        "\tRMSE: 0.412906260974"
       ]
      },
      {
       "output_type": "stream",
       "stream": "stdout",
       "text": [
        "\n",
        "\tAlpha: 0.289473684211\n",
        "\tRMSE: 0.412767066638"
       ]
      },
      {
       "output_type": "stream",
       "stream": "stdout",
       "text": [
        "\n",
        "\tAlpha: 0.321052631579\n",
        "\tRMSE: 0.412670568744"
       ]
      },
      {
       "output_type": "stream",
       "stream": "stdout",
       "text": [
        "\n",
        "\tAlpha: 0.352631578947\n",
        "\tRMSE: 0.412605204887"
       ]
      },
      {
       "output_type": "stream",
       "stream": "stdout",
       "text": [
        "\n",
        "\tAlpha: 0.384210526316\n",
        "\tRMSE: 0.41256299254"
       ]
      },
      {
       "output_type": "stream",
       "stream": "stdout",
       "text": [
        "\n",
        "\tAlpha: 0.415789473684\n",
        "\tRMSE: 0.412538251954"
       ]
      },
      {
       "output_type": "stream",
       "stream": "stdout",
       "text": [
        "\n",
        "\tAlpha: 0.447368421053\n",
        "\tRMSE: 0.41252684164"
       ]
      },
      {
       "output_type": "stream",
       "stream": "stdout",
       "text": [
        "\n",
        "\tAlpha: 0.478947368421\n",
        "\tRMSE: 0.412525680526"
       ]
      },
      {
       "output_type": "stream",
       "stream": "stdout",
       "text": [
        "\n",
        "\tAlpha: 0.510526315789\n",
        "\tRMSE: 0.412532438022"
       ]
      },
      {
       "output_type": "stream",
       "stream": "stdout",
       "text": [
        "\n",
        "\tAlpha: 0.542105263158\n",
        "\tRMSE: 0.41254532677"
       ]
      },
      {
       "output_type": "stream",
       "stream": "stdout",
       "text": [
        "\n",
        "\tAlpha: 0.573684210526\n",
        "\tRMSE: 0.412562960146"
       ]
      },
      {
       "output_type": "stream",
       "stream": "stdout",
       "text": [
        "\n",
        "\tAlpha: 0.605263157895\n",
        "\tRMSE: 0.412584252092"
       ]
      },
      {
       "output_type": "stream",
       "stream": "stdout",
       "text": [
        "\n",
        "\tAlpha: 0.636842105263\n",
        "\tRMSE: 0.412608345193"
       ]
      },
      {
       "output_type": "stream",
       "stream": "stdout",
       "text": [
        "\n",
        "\tAlpha: 0.668421052632\n",
        "\tRMSE: 0.412634558121"
       ]
      },
      {
       "output_type": "stream",
       "stream": "stdout",
       "text": [
        "\n",
        "\tAlpha: 0.7\n",
        "\tRMSE: 0.412662346629"
       ]
      },
      {
       "output_type": "stream",
       "stream": "stdout",
       "text": [
        "\n",
        "\n",
        "Scaler: 95 Filter\n",
        "\tAlpha: 0.1"
       ]
      },
      {
       "output_type": "stream",
       "stream": "stdout",
       "text": [
        "\n",
        "\tRMSE: 0.410741557992"
       ]
      },
      {
       "output_type": "stream",
       "stream": "stdout",
       "text": [
        "\n",
        "\tAlpha: 0.131578947368\n",
        "\tRMSE: 0.410071197232"
       ]
      },
      {
       "output_type": "stream",
       "stream": "stdout",
       "text": [
        "\n",
        "\tAlpha: 0.163157894737\n",
        "\tRMSE: 0.409620052128"
       ]
      },
      {
       "output_type": "stream",
       "stream": "stdout",
       "text": [
        "\n",
        "\tAlpha: 0.194736842105\n",
        "\tRMSE: 0.409273158902"
       ]
      },
      {
       "output_type": "stream",
       "stream": "stdout",
       "text": [
        "\n",
        "\tAlpha: 0.226315789474\n",
        "\tRMSE: 0.408984262948"
       ]
      },
      {
       "output_type": "stream",
       "stream": "stdout",
       "text": [
        "\n",
        "\tAlpha: 0.257894736842\n",
        "\tRMSE: 0.408732382196"
       ]
      },
      {
       "output_type": "stream",
       "stream": "stdout",
       "text": [
        "\n",
        "\tAlpha: 0.289473684211\n",
        "\tRMSE: 0.408506971697"
       ]
      },
      {
       "output_type": "stream",
       "stream": "stdout",
       "text": [
        "\n",
        "\tAlpha: 0.321052631579\n",
        "\tRMSE: 0.408302185904"
       ]
      },
      {
       "output_type": "stream",
       "stream": "stdout",
       "text": [
        "\n",
        "\tAlpha: 0.352631578947\n",
        "\tRMSE: 0.408114451597"
       ]
      },
      {
       "output_type": "stream",
       "stream": "stdout",
       "text": [
        "\n",
        "\tAlpha: 0.384210526316\n",
        "\tRMSE: 0.407941368533"
       ]
      },
      {
       "output_type": "stream",
       "stream": "stdout",
       "text": [
        "\n",
        "\tAlpha: 0.415789473684\n",
        "\tRMSE: 0.407781182987"
       ]
      },
      {
       "output_type": "stream",
       "stream": "stdout",
       "text": [
        "\n",
        "\tAlpha: 0.447368421053\n",
        "\tRMSE: 0.407632523282"
       ]
      },
      {
       "output_type": "stream",
       "stream": "stdout",
       "text": [
        "\n",
        "\tAlpha: 0.478947368421\n",
        "\tRMSE: 0.407494260885"
       ]
      },
      {
       "output_type": "stream",
       "stream": "stdout",
       "text": [
        "\n",
        "\tAlpha: 0.510526315789\n",
        "\tRMSE: 0.407365434065"
       ]
      },
      {
       "output_type": "stream",
       "stream": "stdout",
       "text": [
        "\n",
        "\tAlpha: 0.542105263158\n",
        "\tRMSE: 0.407245203829"
       ]
      },
      {
       "output_type": "stream",
       "stream": "stdout",
       "text": [
        "\n",
        "\tAlpha: 0.573684210526\n",
        "\tRMSE: 0.407132827034"
       ]
      },
      {
       "output_type": "stream",
       "stream": "stdout",
       "text": [
        "\n",
        "\tAlpha: 0.605263157895\n",
        "\tRMSE: 0.407027638957"
       ]
      },
      {
       "output_type": "stream",
       "stream": "stdout",
       "text": [
        "\n",
        "\tAlpha: 0.636842105263\n",
        "\tRMSE: 0.406929041262"
       ]
      },
      {
       "output_type": "stream",
       "stream": "stdout",
       "text": [
        "\n",
        "\tAlpha: 0.668421052632\n",
        "\tRMSE: 0.406836493103"
       ]
      },
      {
       "output_type": "stream",
       "stream": "stdout",
       "text": [
        "\n",
        "\tAlpha: 0.7\n",
        "\tRMSE: 0.406749504216"
       ]
      },
      {
       "output_type": "stream",
       "stream": "stdout",
       "text": [
        "\n",
        "\n",
        "Scaler: No Filter\n",
        "\tAlpha: 0.1"
       ]
      },
      {
       "output_type": "stream",
       "stream": "stdout",
       "text": [
        "\n",
        "\tRMSE: 0.400449986534"
       ]
      },
      {
       "output_type": "stream",
       "stream": "stdout",
       "text": [
        "\n",
        "\tAlpha: 0.131578947368\n",
        "\tRMSE: 0.400634235634"
       ]
      },
      {
       "output_type": "stream",
       "stream": "stdout",
       "text": [
        "\n",
        "\tAlpha: 0.163157894737\n",
        "\tRMSE: 0.400901953728"
       ]
      },
      {
       "output_type": "stream",
       "stream": "stdout",
       "text": [
        "\n",
        "\tAlpha: 0.194736842105\n",
        "\tRMSE: 0.401189366124"
       ]
      },
      {
       "output_type": "stream",
       "stream": "stdout",
       "text": [
        "\n",
        "\tAlpha: 0.226315789474\n",
        "\tRMSE: 0.401474484824"
       ]
      },
      {
       "output_type": "stream",
       "stream": "stdout",
       "text": [
        "\n",
        "\tAlpha: 0.257894736842\n",
        "\tRMSE: 0.401749445836"
       ]
      },
      {
       "output_type": "stream",
       "stream": "stdout",
       "text": [
        "\n",
        "\tAlpha: 0.289473684211\n",
        "\tRMSE: 0.402011689204"
       ]
      },
      {
       "output_type": "stream",
       "stream": "stdout",
       "text": [
        "\n",
        "\tAlpha: 0.321052631579\n",
        "\tRMSE: 0.402260762693"
       ]
      },
      {
       "output_type": "stream",
       "stream": "stdout",
       "text": [
        "\n",
        "\tAlpha: 0.352631578947\n",
        "\tRMSE: 0.402497059813"
       ]
      },
      {
       "output_type": "stream",
       "stream": "stdout",
       "text": [
        "\n",
        "\tAlpha: 0.384210526316\n",
        "\tRMSE: 0.402721292768"
       ]
      },
      {
       "output_type": "stream",
       "stream": "stdout",
       "text": [
        "\n",
        "\tAlpha: 0.415789473684\n",
        "\tRMSE: 0.402934265697"
       ]
      },
      {
       "output_type": "stream",
       "stream": "stdout",
       "text": [
        "\n",
        "\tAlpha: 0.447368421053\n",
        "\tRMSE: 0.403136777094"
       ]
      },
      {
       "output_type": "stream",
       "stream": "stdout",
       "text": [
        "\n",
        "\tAlpha: 0.478947368421\n",
        "\tRMSE: 0.403329579821"
       ]
      },
      {
       "output_type": "stream",
       "stream": "stdout",
       "text": [
        "\n",
        "\tAlpha: 0.510526315789\n",
        "\tRMSE: 0.403513367212"
       ]
      },
      {
       "output_type": "stream",
       "stream": "stdout",
       "text": [
        "\n",
        "\tAlpha: 0.542105263158\n",
        "\tRMSE: 0.403688770979"
       ]
      },
      {
       "output_type": "stream",
       "stream": "stdout",
       "text": [
        "\n",
        "\tAlpha: 0.573684210526\n",
        "\tRMSE: 0.403856364171"
       ]
      },
      {
       "output_type": "stream",
       "stream": "stdout",
       "text": [
        "\n",
        "\tAlpha: 0.605263157895\n",
        "\tRMSE: 0.404016666158"
       ]
      },
      {
       "output_type": "stream",
       "stream": "stdout",
       "text": [
        "\n",
        "\tAlpha: 0.636842105263\n",
        "\tRMSE: 0.404170148069"
       ]
      },
      {
       "output_type": "stream",
       "stream": "stdout",
       "text": [
        "\n",
        "\tAlpha: 0.668421052632\n",
        "\tRMSE: 0.404317238075"
       ]
      },
      {
       "output_type": "stream",
       "stream": "stdout",
       "text": [
        "\n",
        "\tAlpha: 0.7\n",
        "\tRMSE: 0.404458326237"
       ]
      },
      {
       "output_type": "stream",
       "stream": "stdout",
       "text": [
        "\n",
        "\n",
        "....... Fold 9 .......\n",
        "Extremes of test set: \n",
        "[ 1.92817866  2.1641481   2.21362556]\n",
        "\n",
        "Scaler: 90 Filter\n",
        "\tAlpha: 0.1"
       ]
      },
      {
       "output_type": "stream",
       "stream": "stdout",
       "text": [
        "\n",
        "\tRMSE: 0.367946197198"
       ]
      },
      {
       "output_type": "stream",
       "stream": "stdout",
       "text": [
        "\n",
        "\tAlpha: 0.131578947368\n",
        "\tRMSE: 0.367443281605"
       ]
      },
      {
       "output_type": "stream",
       "stream": "stdout",
       "text": [
        "\n",
        "\tAlpha: 0.163157894737\n",
        "\tRMSE: 0.367098206314"
       ]
      },
      {
       "output_type": "stream",
       "stream": "stdout",
       "text": [
        "\n",
        "\tAlpha: 0.194736842105\n",
        "\tRMSE: 0.366858575038"
       ]
      },
      {
       "output_type": "stream",
       "stream": "stdout",
       "text": [
        "\n",
        "\tAlpha: 0.226315789474\n",
        "\tRMSE: 0.36669628992"
       ]
      },
      {
       "output_type": "stream",
       "stream": "stdout",
       "text": [
        "\n",
        "\tAlpha: 0.257894736842\n",
        "\tRMSE: 0.366593609732"
       ]
      },
      {
       "output_type": "stream",
       "stream": "stdout",
       "text": [
        "\n",
        "\tAlpha: 0.289473684211\n",
        "\tRMSE: 0.366538264603"
       ]
      },
      {
       "output_type": "stream",
       "stream": "stdout",
       "text": [
        "\n",
        "\tAlpha: 0.321052631579\n",
        "\tRMSE: 0.366521285717"
       ]
      },
      {
       "output_type": "stream",
       "stream": "stdout",
       "text": [
        "\n",
        "\tAlpha: 0.352631578947\n",
        "\tRMSE: 0.366535871162"
       ]
      },
      {
       "output_type": "stream",
       "stream": "stdout",
       "text": [
        "\n",
        "\tAlpha: 0.384210526316\n",
        "\tRMSE: 0.366576723966"
       ]
      },
      {
       "output_type": "stream",
       "stream": "stdout",
       "text": [
        "\n",
        "\tAlpha: 0.415789473684\n",
        "\tRMSE: 0.366639634997"
       ]
      },
      {
       "output_type": "stream",
       "stream": "stdout",
       "text": [
        "\n",
        "\tAlpha: 0.447368421053\n",
        "\tRMSE: 0.366721205331"
       ]
      },
      {
       "output_type": "stream",
       "stream": "stdout",
       "text": [
        "\n",
        "\tAlpha: 0.478947368421\n",
        "\tRMSE: 0.366818653771"
       ]
      },
      {
       "output_type": "stream",
       "stream": "stdout",
       "text": [
        "\n",
        "\tAlpha: 0.510526315789\n",
        "\tRMSE: 0.366929679085"
       ]
      },
      {
       "output_type": "stream",
       "stream": "stdout",
       "text": [
        "\n",
        "\tAlpha: 0.542105263158\n",
        "\tRMSE: 0.367052358932"
       ]
      },
      {
       "output_type": "stream",
       "stream": "stdout",
       "text": [
        "\n",
        "\tAlpha: 0.573684210526\n",
        "\tRMSE: 0.367185074094"
       ]
      },
      {
       "output_type": "stream",
       "stream": "stdout",
       "text": [
        "\n",
        "\tAlpha: 0.605263157895\n",
        "\tRMSE: 0.367326450707"
       ]
      },
      {
       "output_type": "stream",
       "stream": "stdout",
       "text": [
        "\n",
        "\tAlpha: 0.636842105263\n",
        "\tRMSE: 0.367475315525"
       ]
      },
      {
       "output_type": "stream",
       "stream": "stdout",
       "text": [
        "\n",
        "\tAlpha: 0.668421052632\n",
        "\tRMSE: 0.367630660849"
       ]
      },
      {
       "output_type": "stream",
       "stream": "stdout",
       "text": [
        "\n",
        "\tAlpha: 0.7\n",
        "\tRMSE: 0.367791616668"
       ]
      },
      {
       "output_type": "stream",
       "stream": "stdout",
       "text": [
        "\n",
        "\n",
        "Scaler: 95 Filter\n",
        "\tAlpha: 0.1"
       ]
      },
      {
       "output_type": "stream",
       "stream": "stdout",
       "text": [
        "\n",
        "\tRMSE: 0.356485774831"
       ]
      },
      {
       "output_type": "stream",
       "stream": "stdout",
       "text": [
        "\n",
        "\tAlpha: 0.131578947368\n",
        "\tRMSE: 0.354844754981"
       ]
      },
      {
       "output_type": "stream",
       "stream": "stdout",
       "text": [
        "\n",
        "\tAlpha: 0.163157894737\n",
        "\tRMSE: 0.353708849153"
       ]
      },
      {
       "output_type": "stream",
       "stream": "stdout",
       "text": [
        "\n",
        "\tAlpha: 0.194736842105\n",
        "\tRMSE: 0.352899814388"
       ]
      },
      {
       "output_type": "stream",
       "stream": "stdout",
       "text": [
        "\n",
        "\tAlpha: 0.226315789474\n",
        "\tRMSE: 0.352314549822"
       ]
      },
      {
       "output_type": "stream",
       "stream": "stdout",
       "text": [
        "\n",
        "\tAlpha: 0.257894736842\n",
        "\tRMSE: 0.351888771365"
       ]
      },
      {
       "output_type": "stream",
       "stream": "stdout",
       "text": [
        "\n",
        "\tAlpha: 0.289473684211\n",
        "\tRMSE: 0.351580205387"
       ]
      },
      {
       "output_type": "stream",
       "stream": "stdout",
       "text": [
        "\n",
        "\tAlpha: 0.321052631579\n",
        "\tRMSE: 0.351359896204"
       ]
      },
      {
       "output_type": "stream",
       "stream": "stdout",
       "text": [
        "\n",
        "\tAlpha: 0.352631578947\n",
        "\tRMSE: 0.351207353665"
       ]
      },
      {
       "output_type": "stream",
       "stream": "stdout",
       "text": [
        "\n",
        "\tAlpha: 0.384210526316\n",
        "\tRMSE: 0.35110768469"
       ]
      },
      {
       "output_type": "stream",
       "stream": "stdout",
       "text": [
        "\n",
        "\tAlpha: 0.415789473684\n",
        "\tRMSE: 0.351049818724"
       ]
      },
      {
       "output_type": "stream",
       "stream": "stdout",
       "text": [
        "\n",
        "\tAlpha: 0.447368421053\n",
        "\tRMSE: 0.351025368083"
       ]
      },
      {
       "output_type": "stream",
       "stream": "stdout",
       "text": [
        "\n",
        "\tAlpha: 0.478947368421\n",
        "\tRMSE: 0.351027872649"
       ]
      },
      {
       "output_type": "stream",
       "stream": "stdout",
       "text": [
        "\n",
        "\tAlpha: 0.510526315789\n",
        "\tRMSE: 0.351052285532"
       ]
      },
      {
       "output_type": "stream",
       "stream": "stdout",
       "text": [
        "\n",
        "\tAlpha: 0.542105263158\n",
        "\tRMSE: 0.351094614571"
       ]
      },
      {
       "output_type": "stream",
       "stream": "stdout",
       "text": [
        "\n",
        "\tAlpha: 0.573684210526\n",
        "\tRMSE: 0.351151667143"
       ]
      },
      {
       "output_type": "stream",
       "stream": "stdout",
       "text": [
        "\n",
        "\tAlpha: 0.605263157895\n",
        "\tRMSE: 0.351220865243"
       ]
      },
      {
       "output_type": "stream",
       "stream": "stdout",
       "text": [
        "\n",
        "\tAlpha: 0.636842105263\n",
        "\tRMSE: 0.351300109241"
       ]
      },
      {
       "output_type": "stream",
       "stream": "stdout",
       "text": [
        "\n",
        "\tAlpha: 0.668421052632\n",
        "\tRMSE: 0.351387676011"
       ]
      },
      {
       "output_type": "stream",
       "stream": "stdout",
       "text": [
        "\n",
        "\tAlpha: 0.7\n",
        "\tRMSE: 0.351482141749"
       ]
      },
      {
       "output_type": "stream",
       "stream": "stdout",
       "text": [
        "\n",
        "\n",
        "Scaler: No Filter\n",
        "\tAlpha: 0.1"
       ]
      },
      {
       "output_type": "stream",
       "stream": "stdout",
       "text": [
        "\n",
        "\tRMSE: 0.363563943738"
       ]
      },
      {
       "output_type": "stream",
       "stream": "stdout",
       "text": [
        "\n",
        "\tAlpha: 0.131578947368\n",
        "\tRMSE: 0.36132384288"
       ]
      },
      {
       "output_type": "stream",
       "stream": "stdout",
       "text": [
        "\n",
        "\tAlpha: 0.163157894737\n",
        "\tRMSE: 0.359573148235"
       ]
      },
      {
       "output_type": "stream",
       "stream": "stdout",
       "text": [
        "\n",
        "\tAlpha: 0.194736842105\n",
        "\tRMSE: 0.358174894568"
       ]
      },
      {
       "output_type": "stream",
       "stream": "stdout",
       "text": [
        "\n",
        "\tAlpha: 0.226315789474\n",
        "\tRMSE: 0.357037779156"
       ]
      },
      {
       "output_type": "stream",
       "stream": "stdout",
       "text": [
        "\n",
        "\tAlpha: 0.257894736842\n",
        "\tRMSE: 0.356099336191"
       ]
      },
      {
       "output_type": "stream",
       "stream": "stdout",
       "text": [
        "\n",
        "\tAlpha: 0.289473684211\n",
        "\tRMSE: 0.355315527511"
       ]
      },
      {
       "output_type": "stream",
       "stream": "stdout",
       "text": [
        "\n",
        "\tAlpha: 0.321052631579\n",
        "\tRMSE: 0.354654425001"
       ]
      },
      {
       "output_type": "stream",
       "stream": "stdout",
       "text": [
        "\n",
        "\tAlpha: 0.352631578947\n",
        "\tRMSE: 0.354092300693"
       ]
      },
      {
       "output_type": "stream",
       "stream": "stdout",
       "text": [
        "\n",
        "\tAlpha: 0.384210526316\n",
        "\tRMSE: 0.353611137139"
       ]
      },
      {
       "output_type": "stream",
       "stream": "stdout",
       "text": [
        "\n",
        "\tAlpha: 0.415789473684\n",
        "\tRMSE: 0.353196995219"
       ]
      },
      {
       "output_type": "stream",
       "stream": "stdout",
       "text": [
        "\n",
        "\tAlpha: 0.447368421053\n",
        "\tRMSE: 0.352838914408"
       ]
      },
      {
       "output_type": "stream",
       "stream": "stdout",
       "text": [
        "\n",
        "\tAlpha: 0.478947368421\n",
        "\tRMSE: 0.352528153018"
       ]
      },
      {
       "output_type": "stream",
       "stream": "stdout",
       "text": [
        "\n",
        "\tAlpha: 0.510526315789\n",
        "\tRMSE: 0.352257651442"
       ]
      },
      {
       "output_type": "stream",
       "stream": "stdout",
       "text": [
        "\n",
        "\tAlpha: 0.542105263158\n",
        "\tRMSE: 0.352021645199"
       ]
      },
      {
       "output_type": "stream",
       "stream": "stdout",
       "text": [
        "\n",
        "\tAlpha: 0.573684210526\n",
        "\tRMSE: 0.351815380892"
       ]
      },
      {
       "output_type": "stream",
       "stream": "stdout",
       "text": [
        "\n",
        "\tAlpha: 0.605263157895\n",
        "\tRMSE: 0.351634904321"
       ]
      },
      {
       "output_type": "stream",
       "stream": "stdout",
       "text": [
        "\n",
        "\tAlpha: 0.636842105263\n",
        "\tRMSE: 0.351476900035"
       ]
      },
      {
       "output_type": "stream",
       "stream": "stdout",
       "text": [
        "\n",
        "\tAlpha: 0.668421052632\n",
        "\tRMSE: 0.351338568276"
       ]
      },
      {
       "output_type": "stream",
       "stream": "stdout",
       "text": [
        "\n",
        "\tAlpha: 0.7\n",
        "\tRMSE: 0.351217529428"
       ]
      },
      {
       "output_type": "stream",
       "stream": "stdout",
       "text": [
        "\n"
       ]
      }
     ],
     "prompt_number": 143
    },
    {
     "cell_type": "code",
     "collapsed": false,
     "input": [
      "%matplotlib inline\n",
      "\n",
      "RMSEs = np.sqrt((cv_values['Sand'].T**2).sum(axis = 1).div(k))\n",
      "\n",
      "groups = RMSEs.groupby(by = lambda idx: idx[1])\n",
      "for (key, group) in groups:\n",
      "    group = pd.Series(group.values, index = alphas)\n",
      "    group.plot(label = key, figsize = (10,8), logx = False)\n",
      "\n",
      "plt.title('No Intercept, no trans')\n",
      "plt.legend()"
     ],
     "language": "python",
     "metadata": {},
     "outputs": [
      {
       "metadata": {},
       "output_type": "pyout",
       "prompt_number": 144,
       "text": [
        "<matplotlib.legend.Legend at 0x1243c1790>"
       ]
      },
      {
       "metadata": {},
       "output_type": "display_data",
       "png": "[encoded data removed]",
       "text": [
        "<matplotlib.figure.Figure at 0x12b6d2b50>"
       ]
      }
     ],
     "prompt_number": 144
    },
    {
     "cell_type": "heading",
     "level": 4,
     "metadata": {},
     "source": [
      "Make Final Predictions"
     ]
    },
    {
     "cell_type": "heading",
     "level": 5,
     "metadata": {},
     "source": [
      "Sand RR"
     ]
    },
    {
     "cell_type": "code",
     "collapsed": false,
     "input": [
      "# offset = np.abs(min(targets.SOC)) + np.exp(-1)\n",
      "# y_trans_func = lambda y : np.log(offset + y)\n",
      "# y_inv_trans = lambda z : np.exp(z) - offset\n",
      "\n",
      "# y_trans_func = np.arcsinh\n",
      "# y_inv_trans = np.sinh\n",
      "\n",
      "y_trans_func = y_inv_trans = lambda y : y\n",
      "\n",
      "X = pd.concat([wave, spatial], axis = 1)\n",
      "X_test = pd.concat([wave_test, spatial_test], axis = 1)\n",
      "\n",
      "Y = y_trans_func(targets)\n",
      "\n",
      "y = Y[['Sand']]\n",
      "\n",
      "# sclr = pipe.Pipeline([('Corr Filter' , fs.SelectPercentile(score_func=fs.f_regression, percentile=90)),\\\n",
      "#                       ('Standardization', pp.StandardScaler())]\n",
      "\n",
      "sclr = pp.StandardScaler()\n",
      "\n",
      "alpha = .27\n",
      "\n",
      "X = sclr.fit_transform(X, y)\n",
      "X_test = sclr.transform(X_test)\n",
      "\n",
      "rr_obj = lm.Ridge(alpha = alpha, fit_intercept=False)\n",
      "rr_obj.fit(X,y)\n",
      "y_preds = y_inv_trans(rr_obj.predict(X_test))"
     ],
     "language": "python",
     "metadata": {},
     "outputs": [],
     "prompt_number": 154
    },
    {
     "cell_type": "code",
     "collapsed": false,
     "input": [
      "y_preds = pd.DataFrame(y_preds, index = wave_test.index, columns = ['Sand'])"
     ],
     "language": "python",
     "metadata": {},
     "outputs": [],
     "prompt_number": 155
    },
    {
     "cell_type": "code",
     "collapsed": false,
     "input": [
      "y_preds.head()"
     ],
     "language": "python",
     "metadata": {},
     "outputs": [
      {
       "html": [
        "<div style=\"max-height:1000px;max-width:1500px;overflow:auto;\">\n",
        "<table border=\"1\" class=\"dataframe\">\n",
        "  <thead>\n",
        "    <tr style=\"text-align: right;\">\n",
        "      <th></th>\n",
        "      <th>Sand</th>\n",
        "    </tr>\n",
        "    <tr>\n",
        "      <th>PIDN</th>\n",
        "      <th></th>\n",
        "    </tr>\n",
        "  </thead>\n",
        "  <tbody>\n",
        "    <tr>\n",
        "      <th>09gt9UK5</th>\n",
        "      <td> 1.655029</td>\n",
        "    </tr>\n",
        "    <tr>\n",
        "      <th>0BVvxJ6a</th>\n",
        "      <td>-1.557524</td>\n",
        "    </tr>\n",
        "    <tr>\n",
        "      <th>0KbdgApg</th>\n",
        "      <td>-0.725939</td>\n",
        "    </tr>\n",
        "    <tr>\n",
        "      <th>0MnuuduB</th>\n",
        "      <td>-0.888446</td>\n",
        "    </tr>\n",
        "    <tr>\n",
        "      <th>0PcIsF9z</th>\n",
        "      <td>-0.645098</td>\n",
        "    </tr>\n",
        "  </tbody>\n",
        "</table>\n",
        "</div>"
       ],
       "metadata": {},
       "output_type": "pyout",
       "prompt_number": 156,
       "text": [
        "              Sand\n",
        "PIDN              \n",
        "09gt9UK5  1.655029\n",
        "0BVvxJ6a -1.557524\n",
        "0KbdgApg -0.725939\n",
        "0MnuuduB -0.888446\n",
        "0PcIsF9z -0.645098"
       ]
      }
     ],
     "prompt_number": 156
    },
    {
     "cell_type": "code",
     "collapsed": false,
     "input": [
      "y_preds.Sand.hist(bins = 200)"
     ],
     "language": "python",
     "metadata": {},
     "outputs": [
      {
       "metadata": {},
       "output_type": "pyout",
       "prompt_number": 157,
       "text": [
        "<matplotlib.axes.AxesSubplot at 0x11d6293d0>"
       ]
      },
      {
       "metadata": {},
       "output_type": "display_data",
       "png": "[encoded data removed]",
       "text": [
        "<matplotlib.figure.Figure at 0x11e0d7d90>"
       ]
      }
     ],
     "prompt_number": 157
    },
    {
     "cell_type": "code",
     "collapsed": false,
     "input": [
      "targets.Sand.hist(bins = 200)"
     ],
     "language": "python",
     "metadata": {},
     "outputs": [
      {
       "metadata": {},
       "output_type": "pyout",
       "prompt_number": 158,
       "text": [
        "<matplotlib.axes.AxesSubplot at 0x11ded1410>"
       ]
      },
      {
       "metadata": {},
       "output_type": "display_data",
       "png": "[encoded data removed]",
       "text": [
        "<matplotlib.figure.Figure at 0x11cef39d0>"
       ]
      }
     ],
     "prompt_number": 158
    },
    {
     "cell_type": "code",
     "collapsed": false,
     "input": [
      "y_preds.to_csv('./Final Predictions/Sand/RRNoIntNoTransNoTrunc.csv')"
     ],
     "language": "python",
     "metadata": {},
     "outputs": [],
     "prompt_number": 159
    },
    {
     "cell_type": "code",
     "collapsed": false,
     "input": [
      "y_p = np.maximum(min(targets.Sand),y_preds)"
     ],
     "language": "python",
     "metadata": {},
     "outputs": [],
     "prompt_number": 160
    },
    {
     "cell_type": "code",
     "collapsed": false,
     "input": [
      "y_p.Sand.hist(bins = 200)"
     ],
     "language": "python",
     "metadata": {},
     "outputs": [
      {
       "metadata": {},
       "output_type": "pyout",
       "prompt_number": 161,
       "text": [
        "<matplotlib.axes.AxesSubplot at 0x12ed47690>"
       ]
      },
      {
       "metadata": {},
       "output_type": "display_data",
       "png": "[encoded data removed]",
       "text": [
        "<matplotlib.figure.Figure at 0x12a661fd0>"
       ]
      }
     ],
     "prompt_number": 161
    },
    {
     "cell_type": "code",
     "collapsed": false,
     "input": [
      "# y_p = pd.DataFrame(y_p, index = wave_test.index, columns = ['Sand'])\n",
      "y_p.to_csv('./Final Predictions/Sand/RRNoIntNoTransTrunc.csv')"
     ],
     "language": "python",
     "metadata": {},
     "outputs": [],
     "prompt_number": 162
    },
    {
     "cell_type": "heading",
     "level": 5,
     "metadata": {},
     "source": [
      "SOC RR"
     ]
    },
    {
     "cell_type": "code",
     "collapsed": false,
     "input": [
      "offset = np.abs(min(targets.SOC)) + np.exp(-1)\n",
      "y_trans_func = lambda y : np.log(offset + y)\n",
      "y_inv_trans = lambda z : np.exp(z) - offset\n",
      "\n",
      "# y_trans_func = np.arcsinh\n",
      "# y_inv_trans = np.sinh\n",
      "\n",
      "# y_trans_func = y_inv_trans = lambda y : y\n",
      "\n",
      "X = pd.concat([wave, spatial], axis = 1)\n",
      "X_test = pd.concat([wave_test, spatial_test], axis = 1)\n",
      "\n",
      "Y = y_trans_func(targets)\n",
      "\n",
      "y = Y[['SOC']]\n",
      "\n",
      "sclr = pipe.Pipeline([('Corr Filter' , fs.SelectPercentile(score_func=fs.f_regression, percentile=90)),\\\n",
      "                      ('Standardization', pp.StandardScaler())]\n",
      "\n",
      "# sclr = pp.StandardScaler()\n",
      "\n",
      "alpha = 1\n",
      "\n",
      "X = sclr.fit_transform(X, y)\n",
      "X_test = sclr.transform(X_test)\n",
      "\n",
      "rr_obj = lm.Ridge(alpha = alpha, fit_intercept=True)\n",
      "rr_obj.fit(X,y)\n",
      "y_preds = y_inv_trans(rr_obj.predict(X_test))"
     ],
     "language": "python",
     "metadata": {},
     "outputs": [],
     "prompt_number": 84
    },
    {
     "cell_type": "code",
     "collapsed": false,
     "input": [
      "y_p = np.maximum(min(targets.SOC),y_preds)\n",
      "targets.SOC.hist(bins = 50)"
     ],
     "language": "python",
     "metadata": {},
     "outputs": [
      {
       "metadata": {},
       "output_type": "pyout",
       "prompt_number": 85,
       "text": [
        "<matplotlib.axes.AxesSubplot at 0x11bf01390>"
       ]
      },
      {
       "metadata": {},
       "output_type": "display_data",
       "png": "[encoded data removed]",
       "text": [
        "<matplotlib.figure.Figure at 0x11bdddad0>"
       ]
      }
     ],
     "prompt_number": 85
    },
    {
     "cell_type": "code",
     "collapsed": false,
     "input": [
      "pd.Series(y_p.flatten()).hist(bins = 50)"
     ],
     "language": "python",
     "metadata": {},
     "outputs": [
      {
       "metadata": {},
       "output_type": "pyout",
       "prompt_number": 86,
       "text": [
        "<matplotlib.axes.AxesSubplot at 0x11a908690>"
       ]
      },
      {
       "metadata": {},
       "output_type": "display_data",
       "png": "[encoded data removed]",
       "text": [
        "<matplotlib.figure.Figure at 0x11bcd0a90>"
       ]
      }
     ],
     "prompt_number": 86
    },
    {
     "cell_type": "code",
     "collapsed": false,
     "input": [
      "y_p = pd.DataFrame(y_p, index = wave_test.index, columns = ['SOC'])\n",
      "y_p.head()"
     ],
     "language": "python",
     "metadata": {},
     "outputs": [
      {
       "html": [
        "<div style=\"max-height:1000px;max-width:1500px;overflow:auto;\">\n",
        "<table border=\"1\" class=\"dataframe\">\n",
        "  <thead>\n",
        "    <tr style=\"text-align: right;\">\n",
        "      <th></th>\n",
        "      <th>SOC</th>\n",
        "    </tr>\n",
        "    <tr>\n",
        "      <th>PIDN</th>\n",
        "      <th></th>\n",
        "    </tr>\n",
        "  </thead>\n",
        "  <tbody>\n",
        "    <tr>\n",
        "      <th>09gt9UK5</th>\n",
        "      <td>-0.676617</td>\n",
        "    </tr>\n",
        "    <tr>\n",
        "      <th>0BVvxJ6a</th>\n",
        "      <td> 0.053729</td>\n",
        "    </tr>\n",
        "    <tr>\n",
        "      <th>0KbdgApg</th>\n",
        "      <td> 0.148986</td>\n",
        "    </tr>\n",
        "    <tr>\n",
        "      <th>0MnuuduB</th>\n",
        "      <td> 0.294410</td>\n",
        "    </tr>\n",
        "    <tr>\n",
        "      <th>0PcIsF9z</th>\n",
        "      <td> 0.175452</td>\n",
        "    </tr>\n",
        "  </tbody>\n",
        "</table>\n",
        "</div>"
       ],
       "metadata": {},
       "output_type": "pyout",
       "prompt_number": 88,
       "text": [
        "               SOC\n",
        "PIDN              \n",
        "09gt9UK5 -0.676617\n",
        "0BVvxJ6a  0.053729\n",
        "0KbdgApg  0.148986\n",
        "0MnuuduB  0.294410\n",
        "0PcIsF9z  0.175452"
       ]
      }
     ],
     "prompt_number": 88
    },
    {
     "cell_type": "code",
     "collapsed": false,
     "input": [
      "y_p.to_csv('./Final Predictions/SOC/RR90LogTransTrunc.csv')"
     ],
     "language": "python",
     "metadata": {},
     "outputs": [],
     "prompt_number": 89
    },
    {
     "cell_type": "heading",
     "level": 5,
     "metadata": {},
     "source": [
      "pH RR"
     ]
    },
    {
     "cell_type": "code",
     "collapsed": false,
     "input": [
      "# offset = np.abs(min(targets.P)) + np.exp(-1)\n",
      "# y_trans_func = lambda y : np.log(offset + y)\n",
      "# y_inv_trans = lambda z : np.exp(z) - offset\n",
      "\n",
      "# y_trans_func = np.arcsinh\n",
      "# y_inv_trans = np.sinh\n",
      "\n",
      "y_trans_func = y_inv_trans = lambda y : y\n",
      "\n",
      "X = pd.concat([wave, spatial], axis = 1)\n",
      "X_test = pd.concat([wave_test, spatial_test], axis = 1)\n",
      "\n",
      "Y = y_trans_func(targets)\n",
      "\n",
      "y = Y[['pH']]\n",
      "\n",
      "sclr = pp.StandardScaler()\n",
      "\n",
      "alpha = .085\n",
      "\n",
      "X = sclr.fit_transform(X, y)\n",
      "X_test = sclr.transform(X_test)\n",
      "\n",
      "rr_obj = lm.Ridge(alpha = alpha, fit_intercept=True)\n",
      "rr_obj.fit(X,y)\n",
      "y_preds = y_inv_trans(rr_obj.predict(X_test))"
     ],
     "language": "python",
     "metadata": {},
     "outputs": [],
     "prompt_number": 61
    },
    {
     "cell_type": "code",
     "collapsed": false,
     "input": [
      "y_preds = pd.DataFrame(y_preds, index = wave_test.index, columns = ['pH'])"
     ],
     "language": "python",
     "metadata": {},
     "outputs": [],
     "prompt_number": 65
    },
    {
     "cell_type": "code",
     "collapsed": false,
     "input": [
      "y_preds.to_csv('./Final Predictions/pH/RRIntNoTransNoTrunc.csv')"
     ],
     "language": "python",
     "metadata": {},
     "outputs": [],
     "prompt_number": 69
    },
    {
     "cell_type": "code",
     "collapsed": false,
     "input": [
      "y_preds.head()"
     ],
     "language": "python",
     "metadata": {},
     "outputs": [
      {
       "html": [
        "<div style=\"max-height:1000px;max-width:1500px;overflow:auto;\">\n",
        "<table border=\"1\" class=\"dataframe\">\n",
        "  <thead>\n",
        "    <tr style=\"text-align: right;\">\n",
        "      <th></th>\n",
        "      <th>pH</th>\n",
        "    </tr>\n",
        "    <tr>\n",
        "      <th>PIDN</th>\n",
        "      <th></th>\n",
        "    </tr>\n",
        "  </thead>\n",
        "  <tbody>\n",
        "    <tr>\n",
        "      <th>09gt9UK5</th>\n",
        "      <td>-1.264370</td>\n",
        "    </tr>\n",
        "    <tr>\n",
        "      <th>0BVvxJ6a</th>\n",
        "      <td> 0.777733</td>\n",
        "    </tr>\n",
        "    <tr>\n",
        "      <th>0KbdgApg</th>\n",
        "      <td> 0.200884</td>\n",
        "    </tr>\n",
        "    <tr>\n",
        "      <th>0MnuuduB</th>\n",
        "      <td> 0.029143</td>\n",
        "    </tr>\n",
        "    <tr>\n",
        "      <th>0PcIsF9z</th>\n",
        "      <td>-1.821183</td>\n",
        "    </tr>\n",
        "  </tbody>\n",
        "</table>\n",
        "</div>"
       ],
       "metadata": {},
       "output_type": "pyout",
       "prompt_number": 66,
       "text": [
        "                pH\n",
        "PIDN              \n",
        "09gt9UK5 -1.264370\n",
        "0BVvxJ6a  0.777733\n",
        "0KbdgApg  0.200884\n",
        "0MnuuduB  0.029143\n",
        "0PcIsF9z -1.821183"
       ]
      }
     ],
     "prompt_number": 66
    },
    {
     "cell_type": "code",
     "collapsed": false,
     "input": [
      "pd.Series(y_preds.flatten()).hist(bins = 50)"
     ],
     "language": "python",
     "metadata": {},
     "outputs": [
      {
       "metadata": {},
       "output_type": "pyout",
       "prompt_number": 62,
       "text": [
        "<matplotlib.axes.AxesSubplot at 0x11716f410>"
       ]
      },
      {
       "metadata": {},
       "output_type": "display_data",
       "png": "[encoded data removed]",
       "text": [
        "<matplotlib.figure.Figure at 0x116ef7910>"
       ]
      }
     ],
     "prompt_number": 62
    },
    {
     "cell_type": "code",
     "collapsed": false,
     "input": [
      "y_p = np.maximum(min(targets.pH),y_preds)\n",
      "targets.pH.hist(bins = 50)"
     ],
     "language": "python",
     "metadata": {},
     "outputs": [
      {
       "metadata": {},
       "output_type": "pyout",
       "prompt_number": 63,
       "text": [
        "<matplotlib.axes.AxesSubplot at 0x119487410>"
       ]
      },
      {
       "metadata": {},
       "output_type": "display_data",
       "png": "[encoded data removed]",
       "text": [
        "<matplotlib.figure.Figure at 0x118c50590>"
       ]
      }
     ],
     "prompt_number": 63
    },
    {
     "cell_type": "code",
     "collapsed": false,
     "input": [
      "pd.Series(y_p.flatten()).hist(bins = 50)"
     ],
     "language": "python",
     "metadata": {},
     "outputs": [
      {
       "metadata": {},
       "output_type": "pyout",
       "prompt_number": 64,
       "text": [
        "<matplotlib.axes.AxesSubplot at 0x1193c0950>"
       ]
      },
      {
       "metadata": {},
       "output_type": "display_data",
       "png": "[encoded data removed]",
       "text": [
        "<matplotlib.figure.Figure at 0x11730ced0>"
       ]
      }
     ],
     "prompt_number": 64
    },
    {
     "cell_type": "code",
     "collapsed": false,
     "input": [
      "y_p = pd.DataFrame(y_p, index = wave_test.index, columns = ['pH'])\n",
      "y_p.head()"
     ],
     "language": "python",
     "metadata": {},
     "outputs": [
      {
       "html": [
        "<div style=\"max-height:1000px;max-width:1500px;overflow:auto;\">\n",
        "<table border=\"1\" class=\"dataframe\">\n",
        "  <thead>\n",
        "    <tr style=\"text-align: right;\">\n",
        "      <th></th>\n",
        "      <th>pH</th>\n",
        "    </tr>\n",
        "    <tr>\n",
        "      <th>PIDN</th>\n",
        "      <th></th>\n",
        "    </tr>\n",
        "  </thead>\n",
        "  <tbody>\n",
        "    <tr>\n",
        "      <th>09gt9UK5</th>\n",
        "      <td>-1.264370</td>\n",
        "    </tr>\n",
        "    <tr>\n",
        "      <th>0BVvxJ6a</th>\n",
        "      <td> 0.777733</td>\n",
        "    </tr>\n",
        "    <tr>\n",
        "      <th>0KbdgApg</th>\n",
        "      <td> 0.200884</td>\n",
        "    </tr>\n",
        "    <tr>\n",
        "      <th>0MnuuduB</th>\n",
        "      <td> 0.029143</td>\n",
        "    </tr>\n",
        "    <tr>\n",
        "      <th>0PcIsF9z</th>\n",
        "      <td>-1.821183</td>\n",
        "    </tr>\n",
        "  </tbody>\n",
        "</table>\n",
        "</div>"
       ],
       "metadata": {},
       "output_type": "pyout",
       "prompt_number": 67,
       "text": [
        "                pH\n",
        "PIDN              \n",
        "09gt9UK5 -1.264370\n",
        "0BVvxJ6a  0.777733\n",
        "0KbdgApg  0.200884\n",
        "0MnuuduB  0.029143\n",
        "0PcIsF9z -1.821183"
       ]
      }
     ],
     "prompt_number": 67
    },
    {
     "cell_type": "code",
     "collapsed": false,
     "input": [
      "y_p.to_csv('./Final Predictions/pH/RRIntNoTransTrunc.csv')"
     ],
     "language": "python",
     "metadata": {},
     "outputs": [],
     "prompt_number": 68
    },
    {
     "cell_type": "heading",
     "level": 5,
     "metadata": {},
     "source": [
      "P RR"
     ]
    },
    {
     "cell_type": "code",
     "collapsed": false,
     "input": [
      "# offset = np.abs(min(targets.P)) + np.exp(-1)\n",
      "# y_trans_func = lambda y : np.log(offset + y)\n",
      "# y_inv_trans = lambda z : np.exp(z) - offset\n",
      "\n",
      "y_trans_func = np.arcsinh\n",
      "y_inv_trans = np.sinh\n",
      "\n",
      "X = pd.concat([wave, spatial], axis = 1)\n",
      "X_test = pd.concat([wave_test, spatial_test], axis = 1)\n",
      "\n",
      "Y = y_trans_func(targets)\n",
      "\n",
      "y = Y[['P']]\n",
      "\n",
      "sclr = pipe.Pipeline([('Corr Filter' , fs.SelectPercentile(score_func=fs.f_regression, percentile=80)),\\\n",
      "                      ('Standardization', pp.StandardScaler())])\n",
      "\n",
      "alpha = .008\n",
      "\n",
      "X = sclr.fit_transform(X, y)\n",
      "X_test = sclr.transform(X_test)\n",
      "\n",
      "rr_obj = lm.Ridge(alpha = alpha, fit_intercept=True)\n",
      "rr_obj.fit(X,y)\n",
      "y_preds = y_inv_trans(rr_obj.predict(X_test))"
     ],
     "language": "python",
     "metadata": {},
     "outputs": [],
     "prompt_number": 48
    },
    {
     "cell_type": "code",
     "collapsed": false,
     "input": [
      "pd.Series(y_preds.flatten()).hist(bins = 50)"
     ],
     "language": "python",
     "metadata": {},
     "outputs": [
      {
       "metadata": {},
       "output_type": "pyout",
       "prompt_number": 49,
       "text": [
        "<matplotlib.axes.AxesSubplot at 0x11ae346d0>"
       ]
      },
      {
       "metadata": {},
       "output_type": "display_data",
       "png": "[encoded data removed]",
       "text": [
        "<matplotlib.figure.Figure at 0x11697e810>"
       ]
      }
     ],
     "prompt_number": 49
    },
    {
     "cell_type": "code",
     "collapsed": false,
     "input": [
      "y_p = np.maximum(min(targets.P),y_preds)"
     ],
     "language": "python",
     "metadata": {},
     "outputs": [],
     "prompt_number": 50
    },
    {
     "cell_type": "code",
     "collapsed": false,
     "input": [
      "targets.P.hist(bins = 50)"
     ],
     "language": "python",
     "metadata": {},
     "outputs": [
      {
       "metadata": {},
       "output_type": "pyout",
       "prompt_number": 51,
       "text": [
        "<matplotlib.axes.AxesSubplot at 0x112571b90>"
       ]
      },
      {
       "metadata": {},
       "output_type": "display_data",
       "png": "[encoded data removed]",
       "text": [
        "<matplotlib.figure.Figure at 0x1168be090>"
       ]
      }
     ],
     "prompt_number": 51
    },
    {
     "cell_type": "code",
     "collapsed": false,
     "input": [
      "pd.Series(y_p.flatten()).hist(bins = 50)"
     ],
     "language": "python",
     "metadata": {},
     "outputs": [
      {
       "metadata": {},
       "output_type": "pyout",
       "prompt_number": 36,
       "text": [
        "<matplotlib.axes.AxesSubplot at 0x11688d6d0>"
       ]
      },
      {
       "metadata": {},
       "output_type": "display_data",
       "png": "[encoded data removed]",
       "text": [
        "<matplotlib.figure.Figure at 0x11428a410>"
       ]
      }
     ],
     "prompt_number": 36
    },
    {
     "cell_type": "code",
     "collapsed": false,
     "input": [
      "y_p = pd.DataFrame(y_p, index = wave_test.index, columns = ['P'])"
     ],
     "language": "python",
     "metadata": {},
     "outputs": [],
     "prompt_number": 52
    },
    {
     "cell_type": "code",
     "collapsed": false,
     "input": [
      "y_p.head()"
     ],
     "language": "python",
     "metadata": {},
     "outputs": [
      {
       "html": [
        "<div style=\"max-height:1000px;max-width:1500px;overflow:auto;\">\n",
        "<table border=\"1\" class=\"dataframe\">\n",
        "  <thead>\n",
        "    <tr style=\"text-align: right;\">\n",
        "      <th></th>\n",
        "      <th>P</th>\n",
        "    </tr>\n",
        "    <tr>\n",
        "      <th>PIDN</th>\n",
        "      <th></th>\n",
        "    </tr>\n",
        "  </thead>\n",
        "  <tbody>\n",
        "    <tr>\n",
        "      <th>09gt9UK5</th>\n",
        "      <td> 0.220905</td>\n",
        "    </tr>\n",
        "    <tr>\n",
        "      <th>0BVvxJ6a</th>\n",
        "      <td> 0.000509</td>\n",
        "    </tr>\n",
        "    <tr>\n",
        "      <th>0KbdgApg</th>\n",
        "      <td>-0.284304</td>\n",
        "    </tr>\n",
        "    <tr>\n",
        "      <th>0MnuuduB</th>\n",
        "      <td>-0.418309</td>\n",
        "    </tr>\n",
        "    <tr>\n",
        "      <th>0PcIsF9z</th>\n",
        "      <td> 0.082250</td>\n",
        "    </tr>\n",
        "  </tbody>\n",
        "</table>\n",
        "</div>"
       ],
       "metadata": {},
       "output_type": "pyout",
       "prompt_number": 53,
       "text": [
        "                 P\n",
        "PIDN              \n",
        "09gt9UK5  0.220905\n",
        "0BVvxJ6a  0.000509\n",
        "0KbdgApg -0.284304\n",
        "0MnuuduB -0.418309\n",
        "0PcIsF9z  0.082250"
       ]
      }
     ],
     "prompt_number": 53
    },
    {
     "cell_type": "code",
     "collapsed": false,
     "input": [
      "y_p.to_csv('./Final Predictions/P/RR80SinhTransTrunc.csv')"
     ],
     "language": "python",
     "metadata": {},
     "outputs": [],
     "prompt_number": 54
    },
    {
     "cell_type": "heading",
     "level": 5,
     "metadata": {},
     "source": [
      "Ca RR No Int, Not trans"
     ]
    },
    {
     "cell_type": "code",
     "collapsed": false,
     "input": [
      "y_trans_func = y_inv_trans = lambda y : y\n",
      "\n",
      "X = pd.concat([wave, spatial], axis = 1)\n",
      "X_test = pd.concat([wave_test, spatial_test], axis = 1)\n",
      "\n",
      "Y = y_trans_func(targets)\n",
      "\n",
      "y = Y[['Ca']]\n",
      "\n",
      "sclr = pipe.Pipeline([('Corr Filter' , fs.SelectPercentile(score_func=fs.f_regression, percentile=85)),\\\n",
      "                      ('Standardization', pp.StandardScaler())])\n",
      "\n",
      "alpha = .0925\n",
      "\n",
      "X = sclr.fit_transform(X, y)\n",
      "X_test = sclr.transform(X_test)\n",
      "\n",
      "rr_obj = lm.Ridge(alpha = alpha, fit_intercept=False)\n",
      "rr_obj.fit(X,y)\n",
      "y_preds = pd.DataFrame(rr_obj.predict(X_test), index = wave_test.index, columns = ['Ca'])"
     ],
     "language": "python",
     "metadata": {},
     "outputs": [],
     "prompt_number": 35
    },
    {
     "cell_type": "code",
     "collapsed": false,
     "input": [
      "y_p = np.maximum(min(targets.Ca),y_preds.Ca)"
     ],
     "language": "python",
     "metadata": {},
     "outputs": [],
     "prompt_number": 55
    },
    {
     "cell_type": "code",
     "collapsed": false,
     "input": [
      "pd.Series(y_p).hist(bins = 50)"
     ],
     "language": "python",
     "metadata": {},
     "outputs": [
      {
       "metadata": {},
       "output_type": "pyout",
       "prompt_number": 57,
       "text": [
        "<matplotlib.axes.AxesSubplot at 0x117631b10>"
       ]
      },
      {
       "metadata": {},
       "output_type": "display_data",
       "png": "[encoded data removed]",
       "text": [
        "<matplotlib.figure.Figure at 0x10a0e1b90>"
       ]
      }
     ],
     "prompt_number": 57
    },
    {
     "cell_type": "code",
     "collapsed": false,
     "input": [
      "y_p = pd.DataFrame(y_p, index = wave_test.index)"
     ],
     "language": "python",
     "metadata": {},
     "outputs": [],
     "prompt_number": 60
    },
    {
     "cell_type": "code",
     "collapsed": false,
     "input": [
      "y_p.to_csv('./Final Predictions/Ca/RRNoIntNoTransTrunc.csv')"
     ],
     "language": "python",
     "metadata": {},
     "outputs": [],
     "prompt_number": 62
    },
    {
     "cell_type": "heading",
     "level": 5,
     "metadata": {},
     "source": [
      "Ca log trans"
     ]
    },
    {
     "cell_type": "code",
     "collapsed": false,
     "input": [
      "offset = np.abs(min(targets.Ca)) + np.exp(-1)\n",
      "y_trans_func = lambda y : np.log(offset + y)\n",
      "y_inv_trans = lambda z : np.exp(z) - offset\n",
      "\n",
      "X = pd.concat([wave, spatial], axis = 1)\n",
      "X_test = pd.concat([wave_test, spatial_test], axis = 1)\n",
      "\n",
      "Y = y_trans_func(targets)\n",
      "\n",
      "y = Y[['Ca']]\n",
      "\n",
      "sclr = pipe.Pipeline([('Corr Filter' , fs.SelectPercentile(score_func=fs.f_regression, percentile=85)),\\\n",
      "                      ('Standardization', pp.StandardScaler())])\n",
      "\n",
      "alpha = .45\n",
      "\n",
      "X = sclr.fit_transform(X, y)\n",
      "X_test = sclr.transform(X_test)\n",
      "\n",
      "rr_obj = lm.Ridge(alpha = alpha, fit_intercept=True)\n",
      "rr_obj.fit(X,y)\n",
      "y_preds = y_inv_trans(rr_obj.predict(X_test))"
     ],
     "language": "python",
     "metadata": {},
     "outputs": [],
     "prompt_number": 80
    },
    {
     "cell_type": "code",
     "collapsed": false,
     "input": [
      "y_p = np.maximum(min(targets.Ca),y_preds)"
     ],
     "language": "python",
     "metadata": {},
     "outputs": [],
     "prompt_number": 82
    },
    {
     "cell_type": "code",
     "collapsed": false,
     "input": [
      "targets.Ca.hist(bins = 50)"
     ],
     "language": "python",
     "metadata": {},
     "outputs": [
      {
       "metadata": {},
       "output_type": "pyout",
       "prompt_number": 83,
       "text": [
        "<matplotlib.axes.AxesSubplot at 0x10fd79e50>"
       ]
      },
      {
       "metadata": {},
       "output_type": "display_data",
       "png": "[encoded data removed]",
       "text": [
        "<matplotlib.figure.Figure at 0x11009cad0>"
       ]
      }
     ],
     "prompt_number": 83
    },
    {
     "cell_type": "code",
     "collapsed": false,
     "input": [
      "pd.Series(y_p.flatten()).hist(bins = 50)"
     ],
     "language": "python",
     "metadata": {},
     "outputs": [
      {
       "metadata": {},
       "output_type": "pyout",
       "prompt_number": 85,
       "text": [
        "<matplotlib.axes.AxesSubplot at 0x10a20db10>"
       ]
      },
      {
       "metadata": {},
       "output_type": "display_data",
       "png": "[encoded data removed]",
       "text": [
        "<matplotlib.figure.Figure at 0x10f8f7810>"
       ]
      }
     ],
     "prompt_number": 85
    },
    {
     "cell_type": "code",
     "collapsed": false,
     "input": [
      "y_p = pd.DataFrame(y_p, index = wave_test.index, columns = ['Ca'])"
     ],
     "language": "python",
     "metadata": {},
     "outputs": [],
     "prompt_number": 86
    },
    {
     "cell_type": "code",
     "collapsed": false,
     "input": [
      "y_p.head()"
     ],
     "language": "python",
     "metadata": {},
     "outputs": [
      {
       "html": [
        "<div style=\"max-height:1000px;max-width:1500px;overflow:auto;\">\n",
        "<table border=\"1\" class=\"dataframe\">\n",
        "  <thead>\n",
        "    <tr style=\"text-align: right;\">\n",
        "      <th></th>\n",
        "      <th>Ca</th>\n",
        "    </tr>\n",
        "    <tr>\n",
        "      <th>PIDN</th>\n",
        "      <th></th>\n",
        "    </tr>\n",
        "  </thead>\n",
        "  <tbody>\n",
        "    <tr>\n",
        "      <th>09gt9UK5</th>\n",
        "      <td>-0.530230</td>\n",
        "    </tr>\n",
        "    <tr>\n",
        "      <th>0BVvxJ6a</th>\n",
        "      <td> 0.511213</td>\n",
        "    </tr>\n",
        "    <tr>\n",
        "      <th>0KbdgApg</th>\n",
        "      <td>-0.121196</td>\n",
        "    </tr>\n",
        "    <tr>\n",
        "      <th>0MnuuduB</th>\n",
        "      <td>-0.259558</td>\n",
        "    </tr>\n",
        "    <tr>\n",
        "      <th>0PcIsF9z</th>\n",
        "      <td>-0.495459</td>\n",
        "    </tr>\n",
        "  </tbody>\n",
        "</table>\n",
        "</div>"
       ],
       "metadata": {},
       "output_type": "pyout",
       "prompt_number": 87,
       "text": [
        "                Ca\n",
        "PIDN              \n",
        "09gt9UK5 -0.530230\n",
        "0BVvxJ6a  0.511213\n",
        "0KbdgApg -0.121196\n",
        "0MnuuduB -0.259558\n",
        "0PcIsF9z -0.495459"
       ]
      }
     ],
     "prompt_number": 87
    },
    {
     "cell_type": "code",
     "collapsed": false,
     "input": [
      "y_p.to_csv('./Final Predictions/Ca/RRLogTransTrunc.csv')"
     ],
     "language": "python",
     "metadata": {},
     "outputs": [],
     "prompt_number": 88
    },
    {
     "cell_type": "code",
     "collapsed": false,
     "input": [
      "np.sqrt((cv_values['Ca']**2).sum(axis = 0).div(k))"
     ],
     "language": "python",
     "metadata": {},
     "outputs": [
      {
       "metadata": {},
       "output_type": "pyout",
       "prompt_number": 137,
       "text": [
        "Value   Scale Type\n",
        "RMSE    75 Filter      0.350783\n",
        "        80 Filter      0.351022\n",
        "        85 Filter      0.348993\n",
        "        90 Filter      0.346206\n",
        "        95 Filter      0.350350\n",
        "        No Filter      0.353893\n",
        "alpha*  75 Filter     22.379462\n",
        "        80 Filter     22.400893\n",
        "        85 Filter     22.351174\n",
        "        90 Filter     22.351174\n",
        "        95 Filter     22.400893\n",
        "        No Filter     22.400893\n",
        "dtype: float64"
       ]
      }
     ],
     "prompt_number": 137
    },
    {
     "cell_type": "heading",
     "level": 4,
     "metadata": {},
     "source": [
      "(OLD Work Below -- some of this is now in soilTuningTools)"
     ]
    },
    {
     "cell_type": "code",
     "collapsed": false,
     "input": [
      "sclrs = [('75 Filter', pipe.Pipeline([('Corr Filter' , fs.SelectPercentile(score_func=fs.f_regression, percentile=75)),\\\n",
      "                      ('Standardization', pp.StandardScaler())])),\n",
      "         ('80 Filter', pipe.Pipeline([('Corr Filter' , fs.SelectPercentile(score_func=fs.f_regression, percentile=80)),\\\n",
      "                      ('Standardization', pp.StandardScaler())])),\n",
      "         ('85 Filter', pipe.Pipeline([('Corr Filter' , fs.SelectPercentile(score_func=fs.f_regression, percentile=85)),\\\n",
      "                      ('Standardization', pp.StandardScaler())])),\n",
      "         ('90 Filter', pipe.Pipeline([('Corr Filter' , fs.SelectPercentile(score_func=fs.f_regression, percentile=90)),\\\n",
      "                      ('Standardization', pp.StandardScaler())])),\n",
      "         ('95 Filter', pipe.Pipeline([('Corr Filter' , fs.SelectPercentile(score_func=fs.f_regression, percentile=95)),\\\n",
      "                      ('Standardization', pp.StandardScaler())])),\n",
      "         ('No Filter', pp.StandardScaler())]\n",
      "\n",
      "\n",
      "# y_trans_func = np.arcsinh\n",
      "# y_inv_trans = np.sinh\n",
      "\n",
      "# offset = np.abs(min(targets.pH)) + np.exp(-1)\n",
      "# y_trans_func = lambda y : np.log(offset + y)\n",
      "# y_inv_trans = lambda z : np.exp(z) - offset\n",
      "\n",
      "y_trans_func = y_inv_trans = lambda y : y\n",
      "\n",
      "\n",
      "loss_func = functools.partial(tune.trans_then_rmse, trans_func = y_inv_trans)\n",
      "\n",
      "X = pd.concat([wave, spatial], axis = 1)\n",
      "Y = y_trans_func(targets)\n",
      "\n",
      "n_alphas = 50\n",
      "alphas = np.linspace(22,22.5, n_alphas) #.02,.25,\n",
      "#.0175,.0225, no intercept, sinh\n",
      "\n",
      "rr_obj = lm.RidgeCV(alphas=alphas, scoring = metrics.make_scorer(loss_func, greater_is_better=False),\\\n",
      "                    store_cv_values=False, fit_intercept = False)"
     ],
     "language": "python",
     "metadata": {},
     "outputs": [],
     "prompt_number": 139
    },
    {
     "cell_type": "code",
     "collapsed": false,
     "input": [
      "def reduce_func(group):\n",
      "    \n",
      "    np.sqrt((group**2).sum(axis = 1).div(k)).max()\n",
      "\n",
      "for (key, group) in cv_values['Ca'].T.groupby(by = lambda idx: idx[0]):\n",
      "\n",
      "    print(key)\n",
      "    print(group)\n",
      "    print(np.sqrt((group**2).sum(axis = 1).div(k)))\n",
      "    print(reduce_func(group))"
     ],
     "language": "python",
     "metadata": {},
     "outputs": [
      {
       "output_type": "stream",
       "stream": "stdout",
       "text": [
        "0.0\n",
        "                             0             1             2             3  \\\n",
        "Alpha Scale Type                                                           \n",
        "0     75 Filter       1.197919      1.443969  1.065718e+07  3.174938e+07   \n",
        "      80 Filter      0.5050938   5.60725e+07     0.6157585      4.300376   \n",
        "      85 Filter        0.68395  6.071709e+07     0.9979988  3.491437e+07   \n",
        "      90 Filter   2.839286e+07      11.57677   1.27712e+07      2.449614   \n",
        "      95 Filter       1.961226     0.8313202        20.983     0.7215201   \n",
        "      No Filter   2.307211e+08  6.271309e+08      2.824007     0.9443539   \n",
        "\n",
        "                          4             5             6             7  \\\n",
        "Alpha Scale Type                                                        \n",
        "0     75 Filter     4553826  1.398395e+07  2.623151e+07  2.755371e+07   \n",
        "      80 Filter   0.7145108     0.4407062  2.715258e+07     0.7165447   \n",
        "      85 Filter   0.5279005     0.6736957      1.232103  3.263335e+07   \n",
        "      90 Filter   0.5741308     0.5806489  3.062507e+07      7.950467   \n",
        "      95 Filter   0.5048398      1.484686  3.113145e+07      1.160323   \n",
        "      No Filter   0.5418038     0.7507079      1.402015      1.069498   \n",
        "\n",
        "                             8             9  \n",
        "Alpha Scale Type                              \n",
        "0     75 Filter       2.412699  1.378955e+07  \n",
        "      80 Filter   3.009665e+07  1.427736e+07  \n",
        "      85 Filter       2.446274  1.536132e+07  \n",
        "      90 Filter   3.435027e+07     0.6831794  \n",
        "      95 Filter       3.346065  1.825773e+07  \n",
        "      No Filter       1.254693     0.9352822  \n",
        "Alpha  Scale Type\n",
        "0      75 Filter     1.724917e+07\n",
        "       80 Filter     2.234063e+07\n",
        "       85 Filter     2.491282e+07\n",
        "       90 Filter     1.757013e+07\n",
        "       95 Filter     1.141276e+07\n",
        "       No Filter     2.113115e+08\n",
        "dtype: float64\n",
        "211311483.825\n",
        "0.505050505051\n",
        "                             0          1          2          3          4  \\\n",
        "Alpha    Scale Type                                                          \n",
        "0.505051 75 Filter   0.3149171   0.426181   0.604748  0.3070905  0.2845194   \n",
        "         80 Filter   0.3080289   0.429045  0.5962129  0.2819782  0.2879109   \n",
        "         85 Filter   0.3041026  0.4207471   0.581097  0.2742204  0.2694741   \n",
        "         90 Filter   0.3019724  0.4271613  0.5926064  0.2721737  0.2660807   \n",
        "         95 Filter   0.3021272  0.4248155  0.6002696   0.261142  0.2767465   \n",
        "         No Filter   0.3001069   0.433934  0.6364868  0.2585195   0.285812   \n",
        "\n",
        "                             5          6          7          8          9  \n",
        "Alpha    Scale Type                                                         \n",
        "0.505051 75 Filter   0.2676809  0.4311201  0.2461674  0.3009153  0.2575045  \n",
        "         80 Filter   0.2619807  0.4004293  0.2502079  0.2992694  0.2475901  \n",
        "         85 Filter   0.2613265  0.3996314    0.25398  0.2984596  0.2473158  \n",
        "         90 Filter   0.2599298  0.3745394  0.2580278  0.2946014  0.2469072  \n",
        "         95 Filter   0.2493881  0.4004846  0.2630142  0.2992374  0.2530318  \n",
        "         No Filter   0.2543378  0.4388993   0.253718   0.307494  0.2450027  \n",
        "Alpha     Scale Type\n",
        "0.505051  75 Filter     0.360105\n",
        "          80 Filter     0.352034\n",
        "          85 Filter     0.346084\n",
        "          90 Filter     0.345237\n",
        "          95 Filter     0.349597\n",
        "          No Filter     0.361700\n",
        "dtype: float64\n",
        "0.361700309136\n",
        "1.0101010101\n",
        "                             0          1          2          3          4  \\\n",
        "Alpha    Scale Type                                                          \n",
        "1.010101 75 Filter   0.3024201  0.4278784  0.5945883  0.3140094  0.2963562   \n",
        "         80 Filter   0.2983303  0.4308451  0.5921661  0.2928258  0.2978532   \n",
        "         85 Filter   0.2946868  0.4250075  0.5796637  0.2850136  0.2836672   \n",
        "         90 Filter   0.2957453  0.4294485  0.5866074  0.2820569  0.2795326   \n",
        "         95 Filter   0.2970699   0.425895  0.5973057  0.2711567  0.2854229   \n",
        "         No Filter   0.2927162  0.4346965  0.6279227  0.2675763  0.2936318   \n",
        "\n",
        "                             5          6          7          8          9  \n",
        "Alpha    Scale Type                                                         \n",
        "1.010101 75 Filter   0.2718185   0.422276  0.2589775  0.3012372  0.2601704  \n",
        "         80 Filter   0.2656256  0.3940254  0.2590024  0.2999848  0.2498295  \n",
        "         85 Filter   0.2643779  0.3906412  0.2614083  0.2993782  0.2490873  \n",
        "         90 Filter   0.2627881  0.3623366  0.2631815  0.2969873  0.2491599  \n",
        "         95 Filter   0.2522743  0.3791666  0.2668856   0.303773  0.2547843  \n",
        "         No Filter   0.2594062  0.4053447  0.2608319  0.3105869  0.2478426  \n",
        "Alpha     Scale Type\n",
        "1.010101  75 Filter     0.359473\n",
        "          80 Filter     0.352853\n",
        "          85 Filter     0.347517\n",
        "          90 Filter     0.345483\n",
        "          95 Filter     0.348889\n",
        "          No Filter     0.358367\n",
        "dtype: float64\n",
        "0.359472689381\n",
        "1.51515151515\n",
        "                             0          1          2          3          4  \\\n",
        "Alpha    Scale Type                                                          \n",
        "1.515152 75 Filter   0.2958983  0.4298418  0.5853898  0.3176101  0.3043312   \n",
        "         80 Filter   0.2927427  0.4327166  0.5875253  0.2989119  0.3048043   \n",
        "         85 Filter   0.2893843  0.4281771  0.5768207  0.2912645  0.2920166   \n",
        "         90 Filter   0.2913408  0.4313257  0.5820235   0.288139  0.2879767   \n",
        "         95 Filter   0.2932011  0.4275402  0.5947791  0.2781518  0.2929478   \n",
        "         No Filter   0.2881689   0.435443  0.6214234  0.2739533  0.3017105   \n",
        "\n",
        "                             5          6          7          8          9  \n",
        "Alpha    Scale Type                                                         \n",
        "1.515152 75 Filter   0.2744248  0.4154969  0.2669288  0.3014798  0.2624158  \n",
        "         80 Filter   0.2681678  0.3895144  0.2654459   0.299976  0.2520856  \n",
        "         85 Filter   0.2666223  0.3852161  0.2669575  0.2993703  0.2510477  \n",
        "         90 Filter   0.2648076  0.3574523  0.2672681  0.2980998   0.251225  \n",
        "         95 Filter   0.2550484  0.3706591  0.2696274  0.3055864  0.2563442  \n",
        "         No Filter   0.2625285  0.3881925  0.2645024  0.3118696  0.2497454  \n",
        "Alpha     Scale Type\n",
        "1.515152  75 Filter     0.358810\n",
        "          80 Filter     0.353272\n",
        "          85 Filter     0.348325\n",
        "          90 Filter     0.345967\n",
        "          95 Filter     0.349276\n",
        "          No Filter     0.356947\n",
        "dtype: float64\n",
        "0.358809758441\n",
        "2.0202020202\n",
        "                             0          1          2          3          4  \\\n",
        "Alpha    Scale Type                                                          \n",
        "2.020202 75 Filter   0.2919172   0.431493  0.5770242  0.3198448  0.3102214   \n",
        "         80 Filter   0.2891153   0.434244  0.5827705  0.3029043  0.3100079   \n",
        "         85 Filter   0.2859921  0.4305331  0.5734429  0.2954704  0.2978071   \n",
        "         90 Filter   0.2880611  0.4327677  0.5779365  0.2924007  0.2937006   \n",
        "         95 Filter   0.2902026  0.4289853   0.592292  0.2833511  0.2982983   \n",
        "         No Filter   0.2848909  0.4361047  0.6160532  0.2787592  0.3081321   \n",
        "\n",
        "                             5          6          7          8          9  \n",
        "Alpha    Scale Type                                                         \n",
        "2.020202 75 Filter   0.2763604   0.410093  0.2723472  0.3017134  0.2642865  \n",
        "         80 Filter    0.270106   0.385984  0.2701965  0.2998456  0.2540653  \n",
        "         85 Filter   0.2683419  0.3813126  0.2711306  0.2991904   0.252813  \n",
        "         90 Filter   0.2663239   0.354626  0.2704604  0.2987051  0.2529077  \n",
        "         95 Filter   0.2573883  0.3659956   0.271822  0.3064068  0.2575892  \n",
        "         No Filter   0.2647528  0.3775408  0.2670257  0.3123805   0.251159  \n",
        "Alpha     Scale Type\n",
        "2.020202  75 Filter     0.358120\n",
        "          80 Filter     0.353417\n",
        "          85 Filter     0.348759\n",
        "          90 Filter     0.346274\n",
        "          95 Filter     0.349664\n",
        "          No Filter     0.356107\n",
        "dtype: float64\n",
        "0.358120035099\n",
        "2.52525252525\n",
        "                             0          1          2          3          4  \\\n",
        "Alpha    Scale Type                                                          \n",
        "2.525253 75 Filter   0.2892684  0.4328652  0.5694125  0.3213806  0.3148569   \n",
        "         80 Filter   0.2865935  0.4354879  0.5781112  0.3057665  0.3141361   \n",
        "         85 Filter   0.2836617  0.4323695  0.5698915  0.2985468  0.3022144   \n",
        "         90 Filter   0.2855002  0.4339118  0.5741693  0.2956124  0.2979131   \n",
        "         95 Filter    0.287778  0.4301996  0.5898292   0.287411  0.3021847   \n",
        "         No Filter   0.2823323  0.4366837  0.6114153  0.2825699  0.3132238   \n",
        "\n",
        "                             5          6          7          8          9  \n",
        "Alpha    Scale Type                                                         \n",
        "2.525253 75 Filter   0.2778947  0.4057051   0.276282  0.3019374  0.2658482  \n",
        "         80 Filter   0.2716613  0.3831253  0.2738267  0.2997117  0.2557829  \n",
        "         85 Filter   0.2697115  0.3783184  0.2743736  0.2989941  0.2543604  \n",
        "         90 Filter   0.2675174  0.3527482  0.2730159  0.2990631  0.2542867  \n",
        "         95 Filter   0.2593541   0.363051  0.2736473  0.3067719  0.2585851  \n",
        "         No Filter   0.2664688  0.3703283  0.2689815  0.3125137  0.2522724  "
       ]
      },
      {
       "output_type": "stream",
       "stream": "stdout",
       "text": [
        "\n",
        "Alpha     Scale Type\n",
        "2.525253  75 Filter     0.357449\n",
        "          80 Filter     0.353411\n",
        "          85 Filter     0.348983\n",
        "          90 Filter     0.346444\n",
        "          95 Filter     0.349948\n",
        "          No Filter     0.355527\n",
        "dtype: float64\n",
        "0.357448558492\n",
        "3.0303030303\n",
        "                             0          1          2          3          4  \\\n",
        "Alpha    Scale Type                                                          \n",
        "3.030303 75 Filter   0.2874067  0.4340252  0.5624639  0.3225073  0.3186679   \n",
        "         80 Filter   0.2847615  0.4365252   0.573631  0.3079385  0.3175508   \n",
        "         85 Filter   0.2819881  0.4338622  0.5663279  0.3009195  0.3057735   \n",
        "         90 Filter   0.2834302  0.4348546  0.5706539  0.2981469  0.3012128   \n",
        "         95 Filter   0.2857509  0.4312313  0.5874051  0.2906918  0.3051304   \n",
        "         No Filter   0.2802397   0.437197  0.6072977  0.2856972  0.3173677   \n",
        "\n",
        "                             5          6          7          8          9  \n",
        "Alpha    Scale Type                                                         \n",
        "3.030303 75 Filter   0.2791553   0.402079  0.2792667  0.3021484  0.2671622  \n",
        "         80 Filter   0.2729531  0.3807596  0.2766889  0.2996015  0.2572796  \n",
        "         85 Filter    0.270837  0.3759328  0.2769672  0.2988208  0.2557148  \n",
        "         90 Filter   0.2684917  0.3514092  0.2751122  0.2992864  0.2554381  \n",
        "         95 Filter   0.2610275  0.3610322  0.2752001  0.3069001  0.2593941  \n",
        "         No Filter   0.2678628  0.3651899  0.2705925  0.3124452  0.2531838  \n",
        "Alpha     Scale Type\n",
        "3.030303  75 Filter     0.356814\n",
        "          80 Filter     0.353320\n",
        "          85 Filter     0.349085\n",
        "          90 Filter     0.346523\n",
        "          95 Filter     0.350136\n",
        "          No Filter     0.355090\n",
        "dtype: float64\n",
        "0.356813769612\n",
        "3.53535353535\n",
        "                             0          1          2          3          4  \\\n",
        "Alpha    Scale Type                                                          \n",
        "3.535354 75 Filter   0.2860479  0.4350255  0.5560934   0.323372  0.3219025   \n",
        "         80 Filter   0.2833895   0.437412  0.5693589  0.3096534  0.3204636   \n",
        "         85 Filter   0.2807503  0.4351167  0.5628292  0.3028184  0.3087676   \n",
        "         90 Filter   0.2817137  0.4356572  0.5673515   0.300212  0.3039207   \n",
        "         95 Filter   0.2840134  0.4321252  0.5850324  0.2934098  0.3074575   \n",
        "         No Filter   0.2784754  0.4376601   0.603573  0.2883273  0.3208341   \n",
        "\n",
        "                             5          6          7          8          9  \n",
        "Alpha    Scale Type                                                         \n",
        "3.535354 75 Filter   0.2802166  0.3990354  0.2816033  0.3023453  0.2682782  \n",
        "         80 Filter   0.2740531  0.3787695  0.2790032  0.2995191  0.2585936  \n",
        "         85 Filter   0.2717852  0.3739814  0.2790897  0.2986791  0.2569062  \n",
        "         90 Filter   0.2693103  0.3504126  0.2768675  0.2994308  0.2564178  \n",
        "         95 Filter   0.2624737  0.3595706  0.2765429  0.3068954  0.2600626  \n",
        "         No Filter   0.2690367  0.3614035  0.2719668  0.3122633  0.2539506  \n",
        "Alpha     Scale Type\n",
        "3.535354  75 Filter     0.356222\n",
        "          80 Filter     0.353184\n",
        "          85 Filter     0.349112\n",
        "          90 Filter     0.346544\n",
        "          95 Filter     0.350251\n",
        "          No Filter     0.354742\n",
        "dtype: float64\n",
        "0.356221572081\n",
        "4.0404040404\n",
        "                             0          1          2          3          4  \\\n",
        "Alpha    Scale Type                                                          \n",
        "4.040404 75 Filter   0.2850293  0.4359036  0.5502268  0.3240583   0.324715   \n",
        "         80 Filter   0.2823395  0.4381871  0.5652995  0.3110475  0.3230076   \n",
        "         85 Filter   0.2798164  0.4361993   0.559432  0.3043803  0.3113623   \n",
        "         90 Filter   0.2802623   0.436359   0.564235   0.301935  0.3062223   \n",
        "         95 Filter    0.282496  0.4329151   0.582719  0.2957045  0.3093642   \n",
        "         No Filter   0.2769559   0.438085  0.6001584    0.29058  0.3238038   \n",
        "\n",
        "                             5          6          7          8          9  \n",
        "Alpha    Scale Type                                                         \n",
        "4.040404 75 Filter   0.2811268  0.3964464  0.2834772  0.3025286  0.2692355  \n",
        "         80 Filter   0.2750075  0.3770734  0.2809126  0.2994625   0.259756  \n",
        "         85 Filter   0.2726001  0.3723535  0.2808595  0.2985681   0.257961  \n",
        "         90 Filter   0.2700141   0.349649  0.2783625  0.2995268   0.257265  \n",
        "         95 Filter   0.2637408  0.3584704  0.2777193  0.3068127  0.2606239  \n",
        "         No Filter   0.2700509  0.3585459  0.2731662  0.3120161  0.2546092  \n",
        "Alpha     Scale Type\n",
        "4.040404  75 Filter     0.355673\n",
        "          80 Filter     0.353022\n",
        "          85 Filter     0.349092\n",
        "          90 Filter     0.346526\n",
        "          95 Filter     0.350311\n",
        "          No Filter     0.354455\n",
        "dtype: float64"
       ]
      },
      {
       "output_type": "stream",
       "stream": "stdout",
       "text": [
        "\n",
        "0.355672524378\n",
        "4.54545454545\n",
        "                             0          1          2          3          4  \\\n",
        "Alpha    Scale Type                                                          \n",
        "4.545455 75 Filter   0.2842512  0.4366861  0.5448012  0.3246173  0.3272075   \n",
        "         80 Filter   0.2815235   0.438877  0.5614467  0.3122067  0.3252712   \n",
        "         85 Filter   0.2791023  0.4371532  0.5561529  0.3056924  0.3136619   \n",
        "         90 Filter   0.2790162  0.4369855  0.5612839  0.3033996  0.3082318   \n",
        "         95 Filter   0.2811518  0.4336247  0.5804692  0.2976709  0.3109758   \n",
        "         No Filter   0.2756268  0.4384799  0.5969965  0.2925371  0.3263992   \n",
        "\n",
        "                             5          6          7          8          9  \n",
        "Alpha    Scale Type                                                         \n",
        "4.545455 75 Filter   0.2819191  0.3942186  0.2850087  0.3026994  0.2700641  \n",
        "         80 Filter   0.2758481  0.3756124  0.2825142  0.2994278  0.2607916  \n",
        "         85 Filter   0.2733121  0.3709743  0.2823578  0.2984845  0.2589014  \n",
        "         90 Filter   0.2706306  0.3490519  0.2796538  0.2995922   0.258008  \n",
        "         95 Filter   0.2648646   0.357618  0.2787608  0.3066828  0.2611022  \n",
        "         No Filter   0.2709442  0.3563515  0.2742295  0.3117314  0.2551845  \n",
        "Alpha     Scale Type\n",
        "4.545455  75 Filter     0.355165\n",
        "          80 Filter     0.352849\n",
        "          85 Filter     0.349043\n",
        "          90 Filter     0.346484\n",
        "          95 Filter     0.350331\n",
        "          No Filter     0.354210\n",
        "dtype: float64\n",
        "0.355164925023\n",
        "5.05050505051\n",
        "                             0          1          2          3          4  \\\n",
        "Alpha    Scale Type                                                          \n",
        "5.050505 75 Filter   0.2836491  0.4373926  0.5397633  0.3250825  0.3294501   \n",
        "         80 Filter   0.2808826  0.4395008  0.5577895  0.3131882  0.3273153   \n",
        "         85 Filter   0.2785522   0.438008  0.5529978  0.3068135  0.3157355   \n",
        "         90 Filter   0.2779333  0.4375544   0.558481  0.3046631  0.3100231   \n",
        "         95 Filter   0.2799474   0.434271  0.5782849  0.2993765   0.312374   \n",
        "         No Filter   0.2744503  0.4388512  0.5940457  0.2942567  0.3287051   \n",
        "\n",
        "                             5          6          7          8          9  \n",
        "Alpha    Scale Type                                                         \n",
        "5.050505 75 Filter   0.2826172  0.3922829    0.28628   0.302859  0.2707876  \n",
        "         80 Filter   0.2765972  0.3743429  0.2838763  0.2994113  0.2617206  \n",
        "         85 Filter   0.2739427  0.3697916  0.2836427  0.2984244  0.2597454  \n",
        "         90 Filter   0.2711791   0.348578  0.2807824  0.2996378  0.2586677  \n",
        "         95 Filter   0.2658718  0.3569426  0.2796915  0.3065246  0.2615151  \n",
        "         No Filter   0.2717427  0.3546449  0.2751832  0.3114258  0.2556936  "
       ]
      },
      {
       "output_type": "stream",
       "stream": "stdout",
       "text": [
        "\n",
        "Alpha     Scale Type\n",
        "5.050505  75 Filter     0.354696\n",
        "          80 Filter     0.352672\n",
        "          85 Filter     0.348976\n",
        "          90 Filter     0.346426\n",
        "          95 Filter     0.350321\n",
        "          No Filter     0.353998\n",
        "dtype: float64\n",
        "0.35469617261\n",
        "5.55555555556\n",
        "                             0          1          2          3          4  \\\n",
        "Alpha    Scale Type                                                          \n",
        "5.555556 75 Filter   0.2831793  0.4380375  0.5350684  0.3254766  0.3314932   \n",
        "         80 Filter   0.2803759   0.440072  0.5543151  0.3140316  0.3291837   \n",
        "         85 Filter   0.2781269  0.4387843  0.5499666  0.3077851   0.317631   \n",
        "         90 Filter   0.2769826  0.4380779  0.5558123  0.3057666  0.3116459   \n",
        "         95 Filter   0.2788586  0.4348664  0.5761659  0.3008708  0.3136139   \n",
        "         No Filter   0.2733991  0.4392032   0.591275   0.295782  0.3307817   \n",
        "\n",
        "                             5          6          7          8          9  \n",
        "Alpha    Scale Type                                                         \n",
        "5.555556 75 Filter    0.283239  0.3905867  0.2873488  0.3030089  0.2714243  \n",
        "         80 Filter   0.2772716  0.3732314  0.2850482    0.29941  0.2625588  \n",
        "         85 Filter   0.2745076  0.3687671  0.2847565  0.2983843  0.2605075  \n",
        "         90 Filter   0.2716731  0.3481978  0.2817786  0.2996705  0.2592592  \n",
        "         95 Filter   0.2667827  0.3563982  0.2805294  0.3063496  0.2618759  \n",
        "         No Filter   0.2724649  0.3533058  0.2760467  0.3111098  0.2561495  \n",
        "Alpha     Scale Type\n",
        "5.555556  75 Filter     0.354263\n",
        "          80 Filter     0.352496\n",
        "          85 Filter     0.348898\n",
        "          90 Filter     0.346358\n",
        "          95 Filter     0.350290\n",
        "          No Filter     0.353811\n",
        "dtype: float64\n",
        "0.354263388105\n",
        "6.06060606061\n",
        "                             0          1          2          3          4  \\\n",
        "Alpha    Scale Type                                                          \n",
        "6.060606 75 Filter   0.2828116  0.4386316  0.5306782  0.3258156  0.3333736   \n",
        "         80 Filter   0.2799741  0.4406006  0.5510106  0.3147655  0.3309088   \n",
        "         85 Filter   0.2777989  0.4394973  0.5470561  0.3086369   0.319383   \n",
        "         90 Filter   0.2761413  0.4385646  0.5532657  0.3067405  0.3131351   \n",
        "         95 Filter   0.2778672  0.4354199  0.5741114  0.3021911  0.3147334   \n",
        "         No Filter   0.2724526  0.4395393    0.58866  0.2971455  0.3326727   \n",
        "\n",
        "                             5          6          7          8          9  \n",
        "Alpha    Scale Type                                                         \n",
        "6.060606 75 Filter   0.2837979  0.3890894  0.2882574  0.3031502  0.2719887  \n",
        "         80 Filter   0.2778836  0.3722523  0.2860666  0.2994211  0.2633194  \n",
        "         85 Filter   0.2750186  0.3678722  0.2857311  0.2983609  0.2611997  \n",
        "         90 Filter    0.272123  0.3478904  0.2826657  0.2996947  0.2597945  \n",
        "         95 Filter    0.267613  0.3559533   0.281289  0.3061652  0.2621946  \n",
        "         No Filter   0.2731241  0.3522488  0.2768342    0.31079  0.2565615  \n",
        "Alpha     Scale Type\n",
        "6.060606  75 Filter     0.353864\n",
        "          80 Filter     0.352324\n",
        "          85 Filter     0.348814\n",
        "          90 Filter     0.346284\n",
        "          95 Filter     0.350244\n",
        "          No Filter     0.353644\n",
        "dtype: float64\n",
        "0.353863704371\n",
        "6.56565656566\n",
        "                             0          1          2          3          4  \\\n",
        "Alpha    Scale Type                                                          \n",
        "6.565657 75 Filter   0.2825242  0.4391834  0.5265604  0.3261113  0.3351191   \n",
        "         80 Filter   0.2796558  0.4410942  0.5478635  0.3154108  0.3325146   \n",
        "         85 Filter   0.2775478   0.440158  0.5442615  0.3093913  0.3210167   \n",
        "         90 Filter   0.2753914  0.4390209  0.5508306  0.3076077  0.3145158   \n",
        "         95 Filter   0.2769589  0.4359383  0.5721194  0.3033664  0.3157594   \n",
        "         No Filter   0.2715951  0.4398618  0.5861816  0.2983728  0.3344108   \n",
        "\n",
        "                             5          6          7          8          9  \n",
        "Alpha    Scale Type                                                         \n",
        "6.565657 75 Filter   0.2843042  0.3877591  0.2890369   0.303284  0.2724923  \n",
        "         80 Filter   0.2784429  0.3713849  0.2869593  0.2994424  0.2640131  \n",
        "         85 Filter   0.2754848   0.367085  0.2865908  0.2983516  0.2618316  \n",
        "         90 Filter   0.2725362  0.3476407  0.2834614  0.2997134  0.2602826  \n",
        "         95 Filter    0.268375  0.3555859  0.2819816  0.3059765  0.2624788  \n",
        "         No Filter   0.2737306  0.3514119   0.277557  0.3104708  0.2569369  "
       ]
      },
      {
       "output_type": "stream",
       "stream": "stdout",
       "text": [
        "\n",
        "Alpha     Scale Type\n",
        "6.565657  75 Filter     0.353494\n",
        "          80 Filter     0.352157\n",
        "          85 Filter     0.348728\n",
        "          90 Filter     0.346207\n",
        "          95 Filter     0.350186\n",
        "          No Filter     0.353493\n",
        "dtype: float64\n",
        "0.353494398127\n",
        "7.07070707071\n",
        "                             0          1          2          3          4  \\\n",
        "Alpha    Scale Type                                                          \n",
        "7.070707 75 Filter   0.2823009  0.4396994  0.5226871  0.3263725  0.3367512   \n",
        "         80 Filter   0.2794048  0.4415586  0.5448621  0.3159834  0.3340201   \n",
        "         85 Filter   0.2773583  0.4407749  0.5415773  0.3100654  0.3225513   \n",
        "         90 Filter   0.2747191  0.4394518   0.548498  0.3083857  0.3158067   \n",
        "         95 Filter   0.2761227  0.4364267  0.5701879   0.304419  0.3167113   \n",
        "         No Filter   0.2708143  0.4401726  0.5838243  0.2994838  0.3360211   \n",
        "\n",
        "                             5          6          7          8          9  \n",
        "Alpha    Scale Type                                                         \n",
        "7.070707 75 Filter   0.2847663  0.3865707  0.2897113  0.3034114  0.2729444  \n",
        "         80 Filter   0.2789573   0.370613  0.2877478   0.299472  0.2646485  \n",
        "         85 Filter    0.275913  0.3663886  0.2873548  0.2983541  0.2624112  \n",
        "         90 Filter   0.2729187  0.3474374  0.2841799  0.2997287  0.2607305  \n",
        "         95 Filter   0.2690785  0.3552799  0.2826166  0.3057866  0.2627345  \n",
        "         No Filter    0.274292  0.3507492   0.278224   0.310155  0.2572816  \n",
        "Alpha     Scale Type\n",
        "7.070707  75 Filter     0.353153\n",
        "          80 Filter     0.351998\n",
        "          85 Filter     0.348642\n",
        "          90 Filter     0.346128\n",
        "          95 Filter     0.350120\n",
        "          No Filter     0.353356\n",
        "dtype: float64\n",
        "0.353355847593\n",
        "7.57575757576\n",
        "                             0          1          2          3          4  \\\n",
        "Alpha    Scale Type                                                          \n",
        "7.575758 75 Filter   0.2821296  0.4401849  0.5190342  0.3266057  0.3382866   \n",
        "         80 Filter   0.2792089  0.4419982  0.5419955  0.3164958  0.3354399   \n",
        "         85 Filter   0.2772187  0.4413547  0.5389976  0.3106722  0.3240017   \n",
        "         90 Filter   0.2741133  0.4398608  0.5462598  0.3090886  0.3170217   \n",
        "         95 Filter   0.2753494  0.4368894  0.5683146  0.3053672  0.3176034   \n",
        "         No Filter   0.2701002  0.4404733  0.5815751  0.3004947  0.3375227   \n",
        "\n",
        "                             5          6          7          8          9  \n",
        "Alpha    Scale Type                                                         \n",
        "7.575758 75 Filter   0.2851906  0.3855037  0.2902988  0.3035332  0.2733526  \n",
        "         80 Filter   0.2794329  0.3699231  0.2884488  0.2995086  0.2652332  \n",
        "         85 Filter   0.2763089  0.3657693  0.2880378  0.2983667  0.2629453  \n",
        "         90 Filter    0.273275  0.3472719  0.2848325   0.299742  0.2611441  \n",
        "         95 Filter   0.2697313  0.3550236  0.2832014  0.3055978  0.2629665  \n",
        "         No Filter   0.2748148  0.3502259  0.2788424  0.3098444     0.2576  \n",
        "Alpha     Scale Type\n",
        "7.575758  75 Filter     0.352837\n",
        "          80 Filter     0.351845\n",
        "          85 Filter     0.348557\n",
        "          90 Filter     0.346049\n",
        "          95 Filter     0.350048\n",
        "          No Filter     0.353230\n",
        "dtype: float64\n",
        "0.353230076011\n",
        "8.08080808081\n",
        "                             0          1          2          3          4  \\\n",
        "Alpha    Scale Type                                                          \n",
        "8.080808 75 Filter   0.2820013  0.4406441  0.5155809  0.3268161  0.3397387   \n",
        "         80 Filter   0.2790585  0.4424167  0.5392537  0.3169575  0.3367856   \n",
        "         85 Filter   0.2771201  0.4419026  0.5365166  0.3112223  0.3253796   \n",
        "         90 Filter   0.2735652  0.4402509   0.544109  0.3097275   0.318172   \n",
        "         95 Filter   0.2746317  0.4373293   0.566497  0.3062256  0.3184465   \n",
        "         No Filter   0.2694446  0.4407648  0.5794235  0.3014188  0.3389309   \n",
        "\n",
        "                             5          6          7          8          9  \n",
        "Alpha    Scale Type                                                         \n",
        "8.080808 75 Filter   0.2855825  0.3845414  0.2908141    0.30365   0.273723  \n",
        "         80 Filter   0.2798746  0.3693045   0.289076  0.2995509   0.265773  \n",
        "         85 Filter    0.276677  0.3652162  0.2886522  0.2983878  0.2634394  \n",
        "         90 Filter   0.2736087  0.3471375  0.2854283  0.2997542  0.2615279  \n",
        "         95 Filter     0.27034  0.3548078  0.2837423  0.3054115  0.2631785  \n",
        "         No Filter   0.2753037  0.3498152  0.2794182  0.3095402  0.2578958  \n",
        "Alpha     Scale Type\n",
        "8.080808  75 Filter     0.352545\n",
        "          80 Filter     0.351701\n",
        "          85 Filter     0.348474\n",
        "          90 Filter     0.345971\n",
        "          95 Filter     0.349972\n",
        "          No Filter     0.353114\n",
        "dtype: float64\n",
        "0.353114111647\n",
        "8.58585858586\n",
        "                             0          1          2          3          4  \\\n",
        "Alpha    Scale Type                                                          \n",
        "8.585859 75 Filter   0.2819085  0.4410805  0.5123092  0.3270078  0.3411181   \n",
        "         80 Filter    0.278946  0.4428168  0.5366277  0.3173763  0.3380667   \n",
        "         85 Filter   0.2770555  0.4424227  0.5341286   0.311724  0.3266941   \n",
        "         90 Filter   0.2730673  0.4406243  0.5420392  0.3103112   0.319266   \n",
        "         95 Filter   0.2739636  0.4377492  0.5647327   0.307006  0.3192486   \n",
        "         No Filter   0.2688408  0.4410482  0.5773603  0.3022669  0.3402579   \n",
        "\n",
        "                             5          6          7          8          9  \n",
        "Alpha    Scale Type                                                         \n",
        "8.585859 75 Filter   0.2859463  0.3836702  0.2912686  0.3037624  0.2740608  \n",
        "         80 Filter   0.2802866  0.3687481    0.28964  0.2995979  0.2662734  \n",
        "         85 Filter   0.2770207  0.3647204  0.2892075   0.298416  0.2638982  \n",
        "         90 Filter   0.2739228  0.3470291  0.2859748  0.2997659  0.2618857  \n",
        "         95 Filter   0.2709099  0.3546258  0.2842445  0.3052289  0.2633734  \n",
        "         No Filter   0.2757629  0.3494964  0.2799562  0.3092431   0.258172  \n",
        "Alpha     Scale Type\n",
        "8.585859  75 Filter     0.352274\n",
        "          80 Filter     0.351564\n",
        "          85 Filter     0.348395\n",
        "          90 Filter     0.345895\n",
        "          95 Filter     0.349893\n",
        "          No Filter     0.353007\n",
        "dtype: float64\n",
        "0.353006648609\n",
        "9.09090909091\n",
        "                             0          1          2          3          4  \\\n",
        "Alpha    Scale Type                                                          \n",
        "9.090909 75 Filter   0.2818457  0.4414968  0.5092031   0.327184  0.3424338   \n",
        "         80 Filter   0.2788655  0.4432009  0.5341094  0.3177583   0.339291   \n",
        "         85 Filter   0.2770191  0.4429183  0.5318281   0.312184  0.3279529   \n",
        "         90 Filter   0.2726135  0.4409829  0.5400447  0.3108472  0.3203107   \n",
        "         95 Filter   0.2733399  0.4381511  0.5630192  0.3077184   0.320016   \n",
        "         No Filter   0.2682832  0.4413241  0.5753777   0.303048  0.3415137   \n",
        "\n",
        "                             5          6          7          8          9  \n",
        "Alpha    Scale Type                                                         \n",
        "9.090909 75 Filter   0.2862856  0.3828786  0.2916716   0.303871  0.2743701  \n",
        "         80 Filter   0.2806723  0.3682461  0.2901498  0.2996489  0.2667386  \n",
        "         85 Filter   0.2773431  0.3642745  0.2897119  0.2984502  0.2643257  \n",
        "         90 Filter   0.2742196  0.3469426  0.2864782  0.2997778  0.2622207  \n",
        "         95 Filter   0.2714454   0.354472  0.2847123  0.3050505  0.2635538  \n",
        "         No Filter   0.2761958   0.349253  0.2804606  0.3089536  0.2584309  \n",
        "Alpha     Scale Type\n",
        "9.090909  75 Filter     0.352023\n",
        "          80 Filter     0.351435\n",
        "          85 Filter     0.348319\n",
        "          90 Filter     0.345821\n",
        "          95 Filter     0.349813\n",
        "          No Filter     0.352907\n",
        "dtype: float64"
       ]
      },
      {
       "output_type": "stream",
       "stream": "stdout",
       "text": [
        "\n",
        "0.352906632921\n",
        "9.59595959596\n",
        "                            0          1          2          3          4  \\\n",
        "Alpha   Scale Type                                                          \n",
        "9.59596 75 Filter   0.2818082  0.4418955  0.5062486  0.3273472  0.3436929   \n",
        "        80 Filter   0.2788121  0.4435709  0.5316911  0.3181086  0.3404648   \n",
        "        85 Filter   0.2770065  0.4433923  0.5296101  0.3126079  0.3291621   \n",
        "        90 Filter   0.2721989  0.4413281  0.5381205  0.3113414  0.3213118   \n",
        "        95 Filter   0.2727561  0.4385367  0.5613542  0.3083711  0.3207538   \n",
        "        No Filter   0.2677671  0.4415932   0.573469    0.30377  0.3427065   \n",
        "\n",
        "                            5          6          7          8          9  \n",
        "Alpha   Scale Type                                                         \n",
        "9.59596 75 Filter   0.2866033  0.3821571  0.2920307  0.3039762  0.2746546  \n",
        "        80 Filter   0.2810346  0.3677923  0.2906127   0.299703  0.2671725  \n",
        "        85 Filter   0.2776467  0.3638724   0.290172  0.2984896  0.2647252  \n",
        "        90 Filter    0.274501  0.3468745  0.2869437  0.2997899  0.2625354  \n",
        "        95 Filter   0.2719502  0.3543423  0.2851496  0.3048767  0.2637216  \n",
        "        No Filter   0.2766052  0.3490719  0.2809351  0.3086719  0.2586748  \n",
        "Alpha    Scale Type\n",
        "9.59596  75 Filter     0.351790\n",
        "         80 Filter     0.351313\n",
        "         85 Filter     0.348246\n",
        "         90 Filter     0.345748\n",
        "         95 Filter     0.349733\n",
        "         No Filter     0.352813\n",
        "dtype: float64\n",
        "0.352813202105\n",
        "10.101010101\n",
        "                             0          1          2          3          4  \\\n",
        "Alpha    Scale Type                                                          \n",
        "10.10101 75 Filter   0.2817924  0.4422786  0.5034334  0.3274995  0.3449016   \n",
        "         80 Filter   0.2787819  0.4439284  0.5293661  0.3184313  0.3415934   \n",
        "         85 Filter    0.277014  0.4438471  0.5274697  0.3130003   0.330327   \n",
        "         90 Filter    0.271819  0.4416614  0.5362619  0.3117991  0.3222738   \n",
        "         95 Filter   0.2722087  0.4389076  0.5597354  0.3089711  0.3214658   \n",
        "         No Filter   0.2672882   0.441856  0.5716283  0.3044392   0.343843   \n",
        "\n",
        "                             5          6          7          8          9  \n",
        "Alpha    Scale Type                                                         \n",
        "10.10101 75 Filter    0.286902  0.3814977   0.292352  0.3040783  0.2749173  \n",
        "         80 Filter   0.2813759  0.3673812  0.2910346  0.2997599  0.2675783  \n",
        "         85 Filter   0.2779335  0.3635089  0.2905934  0.2985334  0.2650997  \n",
        "         90 Filter   0.2747688  0.3468222  0.2873756  0.2998027   0.262832  \n",
        "         95 Filter   0.2724275  0.3542331  0.2855594  0.3047079  0.2638786  \n",
        "         No Filter   0.2769934  0.3489427  0.2813826  0.3083981  0.2589053  \n",
        "Alpha     Scale Type\n",
        "10.10101  75 Filter     0.351574\n",
        "          80 Filter     0.351198\n",
        "          85 Filter     0.348178\n",
        "          90 Filter     0.345679\n",
        "          95 Filter     0.349652\n",
        "          No Filter     0.352726\n",
        "dtype: float64\n",
        "0.352725641636\n",
        "10.6060606061\n",
        "                              0          1          2          3          4  \\\n",
        "Alpha     Scale Type                                                          \n",
        "10.606061 75 Filter   0.2817952  0.4426477  0.5007464  0.3276427  0.3460649   \n",
        "          80 Filter   0.2787716  0.4442747  0.5271282  0.3187301  0.3426814   \n",
        "          85 Filter   0.2770386  0.4442845  0.5254025  0.3133651  0.3314517   \n",
        "          90 Filter   0.2714702  0.4419836  0.5344648  0.3122244  0.3232006   \n",
        "          95 Filter   0.2716943  0.4392649  0.5581608  0.3095242  0.3221551   \n",
        "          No Filter   0.2668432  0.4421129  0.5698506  0.3050612  0.3449291   \n",
        "\n",
        "                              5          6          7          8          9  \n",
        "Alpha     Scale Type                                                         \n",
        "10.606061 75 Filter   0.2871837  0.3808934  0.2926409  0.3041776  0.2751607  \n",
        "          80 Filter   0.2816985  0.3670082  0.2914207  0.2998189  0.2679588  \n",
        "          85 Filter   0.2782053  0.3631797  0.2909807   0.298581  0.2654516  \n",
        "          90 Filter   0.2750242  0.3467834  0.2877778  0.2998162  0.2631125  \n",
        "          95 Filter     0.27288  0.3541415  0.2859445  0.3045441   0.264026  \n",
        "          No Filter   0.2773627  0.3488569  0.2818057  0.3081321  0.2591238  \n",
        "Alpha      Scale Type\n",
        "10.606061  75 Filter     0.351374\n",
        "           80 Filter     0.351091\n",
        "           85 Filter     0.348113\n",
        "           90 Filter     0.345611\n",
        "           95 Filter     0.349572\n",
        "           No Filter     0.352643\n",
        "dtype: float64\n",
        "0.352643352954\n",
        "11.1111111111\n",
        "                              0          1          2          3          4  \\\n",
        "Alpha     Scale Type                                                          \n",
        "11.111111 75 Filter   0.2818142  0.4430042  0.4981779  0.3277782  0.3471873   \n",
        "          80 Filter   0.2787785   0.444611  0.5249717  0.3190078  0.3437326   \n",
        "          85 Filter   0.2770779  0.4447062  0.5234043  0.3137055  0.3325401   \n",
        "          90 Filter   0.2711494  0.4422958  0.5327255   0.312621  0.3240955   \n",
        "          95 Filter   0.2712101  0.4396098  0.5566282  0.3100356  0.3228243   \n",
        "          No Filter    0.266429  0.4423643  0.5681313  0.3056409  0.3459695   \n",
        "\n",
        "                              5          6          7          8          9  \n",
        "Alpha     Scale Type                                                         \n",
        "11.111111 75 Filter   0.2874503  0.3803384  0.2929014  0.3042744   0.275387  \n",
        "          80 Filter   0.2820039  0.3666691  0.2917753  0.2998798  0.2683164  \n",
        "          85 Filter   0.2784635   0.362881  0.2913379  0.2986317  0.2657833  \n",
        "          90 Filter   0.2752685  0.3467564  0.2881533  0.2998304  0.2633784  \n",
        "          95 Filter   0.2733101  0.3540653  0.2863073  0.3043855  0.2641651  \n",
        "          No Filter   0.2777146  0.3488074  0.2822068  0.3078738  0.2593316  "
       ]
      },
      {
       "output_type": "stream",
       "stream": "stdout",
       "text": [
        "\n",
        "Alpha      Scale Type\n",
        "11.111111  75 Filter     0.351188\n",
        "           80 Filter     0.350990\n",
        "           85 Filter     0.348053\n",
        "           90 Filter     0.345547\n",
        "           95 Filter     0.349493\n",
        "           No Filter     0.352566\n",
        "dtype: float64\n",
        "0.352565829576\n",
        "11.6161616162\n",
        "                              0          1          2          3          4  \\\n",
        "Alpha     Scale Type                                                          \n",
        "11.616162 75 Filter   0.2818473  0.4433495  0.4957191  0.3279071  0.3482725   \n",
        "          80 Filter   0.2788003  0.4449382  0.5228916  0.3192668  0.3447502   \n",
        "          85 Filter   0.2771297  0.4451136  0.5214712  0.3140242  0.3335951   \n",
        "          90 Filter   0.2708538  0.4425986  0.5310405  0.3129919  0.3249613   \n",
        "          95 Filter   0.2707537  0.4399432  0.5551356  0.3105097  0.3234755   \n",
        "          No Filter   0.2660428  0.4426105  0.5664662  0.3061823  0.3469684   \n",
        "\n",
        "                              5          6          7          8          9  \n",
        "Alpha     Scale Type                                                         \n",
        "11.616162 75 Filter   0.2877034  0.3798275  0.2931374  0.3043689  0.2755981  \n",
        "          80 Filter    0.282294  0.3663605  0.2921019  0.2999421  0.2686533  \n",
        "          85 Filter   0.2787095  0.3626096  0.2916683   0.298685  0.2660965  \n",
        "          90 Filter   0.2755027  0.3467395  0.2885049  0.2998455  0.2636311  \n",
        "          95 Filter   0.2737197  0.3540025  0.2866499  0.3042319  0.2642968  \n",
        "          No Filter   0.2780507  0.3487885  0.2825877  0.3076231  0.2595297  \n",
        "Alpha      Scale Type\n",
        "11.616162  75 Filter     0.351015\n",
        "           80 Filter     0.350895\n",
        "           85 Filter     0.347996\n",
        "           90 Filter     0.345485\n",
        "           95 Filter     0.349414\n",
        "           No Filter     0.352493\n",
        "dtype: float64\n",
        "0.352492638993\n",
        "12.1212121212\n",
        "                              0          1          2          3          4  \\\n",
        "Alpha     Scale Type                                                          \n",
        "12.121212 75 Filter   0.2818927  0.4436846  0.4933622  0.3280304  0.3493237   \n",
        "          80 Filter   0.2788352  0.4452571  0.5208832  0.3195093  0.3457372   \n",
        "          85 Filter   0.2771923  0.4455081  0.5195996  0.3143237  0.3346196   \n",
        "          90 Filter   0.2705811  0.4428928  0.5294067  0.3133398  0.3258004   \n",
        "          95 Filter   0.2703228  0.4402658  0.5536814  0.3109501  0.3241103   \n",
        "          No Filter   0.2656825  0.4428519  0.5648519  0.3066891  0.3479295   \n",
        "\n",
        "                              5          6          7          8          9  \n",
        "Alpha     Scale Type                                                         \n",
        "12.121212 75 Filter   0.2879442  0.3793564  0.2933518  0.3044613  0.2757956  \n",
        "          80 Filter   0.2825699  0.3660794  0.2924038  0.3000056  0.2689714  \n",
        "          85 Filter   0.2789443  0.3623628   0.291975  0.2987407  0.2663929  \n",
        "          90 Filter   0.2757275  0.3467314   0.288835  0.2998615  0.2638718  \n",
        "          95 Filter   0.2741107  0.3539515   0.286974  0.3040833   0.264422  \n",
        "          No Filter   0.2783725  0.3487954  0.2829504  0.3073798  0.2597192  \n",
        "Alpha      Scale Type\n",
        "12.121212  75 Filter     0.350855\n",
        "           80 Filter     0.350806\n",
        "           85 Filter     0.347943\n",
        "           90 Filter     0.345425\n",
        "           95 Filter     0.349338\n",
        "           No Filter     0.352423\n",
        "dtype: float64\n",
        "0.352423408767\n",
        "12.6262626263\n",
        "                              0          1          2          3          4  \\\n",
        "Alpha     Scale Type                                                          \n",
        "12.626263 75 Filter    0.281949  0.4440104  0.4911001   0.328149  0.3503437   \n",
        "          80 Filter   0.2788814  0.4455684   0.518942   0.319737  0.3466959   \n",
        "          85 Filter   0.2772643  0.4458906  0.5177862  0.3146058  0.3356159   \n",
        "          90 Filter   0.2703292  0.4431789  0.5278211  0.3136671  0.3266149   \n",
        "          95 Filter   0.2699156  0.4405785  0.5522636  0.3113602  0.3247304   \n",
        "          No Filter   0.2653458  0.4430886  0.5632851  0.3071645  0.3488558   \n",
        "\n",
        "                              5          6          7          8          9  \n",
        "Alpha     Scale Type                                                         \n",
        "12.626263 75 Filter    0.288174  0.3789212  0.2935472  0.3045517   0.275981  \n",
        "          80 Filter    0.282833  0.3658232  0.2926836  0.3000701  0.2692722  \n",
        "          85 Filter    0.279169   0.362138  0.2922603  0.2987983  0.2666741  \n",
        "          90 Filter   0.2759439  0.3467312  0.2891456  0.2998784  0.2641016  \n",
        "          95 Filter   0.2744845   0.353911  0.2872812  0.3039397  0.2645413  \n",
        "          No Filter    0.278681  0.3488242  0.2832963  0.3071437  0.2599007  \n",
        "Alpha      Scale Type\n",
        "12.626263  75 Filter     0.350707\n",
        "           80 Filter     0.350724\n",
        "           85 Filter     0.347894\n",
        "           90 Filter     0.345369\n",
        "           95 Filter     0.349262\n",
        "           No Filter     0.352358\n",
        "dtype: float64\n",
        "0.35235781572\n",
        "13.1313131313\n",
        "                              0          1          2          3          4  \\\n",
        "Alpha     Scale Type                                                          \n",
        "13.131313 75 Filter   0.2820148  0.4443277  0.4889264  0.3282635  0.3513349   \n",
        "          80 Filter   0.2789378  0.4458728  0.5170642  0.3199516  0.3476286   \n",
        "          85 Filter   0.2773444  0.4462621  0.5160279  0.3148725  0.3365859   \n",
        "          90 Filter   0.2700963  0.4434575  0.5262812  0.3139756  0.3274065   \n",
        "          95 Filter   0.2695302  0.4408817  0.5508807  0.3117429  0.3253368   \n",
        "          No Filter   0.2650309   0.443321  0.5617629  0.3076112  0.3497501   \n",
        "\n",
        "                              5          6          7          8          9  \n",
        "Alpha     Scale Type                                                         \n",
        "13.131313 75 Filter   0.2883937  0.3785186   0.293726  0.3046404  0.2761553  \n",
        "          80 Filter   0.2830842  0.3655894  0.2929435  0.3001354  0.2695574  \n",
        "          85 Filter   0.2793843  0.3619333  0.2925265  0.2988575  0.2669412  \n",
        "          90 Filter   0.2761523  0.3467378  0.2894386  0.2998961  0.2643213  \n",
        "          95 Filter   0.2748426  0.3538797   0.287573  0.3038009  0.2646553  \n",
        "          No Filter   0.2789773  0.3488716  0.2836268  0.3069146  0.2600751  "
       ]
      },
      {
       "output_type": "stream",
       "stream": "stdout",
       "text": [
        "\n",
        "Alpha      Scale Type\n",
        "13.131313  75 Filter     0.350570\n",
        "           80 Filter     0.350646\n",
        "           85 Filter     0.347848\n",
        "           90 Filter     0.345314\n",
        "           95 Filter     0.349188\n",
        "           No Filter     0.352296\n",
        "dtype: float64\n",
        "0.352295577433\n",
        "13.6363636364\n",
        "                              0          1          2          3          4  \\\n",
        "Alpha     Scale Type                                                          \n",
        "13.636364 75 Filter   0.2820892  0.4446373  0.4868352  0.3283745  0.3522995   \n",
        "          80 Filter    0.279003  0.4461708  0.5152462  0.3201544  0.3485372   \n",
        "          85 Filter   0.2774317  0.4466234  0.5143218  0.3151251  0.3375316   \n",
        "          90 Filter   0.2698808  0.4437291  0.5247845  0.3142672  0.3281769   \n",
        "          95 Filter   0.2691651  0.4411762  0.5495312  0.3121007  0.3259306   \n",
        "          No Filter   0.2647363  0.4435491  0.5602825  0.3080318  0.3506148   \n",
        "\n",
        "                              5          6          7          8          9  \n",
        "Alpha     Scale Type                                                         \n",
        "13.636364 75 Filter   0.2886043  0.3781455  0.2938901  0.3047275  0.2763198  \n",
        "          80 Filter   0.2833246  0.3653761  0.2931858  0.3002012  0.2698281  \n",
        "          85 Filter    0.279591  0.3617467  0.2927754   0.298918  0.2671956  \n",
        "          90 Filter   0.2763535  0.3467504  0.2897155  0.2999146  0.2645319  \n",
        "          95 Filter    0.275186  0.3538567  0.2878505  0.3036668  0.2647647  \n",
        "          No Filter   0.2792623  0.3489348  0.2839431  0.3066923  0.2602428  \n",
        "Alpha      Scale Type\n",
        "13.636364  75 Filter     0.350442\n",
        "           80 Filter     0.350575\n",
        "           85 Filter     0.347807\n",
        "           90 Filter     0.345263\n",
        "           95 Filter     0.349116\n",
        "           No Filter     0.352236\n",
        "dtype: float64\n",
        "0.352236445504\n",
        "14.1414141414\n",
        "                              0          1          2          3          4  \\\n",
        "Alpha     Scale Type                                                          \n",
        "14.141414 75 Filter   0.2821712  0.4449398  0.4848215  0.3284826  0.3532394   \n",
        "          80 Filter   0.2790761   0.446463  0.5134846  0.3203466  0.3494233   \n",
        "          85 Filter   0.2775251  0.4469753  0.5126652  0.3153651  0.3384545   \n",
        "          90 Filter   0.2696812   0.443994  0.5233288  0.3145434  0.3289276   \n",
        "          95 Filter   0.2688189  0.4414624  0.5482135  0.3124358  0.3265127   \n",
        "          No Filter   0.2644604  0.4437733  0.5588417  0.3084284  0.3514521   \n",
        "\n",
        "                              5          6          7          8          9  \n",
        "Alpha     Scale Type                                                         \n",
        "14.141414 75 Filter   0.2888064  0.3777995   0.294041  0.3048129  0.2764754  \n",
        "          80 Filter   0.2835549  0.3651814   0.293412  0.3002674  0.2700856  \n",
        "          85 Filter   0.2797898  0.3615766  0.2930088  0.2989797   0.267438  \n",
        "          90 Filter   0.2765479  0.3467684  0.2899777   0.299934  0.2647339  \n",
        "          95 Filter    0.275516  0.3538411   0.288115  0.3035373  0.2648697  \n",
        "          No Filter   0.2795369  0.3490113  0.2842464  0.3064766  0.2604045  \n",
        "Alpha      Scale Type\n",
        "14.141414  75 Filter     0.350325\n",
        "           80 Filter     0.350508\n",
        "           85 Filter     0.347768\n",
        "           90 Filter     0.345213\n",
        "           95 Filter     0.349046\n",
        "           No Filter     0.352180\n",
        "dtype: float64\n",
        "0.352180200133\n",
        "14.6464646465\n",
        "                              0          1          2          3          4  \\\n",
        "Alpha     Scale Type                                                          \n",
        "14.646465 75 Filter     0.28226  0.4452357  0.4828802  0.3285881  0.3541564   \n",
        "          80 Filter   0.2791561  0.4467496  0.5117763  0.3205291  0.3502885   \n",
        "          85 Filter    0.277624  0.4473184  0.5110556  0.3155936  0.3393561   \n",
        "          90 Filter   0.2694963  0.4442526   0.521912  0.3148056  0.3296597   \n",
        "          95 Filter   0.2684904  0.4417408  0.5469263  0.3127501  0.3270839   \n",
        "          No Filter   0.2642018  0.4439936  0.5574382   0.308803  0.3522639   \n",
        "\n",
        "                              5          6          7          8          9  \n",
        "Alpha     Scale Type                                                         \n",
        "14.646465 75 Filter   0.2890009  0.3774781  0.2941803   0.304897  0.2766228  \n",
        "          80 Filter   0.2837759  0.3650036  0.2936238  0.3003339  0.2703309  \n",
        "          85 Filter   0.2799813  0.3614215  0.2932281  0.2990423  0.2676696  \n",
        "          90 Filter    0.276736  0.3467911  0.2902266  0.2999541  0.2649281  \n",
        "          95 Filter   0.2758334  0.3538321  0.2883674  0.3034121  0.2649709  \n",
        "          No Filter   0.2798018  0.3490993  0.2845375  0.3062671  0.2605606  \n",
        "Alpha      Scale Type\n",
        "14.646465  75 Filter     0.350216\n",
        "           80 Filter     0.350445\n",
        "           85 Filter     0.347733\n",
        "           90 Filter     0.345166\n",
        "           95 Filter     0.348977\n",
        "           No Filter     0.352127\n",
        "dtype: float64\n",
        "0.352126645749\n",
        "15.1515151515\n",
        "                              0          1          2          3          4  \\\n",
        "Alpha     Scale Type                                                          \n",
        "15.151515 75 Filter   0.2823548  0.4455256  0.4810071  0.3286914  0.3550518   \n",
        "          80 Filter   0.2792424  0.4470311  0.5101186  0.3207029   0.351134   \n",
        "          85 Filter   0.2777277  0.4476533  0.5094907  0.3158116  0.3402376   \n",
        "          90 Filter   0.2693249  0.4445053  0.5205321  0.3150549  0.3303745   \n",
        "          95 Filter   0.2681783  0.4420118  0.5456684  0.3130456  0.3276448   \n",
        "          No Filter   0.2639595  0.4442102  0.5560701  0.3091572  0.3530517   \n",
        "\n",
        "                              5          6          7          8          9  \n",
        "Alpha     Scale Type                                                         \n",
        "15.151515 75 Filter   0.2891884  0.3771794  0.2943092  0.3049796  0.2767629  \n",
        "          80 Filter   0.2839884  0.3648414  0.2938225  0.3004007  0.2705649  \n",
        "          85 Filter   0.2801659  0.3612802  0.2934345  0.2991057  0.2678912  \n",
        "          90 Filter   0.2769181  0.3468181  0.2904632   0.299975   0.265115  \n",
        "          95 Filter   0.2761391  0.3538291  0.2886085  0.3032912  0.2650686  \n",
        "          No Filter   0.2800577  0.3491969  0.2848174  0.3060638  0.2607116  "
       ]
      },
      {
       "output_type": "stream",
       "stream": "stdout",
       "text": [
        "\n",
        "Alpha      Scale Type\n",
        "15.151515  75 Filter     0.350115\n",
        "           80 Filter     0.350388\n",
        "           85 Filter     0.347700\n",
        "           90 Filter     0.345121\n",
        "           95 Filter     0.348911\n",
        "           No Filter     0.352076\n",
        "dtype: float64\n",
        "0.352075607449\n",
        "15.6565656566\n",
        "                              0          1          2          3          4  \\\n",
        "Alpha     Scale Type                                                          \n",
        "15.656566 75 Filter   0.2824552  0.4458099  0.4791982  0.3287929  0.3559271   \n",
        "          80 Filter   0.2793342  0.4473079  0.5085088  0.3208689  0.3519611   \n",
        "          85 Filter   0.2778355  0.4479805  0.5079684    0.31602  0.3411002   \n",
        "          90 Filter    0.269166  0.4447524  0.5191875  0.3152924  0.3310728   \n",
        "          95 Filter   0.2678818  0.4422758  0.5444384  0.3133236  0.3281961   \n",
        "          No Filter   0.2637323  0.4444234  0.5547354  0.3094928  0.3538173   \n",
        "\n",
        "                              5          6          7          8          9  \n",
        "Alpha     Scale Type                                                         \n",
        "15.656566 75 Filter   0.2893693  0.3769014  0.2944289   0.305061  0.2768963  \n",
        "          80 Filter   0.2841928  0.3646935  0.2940093  0.3004675  0.2707885  \n",
        "          85 Filter   0.2803442  0.3611515  0.2936292  0.2991696  0.2681034  \n",
        "          90 Filter   0.2770948  0.3468489  0.2906884  0.2999965  0.2652951  \n",
        "          95 Filter    0.276434  0.3538315  0.2888392  0.3031745   0.265163  \n",
        "          No Filter   0.2803051  0.3493027  0.2850869  0.3058664  0.2608578  \n",
        "Alpha      Scale Type\n",
        "15.656566  75 Filter     0.350023\n",
        "           80 Filter     0.350334\n",
        "           85 Filter     0.347671\n",
        "           90 Filter     0.345079\n",
        "           95 Filter     0.348846\n",
        "           No Filter     0.352027\n",
        "dtype: float64\n",
        "0.352026928063\n",
        "16.1616161616\n",
        "                              0          1          2          3          4  \\\n",
        "Alpha     Scale Type                                                          \n",
        "16.161616 75 Filter   0.2825604  0.4460889  0.4774497  0.3288929  0.3567835   \n",
        "          80 Filter   0.2794309  0.4475802  0.5069444  0.3210276   0.352771   \n",
        "          85 Filter    0.277947  0.4483005  0.5064866  0.3162197  0.3419449   \n",
        "          90 Filter   0.2690188  0.4449942  0.5178763   0.315519  0.3317557   \n",
        "          95 Filter   0.2675997  0.4425331  0.5432353  0.3135856  0.3287382   \n",
        "          No Filter   0.2635192  0.4446331  0.5534325   0.309811  0.3545619   \n",
        "\n",
        "                              5          6          7          8          9  \n",
        "Alpha     Scale Type                                                         \n",
        "16.161616 75 Filter   0.2895442  0.3766426  0.2945403  0.3051411  0.2770236  \n",
        "          80 Filter   0.2843898  0.3645586  0.2941853  0.3005343  0.2710024  \n",
        "          85 Filter   0.2805166  0.3610344  0.2938133  0.2992341  0.2683069  \n",
        "          90 Filter   0.2772662   0.346883  0.2909032  0.3000188  0.2654689  \n",
        "          95 Filter   0.2767186  0.3538388  0.2890603  0.3030617  0.2652544  \n",
        "          No Filter   0.2805446  0.3494155  0.2853466  0.3056747  0.2609996  \n",
        "Alpha      Scale Type\n",
        "16.161616  75 Filter     0.349937\n",
        "           80 Filter     0.350285\n",
        "           85 Filter     0.347645\n",
        "           90 Filter     0.345038\n",
        "           95 Filter     0.348782\n",
        "           No Filter     0.351980\n",
        "dtype: float64\n",
        "0.351980465738\n",
        "16.6666666667\n",
        "                              0          1          2          3          4  \\\n",
        "Alpha     Scale Type                                                          \n",
        "16.666667 75 Filter   0.2826702  0.4463631  0.4757583  0.3289914  0.3576221   \n",
        "          80 Filter   0.2795322  0.4478483  0.5054232  0.3211797  0.3535644   \n",
        "          85 Filter   0.2780618  0.4486138  0.5050434  0.3164114  0.3427727   \n",
        "          90 Filter   0.2688823  0.4452309  0.5165972  0.3157356  0.3324241   \n",
        "          95 Filter   0.2673312  0.4427841  0.5420579   0.313833  0.3292717   \n",
        "          No Filter   0.2633193  0.4448396  0.5521598  0.3101132  0.3552868   \n",
        "\n",
        "                              5          6          7          8          9  \n",
        "Alpha     Scale Type                                                         \n",
        "16.666667 75 Filter   0.2897135  0.3764014  0.2946442  0.3052201  0.2771453  \n",
        "          80 Filter   0.2845799  0.3644358  0.2943514  0.3006011  0.2712073  \n",
        "          85 Filter   0.2806834  0.3609279  0.2939876  0.2992989  0.2685023  \n",
        "          90 Filter   0.2774328  0.3469202  0.2911084  0.3000416  0.2656369  \n",
        "          95 Filter   0.2769936  0.3538506  0.2892723  0.3029528  0.2653432  \n",
        "          No Filter   0.2807768  0.3495342  0.2855972  0.3054885  0.2611373  \n",
        "Alpha      Scale Type\n",
        "16.666667  75 Filter     0.349859\n",
        "           80 Filter     0.350240\n",
        "           85 Filter     0.347621\n",
        "           90 Filter     0.345000\n",
        "           95 Filter     0.348721\n",
        "           No Filter     0.351936\n",
        "dtype: float64"
       ]
      },
      {
       "output_type": "stream",
       "stream": "stdout",
       "text": [
        "\n",
        "0.351936091913\n",
        "17.1717171717\n",
        "                              0          1          2          3          4  \\\n",
        "Alpha     Scale Type                                                          \n",
        "17.171717 75 Filter    0.282784  0.4466327  0.4741209  0.3290889  0.3584439   \n",
        "          80 Filter   0.2796374  0.4481125  0.5039431  0.3213258  0.3543425   \n",
        "          85 Filter   0.2781795  0.4489207  0.5036371  0.3165956  0.3435845   \n",
        "          90 Filter   0.2687558  0.4454628  0.5153486  0.3159431  0.3330785   \n",
        "          95 Filter   0.2670755  0.4430291  0.5409053  0.3140667  0.3297969   \n",
        "          No Filter   0.2631319  0.4450429  0.5509159  0.3104005  0.3559931   \n",
        "\n",
        "                              5          6          7          8          9  \n",
        "Alpha     Scale Type                                                         \n",
        "17.171717 75 Filter   0.2898776  0.3761765  0.2947415  0.3052979  0.2772619  \n",
        "          80 Filter   0.2847634   0.364324  0.2945085  0.3006677  0.2714039  \n",
        "          85 Filter   0.2808451  0.3608312  0.2941529  0.2993639  0.2686903  \n",
        "          90 Filter   0.2775948  0.3469601  0.2913047   0.300065  0.2657993  \n",
        "          95 Filter   0.2772596  0.3538664  0.2894759  0.3028476  0.2654294  \n",
        "          No Filter   0.2810019  0.3496578  0.2858394  0.3053076  0.2612711  \n",
        "Alpha      Scale Type\n",
        "17.171717  75 Filter     0.349787\n",
        "           80 Filter     0.350198\n",
        "           85 Filter     0.347600\n",
        "           90 Filter     0.344964\n",
        "           95 Filter     0.348661\n",
        "           No Filter     0.351894\n",
        "dtype: float64\n",
        "0.351893689638\n",
        "17.6767676768\n",
        "                              0          1          2          3          4  \\\n",
        "Alpha     Scale Type                                                          \n",
        "17.676768 75 Filter   0.2829014  0.4468981  0.4725346  0.3291854  0.3592498   \n",
        "          80 Filter   0.2797462  0.4483729  0.5025021  0.3214664  0.3551059   \n",
        "          85 Filter   0.2782997  0.4492217   0.502266  0.3167731   0.344381   \n",
        "          90 Filter   0.2686387  0.4456901  0.5141292  0.3161419  0.3337199   \n",
        "          95 Filter    0.266832  0.4432683  0.5397765  0.3142879  0.3303142   \n",
        "          No Filter    0.262956  0.4452433  0.5496994  0.3106739   0.356682   \n",
        "\n",
        "                              5          6          7          8          9  \n",
        "Alpha     Scale Type                                                         \n",
        "17.676768 75 Filter   0.2900369  0.3759667  0.2948327  0.3053747  0.2773738  \n",
        "          80 Filter   0.2849409  0.3642225  0.2946573  0.3007342  0.2715926  \n",
        "          85 Filter   0.2810018  0.3607436  0.2943101  0.2994292  0.2688713  \n",
        "          90 Filter   0.2777523  0.3470024  0.2914927   0.300089  0.2659566  \n",
        "          95 Filter   0.2775172  0.3538859  0.2896716  0.3027459  0.2655133  \n",
        "          No Filter   0.2812206  0.3497856  0.2860737  0.3051318  0.2614014  \n",
        "Alpha      Scale Type\n",
        "17.676768  75 Filter     0.349722\n",
        "           80 Filter     0.350160\n",
        "           85 Filter     0.347582\n",
        "           90 Filter     0.344929\n",
        "           95 Filter     0.348603\n",
        "           No Filter     0.351853\n",
        "dtype: float64\n",
        "0.351853152139\n",
        "18.1818181818\n",
        "                              0          1          2          3          4  \\\n",
        "Alpha     Scale Type                                                          \n",
        "18.181818 75 Filter   0.2830222  0.4471596  0.4709967   0.329281  0.3600407   \n",
        "          80 Filter   0.2798583  0.4486299  0.5010985   0.321602  0.3558554   \n",
        "          85 Filter   0.2784222  0.4495169  0.5009286  0.3169443  0.3451629   \n",
        "          90 Filter   0.2685302   0.445913  0.5129377  0.3163328  0.3343487   \n",
        "          95 Filter   0.2665998  0.4435021  0.5386705  0.3144974  0.3308239   \n",
        "          No Filter   0.2627912  0.4454406  0.5485092  0.3109345  0.3573542   \n",
        "\n",
        "                              5          6          7          8          9  \n",
        "Alpha     Scale Type                                                         \n",
        "18.181818 75 Filter   0.2901917  0.3757709  0.2949186  0.3054505  0.2774813  \n",
        "          80 Filter   0.2851127  0.3641304  0.2947985  0.3008004  0.2717741  \n",
        "          85 Filter    0.281154  0.3606643  0.2944596  0.2994945  0.2690457  \n",
        "          90 Filter   0.2779058   0.347047  0.2916731  0.3001134  0.2661091  \n",
        "          95 Filter   0.2777667  0.3539088  0.2898599  0.3026477   0.265595  \n",
        "          No Filter    0.281433  0.3499168  0.2863005  0.3049608  0.2615283  \n",
        "Alpha      Scale Type\n",
        "18.181818  75 Filter     0.349662\n",
        "           80 Filter     0.350125\n",
        "           85 Filter     0.347566\n",
        "           90 Filter     0.344897\n",
        "           95 Filter     0.348547\n",
        "           No Filter     0.351814\n",
        "dtype: float64\n",
        "0.351814381618\n",
        "18.6868686869\n",
        "                              0          1          2          3          4  \\\n",
        "Alpha     Scale Type                                                          \n",
        "18.686869 75 Filter   0.2831461  0.4474173  0.4695048  0.3293761  0.3608172   \n",
        "          80 Filter   0.2799732  0.4488835  0.4997305  0.3217328  0.3565917   \n",
        "          85 Filter   0.2785466  0.4498068  0.4996234  0.3171096   0.345931   \n",
        "          90 Filter     0.26843  0.4461317   0.511773  0.3165164  0.3349656   \n",
        "          95 Filter   0.2663784  0.4437307  0.5375865  0.3146961  0.3313265   \n",
        "          No Filter   0.2626366  0.4456352  0.5473439   0.311183  0.3580107   \n",
        "\n",
        "                              5          6          7          8          9  \n",
        "Alpha     Scale Type                                                         \n",
        "18.686869 75 Filter   0.2903423  0.3755881  0.2949996  0.3055253  0.2775849  \n",
        "          80 Filter   0.2852791  0.3640471  0.2949328  0.3008664  0.2719488  \n",
        "          85 Filter   0.2813019  0.3605928  0.2946021  0.2995598  0.2692139  \n",
        "          90 Filter   0.2780554  0.3470935  0.2918463  0.3001384   0.266257  \n",
        "          95 Filter   0.2780087  0.3539348  0.2900413  0.3025527  0.2656746  \n",
        "          No Filter   0.2816397  0.3500509  0.2865203  0.3047947  0.2616521  "
       ]
      },
      {
       "output_type": "stream",
       "stream": "stdout",
       "text": [
        "\n",
        "Alpha      Scale Type\n",
        "18.686869  75 Filter     0.349608\n",
        "           80 Filter     0.350094\n",
        "           85 Filter     0.347552\n",
        "           90 Filter     0.344866\n",
        "           95 Filter     0.348492\n",
        "           No Filter     0.351777\n",
        "dtype: float64\n",
        "0.351777288216\n",
        "19.1919191919\n",
        "                              0          1          2          3          4  \\\n",
        "Alpha     Scale Type                                                          \n",
        "19.191919 75 Filter   0.2832727  0.4476714  0.4680566  0.3294705  0.3615801   \n",
        "          80 Filter   0.2800908  0.4491339  0.4983966  0.3218594  0.3573154   \n",
        "          85 Filter   0.2786728  0.4500915  0.4983491  0.3172696  0.3466858   \n",
        "          90 Filter   0.2683373  0.4463464  0.5106339  0.3166931  0.3355712   \n",
        "          95 Filter   0.2661671  0.4439542  0.5365236  0.3148848  0.3318221   \n",
        "          No Filter   0.2624918  0.4458271  0.5462027  0.3114203  0.3586522   \n",
        "\n",
        "                              5          6          7          8          9  \n",
        "Alpha     Scale Type                                                         \n",
        "19.191919 75 Filter    0.290489  0.3754174  0.2950762  0.3055992  0.2776848  \n",
        "          80 Filter   0.2854404  0.3639718  0.2950606  0.3009321  0.2721171  \n",
        "          85 Filter   0.2814457  0.3605284  0.2947382  0.2996251  0.2693764  \n",
        "          90 Filter   0.2782012  0.3471419  0.2920128  0.3001637  0.2664006  \n",
        "          95 Filter   0.2782436  0.3539637  0.2902162   0.302461  0.2657524  \n",
        "          No Filter   0.2818408  0.3501873  0.2867335  0.3046331  0.2617729  \n",
        "Alpha      Scale Type\n",
        "19.191919  75 Filter     0.349559\n",
        "           80 Filter     0.350066\n",
        "           85 Filter     0.347541\n",
        "           90 Filter     0.344836\n",
        "           95 Filter     0.348439\n",
        "           No Filter     0.351742\n",
        "dtype: float64\n",
        "0.351741789136\n",
        "19.696969697\n",
        "                             0          1          2          3          4  \\\n",
        "Alpha    Scale Type                                                          \n",
        "19.69697 75 Filter   0.2834018  0.4479223  0.4666499  0.3295646  0.3623301   \n",
        "         80 Filter   0.2802108  0.4493814  0.4970951   0.321982  0.3580271   \n",
        "         85 Filter   0.2788006  0.4503714  0.4971044  0.3174246  0.3474279   \n",
        "         90 Filter   0.2682518  0.4465573  0.5095195  0.3168634  0.3361659   \n",
        "         95 Filter   0.2659655  0.4441729  0.5354811  0.3150641   0.332311   \n",
        "         No Filter   0.2623561  0.4460163  0.5450844   0.311647  0.3592796   \n",
        "\n",
        "                             5          6          7          8          9  \n",
        "Alpha    Scale Type                                                         \n",
        "19.69697 75 Filter    0.290632   0.375258  0.2951488  0.3056722  0.2777814  \n",
        "         80 Filter   0.2855971  0.3639041  0.2951825  0.3009975  0.2722795  \n",
        "         85 Filter   0.2815856  0.3604708  0.2948684  0.2996902  0.2695336  \n",
        "         90 Filter   0.2783435  0.3471918  0.2921731  0.3001895  0.2665402  \n",
        "         95 Filter   0.2784716  0.3539951  0.2903849  0.3023723  0.2658285  \n",
        "         No Filter   0.2820367  0.3503255  0.2869406  0.3044759  0.2618909  \n",
        "Alpha     Scale Type\n",
        "19.69697  75 Filter     0.349515\n",
        "          80 Filter     0.350040\n",
        "          85 Filter     0.347531\n",
        "          90 Filter     0.344809\n",
        "          95 Filter     0.348388\n",
        "          No Filter     0.351708\n",
        "dtype: float64\n",
        "0.351707807881\n",
        "20.202020202\n",
        "                             0          1          2          3          4  \\\n",
        "Alpha    Scale Type                                                          \n",
        "20.20202 75 Filter   0.2835333    0.44817  0.4652827  0.3296583  0.3630676   \n",
        "         80 Filter    0.280333   0.449626  0.4958249   0.322101  0.3587274   \n",
        "         85 Filter   0.2789297  0.4506468   0.495888  0.3175749  0.3481578   \n",
        "         90 Filter   0.2681731  0.4467645  0.5084287  0.3170278  0.3367502   \n",
        "         95 Filter   0.2657731  0.4443871  0.5344583  0.3152348  0.3327934   \n",
        "         No Filter   0.2622291  0.4462029  0.5439881  0.3118639  0.3598934   \n",
        "\n",
        "                             5          6          7          8          9  \n",
        "Alpha    Scale Type                                                         \n",
        "20.20202 75 Filter   0.2907715  0.3751092  0.2952179  0.3057443  0.2778748  \n",
        "         80 Filter   0.2857492  0.3638434   0.295299  0.3010626  0.2724362  \n",
        "         85 Filter   0.2817219  0.3604193   0.294993  0.2997553  0.2696856  \n",
        "         90 Filter   0.2784825  0.3472433  0.2923277  0.3002156  0.2666759  \n",
        "         95 Filter   0.2786933  0.3540289  0.2905479  0.3022866  0.2659029  \n",
        "         No Filter   0.2822276  0.3504652  0.2871418   0.304323  0.2620063  \n",
        "Alpha     Scale Type\n",
        "20.20202  75 Filter     0.349475\n",
        "          80 Filter     0.350018\n",
        "          85 Filter     0.347524\n",
        "          90 Filter     0.344783\n",
        "          95 Filter     0.348338\n",
        "          No Filter     0.351675\n",
        "dtype: float64\n",
        "0.351675273598\n",
        "20.7070707071\n",
        "                              0          1          2          3          4  \\\n",
        "Alpha     Scale Type                                                          \n",
        "20.707071 75 Filter   0.2836669  0.4484148  0.4639533  0.3297517  0.3637934   \n",
        "          80 Filter   0.2804571  0.4498678  0.4945844  0.3222165  0.3594167   \n",
        "          85 Filter     0.27906  0.4509177  0.4946989  0.3177208   0.348876   \n",
        "          90 Filter   0.2681006  0.4469681  0.5073606  0.3171865  0.3373246   \n",
        "          95 Filter   0.2655894  0.4445968  0.5334545  0.3153973  0.3332697   \n",
        "          No Filter   0.2621104   0.446387  0.5429129  0.3120715  0.3604944   \n",
        "\n",
        "                              5          6          7          8          9  \n",
        "Alpha     Scale Type                                                         \n",
        "20.707071 75 Filter   0.2909077  0.3749702  0.2952837  0.3058156  0.2779653  \n",
        "          80 Filter   0.2858971  0.3637892  0.2954104  0.3011273  0.2725877  \n",
        "          85 Filter   0.2818547  0.3603736  0.2951124  0.2998202  0.2698329  \n",
        "          90 Filter   0.2786182   0.347296  0.2924767  0.3002421   0.266808  \n",
        "          95 Filter   0.2789088   0.354065  0.2907054  0.3022037  0.2659757  \n",
        "          No Filter   0.2824139   0.350606  0.2873375  0.3041742  0.2621192  \n",
        "Alpha      Scale Type\n",
        "20.707071  75 Filter     0.349441\n",
        "           80 Filter     0.349998\n",
        "           85 Filter     0.347519\n",
        "           90 Filter     0.344759\n",
        "           95 Filter     0.348289\n",
        "           No Filter     0.351644\n",
        "dtype: float64\n",
        "0.351644120506"
       ]
      },
      {
       "output_type": "stream",
       "stream": "stdout",
       "text": [
        "\n",
        "21.2121212121\n",
        "                              0          1          2          3          4  \\\n",
        "Alpha     Scale Type                                                          \n",
        "21.212121 75 Filter   0.2838025  0.4486567  0.4626599  0.3298449  0.3645078   \n",
        "          80 Filter    0.280583  0.4501071  0.4933726  0.3223289  0.3600955   \n",
        "          85 Filter   0.2791914  0.4511844  0.4935359  0.3178628  0.3495831   \n",
        "          90 Filter   0.2680341  0.4471683  0.5063143  0.3173401  0.3378894   \n",
        "          95 Filter   0.2654138  0.4448023  0.5324689  0.3155522  0.3337399   \n",
        "          No Filter   0.2619994  0.4465688   0.541858  0.3122705  0.3610831   \n",
        "\n",
        "                              5          6          7          8          9  \n",
        "Alpha     Scale Type                                                         \n",
        "21.212121 75 Filter   0.2910409  0.3748404  0.2953466  0.3058861  0.2780532  \n",
        "          80 Filter    0.286041  0.3637411  0.2955171  0.3011916  0.2727343  \n",
        "          85 Filter   0.2819843  0.3603332  0.2952271  0.2998848  0.2699756  \n",
        "          90 Filter   0.2787509  0.3473499  0.2926207  0.3002689  0.2669368  \n",
        "          95 Filter   0.2791186   0.354103  0.2908577  0.3021235  0.2660471  \n",
        "          No Filter   0.2825957  0.3507476  0.2875279  0.3040293  0.2622297  \n",
        "Alpha      Scale Type\n",
        "21.212121  75 Filter     0.349410\n",
        "           80 Filter     0.349980\n",
        "           85 Filter     0.347515\n",
        "           90 Filter     0.344736\n",
        "           95 Filter     0.348242\n",
        "           No Filter     0.351614\n",
        "dtype: float64\n",
        "0.3516142874\n",
        "21.7171717172\n",
        "                              0          1          2          3          4  \\\n",
        "Alpha     Scale Type                                                          \n",
        "21.717172 75 Filter   0.2839398   0.448896  0.4614009  0.3299379  0.3652114   \n",
        "          80 Filter   0.2807104  0.4503438  0.4921883  0.3224384  0.3607642   \n",
        "          85 Filter   0.2793237  0.4514472  0.4923981  0.3180009  0.3502793   \n",
        "          90 Filter   0.2679732  0.4473653   0.505289  0.3174887  0.3384451   \n",
        "          95 Filter   0.2652462  0.4450038   0.531501     0.3157  0.3342043   \n",
        "          No Filter   0.2618958  0.4467482  0.5408227  0.3124613    0.36166   \n",
        "\n",
        "                              5          6          7          8          9  \n",
        "Alpha     Scale Type                                                         \n",
        "21.717172 75 Filter   0.2911713  0.3747193  0.2954068  0.3059558  0.2781386  \n",
        "          80 Filter   0.2861811  0.3636986  0.2956195  0.3012555  0.2728762  \n",
        "          85 Filter   0.2821108  0.3602979  0.2953374  0.2999492  0.2701142  \n",
        "          90 Filter   0.2788807  0.3474049    0.29276   0.300296  0.2670622  \n",
        "          95 Filter   0.2793228  0.3541429  0.2910052   0.302046  0.2661171  \n",
        "          No Filter   0.2827733  0.3508897  0.2877134  0.3038883   0.262338  \n",
        "Alpha      Scale Type\n",
        "21.717172  75 Filter     0.349384\n",
        "           80 Filter     0.349965\n",
        "           85 Filter     0.347514\n",
        "           90 Filter     0.344714\n",
        "           95 Filter     0.348197\n",
        "           No Filter     0.351586\n",
        "dtype: float64\n",
        "0.351585717212\n",
        "22.2222222222\n",
        "                              0          1          2          3          4  \\\n",
        "Alpha     Scale Type                                                          \n",
        "22.222222 75 Filter   0.2840788  0.4491327  0.4601747  0.3300309  0.3659046   \n",
        "          80 Filter   0.2808394  0.4505782  0.4910303  0.3225452  0.3614232   \n",
        "          85 Filter   0.2794569  0.4517061  0.4912846  0.3181356  0.3509652   \n",
        "          90 Filter   0.2679175  0.4475592   0.504284  0.3176327  0.3389919   \n",
        "          95 Filter    0.265086  0.4452013  0.5305502  0.3158412  0.3346631   \n",
        "          No Filter   0.2617992  0.4469254  0.5398061  0.3126444  0.3622256   \n",
        "\n",
        "                              5          6          7          8          9  \n",
        "Alpha     Scale Type                                                         \n",
        "22.222222 75 Filter   0.2912988  0.3746062  0.2954646  0.3060247  0.2782216  \n",
        "          80 Filter   0.2863176  0.3636613  0.2957178   0.301319  0.2730137  \n",
        "          85 Filter   0.2822343  0.3602673  0.2954435  0.3000133  0.2702487  \n",
        "          90 Filter   0.2790077  0.3474609  0.2928947  0.3003234  0.2671846  \n",
        "          95 Filter   0.2795217  0.3541846   0.291148  0.3019711  0.2661858  \n",
        "          No Filter   0.2829468  0.3510322  0.2878942  0.3037509  0.2624443  \n",
        "Alpha      Scale Type\n",
        "22.222222  75 Filter     0.349361\n",
        "           80 Filter     0.349953\n",
        "           85 Filter     0.347514\n",
        "           90 Filter     0.344694\n",
        "           95 Filter     0.348152\n",
        "           No Filter     0.351558\n",
        "dtype: float64\n",
        "0.351558356632\n",
        "22.7272727273\n",
        "                              0          1          2          3          4  \\\n",
        "Alpha     Scale Type                                                          \n",
        "22.727273 75 Filter   0.2842193   0.449367    0.45898  0.3301239  0.3665878   \n",
        "          80 Filter   0.2809696  0.4508103  0.4898976  0.3226494  0.3620729   \n",
        "          85 Filter   0.2795908  0.4519614  0.4901943  0.3182669   0.351641   \n",
        "          90 Filter   0.2678669    0.44775  0.5032985  0.3177724  0.3395303   \n",
        "          95 Filter   0.2649329  0.4453951  0.5296158  0.3159761  0.3351164   \n",
        "          No Filter   0.2617092  0.4471003  0.5388076  0.3128202  0.3627805   \n",
        "\n",
        "                              5          6          7          8          9  \n",
        "Alpha     Scale Type                                                         \n",
        "22.727273 75 Filter   0.2914238  0.3745007  0.2955203  0.3060929  0.2783026  \n",
        "          80 Filter   0.2864507   0.363629  0.2958124  0.3013821  0.2731471  \n",
        "          85 Filter   0.2823549   0.360241  0.2955457  0.3000771  0.2703794  \n",
        "          90 Filter   0.2791321  0.3475177  0.2930252   0.300351  0.2673041  \n",
        "          95 Filter   0.2797156  0.3542278  0.2912865  0.3018986  0.2662532  \n",
        "          No Filter   0.2831164  0.3511747  0.2880706  0.3036172  0.2625485  \n",
        "Alpha      Scale Type\n",
        "22.727273  75 Filter     0.349342\n",
        "           80 Filter     0.349943\n",
        "           85 Filter     0.347516\n",
        "           90 Filter     0.344675\n",
        "           95 Filter     0.348110\n",
        "           No Filter     0.351532\n",
        "dtype: float64"
       ]
      },
      {
       "output_type": "stream",
       "stream": "stdout",
       "text": [
        "\n",
        "0.351532155766\n",
        "23.2323232323\n",
        "                              0          1          2          3          4  \\\n",
        "Alpha     Scale Type                                                          \n",
        "23.232323 75 Filter   0.2843612   0.449599  0.4578154  0.3302168  0.3672613   \n",
        "          80 Filter   0.2811011  0.4510402  0.4887893  0.3227513  0.3627137   \n",
        "          85 Filter   0.2797253  0.4522132  0.4891264  0.3183952  0.3523072   \n",
        "          90 Filter    0.267821   0.447938  0.5023319   0.317908  0.3400606   \n",
        "          95 Filter   0.2647865  0.4455853  0.5286974  0.3161052  0.3355644   \n",
        "          No Filter   0.2616256  0.4472731  0.5378266  0.3129892   0.363325   \n",
        "\n",
        "                              5          6          7          8          9  \n",
        "Alpha     Scale Type                                                         \n",
        "23.232323 75 Filter   0.2915464  0.3744024   0.295574  0.3061604  0.2783815  \n",
        "          80 Filter   0.2865806  0.3636012  0.2959036  0.3014448  0.2732766  \n",
        "          85 Filter   0.2824729  0.3602188  0.2956444  0.3001406  0.2705065  \n",
        "          90 Filter   0.2792538  0.3475754  0.2931517  0.3003788  0.2674208  \n",
        "          95 Filter   0.2799047  0.3542725  0.2914208  0.3018284  0.2663195  \n",
        "          No Filter   0.2832823  0.3513172  0.2882428  0.3034868  0.2626507  \n",
        "Alpha      Scale Type\n",
        "23.232323  75 Filter     0.349327\n",
        "           80 Filter     0.349935\n",
        "           85 Filter     0.347519\n",
        "           90 Filter     0.344658\n",
        "           95 Filter     0.348068\n",
        "           No Filter     0.351507\n",
        "dtype: float64\n",
        "0.35150706784\n",
        "23.7373737374\n",
        "                              0          1          2          3          4  \\\n",
        "Alpha     Scale Type                                                          \n",
        "23.737374 75 Filter   0.2845043  0.4498287  0.4566797  0.3303098  0.3679257   \n",
        "          80 Filter   0.2812336  0.4512679  0.4877044   0.322851  0.3633458   \n",
        "          85 Filter   0.2798603  0.4524617  0.4880803  0.3185205  0.3529641   \n",
        "          90 Filter   0.2677795  0.4481231  0.5013833  0.3180398  0.3405829   \n",
        "          95 Filter   0.2646467   0.445772  0.5277945  0.3162287  0.3360073   \n",
        "          No Filter    0.261548  0.4474439  0.5368624  0.3131518  0.3638596   \n",
        "\n",
        "                              5          6          7          8          9  \n",
        "Alpha     Scale Type                                                         \n",
        "23.737374 75 Filter   0.2916667  0.3743108  0.2956259  0.3062272  0.2784586  \n",
        "          80 Filter   0.2867074  0.3635777  0.2959915  0.3015071  0.2734024  \n",
        "          85 Filter   0.2825884  0.3602005  0.2957397  0.3002038  0.2706303  \n",
        "          90 Filter   0.2793732  0.3476337  0.2932744  0.3004069  0.2675348  \n",
        "          95 Filter   0.2800891  0.3543185  0.2915512  0.3017605  0.2663847  \n",
        "          No Filter   0.2834447  0.3514594  0.2884109  0.3033598  0.2627512  \n",
        "Alpha      Scale Type\n",
        "23.737374  75 Filter     0.349314\n",
        "           80 Filter     0.349929\n",
        "           85 Filter     0.347524\n",
        "           90 Filter     0.344642\n",
        "           95 Filter     0.348028\n",
        "           No Filter     0.351483\n",
        "dtype: float64\n",
        "0.35148304893\n",
        "24.2424242424\n",
        "                              0          1          2          3          4  \\\n",
        "Alpha     Scale Type                                                          \n",
        "24.242424 75 Filter   0.2846486  0.4500564  0.4555716  0.3304028  0.3685811   \n",
        "          80 Filter   0.2813671  0.4514937  0.4866422  0.3229487  0.3639696   \n",
        "          85 Filter   0.2799958  0.4527069  0.4870549  0.3186431  0.3536119   \n",
        "          90 Filter   0.2677422  0.4483055  0.5004524   0.318168  0.3410977   \n",
        "          95 Filter    0.264513  0.4459554  0.5269065  0.3163471  0.3364452   \n",
        "          No Filter   0.2614761  0.4476126  0.5359145  0.3133082  0.3643846   \n",
        "\n",
        "                              5          6          7          8          9  \n",
        "Alpha     Scale Type                                                         \n",
        "24.242424 75 Filter   0.2917847  0.3742255  0.2956762  0.3062933   0.278534  \n",
        "          80 Filter   0.2868313  0.3635583  0.2960764  0.3015689  0.2735246  \n",
        "          85 Filter   0.2827014  0.3601857  0.2958319  0.3002666  0.2707508  \n",
        "          90 Filter   0.2794902  0.3476927  0.2933937  0.3004351  0.2676464  \n",
        "          95 Filter   0.2802692  0.3543658  0.2916778  0.3016948  0.2664488  \n",
        "          No Filter   0.2836038  0.3516013  0.2885752  0.3032361  0.2628499  \n",
        "Alpha      Scale Type\n",
        "24.242424  75 Filter     0.349306\n",
        "           80 Filter     0.349925\n",
        "           85 Filter     0.347531\n",
        "           90 Filter     0.344627\n",
        "           95 Filter     0.347989\n",
        "           No Filter     0.351460\n",
        "dtype: float64\n",
        "0.351460057729\n",
        "24.7474747475\n",
        "                              0          1          2          3          4  \\\n",
        "Alpha     Scale Type                                                          \n",
        "24.747475 75 Filter    0.284794   0.450282  0.4544901   0.330496  0.3692278   \n",
        "          80 Filter   0.2815015  0.4517174  0.4856016  0.3230444  0.3645853   \n",
        "          85 Filter   0.2801318   0.452949  0.4860498  0.3187631  0.3542511   \n",
        "          90 Filter    0.267709  0.4484854  0.4995383  0.3182927  0.3416052   \n",
        "          95 Filter   0.2643851  0.4461355  0.5260329  0.3164607  0.3368781   \n",
        "          No Filter   0.2614097  0.4477794  0.5349822  0.3134589  0.3649005   \n",
        "\n",
        "                              5          6          7          8          9  \n",
        "Alpha     Scale Type                                                         \n",
        "24.747475 75 Filter   0.2919007  0.3741462   0.295725  0.3063587  0.2786078  \n",
        "          80 Filter   0.2869524  0.3635426  0.2961584  0.3016303  0.2736436  \n",
        "          85 Filter    0.282812  0.3601743  0.2959211   0.300329  0.2708683  \n",
        "          90 Filter   0.2796049  0.3477522  0.2935095  0.3004635  0.2677555  \n",
        "          95 Filter   0.2804451  0.3544142  0.2918008  0.3016313  0.2665119  \n",
        "          No Filter   0.2837596  0.3517427  0.2887358  0.3031154   0.262947  "
       ]
      },
      {
       "output_type": "stream",
       "stream": "stdout",
       "text": [
        "\n",
        "Alpha      Scale Type\n",
        "24.747475  75 Filter     0.349300\n",
        "           80 Filter     0.349922\n",
        "           85 Filter     0.347538\n",
        "           90 Filter     0.344613\n",
        "           95 Filter     0.347951\n",
        "           No Filter     0.351438\n",
        "dtype: float64\n",
        "0.351438055329\n",
        "25.2525252525\n",
        "                              0          1          2          3          4  \\\n",
        "Alpha     Scale Type                                                          \n",
        "25.252525 75 Filter   0.2849404  0.4505057  0.4534342  0.3305893  0.3698663   \n",
        "          80 Filter   0.2816367  0.4519393  0.4845821  0.3231384  0.3651933   \n",
        "          85 Filter    0.280268  0.4531882   0.485064  0.3188808  0.3548818   \n",
        "          90 Filter   0.2676796  0.4486627  0.4986407  0.3184142  0.3421056   \n",
        "          95 Filter    0.264263  0.4463125  0.5251734  0.3165696  0.3373064   \n",
        "          No Filter   0.2613484  0.4479442  0.5340652  0.3136041  0.3654076   \n",
        "\n",
        "                              5          6          7          8          9  \n",
        "Alpha     Scale Type                                                         \n",
        "25.252525 75 Filter   0.2920147  0.3740725  0.2957726  0.3064236  0.2786801  \n",
        "          80 Filter   0.2870708  0.3635304  0.2962379  0.3016912  0.2737594  \n",
        "          85 Filter   0.2829205  0.3601661  0.2960075  0.3003911  0.2709828  \n",
        "          90 Filter   0.2797175  0.3478123  0.2936223   0.300492  0.2678623  \n",
        "          95 Filter   0.2806169  0.3544637  0.2919205  0.3015697   0.266574  \n",
        "          No Filter   0.2839123  0.3518834   0.288893  0.3029978  0.2630425  \n",
        "Alpha      Scale Type\n",
        "25.252525  75 Filter     0.349297\n",
        "           80 Filter     0.349922\n",
        "           85 Filter     0.347548\n",
        "           90 Filter     0.344600\n",
        "           95 Filter     0.347914\n",
        "           No Filter     0.351417\n",
        "dtype: float64\n",
        "0.35141700504\n",
        "25.7575757576\n",
        "                              0          1          2          3          4  \\\n",
        "Alpha     Scale Type                                                          \n",
        "25.757576 75 Filter   0.2850877  0.4507275  0.4524028  0.3306827  0.3704968   \n",
        "          80 Filter   0.2817726  0.4521593  0.4835828  0.3232306  0.3657938   \n",
        "          85 Filter   0.2804046  0.4534245  0.4840971  0.3189961  0.3555044   \n",
        "          90 Filter   0.2676537  0.4488376  0.4977588  0.3185327  0.3425992   \n",
        "          95 Filter   0.2641462  0.4464865  0.5243275  0.3166743    0.33773   \n",
        "          No Filter   0.2612922  0.4481072  0.5331628  0.3137441  0.3659061   \n",
        "\n",
        "                              5          6          7          8          9  \n",
        "Alpha     Scale Type                                                         \n",
        "25.757576 75 Filter   0.2921268  0.3740041   0.295819  0.3064878   0.278751  \n",
        "          80 Filter   0.2871867  0.3635215  0.2963148  0.3017517  0.2738723  \n",
        "          85 Filter   0.2830268  0.3601608  0.2960914  0.3004527  0.2710946  \n",
        "          90 Filter    0.279828  0.3478728   0.293732  0.3005206  0.2679669  \n",
        "          95 Filter   0.2807848  0.3545141  0.2920369  0.3015102  0.2666352  \n",
        "          No Filter    0.284062  0.3520236  0.2890469   0.302883  0.2631365  \n",
        "Alpha      Scale Type\n",
        "25.757576  75 Filter     0.349296\n",
        "           80 Filter     0.349924\n",
        "           85 Filter     0.347558\n",
        "           90 Filter     0.344588\n",
        "           95 Filter     0.347879\n",
        "           No Filter     0.351397\n",
        "dtype: float64\n",
        "0.351396872211\n",
        "26.2626262626\n",
        "                              0          1          2          3          4  \\\n",
        "Alpha     Scale Type                                                          \n",
        "26.262626 75 Filter   0.2852359  0.4509476  0.4513951  0.3307762  0.3711195   \n",
        "          80 Filter   0.2819092  0.4523776  0.4826031  0.3233214   0.366387   \n",
        "          85 Filter   0.2805414  0.4536581  0.4831484  0.3191093  0.3561191   \n",
        "          90 Filter   0.2676313  0.4490102  0.4968923  0.3186483  0.3430862   \n",
        "          95 Filter   0.2640346  0.4466576  0.5234948  0.3167748  0.3381491   \n",
        "          No Filter   0.2612406  0.4482683  0.5322746  0.3138792  0.3663964   \n",
        "\n",
        "                              5          6          7          8          9  \n",
        "Alpha     Scale Type                                                         \n",
        "26.262626 75 Filter   0.2922371  0.3739408  0.2958643  0.3065514  0.2788206  \n",
        "          80 Filter   0.2873002  0.3635157  0.2963895  0.3018117  0.2739823  \n",
        "          85 Filter    0.283131  0.3601582  0.2961729   0.300514  0.2712038  \n",
        "          90 Filter   0.2799365  0.3479336  0.2938389  0.3005494  0.2680695  \n",
        "          95 Filter    0.280949  0.3545655  0.2921503  0.3014525  0.2666956  \n",
        "          No Filter   0.2842088  0.3521629  0.2891976  0.3027711   0.263229  \n",
        "Alpha      Scale Type\n",
        "26.262626  75 Filter     0.349299\n",
        "           80 Filter     0.349927\n",
        "           85 Filter     0.347570\n",
        "           90 Filter     0.344578\n",
        "           95 Filter     0.347844\n",
        "           No Filter     0.351378\n",
        "dtype: float64\n",
        "0.351377624078\n",
        "26.7676767677\n",
        "                              0          1          2          3          4  \\\n",
        "Alpha     Scale Type                                                          \n",
        "26.767677 75 Filter   0.2853848  0.4511659    0.45041    0.33087  0.3717346   \n",
        "          80 Filter   0.2820463  0.4525942  0.4816422  0.3234106  0.3669732   \n",
        "          85 Filter   0.2806784   0.453889  0.4822172  0.3192205  0.3567261   \n",
        "          90 Filter   0.2676122  0.4491805  0.4960407  0.3187611  0.3435667   \n",
        "          95 Filter   0.2639279  0.4468259  0.5226749  0.3168715  0.3385639   \n",
        "          No Filter   0.2611936  0.4484277  0.5314002  0.3140096  0.3668788   \n",
        "\n",
        "                              5          6          7          8          9  \n",
        "Alpha     Scale Type                                                         \n",
        "26.767677 75 Filter   0.2923458  0.3738822  0.2959086  0.3066144   0.278889  \n",
        "          80 Filter   0.2874114  0.3635129  0.2964621  0.3018713  0.2740897  \n",
        "          85 Filter   0.2832333  0.3601583   0.296252  0.3005748  0.2713105  \n",
        "          90 Filter   0.2800431  0.3479949  0.2939431  0.3005783    0.26817  \n",
        "          95 Filter   0.2811097  0.3546177  0.2922607  0.3013967  0.2667551  \n",
        "          No Filter    0.284353  0.3523014  0.2893452  0.3026619  0.2633201  "
       ]
      },
      {
       "output_type": "stream",
       "stream": "stdout",
       "text": [
        "\n",
        "Alpha      Scale Type\n",
        "26.767677  75 Filter     0.349304\n",
        "           80 Filter     0.349932\n",
        "           85 Filter     0.347583\n",
        "           90 Filter     0.344568\n",
        "           95 Filter     0.347811\n",
        "           No Filter     0.351359\n",
        "dtype: float64\n",
        "0.351359229628\n",
        "27.2727272727\n",
        "                              0          1          2          3          4  \\\n",
        "Alpha     Scale Type                                                          \n",
        "27.272727 75 Filter   0.2855344  0.4513825  0.4494469  0.3309639  0.3723425   \n",
        "          80 Filter    0.282184  0.4528091  0.4806996  0.3234985  0.3675526   \n",
        "          85 Filter   0.2808155  0.4541174   0.481303  0.3193298  0.3573256   \n",
        "          90 Filter   0.2675962  0.4493486  0.4952034  0.3188713  0.3440411   \n",
        "          95 Filter   0.2638259  0.4469914  0.5218674  0.3169646  0.3389743   \n",
        "          No Filter    0.261151  0.4485854  0.5305391  0.3141356  0.3673536   \n",
        "\n",
        "                              5          6          7          8          9  \n",
        "Alpha     Scale Type                                                         \n",
        "27.272727 75 Filter   0.2924527   0.373828  0.2959521  0.3066768  0.2789562  \n",
        "          80 Filter   0.2875204  0.3635127  0.2965326  0.3019305  0.2741945  \n",
        "          85 Filter   0.2833338  0.3601609   0.296329  0.3006353  0.2714149  \n",
        "          90 Filter   0.2801479  0.3480564  0.2940447  0.3006072  0.2682686  \n",
        "          95 Filter   0.2812669  0.3546706  0.2923683  0.3013427  0.2668138  \n",
        "          No Filter   0.2844944  0.3524391    0.28949  0.3025553  0.2634099  \n",
        "Alpha      Scale Type\n",
        "27.272727  75 Filter     0.349312\n",
        "           80 Filter     0.349938\n",
        "           85 Filter     0.347597\n",
        "           90 Filter     0.344560\n",
        "           95 Filter     0.347779\n",
        "           No Filter     0.351342\n",
        "dtype: float64\n",
        "0.351341659469\n",
        "27.7777777778\n",
        "                              0          1          2          3          4  \\\n",
        "Alpha     Scale Type                                                          \n",
        "27.777778 75 Filter   0.2856847  0.4515976  0.4485049   0.331058  0.3729433   \n",
        "          80 Filter   0.2823222  0.4530224  0.4797746  0.3235851  0.3681253   \n",
        "          85 Filter   0.2809528  0.4543433  0.4804053  0.3194373   0.357918   \n",
        "          90 Filter   0.2675831  0.4495146  0.4943801   0.318979  0.3445095   \n",
        "          95 Filter   0.2637285  0.4471544   0.521072  0.3170542  0.3393806   \n",
        "          No Filter   0.2611125  0.4487414  0.5296909  0.3142574   0.367821   \n",
        "\n",
        "                              5          6          7          8          9  \n",
        "Alpha     Scale Type                                                         \n",
        "27.777778 75 Filter   0.2925582  0.3737782  0.2959948  0.3067387  0.2790224  \n",
        "          80 Filter   0.2876273  0.3635151  0.2966013  0.3019892  0.2742969  \n",
        "          85 Filter   0.2834324  0.3601657   0.296404  0.3006954   0.271517  \n",
        "          90 Filter   0.2802509  0.3481182  0.2941439  0.3006363  0.2683654  \n",
        "          95 Filter   0.2814207  0.3547243  0.2924732  0.3012904  0.2668718  \n",
        "          No Filter   0.2846334  0.3525758   0.289632  0.3024514  0.2634984  \n",
        "Alpha      Scale Type\n",
        "27.777778  75 Filter     0.349321\n",
        "           80 Filter     0.349946\n",
        "           85 Filter     0.347613\n",
        "           90 Filter     0.344552\n",
        "           95 Filter     0.347747\n",
        "           No Filter     0.351325\n",
        "dtype: float64\n",
        "0.351324885718\n",
        "28.2828282828\n",
        "                              0          1          2          3          4  \\\n",
        "Alpha     Scale Type                                                          \n",
        "28.282828 75 Filter   0.2858355   0.451811  0.4475832  0.3311524  0.3735373   \n",
        "          80 Filter   0.2824607  0.4532341  0.4788667  0.3236705  0.3686917   \n",
        "          85 Filter   0.2810901  0.4545668  0.4795235  0.3195431  0.3585033   \n",
        "          90 Filter   0.2675728  0.4496785  0.4935703  0.3190844   0.344972   \n",
        "          95 Filter   0.2636355  0.4473148  0.5202883  0.3171406  0.3397828   \n",
        "          No Filter   0.2610779  0.4488958  0.5288552  0.3143752  0.3682812   \n",
        "\n",
        "                              5          6          7          8          9  \n",
        "Alpha     Scale Type                                                         \n",
        "28.282828 75 Filter   0.2926621  0.3737323  0.2960369     0.3068  0.2790877  \n",
        "          80 Filter   0.2877322    0.36352  0.2966681  0.3020475   0.274397  \n",
        "          85 Filter   0.2835293  0.3601728  0.2964771   0.300755  0.2716169  \n",
        "          90 Filter   0.2803521  0.3481803  0.2942409  0.3006654  0.2684604  \n",
        "          95 Filter   0.2815714  0.3547786  0.2925755  0.3012397   0.266929  \n",
        "          No Filter   0.2847698  0.3527115  0.2897713  0.3023498  0.2635857  \n",
        "Alpha      Scale Type\n",
        "28.282828  75 Filter     0.349333\n",
        "           80 Filter     0.349956\n",
        "           85 Filter     0.347629\n",
        "           90 Filter     0.344545\n",
        "           95 Filter     0.347717\n",
        "           No Filter     0.351309\n",
        "dtype: float64\n",
        "0.351308881895\n",
        "28.7878787879\n",
        "                              0          1          2          3          4  \\\n",
        "Alpha     Scale Type                                                          \n",
        "28.787879 75 Filter   0.2859869   0.452023  0.4466811  0.3312469  0.3741246   \n",
        "          80 Filter   0.2825997  0.4534443  0.4779753  0.3237547  0.3692518   \n",
        "          85 Filter   0.2812275   0.454788  0.4786573  0.3196472  0.3590818   \n",
        "          90 Filter   0.2675652  0.4498404  0.4927736  0.3191876  0.3454289   \n",
        "          95 Filter   0.2635466  0.4474728  0.5195161  0.3172239   0.340181   \n",
        "          No Filter   0.2610471  0.4490485  0.5280318  0.3144891  0.3687346   \n",
        "\n",
        "                              5          6          7          8          9  \n",
        "Alpha     Scale Type                                                         \n",
        "28.787879 75 Filter   0.2927646  0.3736903  0.2960783  0.3068608   0.279152  \n",
        "          80 Filter   0.2878352  0.3635271  0.2967334  0.3021053  0.2744949  \n",
        "          85 Filter   0.2836246  0.3601818  0.2965484  0.3008142  0.2717148  \n",
        "          90 Filter   0.2804517  0.3482425  0.2943356  0.3006945  0.2685538  \n",
        "          95 Filter    0.281719  0.3548334  0.2926754  0.3011906  0.2669854  \n",
        "          No Filter    0.284904  0.3528463   0.289908  0.3022507  0.2636718  "
       ]
      },
      {
       "output_type": "stream",
       "stream": "stdout",
       "text": [
        "\n",
        "Alpha      Scale Type\n",
        "28.787879  75 Filter     0.349348\n",
        "           80 Filter     0.349966\n",
        "           85 Filter     0.347646\n",
        "           90 Filter     0.344539\n",
        "           95 Filter     0.347688\n",
        "           No Filter     0.351294\n",
        "dtype: float64\n",
        "0.351293622829\n",
        "29.2929292929\n",
        "                              0          1          2          3          4  \\\n",
        "Alpha     Scale Type                                                          \n",
        "29.292929 75 Filter   0.2861388  0.4522336   0.445798  0.3313417  0.3747055   \n",
        "          80 Filter   0.2827389  0.4536531  0.4770999  0.3238379  0.3698058   \n",
        "          85 Filter   0.2813649  0.4550069  0.4778059  0.3197498  0.3596536   \n",
        "          90 Filter   0.2675602  0.4500005  0.4919897  0.3192887  0.3458803   \n",
        "          95 Filter   0.2634618  0.4476284  0.5187549  0.3173042  0.3405753   \n",
        "          No Filter     0.26102  0.4491998  0.5272201  0.3145994  0.3691812   \n",
        "\n",
        "                              5          6          7          8          9  \n",
        "Alpha     Scale Type                                                         \n",
        "29.292929 75 Filter   0.2928658  0.3736519  0.2961192   0.306921  0.2792154  \n",
        "          80 Filter   0.2879363  0.3635363  0.2967971  0.3021627  0.2745907  \n",
        "          85 Filter   0.2837183  0.3601928   0.296618   0.300873  0.2718107  \n",
        "          90 Filter   0.2805497  0.3483049  0.2944283  0.3007237  0.2686455  \n",
        "          95 Filter   0.2818637  0.3548889  0.2927729  0.3011431  0.2670413  \n",
        "          No Filter   0.2850358  0.3529799  0.2900423  0.3021539  0.2637568  \n",
        "Alpha      Scale Type\n",
        "29.292929  75 Filter     0.349364\n",
        "           80 Filter     0.349979\n",
        "           85 Filter     0.347665\n",
        "           90 Filter     0.344534\n",
        "           95 Filter     0.347659\n",
        "           No Filter     0.351279\n",
        "dtype: float64\n",
        "0.351279084572\n",
        "29.797979798\n",
        "                             0          1          2          3          4  \\\n",
        "Alpha    Scale Type                                                          \n",
        "29.79798 75 Filter   0.2862912  0.4524427  0.4449333  0.3314367  0.3752801   \n",
        "         80 Filter   0.2828785  0.4538604  0.4762401  0.3239201   0.370354   \n",
        "         85 Filter   0.2815023  0.4552238  0.4769692   0.319851  0.3602191   \n",
        "         90 Filter   0.2675577  0.4501586  0.4912181  0.3193877  0.3463263   \n",
        "         95 Filter   0.2633808  0.4477817  0.5180044  0.3173818  0.3409659   \n",
        "         No Filter   0.2609964  0.4493494  0.5264199  0.3147063  0.3696214   \n",
        "\n",
        "                             5          6          7          8          9  \n",
        "Alpha    Scale Type                                                         \n",
        "29.79798 75 Filter   0.2929656  0.3736169  0.2961596  0.3069808   0.279278  \n",
        "         80 Filter   0.2880357  0.3635475  0.2968593  0.3022197  0.2746845  \n",
        "         85 Filter   0.2838104  0.3602056   0.296686  0.3009314  0.2719047  \n",
        "         90 Filter   0.2806462  0.3483675  0.2945189  0.3007529  0.2687356  \n",
        "         95 Filter   0.2820055  0.3549448  0.2928681  0.3010971  0.2670964  \n",
        "         No Filter   0.2851655  0.3531125  0.2901743  0.3020594  0.2638407  \n",
        "Alpha     Scale Type\n",
        "29.79798  75 Filter     0.349382\n",
        "          80 Filter     0.349992\n",
        "          85 Filter     0.347685\n",
        "          90 Filter     0.344530\n",
        "          95 Filter     0.347632\n",
        "          No Filter     0.351265\n",
        "dtype: float64\n",
        "0.351265244315\n",
        "30.303030303\n",
        "                             0          1          2          3          4  \\\n",
        "Alpha    Scale Type                                                          \n",
        "30.30303 75 Filter   0.2864439  0.4526505  0.4440862  0.3315319  0.3758486   \n",
        "         80 Filter   0.2830183  0.4540664  0.4753952  0.3240014  0.3708964   \n",
        "         85 Filter   0.2816397  0.4554385  0.4761465  0.3199508  0.3607782   \n",
        "         90 Filter   0.2675575   0.450315  0.4904585  0.3194848  0.3467672   \n",
        "         95 Filter   0.2633035  0.4479328  0.5172645  0.3174568  0.3413527   \n",
        "         No Filter   0.2609761  0.4494976  0.5256309  0.3148099  0.3700553   \n",
        "\n",
        "                             5          6          7          8          9  \n",
        "Alpha    Scale Type                                                         \n",
        "30.30303 75 Filter   0.2930642  0.3735853  0.2961996    0.30704  0.2793399  \n",
        "         80 Filter   0.2881333  0.3635606  0.2969201  0.3022762  0.2747764  \n",
        "         85 Filter   0.2839011  0.3602202  0.2967525  0.3009893   0.271997  \n",
        "         90 Filter   0.2807411  0.3484301  0.2946077  0.3007822  0.2688243  \n",
        "         95 Filter   0.2821446  0.3550011  0.2929612  0.3010525  0.2671509  \n",
        "         No Filter    0.285293   0.353244   0.290304  0.3019671  0.2639235  \n",
        "Alpha     Scale Type\n",
        "30.30303  75 Filter     0.349403\n",
        "          80 Filter     0.350007\n",
        "          85 Filter     0.347705\n",
        "          90 Filter     0.344527\n",
        "          95 Filter     0.347605\n",
        "          No Filter     0.351252\n",
        "dtype: float64\n",
        "0.351252080323\n",
        "30.8080808081\n",
        "                              0          1          2          3          4  \\\n",
        "Alpha     Scale Type                                                          \n",
        "30.808081 75 Filter    0.286597  0.4528569  0.4432562  0.3316274  0.3764111   \n",
        "          80 Filter   0.2831584   0.454271   0.474565  0.3240818  0.3714332   \n",
        "          85 Filter    0.281777  0.4556512  0.4753376  0.3200493  0.3613313   \n",
        "          90 Filter   0.2675595  0.4504696  0.4897106  0.3195801  0.3472031   \n",
        "          95 Filter   0.2632298  0.4480817  0.5165348  0.3175293  0.3417358   \n",
        "          No Filter    0.260959  0.4496444  0.5248528  0.3149103  0.3704831   \n",
        "\n",
        "                              5          6          7          8          9  \n",
        "Alpha     Scale Type                                                         \n",
        "30.808081 75 Filter   0.2931616  0.3735567  0.2962392  0.3070988  0.2794011  \n",
        "          80 Filter   0.2882293  0.3635755  0.2969797  0.3023324  0.2748665  \n",
        "          85 Filter   0.2839903  0.3602363  0.2968176  0.3010468  0.2720875  \n",
        "          90 Filter   0.2808347  0.3484928  0.2946947  0.3008114  0.2689115  \n",
        "          95 Filter   0.2822809  0.3550579  0.2930523  0.3010094  0.2672048  \n",
        "          No Filter   0.2854185  0.3533744  0.2904315  0.3018768  0.2640053  "
       ]
      },
      {
       "output_type": "stream",
       "stream": "stdout",
       "text": [
        "\n",
        "Alpha      Scale Type\n",
        "30.808081  75 Filter     0.349425\n",
        "           80 Filter     0.350023\n",
        "           85 Filter     0.347726\n",
        "           90 Filter     0.344524\n",
        "           95 Filter     0.347580\n",
        "           No Filter     0.351240\n",
        "dtype: float64\n",
        "0.351239571859\n",
        "31.3131313131\n",
        "                              0          1          2          3          4  \\\n",
        "Alpha     Scale Type                                                          \n",
        "31.313131 75 Filter   0.2867505  0.4530621  0.4424428  0.3317231  0.3769679   \n",
        "          80 Filter   0.2832986  0.4544742  0.4737489  0.3241613  0.3719647   \n",
        "          85 Filter   0.2819143   0.455862  0.4745419  0.3201466  0.3618783   \n",
        "          90 Filter   0.2675636  0.4506225   0.488974  0.3196736   0.347634   \n",
        "          95 Filter   0.2631596  0.4482285  0.5158151  0.3175994  0.3421154   \n",
        "          No Filter    0.260945  0.4497897  0.5240851  0.3150077   0.370905   \n",
        "\n",
        "                              5          6          7          8          9  \n",
        "Alpha     Scale Type                                                         \n",
        "31.313131 75 Filter   0.2932579  0.3735311  0.2962786  0.3071571  0.2794616  \n",
        "          80 Filter   0.2883238  0.3635921   0.297038  0.3023881  0.2749549  \n",
        "          85 Filter   0.2840782   0.360254  0.2968814   0.301104  0.2721764  \n",
        "          90 Filter   0.2809268  0.3485556    0.29478  0.3008407  0.2689974  \n",
        "          95 Filter   0.2824148  0.3551151  0.2931413  0.3009675  0.2672582  \n",
        "          No Filter    0.285542  0.3535037  0.2905569  0.3017887  0.2640861  \n",
        "Alpha      Scale Type\n",
        "31.313131  75 Filter     0.349449\n",
        "           80 Filter     0.350040\n",
        "           85 Filter     0.347749\n",
        "           90 Filter     0.344523\n",
        "           95 Filter     0.347555\n",
        "           No Filter     0.351228\n",
        "dtype: float64\n",
        "0.351227699129\n",
        "31.8181818182\n",
        "                              0          1          2          3          4  \\\n",
        "Alpha     Scale Type                                                          \n",
        "31.818182 75 Filter   0.2869043   0.453266  0.4416454   0.331819   0.377519   \n",
        "          80 Filter    0.283439  0.4546762  0.4729465  0.3242401  0.3724908   \n",
        "          85 Filter   0.2820515  0.4560709  0.4737592  0.3202427  0.3624196   \n",
        "          90 Filter   0.2675698  0.4507738  0.4882485  0.3197654  0.3480602   \n",
        "          95 Filter   0.2630927  0.4483733   0.515105  0.3176673  0.3424915   \n",
        "          No Filter    0.260934  0.4499336  0.5233278  0.3151022  0.3713211   \n",
        "\n",
        "                              5          6          7          8          9  \n",
        "Alpha     Scale Type                                                         \n",
        "31.818182 75 Filter   0.2933531  0.3735083  0.2963176  0.3072149  0.2795215  \n",
        "          80 Filter   0.2884167  0.3636103  0.2970953  0.3024433  0.2750416  \n",
        "          85 Filter   0.2841648   0.360273  0.2969438  0.3011607  0.2722637  \n",
        "          90 Filter   0.2810177  0.3486185  0.2948636    0.30087  0.2690819  \n",
        "          95 Filter   0.2825461  0.3551726  0.2932284   0.300927  0.2673109  \n",
        "          No Filter   0.2856636  0.3536319  0.2906803  0.3017025   0.264166  \n",
        "Alpha      Scale Type\n",
        "31.818182  75 Filter     0.349474\n",
        "           80 Filter     0.350059\n",
        "           85 Filter     0.347772\n",
        "           90 Filter     0.344522\n",
        "           95 Filter     0.347531\n",
        "           No Filter     0.351216\n",
        "dtype: float64\n",
        "0.351216443221\n",
        "32.3232323232\n",
        "                              0          1          2          3          4  \\\n",
        "Alpha     Scale Type                                                          \n",
        "32.323232 75 Filter   0.2870583  0.4534687  0.4408636  0.3319152  0.3780646   \n",
        "          80 Filter   0.2835795  0.4548769  0.4721574  0.3243181  0.3730118   \n",
        "          85 Filter   0.2821886  0.4562779   0.472989  0.3203376  0.3629552   \n",
        "          90 Filter    0.267578  0.4509235  0.4875337  0.3198557  0.3484817   \n",
        "          95 Filter   0.2630289  0.4485162  0.5144044   0.317733  0.3428642   \n",
        "          No Filter   0.2609258  0.4500762  0.5225805   0.315194  0.3717317   \n",
        "\n",
        "                              5          6          7          8          9  \n",
        "Alpha     Scale Type                                                         \n",
        "32.323232 75 Filter   0.2934471  0.3734881  0.2963564  0.3072722  0.2795808  \n",
        "          80 Filter   0.2885082  0.3636299  0.2971514  0.3024982  0.2751268  \n",
        "          85 Filter   0.2842502  0.3602935  0.2970051  0.3012169  0.2723496  \n",
        "          90 Filter   0.2811072  0.3486813  0.2949456  0.3008992  0.2691651  \n",
        "          95 Filter    0.282675  0.3552303  0.2933137  0.3008878  0.2673631  \n",
        "          No Filter   0.2857833  0.3537589  0.2908018  0.3016183  0.2642449  \n",
        "Alpha      Scale Type\n",
        "32.323232  75 Filter     0.349501\n",
        "           80 Filter     0.350078\n",
        "           85 Filter     0.347796\n",
        "           90 Filter     0.344521\n",
        "           95 Filter     0.347508\n",
        "           No Filter     0.351206\n",
        "dtype: float64\n",
        "0.351205786054\n",
        "32.8282828283\n",
        "                              0          1          2          3          4  \\\n",
        "Alpha     Scale Type                                                          \n",
        "32.828283 75 Filter   0.2872126  0.4536703  0.4400968  0.3320116  0.3786049   \n",
        "          80 Filter   0.2837202  0.4550765  0.4713814  0.3243954  0.3735277   \n",
        "          85 Filter   0.2823256  0.4564831   0.472231  0.3204316  0.3634853   \n",
        "          90 Filter    0.267588  0.4510716  0.4868294  0.3199444  0.3488988   \n",
        "          95 Filter   0.2629682  0.4486571  0.5137129  0.3177968  0.3432335   \n",
        "          No Filter   0.2609204  0.4502175  0.5218428  0.3152832  0.3721369   \n",
        "\n",
        "                              5          6          7          8          9  \n",
        "Alpha     Scale Type                                                         \n",
        "32.828283 75 Filter   0.2935402  0.3734705   0.296395  0.3073291  0.2796396  \n",
        "          80 Filter   0.2885984  0.3636509  0.2972065  0.3025527  0.2752104  \n",
        "          85 Filter   0.2843343  0.3603152  0.2970653  0.3012728   0.272434  \n",
        "          90 Filter   0.2811955  0.3487441  0.2950262  0.3009285  0.2692472  \n",
        "          95 Filter   0.2828016  0.3552884  0.2933972  0.3008498  0.2674148  \n",
        "          No Filter   0.2859013  0.3538847  0.2909213   0.301536   0.264323  \n",
        "Alpha      Scale Type\n",
        "32.828283  75 Filter     0.349530\n",
        "           80 Filter     0.350098\n",
        "           85 Filter     0.347821\n",
        "           90 Filter     0.344522\n",
        "           95 Filter     0.347485\n",
        "           No Filter     0.351196\n",
        "dtype: float64"
       ]
      },
      {
       "output_type": "stream",
       "stream": "stdout",
       "text": [
        "\n",
        "0.351195710332\n",
        "33.3333333333\n",
        "                              0          1          2          3          4  \\\n",
        "Alpha     Scale Type                                                          \n",
        "33.333333 75 Filter   0.2873671  0.4538707  0.4393445  0.3321082  0.3791399   \n",
        "          80 Filter   0.2838609  0.4552748  0.4706178  0.3244721  0.3740388   \n",
        "          85 Filter   0.2824625  0.4566866   0.471485  0.3205245    0.36401   \n",
        "          90 Filter   0.2675999  0.4512182  0.4861352  0.3200317  0.3493114   \n",
        "          95 Filter   0.2629105  0.4487962  0.5130305  0.3178585  0.3435996   \n",
        "          No Filter   0.2609176  0.4503575  0.5211147  0.3153698  0.3725368   \n",
        "\n",
        "                              5          6          7          8          9  \n",
        "Alpha     Scale Type                                                         \n",
        "33.333333 75 Filter   0.2936323  0.3734554  0.2964334  0.3073856  0.2796978  \n",
        "          80 Filter   0.2886871  0.3636733  0.2972607  0.3026068  0.2752926  \n",
        "          85 Filter   0.2844172  0.3603382  0.2971243  0.3013283   0.272517  \n",
        "          90 Filter   0.2812825   0.348807  0.2951053  0.3009577   0.269328  \n",
        "          95 Filter    0.282926  0.3553467   0.293479   0.300813   0.267466  \n",
        "          No Filter   0.2860175  0.3540095  0.2910391  0.3014555  0.2644002  \n",
        "Alpha      Scale Type\n",
        "33.333333  75 Filter     0.349560\n",
        "           80 Filter     0.350120\n",
        "           85 Filter     0.347846\n",
        "           90 Filter     0.344523\n",
        "           95 Filter     0.347464\n",
        "           No Filter     0.351186\n",
        "dtype: float64\n",
        "0.351186199493\n",
        "33.8383838384\n",
        "                              0          1          2          3          4  \\\n",
        "Alpha     Scale Type                                                          \n",
        "33.838384 75 Filter   0.2875218  0.4540699  0.4386064  0.3322051  0.3796699   \n",
        "          80 Filter   0.2840017  0.4554719  0.4698666  0.3245481   0.374545   \n",
        "          85 Filter   0.2825992  0.4568884  0.4707505  0.3206164  0.3645295   \n",
        "          90 Filter   0.2676134  0.4513633  0.4854509  0.3201176  0.3497197   \n",
        "          95 Filter   0.2628557  0.4489335  0.5123568  0.3179185  0.3439625   \n",
        "          No Filter   0.2609173  0.4504962  0.5203959   0.315454  0.3729316   \n",
        "\n",
        "                              5          6          7          8          9  \n",
        "Alpha     Scale Type                                                         \n",
        "33.838384 75 Filter   0.2937234  0.3734425  0.2964718  0.3074417  0.2797556  \n",
        "          80 Filter   0.2887746  0.3636969   0.297314  0.3026604  0.2753735  \n",
        "          85 Filter    0.284499  0.3603622  0.2971824  0.3013833  0.2725987  \n",
        "          90 Filter   0.2813684  0.3488698   0.295183  0.3009869  0.2694077  \n",
        "          95 Filter   0.2830482  0.3554052  0.2935592  0.3007774  0.2675166  \n",
        "          No Filter    0.286132   0.354133  0.2911552  0.3013767  0.2644766  \n",
        "Alpha      Scale Type\n",
        "33.838384  75 Filter     0.349592\n",
        "           80 Filter     0.350142\n",
        "           85 Filter     0.347872\n",
        "           90 Filter     0.344525\n",
        "           95 Filter     0.347443\n",
        "           No Filter     0.351177\n",
        "dtype: float64\n",
        "0.351177237672\n",
        "34.3434343434\n",
        "                              0          1          2          3          4  \\\n",
        "Alpha     Scale Type                                                          \n",
        "34.343434 75 Filter   0.2876767  0.4542681   0.437882  0.3323022  0.3801949   \n",
        "          80 Filter   0.2841425  0.4556679  0.4691272  0.3246236  0.3750466   \n",
        "          85 Filter   0.2827358  0.4570885  0.4700272  0.3207074  0.3650438   \n",
        "          90 Filter   0.2676287   0.451507  0.4847763  0.3202022  0.3501239   \n",
        "          95 Filter   0.2628036  0.4490691  0.5116916  0.3179767  0.3443222   \n",
        "          No Filter   0.2609194  0.4506336   0.519686   0.315536  0.3733214   \n",
        "\n",
        "                              5          6          7          8          9  \n",
        "Alpha     Scale Type                                                         \n",
        "34.343434 75 Filter   0.2938137  0.3734319    0.29651  0.3074973   0.279813  \n",
        "          80 Filter   0.2888609  0.3637217  0.2973665  0.3027137   0.275453  \n",
        "          85 Filter   0.2845797  0.3603874  0.2972395   0.301438  0.2726792  \n",
        "          90 Filter   0.2814531  0.3489325  0.2952595  0.3010161  0.2694863  \n",
        "          95 Filter   0.2831683   0.355464  0.2936379  0.3007428  0.2675668  \n",
        "          No Filter   0.2862449  0.3542554  0.2912695  0.3012997  0.2645521  \n",
        "Alpha      Scale Type\n",
        "34.343434  75 Filter     0.349625\n",
        "           80 Filter     0.350166\n",
        "           85 Filter     0.347899\n",
        "           90 Filter     0.344527\n",
        "           95 Filter     0.347423\n",
        "           No Filter     0.351169\n",
        "dtype: float64\n",
        "0.35116880966\n",
        "34.8484848485\n",
        "                              0          1          2          3          4  \\\n",
        "Alpha     Scale Type                                                          \n",
        "34.848485 75 Filter   0.2878317  0.4544652  0.4371709  0.3323995   0.380715   \n",
        "          80 Filter   0.2842833  0.4558628  0.4683994  0.3246985  0.3755436   \n",
        "          85 Filter   0.2828723  0.4572871  0.4693149  0.3207976  0.3655531   \n",
        "          90 Filter   0.2676455  0.4516493  0.4841112  0.3202854  0.3505239   \n",
        "          95 Filter   0.2627542  0.4492029  0.5110348  0.3180332  0.3446788   \n",
        "          No Filter   0.2609239  0.4507699  0.5189849  0.3156157  0.3737064   \n",
        "\n",
        "                              5          6          7          8          9  \n",
        "Alpha     Scale Type                                                         \n",
        "34.848485 75 Filter    0.293903  0.3734234  0.2965481  0.3075525    0.27987  \n",
        "          80 Filter    0.288946  0.3637476  0.2974182  0.3027666  0.2755312  \n",
        "          85 Filter   0.2846594  0.3604135  0.2972957  0.3014922  0.2727584  \n",
        "          90 Filter   0.2815368  0.3489952  0.2953347  0.3010452  0.2695638  \n",
        "          95 Filter   0.2832863  0.3555228   0.293715  0.3007094  0.2676165  \n",
        "          No Filter   0.2863562  0.3543767  0.2913822  0.3012244  0.2646269  \n",
        "Alpha      Scale Type\n",
        "34.848485  75 Filter     0.349660\n",
        "           80 Filter     0.350190\n",
        "           85 Filter     0.347927\n",
        "           90 Filter     0.344530\n",
        "           95 Filter     0.347403\n",
        "           No Filter     0.351161\n",
        "dtype: float64"
       ]
      },
      {
       "output_type": "stream",
       "stream": "stdout",
       "text": [
        "\n",
        "0.351160900869\n",
        "35.3535353535\n",
        "                              0          1          2          3          4  \\\n",
        "Alpha     Scale Type                                                          \n",
        "35.353535 75 Filter   0.2879868  0.4546613  0.4364727  0.3324971  0.3812303   \n",
        "          80 Filter   0.2844242  0.4560566  0.4676829   0.324773  0.3760361   \n",
        "          85 Filter   0.2830086  0.4574841  0.4686133  0.3208869  0.3660575   \n",
        "          90 Filter   0.2676638  0.4517903  0.4834551  0.3203675    0.35092   \n",
        "          95 Filter   0.2627073  0.4493352  0.5103862  0.3180882  0.3450324   \n",
        "          No Filter   0.2609307  0.4509049  0.5182925  0.3156933  0.3740866   \n",
        "\n",
        "                              5          6          7          8          9  \n",
        "Alpha     Scale Type                                                         \n",
        "35.353535 75 Filter   0.2939915  0.3734169  0.2965862  0.3076073  0.2799265  \n",
        "          80 Filter   0.2890299  0.3637745  0.2974691  0.3028191  0.2756083  \n",
        "          85 Filter    0.284738  0.3604406   0.297351  0.3015461  0.2728365  \n",
        "          90 Filter   0.2816194  0.3490578  0.2954086  0.3010743  0.2696403  \n",
        "          95 Filter   0.2834024  0.3555819  0.2937906   0.300677  0.2676658  \n",
        "          No Filter    0.286466  0.3544968  0.2914934  0.3011507   0.264701  \n",
        "Alpha      Scale Type\n",
        "35.353535  75 Filter     0.349695\n",
        "           80 Filter     0.350216\n",
        "           85 Filter     0.347956\n",
        "           90 Filter     0.344534\n",
        "           95 Filter     0.347384\n",
        "           No Filter     0.351153\n",
        "dtype: float64\n",
        "0.351153497298\n",
        "35.8585858586\n",
        "                              0          1          2          3          4  \\\n",
        "Alpha     Scale Type                                                          \n",
        "35.858586 75 Filter   0.2881421  0.4548563  0.4357871  0.3325949   0.381741   \n",
        "          80 Filter    0.284565  0.4562493  0.4669774  0.3248469  0.3765243   \n",
        "          85 Filter   0.2831447  0.4576796  0.4679221  0.3209754  0.3665572   \n",
        "          90 Filter   0.2676836    0.45193  0.4828081  0.3204484  0.3513122   \n",
        "          95 Filter    0.262663  0.4494658  0.5097454  0.3181416   0.345383   \n",
        "          No Filter   0.2609396  0.4510388  0.5176084  0.3157689  0.3744623   \n",
        "\n",
        "                              5          6          7          8          9  \n",
        "Alpha     Scale Type                                                         \n",
        "35.858586 75 Filter   0.2940792  0.3734123  0.2966243  0.3076617  0.2799827  \n",
        "          80 Filter   0.2891127  0.3638024  0.2975193  0.3028712  0.2756842  \n",
        "          85 Filter   0.2848157  0.3604687  0.2974054  0.3015995  0.2729135  \n",
        "          90 Filter   0.2817009  0.3491203  0.2954815  0.3011034  0.2697158  \n",
        "          95 Filter   0.2835166   0.355641  0.2938649  0.3006457  0.2677147  \n",
        "          No Filter   0.2865743  0.3546158   0.291603  0.3010786  0.2647743  \n",
        "Alpha      Scale Type\n",
        "35.858586  75 Filter     0.349732\n",
        "           80 Filter     0.350242\n",
        "           85 Filter     0.347985\n",
        "           90 Filter     0.344538\n",
        "           95 Filter     0.347366\n",
        "           No Filter     0.351147\n",
        "dtype: float64\n",
        "0.351146585501\n",
        "36.3636363636\n",
        "                              0          1          2          3          4  \\\n",
        "Alpha     Scale Type                                                          \n",
        "36.363636 75 Filter   0.2882974  0.4550504  0.4351136  0.3326929  0.3822472   \n",
        "          80 Filter   0.2847059   0.456441  0.4662825  0.3249204  0.3770082   \n",
        "          85 Filter   0.2832806  0.4578736   0.467241  0.3210632  0.3670521   \n",
        "          90 Filter   0.2677049  0.4520684  0.4821698  0.3205282  0.3517006   \n",
        "          95 Filter    0.262621  0.4495949  0.5091125  0.3181936  0.3457307   \n",
        "          No Filter   0.2609507  0.4511716  0.5169325  0.3158426  0.3748335   \n",
        "\n",
        "                              5          6          7          8          9  \n",
        "Alpha     Scale Type                                                         \n",
        "36.363636 75 Filter   0.2941661  0.3734095  0.2966624  0.3077157  0.2800386  \n",
        "          80 Filter   0.2891945  0.3638312  0.2975688   0.302923   0.275759  \n",
        "          85 Filter   0.2848924  0.3604975  0.2974592  0.3016526  0.2729894  \n",
        "          90 Filter   0.2817814  0.3491828  0.2955532  0.3011324  0.2697904  \n",
        "          95 Filter   0.2836289  0.3557003  0.2939378  0.3006153  0.2677631  \n",
        "          No Filter   0.2866811  0.3547336  0.2917112  0.3010081  0.2648469  \n",
        "Alpha      Scale Type\n",
        "36.363636  75 Filter     0.349771\n",
        "           80 Filter     0.350269\n",
        "           85 Filter     0.348014\n",
        "           90 Filter     0.344543\n",
        "           95 Filter     0.347349\n",
        "           No Filter     0.351140\n",
        "dtype: float64\n",
        "0.351140152559\n",
        "36.8686868687\n",
        "                              0          1          2          3          4  \\\n",
        "Alpha     Scale Type                                                          \n",
        "36.868687 75 Filter   0.2884528  0.4552435   0.434452  0.3327912  0.3827489   \n",
        "          80 Filter   0.2848467  0.4566316   0.465598  0.3249934  0.3774879   \n",
        "          85 Filter   0.2834163  0.4580662  0.4665698  0.3211503  0.3675425   \n",
        "          90 Filter   0.2677274  0.4522055    0.48154  0.3206069  0.3520853   \n",
        "          95 Filter   0.2625814  0.4497224  0.5084871  0.3182442  0.3460756   \n",
        "          No Filter   0.2609637  0.4513032  0.5162645  0.3159144  0.3752003   \n",
        "\n",
        "                              5          6          7          8          9  \n",
        "Alpha     Scale Type                                                         \n",
        "36.868687 75 Filter   0.2942523  0.3734085  0.2967004  0.3077694  0.2800941  \n",
        "          80 Filter   0.2892752   0.363861  0.2976178  0.3029744  0.2758327  \n",
        "          85 Filter   0.2849681  0.3605272  0.2975121  0.3017052  0.2730643  \n",
        "          90 Filter    0.281861  0.3492451  0.2956238  0.3011613   0.269864  \n",
        "          95 Filter   0.2837394  0.3557596  0.2940094  0.3005859  0.2678111  \n",
        "          No Filter   0.2867865  0.3548504  0.2918179   0.300939  0.2649188  \n",
        "Alpha      Scale Type\n",
        "36.868687  75 Filter     0.349810\n",
        "           80 Filter     0.350297\n",
        "           85 Filter     0.348045\n",
        "           90 Filter     0.344549\n",
        "           95 Filter     0.347332\n",
        "           No Filter     0.351134\n",
        "dtype: float64\n",
        "0.351134186052\n",
        "37.3737373737\n",
        "                              0          1          2          3          4  \\\n",
        "Alpha     Scale Type                                                          \n",
        "37.373737 75 Filter   0.2886082  0.4554356  0.4338018  0.3328896  0.3832462   \n",
        "          80 Filter   0.2849874  0.4568213  0.4649237  0.3250661  0.3779636   \n",
        "          85 Filter   0.2835519  0.4582574  0.4659082  0.3212366  0.3680284   \n",
        "          90 Filter   0.2677513  0.4523414  0.4809185  0.3206846  0.3524664   \n",
        "          95 Filter    0.262544  0.4498485  0.5078692  0.3182936  0.3464177   \n",
        "          No Filter   0.2609787  0.4514338  0.5156044  0.3159844  0.3755628   \n",
        "\n",
        "                              5          6          7          8          9  \n",
        "Alpha     Scale Type                                                         \n",
        "37.373737 75 Filter   0.2943377  0.3734091  0.2967385  0.3078227  0.2801494  \n",
        "          80 Filter   0.2893549  0.3638915  0.2976661  0.3030254  0.2759054  \n",
        "          85 Filter    0.285043  0.3605577  0.2975644  0.3017575  0.2731381  \n",
        "          90 Filter   0.2819396  0.3493073  0.2956934  0.3011902  0.2699368  \n",
        "          95 Filter   0.2838481   0.355819  0.2940797  0.3005574  0.2678587  \n",
        "          No Filter   0.2868906   0.354966  0.2919233  0.3008714  0.2649901  "
       ]
      },
      {
       "output_type": "stream",
       "stream": "stdout",
       "text": [
        "\n",
        "Alpha      Scale Type\n",
        "37.373737  75 Filter     0.349851\n",
        "           80 Filter     0.350325\n",
        "           85 Filter     0.348076\n",
        "           90 Filter     0.344555\n",
        "           95 Filter     0.347316\n",
        "           No Filter     0.351129\n",
        "dtype: float64\n",
        "0.351128674033\n",
        "37.8787878788\n",
        "                              0          1          2          3          4  \\\n",
        "Alpha     Scale Type                                                          \n",
        "37.878788 75 Filter   0.2887637  0.4556268  0.4331629  0.3329883  0.3837393   \n",
        "          80 Filter   0.2851281  0.4570099  0.4642593  0.3251384  0.3784352   \n",
        "          85 Filter   0.2836872  0.4584472  0.4652561  0.3213224  0.3685099   \n",
        "          90 Filter   0.2677765  0.4524762  0.4803051  0.3207612  0.3528439   \n",
        "          95 Filter   0.2625088  0.4499732  0.5072584  0.3183416   0.346757   \n",
        "          No Filter   0.2609956  0.4515633  0.5149519  0.3160527  0.3759212   \n",
        "\n",
        "                              5          6          7          8          9  \n",
        "Alpha     Scale Type                                                         \n",
        "37.878788 75 Filter   0.2944224  0.3734113  0.2967767  0.3078756  0.2802044  \n",
        "          80 Filter   0.2894336  0.3639228  0.2977139   0.303076  0.2759771  \n",
        "          85 Filter   0.2851171  0.3605888   0.297616  0.3018095  0.2732111  \n",
        "          90 Filter   0.2820174  0.3493694  0.2957621   0.301219  0.2700086  \n",
        "          95 Filter   0.2839551  0.3558785  0.2941488  0.3005299   0.267906  \n",
        "          No Filter   0.2869933  0.3550805  0.2920274  0.3008052  0.2650607  \n",
        "Alpha      Scale Type\n",
        "37.878788  75 Filter     0.349892\n",
        "           80 Filter     0.350355\n",
        "           85 Filter     0.348107\n",
        "           90 Filter     0.344561\n",
        "           95 Filter     0.347300\n",
        "           No Filter     0.351124\n",
        "dtype: float64\n",
        "0.351123605006\n",
        "38.3838383838\n",
        "                              0          1          2          3          4  \\\n",
        "Alpha     Scale Type                                                          \n",
        "38.383838 75 Filter   0.2889192  0.4558171  0.4325349  0.3330871  0.3842282   \n",
        "          80 Filter   0.2852687  0.4571976  0.4636045  0.3252103  0.3789029   \n",
        "          85 Filter   0.2838224  0.4586356  0.4646131  0.3214074  0.3689871   \n",
        "          90 Filter   0.2678028  0.4526098  0.4796997   0.320837   0.353218   \n",
        "          95 Filter   0.2624757  0.4500965  0.5066548  0.3183885  0.3470936   \n",
        "          No Filter   0.2610143  0.4516917  0.5143069  0.3161194  0.3762756   \n",
        "\n",
        "                              5          6          7          8          9  \n",
        "Alpha     Scale Type                                                         \n",
        "38.383838 75 Filter   0.2945064  0.3734151  0.2968149  0.3079281  0.2802591  \n",
        "          80 Filter   0.2895115  0.3639549  0.2977611  0.3031263  0.2760479  \n",
        "          85 Filter   0.2851903  0.3606207  0.2976669   0.301861  0.2732831  \n",
        "          90 Filter   0.2820942  0.3494313  0.2958298  0.3012478  0.2700797  \n",
        "          95 Filter   0.2840605   0.355938  0.2942168  0.3005032  0.2679528  \n",
        "          No Filter   0.2870947  0.3551938  0.2921301  0.3007404  0.2651307  \n",
        "Alpha      Scale Type\n",
        "38.383838  75 Filter     0.349935\n",
        "           80 Filter     0.350385\n",
        "           85 Filter     0.348140\n",
        "           90 Filter     0.344568\n",
        "           95 Filter     0.347285\n",
        "           No Filter     0.351119\n",
        "dtype: float64\n",
        "0.3511189679\n",
        "38.8888888889\n",
        "                              0          1          2          3          4  \\\n",
        "Alpha     Scale Type                                                          \n",
        "38.888889 75 Filter   0.2890747  0.4560064  0.4319174  0.3331862  0.3847131   \n",
        "          80 Filter   0.2854092  0.4573844  0.4629592  0.3252818  0.3793668   \n",
        "          85 Filter   0.2839574  0.4588228   0.463979  0.3214919  0.3694601   \n",
        "          90 Filter   0.2678303  0.4527423   0.479102  0.3209118  0.3535887   \n",
        "          95 Filter   0.2624446  0.4502184  0.5060581  0.3184342  0.3474275   \n",
        "          No Filter   0.2610348  0.4518191  0.5136691  0.3161844   0.376626   \n",
        "\n",
        "                              5          6          7          8          9  \n",
        "Alpha     Scale Type                                                         \n",
        "38.888889 75 Filter   0.2945897  0.3734203  0.2968532  0.3079803  0.2803136  \n",
        "          80 Filter   0.2895884  0.3639876  0.2978079  0.3031763  0.2761178  \n",
        "          85 Filter   0.2852627  0.3606532  0.2977173  0.3019122  0.2733542  \n",
        "          90 Filter   0.2821701  0.3494931  0.2958966  0.3012765    0.27015  \n",
        "          95 Filter   0.2841643  0.3559975  0.2942836  0.3004774  0.2679993  \n",
        "          No Filter   0.2871949  0.3553061  0.2922316   0.300677     0.2652  \n",
        "Alpha      Scale Type\n",
        "38.888889  75 Filter     0.349979\n",
        "           80 Filter     0.350416\n",
        "           85 Filter     0.348172\n",
        "           90 Filter     0.344576\n",
        "           95 Filter     0.347271\n",
        "           No Filter     0.351115\n",
        "dtype: float64\n",
        "0.351114752052"
       ]
      },
      {
       "output_type": "stream",
       "stream": "stdout",
       "text": [
        "\n",
        "39.3939393939\n",
        "                              0          1          2          3          4  \\\n",
        "Alpha     Scale Type                                                          \n",
        "39.393939 75 Filter   0.2892302  0.4561949  0.4313103  0.3332855  0.3851939   \n",
        "          80 Filter   0.2855497  0.4575702   0.462323  0.3253531  0.3798269   \n",
        "          85 Filter   0.2840921  0.4590087  0.4633538  0.3215759  0.3699289   \n",
        "          90 Filter   0.2678589  0.4528737  0.4785119  0.3209858  0.3539561   \n",
        "          95 Filter   0.2624155   0.450339  0.5054682  0.3184789  0.3477589   \n",
        "          No Filter   0.2610569  0.4519455  0.5130385   0.316248  0.3769725   \n",
        "\n",
        "                              5          6          7          8          9  \n",
        "Alpha     Scale Type                                                         \n",
        "39.393939 75 Filter   0.2946724   0.373427  0.2968916  0.3080322  0.2803679  \n",
        "          80 Filter   0.2896645   0.364021  0.2978542  0.3032259  0.2761868  \n",
        "          85 Filter   0.2853343  0.3606863   0.297767   0.301963  0.2734245  \n",
        "          90 Filter   0.2822453  0.3495548  0.2959625  0.3013052  0.2702194  \n",
        "          95 Filter   0.2842666   0.356057  0.2943493  0.3004524  0.2680455  \n",
        "          No Filter   0.2872938  0.3554173  0.2923319  0.3006148  0.2652688  \n",
        "Alpha      Scale Type\n",
        "39.393939  75 Filter     0.350023\n",
        "           80 Filter     0.350447\n",
        "           85 Filter     0.348205\n",
        "           90 Filter     0.344584\n",
        "           95 Filter     0.347257\n",
        "           No Filter     0.351111\n",
        "dtype: float64\n",
        "0.351110947184\n",
        "39.898989899\n",
        "                             0          1          2          3          4  \\\n",
        "Alpha    Scale Type                                                          \n",
        "39.89899 75 Filter   0.2893857  0.4563826  0.4307133   0.333385  0.3856708   \n",
        "         80 Filter     0.28569  0.4577551  0.4616957  0.3254241  0.3802833   \n",
        "         85 Filter   0.2842266  0.4591934   0.462737  0.3216592  0.3703938   \n",
        "         90 Filter   0.2678887   0.453004  0.4779292  0.3210589  0.3543202   \n",
        "         95 Filter   0.2623883  0.4504584   0.504885  0.3185225  0.3480877   \n",
        "         No Filter   0.2610807  0.4520709  0.5124149    0.31631  0.3773153   \n",
        "\n",
        "                             5          6          7          8          9  \n",
        "Alpha    Scale Type                                                         \n",
        "39.89899 75 Filter   0.2947545  0.3734349    0.29693  0.3080837  0.2804219  \n",
        "         80 Filter   0.2897397   0.364055     0.2979  0.3032752   0.276255  \n",
        "         85 Filter   0.2854051  0.3607199  0.2978163  0.3020134   0.273494  \n",
        "         90 Filter   0.2823196  0.3496162  0.2960276  0.3013337  0.2702882  \n",
        "         95 Filter   0.2843673  0.3561165   0.294414  0.3004282  0.2680913  \n",
        "         No Filter   0.2873916  0.3555275   0.292431   0.300554   0.265337  \n",
        "Alpha     Scale Type\n",
        "39.89899  75 Filter     0.350069\n",
        "          80 Filter     0.350480\n",
        "          85 Filter     0.348239\n",
        "          90 Filter     0.344593\n",
        "          95 Filter     0.347244\n",
        "          No Filter     0.351108\n",
        "dtype: float64\n",
        "0.351107543387\n",
        "40.404040404\n",
        "                             0          1          2          3          4  \\\n",
        "Alpha    Scale Type                                                          \n",
        "40.40404 75 Filter   0.2895411  0.4565694   0.430126  0.3334846  0.3861438   \n",
        "         80 Filter   0.2858302  0.4579391  0.4610773  0.3254947  0.3807361   \n",
        "         85 Filter   0.2843609  0.4593768  0.4621286  0.3217421  0.3708547   \n",
        "         90 Filter   0.2679194  0.4531333  0.4773537  0.3211312  0.3546812   \n",
        "         95 Filter   0.2623629  0.4505764  0.5043082  0.3185651  0.3484139   \n",
        "         No Filter   0.2611061  0.4521953  0.5117981  0.3163707  0.3776543   \n",
        "\n",
        "                             5          6          7          8          9  \n",
        "Alpha    Scale Type                                                         \n",
        "40.40404 75 Filter    0.294836  0.3734442  0.2969686  0.3081349  0.2804758  \n",
        "         80 Filter   0.2898141  0.3640896  0.2979454  0.3033241  0.2763224  \n",
        "         85 Filter   0.2854753  0.3607541   0.297865  0.3020635  0.2735627  \n",
        "         90 Filter   0.2823931  0.3496776  0.2960918  0.3013622  0.2703562  \n",
        "         95 Filter   0.2844665   0.356176  0.2944776  0.3004048  0.2681368  \n",
        "         No Filter   0.2874882  0.3556366  0.2925289  0.3004943  0.2654046  \n",
        "Alpha     Scale Type\n",
        "40.40404  75 Filter     0.350116\n",
        "          80 Filter     0.350513\n",
        "          85 Filter     0.348274\n",
        "          90 Filter     0.344602\n",
        "          95 Filter     0.347231\n",
        "          No Filter     0.351105\n",
        "dtype: float64\n",
        "0.351104531101\n",
        "40.9090909091\n",
        "                              0          1          2          3          4  \\\n",
        "Alpha     Scale Type                                                          \n",
        "40.909091 75 Filter   0.2896965  0.4567553  0.4295482  0.3335845  0.3866131   \n",
        "          80 Filter   0.2859703  0.4581222  0.4604673  0.3255651  0.3811853   \n",
        "          85 Filter    0.284495  0.4595591  0.4615284  0.3218244  0.3713117   \n",
        "          90 Filter   0.2679512  0.4532616  0.4767853  0.3212027  0.3550391   \n",
        "          95 Filter   0.2623394  0.4506933  0.5037378  0.3186068  0.3487377   \n",
        "          No Filter    0.261133  0.4523188  0.5111879    0.31643  0.3779898   \n",
        "\n",
        "                              5          6          7          8          9  \n",
        "Alpha     Scale Type                                                         \n",
        "40.909091 75 Filter   0.2949169  0.3734547  0.2970073  0.3081857  0.2805295  \n",
        "          80 Filter   0.2898878  0.3641247  0.2979905  0.3033727   0.276389  \n",
        "          85 Filter   0.2855447  0.3607888  0.2979132  0.3021132  0.2736306  \n",
        "          90 Filter   0.2824659  0.3497388  0.2961553  0.3013907  0.2704235  \n",
        "          95 Filter   0.2845643  0.3562354  0.2945403  0.3003821  0.2681819  \n",
        "          No Filter   0.2875836  0.3557446  0.2926257  0.3004359  0.2654716  \n",
        "Alpha      Scale Type\n",
        "40.909091  75 Filter     0.350163\n",
        "           80 Filter     0.350546\n",
        "           85 Filter     0.348308\n",
        "           90 Filter     0.344611\n",
        "           95 Filter     0.347219\n",
        "           No Filter     0.351102\n",
        "dtype: float64"
       ]
      },
      {
       "output_type": "stream",
       "stream": "stdout",
       "text": [
        "\n",
        "0.351101901102\n",
        "41.4141414141\n",
        "                              0          1          2          3          4  \\\n",
        "Alpha     Scale Type                                                          \n",
        "41.414141 75 Filter   0.2898518  0.4569405  0.4289798  0.3336845  0.3870786   \n",
        "          80 Filter   0.2861103  0.4583044  0.4598657  0.3256353  0.3816311   \n",
        "          85 Filter   0.2846289  0.4597401  0.4609361  0.3219063  0.3717649   \n",
        "          90 Filter   0.2679839  0.4533889  0.4762239  0.3212735  0.3553939   \n",
        "          95 Filter   0.2623176   0.450809  0.5031737  0.3186476  0.3490591   \n",
        "          No Filter   0.2611614  0.4524414  0.5105844   0.316488  0.3783217   \n",
        "\n",
        "                              5          6          7          8          9  \n",
        "Alpha     Scale Type                                                         \n",
        "41.414141 75 Filter   0.2949972  0.3734663  0.2970461  0.3082363   0.280583  \n",
        "          80 Filter   0.2899606  0.3641604  0.2980351   0.303421  0.2764549  \n",
        "          85 Filter   0.2856134   0.360824   0.297961  0.3021626  0.2736979  \n",
        "          90 Filter   0.2825379  0.3497998  0.2962181   0.301419  0.2704901  \n",
        "          95 Filter   0.2846608  0.3562948   0.294602  0.3003602  0.2682267  \n",
        "          No Filter    0.287678  0.3558516  0.2927215  0.3003787  0.2655382  \n",
        "Alpha      Scale Type\n",
        "41.414141  75 Filter     0.350211\n",
        "           80 Filter     0.350580\n",
        "           85 Filter     0.348344\n",
        "           90 Filter     0.344621\n",
        "           95 Filter     0.347208\n",
        "           No Filter     0.351100\n",
        "dtype: float64\n",
        "0.351099644483\n",
        "41.9191919192\n",
        "                              0          1          2          3          4  \\\n",
        "Alpha     Scale Type                                                          \n",
        "41.919192 75 Filter   0.2900071  0.4571248  0.4284204  0.3337847  0.3875405   \n",
        "          80 Filter   0.2862501  0.4584858  0.4592722  0.3257052  0.3820735   \n",
        "          85 Filter   0.2847626  0.4599201  0.4603516  0.3219877  0.3722144   \n",
        "          90 Filter   0.2680176  0.4535152  0.4756692  0.3213435  0.3557458   \n",
        "          95 Filter   0.2622974  0.4509235  0.5026156  0.3186875  0.3493781   \n",
        "          No Filter   0.2611912   0.452563  0.5099872  0.3165448  0.3786502   \n",
        "\n",
        "                              5          6          7          8          9  \n",
        "Alpha     Scale Type                                                         \n",
        "41.919192 75 Filter   0.2950769  0.3734791  0.2970851  0.3082865  0.2806364  \n",
        "          80 Filter   0.2900328  0.3641965  0.2980794   0.303469  0.2765201  \n",
        "          85 Filter   0.2856815  0.3608596  0.2980083  0.3022117  0.2737644  \n",
        "          90 Filter   0.2826091  0.3498606  0.2962801  0.3014473   0.270556  \n",
        "          95 Filter   0.2847558  0.3563542  0.2946628  0.3003391  0.2682713  \n",
        "          No Filter   0.2877713  0.3559575  0.2928162  0.3003226  0.2656042  \n",
        "Alpha      Scale Type\n",
        "41.919192  75 Filter     0.350261\n",
        "           80 Filter     0.350615\n",
        "           85 Filter     0.348379\n",
        "           90 Filter     0.344632\n",
        "           95 Filter     0.347197\n",
        "           No Filter     0.351098\n",
        "dtype: float64\n",
        "0.351097752641\n",
        "42.4242424242\n",
        "                              0          1          2          3          4  \\\n",
        "Alpha     Scale Type                                                          \n",
        "42.424242 75 Filter   0.2901623  0.4573084  0.4278699  0.3338851  0.3879989   \n",
        "          80 Filter   0.2863898  0.4586663  0.4586867  0.3257749  0.3825125   \n",
        "          85 Filter    0.284896   0.460099  0.4597747  0.3220687  0.3726603   \n",
        "          90 Filter   0.2680521  0.4536406  0.4751211  0.3214129  0.3560947   \n",
        "          95 Filter   0.2622789  0.4510369  0.5020635  0.3187266  0.3496947   \n",
        "          No Filter   0.2612224  0.4526838  0.5093963  0.3166004  0.3789753   \n",
        "\n",
        "                              5          6          7          8          9  \n",
        "Alpha     Scale Type                                                         \n",
        "42.424242 75 Filter   0.2951562  0.3734929  0.2971242  0.3083364  0.2806896  \n",
        "          80 Filter   0.2901042  0.3642331  0.2981234  0.3035166  0.2765846  \n",
        "          85 Filter   0.2857489  0.3608957  0.2980551  0.3022603  0.2738302  \n",
        "          90 Filter   0.2826797  0.3499212  0.2963414  0.3014755  0.2706213  \n",
        "          95 Filter   0.2848496  0.3564134  0.2947227  0.3003186  0.2683155  \n",
        "          No Filter   0.2878635  0.3560624  0.2929099  0.3002677  0.2656697  \n",
        "Alpha      Scale Type\n",
        "42.424242  75 Filter     0.350311\n",
        "           80 Filter     0.350650\n",
        "           85 Filter     0.348415\n",
        "           90 Filter     0.344643\n",
        "           95 Filter     0.347186\n",
        "           No Filter     0.351096\n",
        "dtype: float64\n",
        "0.351096217263\n",
        "42.9292929293\n",
        "                              0          1          2          3          4  \\\n",
        "Alpha     Scale Type                                                          \n",
        "42.929293 75 Filter   0.2903174  0.4574911  0.4273279  0.3339856  0.3884537   \n",
        "          80 Filter   0.2865294   0.458846   0.458109  0.3258444  0.3829482   \n",
        "          85 Filter   0.2850292  0.4602767  0.4592053  0.3221493  0.3731025   \n",
        "          90 Filter   0.2680876  0.4537651  0.4745796  0.3214816  0.3564408   \n",
        "          95 Filter    0.262262  0.4511492  0.5015173  0.3187649  0.3500091   \n",
        "          No Filter   0.2612549  0.4528036  0.5088115  0.3166548  0.3792972   \n",
        "\n",
        "                              5          6          7          8          9  \n",
        "Alpha     Scale Type                                                         \n",
        "42.929293 75 Filter   0.2952349  0.3735078  0.2971634   0.308386  0.2807427  \n",
        "          80 Filter   0.2901749  0.3642701  0.2981671   0.303564  0.2766484  \n",
        "          85 Filter   0.2858157  0.3609321  0.2981016  0.3023087  0.2738954  \n",
        "          90 Filter   0.2827496  0.3499817  0.2964021  0.3015036   0.270686  \n",
        "          95 Filter   0.2849421  0.3564727  0.2947817  0.3002988  0.2683594  \n",
        "          No Filter   0.2879547  0.3561664  0.2930026  0.3002138  0.2657347  \n",
        "Alpha      Scale Type\n",
        "42.929293  75 Filter     0.350361\n",
        "           80 Filter     0.350686\n",
        "           85 Filter     0.348452\n",
        "           90 Filter     0.344654\n",
        "           95 Filter     0.347176\n",
        "           No Filter     0.351095\n",
        "dtype: float64\n",
        "0.351095030315\n",
        "43.4343434343\n",
        "                              0          1          2          3          4  \\\n",
        "Alpha     Scale Type                                                          \n",
        "43.434343 75 Filter   0.2904725  0.4576731  0.4267944  0.3340864  0.3889051   \n",
        "          80 Filter   0.2866688  0.4590249  0.4575389  0.3259137  0.3833807   \n",
        "          85 Filter   0.2851621  0.4604534  0.4586431  0.3222294  0.3735413   \n",
        "          90 Filter   0.2681238  0.4538887  0.4740443  0.3215497  0.3567841   \n",
        "          95 Filter   0.2622467  0.4512605  0.5009768  0.3188024  0.3503211   \n",
        "          No Filter   0.2612888  0.4529226  0.5082328  0.3167081  0.3796158   \n",
        "\n",
        "                              5          6          7          8          9  \n",
        "Alpha     Scale Type                                                         \n",
        "43.434343 75 Filter   0.2953131  0.3735237  0.2972027  0.3084354  0.2807957  \n",
        "          80 Filter    0.290245  0.3643075  0.2982105   0.303611  0.2767116  \n",
        "          85 Filter   0.2858819  0.3609689  0.2981477  0.3023567    0.27396  \n",
        "          90 Filter   0.2828188  0.3500419  0.2964621  0.3015317  0.2707501  \n",
        "          95 Filter   0.2850333  0.3565318  0.2948399  0.3002797  0.2684031  \n",
        "          No Filter   0.2880449  0.3562693  0.2930943   0.300161  0.2657993  "
       ]
      },
      {
       "output_type": "stream",
       "stream": "stdout",
       "text": [
        "\n",
        "Alpha      Scale Type\n",
        "43.434343  75 Filter     0.350413\n",
        "           80 Filter     0.350723\n",
        "           85 Filter     0.348489\n",
        "           90 Filter     0.344666\n",
        "           95 Filter     0.347166\n",
        "           No Filter     0.351094\n",
        "dtype: float64\n",
        "0.351094184025\n",
        "43.9393939394\n",
        "                              0          1          2          3          4  \\\n",
        "Alpha     Scale Type                                                          \n",
        "43.939394 75 Filter   0.2906274  0.4578544  0.4262691  0.3341872  0.3893531   \n",
        "          80 Filter    0.286808   0.459203  0.4569762  0.3259828    0.38381   \n",
        "          85 Filter   0.2852949  0.4606291  0.4580881  0.3223092  0.3739766   \n",
        "          90 Filter   0.2681609  0.4540114  0.4735154  0.3216171  0.3571247   \n",
        "          95 Filter   0.2622328  0.4513707   0.500442  0.3188393  0.3506309   \n",
        "          No Filter   0.2613238  0.4530408    0.50766  0.3167603  0.3799312   \n",
        "\n",
        "                              5          6          7          8          9  \n",
        "Alpha     Scale Type                                                         \n",
        "43.939394 75 Filter   0.2953908  0.3735405  0.2972423  0.3084844  0.2808486  \n",
        "          80 Filter   0.2903144  0.3643453  0.2982536  0.3036577  0.2767742  \n",
        "          85 Filter   0.2859475  0.3610061  0.2981934  0.3024044   0.274024  \n",
        "          90 Filter   0.2828874   0.350102  0.2965215  0.3015596  0.2708136  \n",
        "          95 Filter   0.2851233  0.3565908  0.2948973  0.3002612  0.2684465  \n",
        "          No Filter   0.2881341  0.3563712  0.2931851  0.3001093  0.2658633  \n",
        "Alpha      Scale Type\n",
        "43.939394  75 Filter     0.350465\n",
        "           80 Filter     0.350760\n",
        "           85 Filter     0.348526\n",
        "           90 Filter     0.344678\n",
        "           95 Filter     0.347157\n",
        "           No Filter     0.351094\n",
        "dtype: float64\n",
        "0.351093670877\n",
        "44.4444444444\n",
        "                              0          1          2          3          4  \\\n",
        "Alpha     Scale Type                                                          \n",
        "44.444444 75 Filter   0.2907822  0.4580349  0.4257518  0.3342883  0.3897978   \n",
        "          80 Filter   0.2869471  0.4593803  0.4564208  0.3260518  0.3842361   \n",
        "          85 Filter   0.2854274  0.4608037  0.4575401  0.3223886  0.3744085   \n",
        "          90 Filter   0.2681988  0.4541332  0.4729925   0.321684  0.3574625   \n",
        "          95 Filter   0.2622204  0.4514799  0.4999126  0.3188754  0.3509385   \n",
        "          No Filter   0.2613601  0.4531581   0.507093  0.3168114  0.3802435   \n",
        "\n",
        "                              5          6          7          8          9  \n",
        "Alpha     Scale Type                                                         \n",
        "44.444444 75 Filter    0.295468  0.3735582   0.297282  0.3085331  0.2809013  \n",
        "          80 Filter   0.2903832  0.3643834  0.2982964  0.3037041  0.2768363  \n",
        "          85 Filter   0.2860125  0.3610436  0.2982388  0.3024518  0.2740874  \n",
        "          90 Filter   0.2829553  0.3501619  0.2965803  0.3015875  0.2708766  \n",
        "          95 Filter   0.2852121  0.3566498  0.2949539  0.3002434  0.2684896  \n",
        "          No Filter   0.2882224  0.3564722   0.293275  0.3000586  0.2659269  \n",
        "Alpha      Scale Type\n",
        "44.444444  75 Filter     0.350518\n",
        "           80 Filter     0.350798\n",
        "           85 Filter     0.348564\n",
        "           90 Filter     0.344691\n",
        "           95 Filter     0.347149\n",
        "           No Filter     0.351093\n",
        "dtype: float64\n",
        "0.351093483595\n",
        "44.9494949495\n",
        "                              0          1          2          3          4  \\\n",
        "Alpha     Scale Type                                                          \n",
        "44.949495 75 Filter   0.2909369  0.4582147  0.4252423  0.3343895  0.3902392   \n",
        "          80 Filter    0.287086  0.4595569  0.4558725  0.3261205  0.3846592   \n",
        "          85 Filter   0.2855597  0.4609773  0.4569989  0.3224677   0.374837   \n",
        "          90 Filter   0.2682374  0.4542542  0.4724755  0.3217503  0.3577978   \n",
        "          95 Filter   0.2622094   0.451588  0.4993887  0.3189109   0.351244   \n",
        "          No Filter   0.2613976  0.4532745  0.5065317  0.3168616  0.3805529   \n",
        "\n",
        "                              5          6          7          8          9  \n",
        "Alpha     Scale Type                                                         \n",
        "44.949495 75 Filter   0.2955447  0.3735768  0.2973218  0.3085816   0.280954  \n",
        "          80 Filter   0.2904514  0.3644218   0.298339  0.3037503  0.2768977  \n",
        "          85 Filter    0.286077  0.3610814  0.2982838  0.3024989  0.2741502  \n",
        "          90 Filter   0.2830227  0.3502216  0.2966385  0.3016153   0.270939  \n",
        "          95 Filter   0.2852997  0.3567086  0.2950097  0.3002262  0.2685325  \n",
        "          No Filter   0.2883097  0.3565722   0.293364  0.3000088  0.2659901  \n",
        "Alpha      Scale Type\n",
        "44.949495  75 Filter     0.350571\n",
        "           80 Filter     0.350836\n",
        "           85 Filter     0.348603\n",
        "           90 Filter     0.344703\n",
        "           95 Filter     0.347140\n",
        "           No Filter     0.351094\n",
        "dtype: float64\n",
        "0.351093615137\n",
        "45.4545454545\n",
        "                              0          1          2          3          4  \\\n",
        "Alpha     Scale Type                                                          \n",
        "45.454545 75 Filter   0.2910915  0.4583937  0.4247405  0.3344908  0.3906774   \n",
        "          80 Filter   0.2872248  0.4597326  0.4553312  0.3261892  0.3850793   \n",
        "          85 Filter   0.2856917    0.46115  0.4564644  0.3225464  0.3752623   \n",
        "          90 Filter   0.2682768  0.4543744  0.4719645   0.321816  0.3581304   \n",
        "          95 Filter   0.2621997  0.4516953  0.4988701  0.3189457  0.3515473   \n",
        "          No Filter   0.2614362  0.4533902  0.5059759  0.3169108  0.3808592   \n",
        "\n",
        "                              5          6          7          8          9  \n",
        "Alpha     Scale Type                                                         \n",
        "45.454545 75 Filter   0.2956211  0.3735962  0.2973618  0.3086298  0.2810066  \n",
        "          80 Filter    0.290519  0.3644606  0.2983814  0.3037961  0.2769586  \n",
        "          85 Filter   0.2861409  0.3611195  0.2983285  0.3025456  0.2742125  \n",
        "          90 Filter   0.2830894  0.3502811  0.2966961   0.301643  0.2710008  \n",
        "          95 Filter   0.2853863  0.3567673  0.2950648  0.3002095  0.2685751  \n",
        "          No Filter   0.2883961  0.3566713  0.2934521    0.29996  0.2660528  "
       ]
      },
      {
       "output_type": "stream",
       "stream": "stdout",
       "text": [
        "\n",
        "Alpha      Scale Type\n",
        "45.454545  75 Filter     0.350626\n",
        "           80 Filter     0.350874\n",
        "           85 Filter     0.348641\n",
        "           90 Filter     0.344717\n",
        "           95 Filter     0.347133\n",
        "           No Filter     0.351094\n",
        "dtype: float64\n",
        "0.351094058682\n",
        "45.9595959596\n",
        "                              0          1          2          3          4  \\\n",
        "Alpha     Scale Type                                                          \n",
        "45.959596 75 Filter    0.291246  0.4585721  0.4242461  0.3345923  0.3911124   \n",
        "          80 Filter   0.2873634  0.4599076  0.4547967  0.3262577  0.3854965   \n",
        "          85 Filter   0.2858235  0.4613217  0.4559364  0.3226248  0.3756844   \n",
        "          90 Filter   0.2683169  0.4544938  0.4714591  0.3218812  0.3584605   \n",
        "          95 Filter   0.2621914  0.4518015  0.4983567    0.31898  0.3518486   \n",
        "          No Filter   0.2614759  0.4535051  0.5054256  0.3169591  0.3811626   \n",
        "\n",
        "                              5          6          7          8          9  \n",
        "Alpha     Scale Type                                                         \n",
        "45.959596 75 Filter   0.2956969  0.3736164   0.297402  0.3086777  0.2810591  \n",
        "          80 Filter    0.290586  0.3644996  0.2984235  0.3038417  0.2770191  \n",
        "          85 Filter   0.2862043  0.3611579  0.2983729  0.3025921  0.2742742  \n",
        "          90 Filter   0.2831555  0.3503403  0.2967532  0.3016706  0.2710622  \n",
        "          95 Filter   0.2854717   0.356826  0.2951192  0.3001935  0.2686174  \n",
        "          No Filter   0.2884817  0.3567694  0.2935394  0.2999122  0.2661151  \n",
        "Alpha      Scale Type\n",
        "45.959596  75 Filter     0.350681\n",
        "           80 Filter     0.350913\n",
        "           85 Filter     0.348680\n",
        "           90 Filter     0.344731\n",
        "           95 Filter     0.347125\n",
        "           No Filter     0.351095\n",
        "dtype: float64\n",
        "0.351094807623\n",
        "46.4646464646\n",
        "                              0          1          2          3          4  \\\n",
        "Alpha     Scale Type                                                          \n",
        "46.464646 75 Filter   0.2914003  0.4587497   0.423759  0.3346939  0.3915443   \n",
        "          80 Filter   0.2875018  0.4600819  0.4542689   0.326326  0.3859107   \n",
        "          85 Filter   0.2859551  0.4614924  0.4554148  0.3227028  0.3761034   \n",
        "          90 Filter   0.2683576  0.4546124  0.4709594  0.3219459  0.3587881   \n",
        "          95 Filter   0.2621844  0.4519069  0.4978484  0.3190136  0.3521477   \n",
        "          No Filter   0.2615166  0.4536192  0.5048807  0.3170065  0.3814632   \n",
        "\n",
        "                              5          6          7          8          9  \n",
        "Alpha     Scale Type                                                         \n",
        "46.464646 75 Filter   0.2957724  0.3736374  0.2974423  0.3087253  0.2811115  \n",
        "          80 Filter   0.2906525  0.3645389  0.2984655  0.3038869   0.277079  \n",
        "          85 Filter   0.2862672  0.3611965  0.2984171  0.3026382  0.2743355  \n",
        "          90 Filter   0.2832211  0.3503994  0.2968098  0.3016981   0.271123  \n",
        "          95 Filter   0.2855561  0.3568844  0.2951729   0.300178  0.2686595  \n",
        "          No Filter   0.2885664  0.3568666  0.2936258  0.2998653   0.266177  \n",
        "Alpha      Scale Type\n",
        "46.464646  75 Filter     0.350736\n",
        "           80 Filter     0.350953\n",
        "           85 Filter     0.348720\n",
        "           90 Filter     0.344745\n",
        "           95 Filter     0.347118\n",
        "           No Filter     0.351096\n",
        "dtype: float64\n",
        "0.351095855554\n",
        "46.9696969697\n",
        "                              0          1          2          3          4  \\\n",
        "Alpha     Scale Type                                                          \n",
        "46.969697 75 Filter   0.2915545  0.4589267  0.4232791  0.3347956  0.3919732   \n",
        "          80 Filter     0.28764  0.4602554  0.4537476  0.3263943  0.3863221   \n",
        "          85 Filter   0.2860864  0.4616622  0.4548996  0.3227806  0.3765192   \n",
        "          90 Filter   0.2683991  0.4547302  0.4704652    0.32201  0.3591132   \n",
        "          95 Filter   0.2621787  0.4520113  0.4973452  0.3190468  0.3524449   \n",
        "          No Filter   0.2615584  0.4537326   0.504341   0.317053   0.381761   \n",
        "\n",
        "                              5          6          7          8          9  \n",
        "Alpha     Scale Type                                                         \n",
        "46.969697 75 Filter   0.2958474  0.3736591  0.2974828  0.3087727  0.2811639  \n",
        "          80 Filter   0.2907184  0.3645785  0.2985072  0.3039319  0.2771384  \n",
        "          85 Filter   0.2863296  0.3612354  0.2984609   0.302684  0.2743962  \n",
        "          90 Filter   0.2832861  0.3504583  0.2968658  0.3017256  0.2711834  \n",
        "          95 Filter   0.2856394  0.3569428  0.2952259  0.3001631  0.2687014  \n",
        "          No Filter   0.2886502  0.3569629  0.2937115  0.2998193  0.2662385  \n",
        "Alpha      Scale Type\n",
        "46.969697  75 Filter     0.350792\n",
        "           80 Filter     0.350993\n",
        "           85 Filter     0.348759\n",
        "           90 Filter     0.344759\n",
        "           95 Filter     0.347112\n",
        "           No Filter     0.351097\n",
        "dtype: float64\n",
        "0.351097196268\n",
        "47.4747474747\n",
        "                              0          1          2          3          4  \\\n",
        "Alpha     Scale Type                                                          \n",
        "47.474747 75 Filter   0.2917085   0.459103  0.4228061  0.3348975   0.392399   \n",
        "          80 Filter    0.287778  0.4604282  0.4532327  0.3264624  0.3867306   \n",
        "          85 Filter   0.2862175  0.4618311  0.4543905  0.3228581   0.376932   \n",
        "          90 Filter   0.2684412  0.4548473  0.4699764  0.3220738   0.359436   \n",
        "          95 Filter   0.2621741  0.4521149  0.4968468  0.3190794    0.35274   \n",
        "          No Filter   0.2616012  0.4538452  0.5038065  0.3170987  0.3820561   \n",
        "\n",
        "                              5          6          7          8          9  \n",
        "Alpha     Scale Type                                                         \n",
        "47.474747 75 Filter    0.295922  0.3736816  0.2975235  0.3088198  0.2812162  \n",
        "          80 Filter   0.2907838  0.3646183  0.2985488  0.3039766  0.2771973  \n",
        "          85 Filter   0.2863915  0.3612745  0.2985045  0.3027295  0.2744565  \n",
        "          90 Filter   0.2833506  0.3505169  0.2969214  0.3017529  0.2712433  \n",
        "          95 Filter   0.2857217   0.357001  0.2952783  0.3001487  0.2687431  \n",
        "          No Filter   0.2887332  0.3570583  0.2937963  0.2997742  0.2662995  \n",
        "Alpha      Scale Type\n",
        "47.474747  75 Filter     0.350849\n",
        "           80 Filter     0.351033\n",
        "           85 Filter     0.348799\n",
        "           90 Filter     0.344774\n",
        "           95 Filter     0.347106\n",
        "           No Filter     0.351099\n",
        "dtype: float64\n",
        "0.351098823743\n",
        "47.9797979798\n",
        "                              0          1          2          3          4  \\\n",
        "Alpha     Scale Type                                                          \n",
        "47.979798 75 Filter   0.2918624  0.4592786  0.4223399  0.3349995  0.3928219   \n",
        "          80 Filter   0.2879159  0.4606003  0.4527241  0.3265304  0.3871363   \n",
        "          85 Filter   0.2863484  0.4619992  0.4538874  0.3229353  0.3773418   \n",
        "          90 Filter   0.2684839  0.4549637  0.4694929   0.322137  0.3597564   \n",
        "          95 Filter   0.2621708  0.4522176  0.4963533  0.3191115  0.3530332   \n",
        "          No Filter    0.261645   0.453957  0.5032771  0.3171436  0.3823485   \n",
        "\n",
        "                              5          6          7          8          9  \n",
        "Alpha     Scale Type                                                         \n",
        "47.979798 75 Filter   0.2959962  0.3737047  0.2975643  0.3088667  0.2812685  \n",
        "          80 Filter   0.2908486  0.3646583  0.2985902  0.3040211  0.2772559  \n",
        "          85 Filter   0.2864529  0.3613138  0.2985478  0.3027748  0.2745164  \n",
        "          90 Filter   0.2834145  0.3505754  0.2969765  0.3017802  0.2713027  \n",
        "          95 Filter    0.285803  0.3570591    0.29533  0.3001348  0.2687845  \n",
        "          No Filter   0.2888154  0.3571528  0.2938804  0.2997299  0.2663602  \n",
        "Alpha      Scale Type\n",
        "47.979798  75 Filter     0.350906\n",
        "           80 Filter     0.351074\n",
        "           85 Filter     0.348840\n",
        "           90 Filter     0.344789\n",
        "           95 Filter     0.347100\n",
        "           No Filter     0.351101\n",
        "dtype: float64\n",
        "0.351100732139\n",
        "48.4848484848"
       ]
      },
      {
       "output_type": "stream",
       "stream": "stdout",
       "text": [
        "\n",
        "                              0          1          2          3          4  \\\n",
        "Alpha     Scale Type                                                          \n",
        "48.484848 75 Filter   0.2920162  0.4594535  0.4218804  0.3351016  0.3932419   \n",
        "          80 Filter   0.2880535  0.4607716  0.4522217  0.3265983  0.3875394   \n",
        "          85 Filter   0.2864791  0.4621663  0.4533902  0.3230123  0.3777486   \n",
        "          90 Filter   0.2685272  0.4550793  0.4690147  0.3221998  0.3600745   \n",
        "          95 Filter   0.2621686  0.4523195  0.4958646  0.3191431  0.3533244   \n",
        "          No Filter   0.2616897  0.4540682  0.5027527  0.3171877  0.3826382   \n",
        "\n",
        "                              5          6          7          8          9  \n",
        "Alpha     Scale Type                                                         \n",
        "48.484848 75 Filter   0.2960701  0.3737284  0.2976054  0.3089133  0.2813207  \n",
        "          80 Filter    0.290913  0.3646985  0.2986314  0.3040653  0.2773139  \n",
        "          85 Filter   0.2865139  0.3613533  0.2985909  0.3028197  0.2745758  \n",
        "          90 Filter   0.2834779  0.3506336  0.2970311  0.3018074  0.2713617  \n",
        "          95 Filter   0.2858833   0.357117  0.2953811  0.3001215  0.2688257  \n",
        "          No Filter   0.2888968  0.3572464  0.2939638  0.2996864  0.2664205  \n",
        "Alpha      Scale Type\n",
        "48.484848  75 Filter     0.350964\n",
        "           80 Filter     0.351115\n",
        "           85 Filter     0.348881\n",
        "           90 Filter     0.344804\n",
        "           95 Filter     0.347095\n",
        "           No Filter     0.351103\n",
        "dtype: float64\n",
        "0.351115063059\n",
        "48.9898989899\n",
        "                              0          1          2          3          4  \\\n",
        "Alpha     Scale Type                                                          \n",
        "48.989899 75 Filter   0.2921697  0.4596278  0.4214274  0.3352039   0.393659   \n",
        "          80 Filter    0.288191  0.4609423  0.4517252  0.3266662  0.3879397   \n",
        "          85 Filter   0.2866095  0.4623326  0.4528989   0.323089  0.3781526   \n",
        "          90 Filter    0.268571  0.4551943  0.4685415  0.3222622  0.3603903   \n",
        "          95 Filter   0.2621676  0.4524206  0.4953805  0.3191742  0.3536138   \n",
        "          No Filter   0.2617353  0.4541786  0.5022331   0.317231  0.3829253   \n",
        "\n",
        "                              5          6          7          8          9  \n",
        "Alpha     Scale Type                                                         \n",
        "48.989899 75 Filter   0.2961435  0.3737528  0.2976465  0.3089597  0.2813729  \n",
        "          80 Filter   0.2909769  0.3647389  0.2986725  0.3041092  0.2773716  \n",
        "          85 Filter   0.2865744  0.3613929  0.2986338  0.3028644  0.2746348  \n",
        "          90 Filter   0.2835409  0.3506916  0.2970853  0.3018345  0.2714203  \n",
        "          95 Filter   0.2859627  0.3571748  0.2954316  0.3001086  0.2688667  \n",
        "          No Filter   0.2889774  0.3573391  0.2940464  0.2996438  0.2664805  \n",
        "Alpha      Scale Type\n",
        "48.989899  75 Filter     0.351022\n",
        "           80 Filter     0.351157\n",
        "           85 Filter     0.348922\n",
        "           90 Filter     0.344820\n",
        "           95 Filter     0.347090\n",
        "           No Filter     0.351105\n",
        "dtype: float64\n",
        "0.35115670416\n",
        "49.4949494949\n",
        "                              0          1          2          3          4  \\\n",
        "Alpha     Scale Type                                                          \n",
        "49.494949 75 Filter   0.2923232  0.4598015  0.4209808  0.3353062  0.3940733   \n",
        "          80 Filter   0.2883283  0.4611123  0.4512347  0.3267339  0.3883374   \n",
        "          85 Filter   0.2867396   0.462498  0.4524132  0.3231655  0.3785537   \n",
        "          90 Filter   0.2686155  0.4553085  0.4680733  0.3223242  0.3607038   \n",
        "          95 Filter   0.2621676  0.4525208  0.4949009  0.3192049  0.3539012   \n",
        "          No Filter   0.2617819  0.4542883  0.5017184  0.3172737  0.3832099   \n",
        "\n",
        "                              5          6          7          8          9  \n",
        "Alpha     Scale Type                                                         \n",
        "49.494949 75 Filter   0.2962166  0.3737778  0.2976879  0.3090058   0.281425  \n",
        "          80 Filter   0.2910404  0.3647795  0.2987134  0.3041529  0.2774288  \n",
        "          85 Filter   0.2866345  0.3614327  0.2986765  0.3029087  0.2746933  \n",
        "          90 Filter   0.2836033  0.3507494  0.2971391  0.3018615  0.2714784  \n",
        "          95 Filter   0.2860412  0.3572324  0.2954816  0.3000963  0.2689075  \n",
        "          No Filter   0.2890573   0.357431  0.2941284   0.299602  0.2665401  \n",
        "Alpha      Scale Type\n",
        "49.494949  75 Filter     0.351081\n",
        "           80 Filter     0.351199\n",
        "           85 Filter     0.348963\n",
        "           90 Filter     0.344836\n",
        "           95 Filter     0.347086\n",
        "           No Filter     0.351108\n",
        "dtype: float64\n",
        "0.351198739081\n",
        "50.0\n",
        "                          0          1          2          3          4  \\\n",
        "Alpha Scale Type                                                          \n",
        "50    75 Filter   0.2924764  0.4599745  0.4205404  0.3354087  0.3944848   \n",
        "      80 Filter   0.2884654  0.4612816    0.45075  0.3268016  0.3887325   \n",
        "      85 Filter   0.2868696  0.4626626  0.4519331  0.3232417  0.3789519   \n",
        "      90 Filter   0.2686605  0.4554221    0.46761  0.3223857  0.3610152   \n",
        "      95 Filter   0.2621687  0.4526203  0.4944259  0.3192352  0.3541868   \n",
        "      No Filter   0.2618292  0.4543973  0.5012084  0.3173156  0.3834921   \n",
        "\n",
        "                          5          6          7          8          9  \n",
        "Alpha Scale Type                                                         \n",
        "50    75 Filter   0.2962893  0.3738033  0.2977295  0.3090517  0.2814771  \n",
        "      80 Filter   0.2911033  0.3648202  0.2987542  0.3041963  0.2774857  \n",
        "      85 Filter   0.2866942  0.3614727  0.2987189  0.3029528  0.2747515  \n",
        "      90 Filter   0.2836653   0.350807  0.2971924  0.3018884  0.2715362  \n",
        "      95 Filter   0.2861187  0.3572899   0.295531  0.3000844  0.2689481  \n",
        "      No Filter   0.2891364   0.357522  0.2942096   0.299561  0.2665993  \n",
        "Alpha  Scale Type\n",
        "50     75 Filter     0.351140\n",
        "       80 Filter     0.351241\n",
        "       85 Filter     0.349005\n",
        "       90 Filter     0.344853\n",
        "       95 Filter     0.347082\n",
        "       No Filter     0.351111\n",
        "dtype: float64\n",
        "0.351241157126\n"
       ]
      }
     ],
     "prompt_number": 165
    },
    {
     "cell_type": "code",
     "collapsed": false,
     "input": [
      "k = 10\n",
      "clmns = pd.MultiIndex.from_product([Y.columns, ['RMSE', 'alpha*'], [x[0] for x in sclrs]], names = ['Target', 'Value', 'Scale Type'])\n",
      "folds = cv.KFold(n = X.shape[0], n_folds = k, shuffle = True)\n",
      "cv_values = pd.DataFrame(index = range(k), columns = clmns)\n",
      "\n",
      "for (target_name, target) in Y[['Ca']].iteritems():\n",
      "    print(target_name + ':')\n",
      "    for (i, (train_idx, test_idx)) in enumerate(folds):\n",
      "        print('\\n....... Fold ' + str(i) + ' .......')\n",
      "        \n",
      "        y_train = target.iloc[train_idx]\n",
      "        y_test = target.iloc[test_idx]\n",
      "        print('Extremes of test set: ')# + str(np.sum(y_inv_trans(y_test) > 3)))      \n",
      "        print(np.sort(y_inv_trans(y_test))[-3:])\n",
      "        for (sclr_name, sclr) in sclrs:\n",
      "            \n",
      "            print('Scaler: ' + sclr_name)\n",
      "            X_train = sclr.fit_transform(X.iloc[train_idx,:], y_train)\n",
      "            X_test = sclr.transform(X.iloc[test_idx,:])\n",
      "            \n",
      "            \n",
      "            rr_obj.fit(X_train, y_train)\n",
      "            y_pred = rr_obj.predict(X_test)\n",
      "            error = tune.trans_then_rmse(y_pred, y_test, y_inv_trans) #y values in transformed space, care about performace\n",
      "                                                                    #in original space.  \n",
      "            \n",
      "            cv_values.ix[i, (target_name, 'RMSE', sclr_name)] = error\n",
      "            cv_values.ix[i, (target_name, 'alpha*', sclr_name)] = rr_obj.alpha_\n",
      "            print('\\tRMSE: ' + str(error))\n",
      "            print('\\talpha*: ' + str(rr_obj.alpha_))\n",
      "        \n",
      "# print('Means:') \n",
      "# print(cv_values.mean(axis = 0))\n",
      "# print(np.sqrt((cv_values['P']**2).sum(axis = 0).div(k)))\n",
      "# # print(cv_values.mean(axis = 0))\n",
      "# print('STD:')\n",
      "# print(cv_values['P'].std(axis = 0))"
     ],
     "language": "python",
     "metadata": {},
     "outputs": [
      {
       "output_type": "stream",
       "stream": "stdout",
       "text": [
        "Ca:\n",
        "\n",
        "....... Fold 0 .......\n",
        "Extremes of test set: \n",
        "[ 2.21205888  3.69100039  5.91447455]\n",
        "Scaler: 75 Filter\n",
        "\tRMSE: 0.396135864376"
       ]
      },
      {
       "output_type": "stream",
       "stream": "stdout",
       "text": [
        "\n",
        "\talpha*: 22.0\n",
        "Scaler: 80 Filter\n",
        "\tRMSE: 0.432368748315"
       ]
      },
      {
       "output_type": "stream",
       "stream": "stdout",
       "text": [
        "\n",
        "\talpha*: 22.0\n",
        "Scaler: 85 Filter\n",
        "\tRMSE: 0.432838206285"
       ]
      },
      {
       "output_type": "stream",
       "stream": "stdout",
       "text": [
        "\n",
        "\talpha*: 22.0\n",
        "Scaler: 90 Filter\n",
        "\tRMSE: 0.441452707557"
       ]
      },
      {
       "output_type": "stream",
       "stream": "stdout",
       "text": [
        "\n",
        "\talpha*: 22.0\n",
        "Scaler: 95 Filter\n",
        "\tRMSE: 0.468980018867"
       ]
      },
      {
       "output_type": "stream",
       "stream": "stdout",
       "text": [
        "\n",
        "\talpha*: 22.0\n",
        "Scaler: No Filter\n",
        "\tRMSE: 0.473218903086"
       ]
      },
      {
       "output_type": "stream",
       "stream": "stdout",
       "text": [
        "\n",
        "\talpha*: 22.0\n",
        "\n",
        "....... Fold 1 .......\n",
        "Extremes of test set: \n",
        "[ 2.90626181  5.45456511  9.04706532]\n",
        "Scaler: 75 Filter\n",
        "\tRMSE: 0.38828750625"
       ]
      },
      {
       "output_type": "stream",
       "stream": "stdout",
       "text": [
        "\n",
        "\talpha*: 22.0\n",
        "Scaler: 80 Filter\n",
        "\tRMSE: 0.386543513931"
       ]
      },
      {
       "output_type": "stream",
       "stream": "stdout",
       "text": [
        "\n",
        "\talpha*: 22.0\n",
        "Scaler: 85 Filter\n",
        "\tRMSE: 0.385403927166"
       ]
      },
      {
       "output_type": "stream",
       "stream": "stdout",
       "text": [
        "\n",
        "\talpha*: 22.0\n",
        "Scaler: 90 Filter\n",
        "\tRMSE: 0.384248229998"
       ]
      },
      {
       "output_type": "stream",
       "stream": "stdout",
       "text": [
        "\n",
        "\talpha*: 22.0\n",
        "Scaler: 95 Filter\n",
        "\tRMSE: 0.383755035118"
       ]
      },
      {
       "output_type": "stream",
       "stream": "stdout",
       "text": [
        "\n",
        "\talpha*: 22.0\n",
        "Scaler: No Filter\n",
        "\tRMSE: 0.380829955443"
       ]
      },
      {
       "output_type": "stream",
       "stream": "stdout",
       "text": [
        "\n",
        "\talpha*: 22.0\n",
        "\n",
        "....... Fold 2 .......\n",
        "Extremes of test set: \n",
        "[ 1.44236137  1.78685957  4.35917072]\n",
        "Scaler: 75 Filter\n",
        "\tRMSE: 0.332108565531"
       ]
      },
      {
       "output_type": "stream",
       "stream": "stdout",
       "text": [
        "\n",
        "\talpha*: 22.5\n",
        "Scaler: 80 Filter\n",
        "\tRMSE: 0.325798465474"
       ]
      },
      {
       "output_type": "stream",
       "stream": "stdout",
       "text": [
        "\n",
        "\talpha*: 22.5\n",
        "Scaler: 85 Filter\n",
        "\tRMSE: 0.322038946922"
       ]
      },
      {
       "output_type": "stream",
       "stream": "stdout",
       "text": [
        "\n",
        "\talpha*: 22.0\n",
        "Scaler: 90 Filter\n",
        "\tRMSE: 0.30754771066"
       ]
      },
      {
       "output_type": "stream",
       "stream": "stdout",
       "text": [
        "\n",
        "\talpha*: 22.0\n",
        "Scaler: 95 Filter\n",
        "\tRMSE: 0.323869290628"
       ]
      },
      {
       "output_type": "stream",
       "stream": "stdout",
       "text": [
        "\n",
        "\talpha*: 22.5\n",
        "Scaler: No Filter\n",
        "\tRMSE: 0.32245940131"
       ]
      },
      {
       "output_type": "stream",
       "stream": "stdout",
       "text": [
        "\n",
        "\talpha*: 22.5\n",
        "\n",
        "....... Fold 3 .......\n",
        "Extremes of test set: \n",
        "[ 6.60867749  7.18717994  9.43176945]\n",
        "Scaler: 75 Filter\n",
        "\tRMSE: 0.495802852886"
       ]
      },
      {
       "output_type": "stream",
       "stream": "stdout",
       "text": [
        "\n",
        "\talpha*: 22.2857142857\n",
        "Scaler: 80 Filter\n",
        "\tRMSE: 0.491274852455"
       ]
      },
      {
       "output_type": "stream",
       "stream": "stdout",
       "text": [
        "\n",
        "\talpha*: 22.5\n",
        "Scaler: 85 Filter\n",
        "\tRMSE: 0.491078490342"
       ]
      },
      {
       "output_type": "stream",
       "stream": "stdout",
       "text": [
        "\n",
        "\talpha*: 22.5\n",
        "Scaler: 90 Filter\n",
        "\tRMSE: 0.490859845723"
       ]
      },
      {
       "output_type": "stream",
       "stream": "stdout",
       "text": [
        "\n",
        "\talpha*: 22.5\n",
        "Scaler: 95 Filter\n",
        "\tRMSE: 0.492978857137"
       ]
      },
      {
       "output_type": "stream",
       "stream": "stdout",
       "text": [
        "\n",
        "\talpha*: 22.5\n",
        "Scaler: No Filter\n",
        "\tRMSE: 0.492094906785"
       ]
      },
      {
       "output_type": "stream",
       "stream": "stdout",
       "text": [
        "\n",
        "\talpha*: 22.5\n",
        "\n",
        "....... Fold 4 .......\n",
        "Extremes of test set: \n",
        "[ 4.78060975  4.81821241  4.98395336]\n",
        "Scaler: 75 Filter\n",
        "\tRMSE: 0.265640498185"
       ]
      },
      {
       "output_type": "stream",
       "stream": "stdout",
       "text": [
        "\n",
        "\talpha*: 22.5\n",
        "Scaler: 80 Filter\n",
        "\tRMSE: 0.263155847605"
       ]
      },
      {
       "output_type": "stream",
       "stream": "stdout",
       "text": [
        "\n",
        "\talpha*: 22.5\n",
        "Scaler: 85 Filter\n",
        "\tRMSE: 0.26355173177"
       ]
      },
      {
       "output_type": "stream",
       "stream": "stdout",
       "text": [
        "\n",
        "\talpha*: 22.5\n",
        "Scaler: 90 Filter\n",
        "\tRMSE: 0.267896711026"
       ]
      },
      {
       "output_type": "stream",
       "stream": "stdout",
       "text": [
        "\n",
        "\talpha*: 22.5\n",
        "Scaler: 95 Filter\n",
        "\tRMSE: 0.271799158319"
       ]
      },
      {
       "output_type": "stream",
       "stream": "stdout",
       "text": [
        "\n",
        "\talpha*: 22.5\n",
        "Scaler: No Filter\n",
        "\tRMSE: 0.282719174069"
       ]
      },
      {
       "output_type": "stream",
       "stream": "stdout",
       "text": [
        "\n",
        "\talpha*: 22.5\n",
        "\n",
        "....... Fold 5 .......\n",
        "Extremes of test set: \n",
        "[ 3.23022319  4.64552943  9.64581535]\n",
        "Scaler: 75 Filter\n",
        "\tRMSE: 0.333329394713"
       ]
      },
      {
       "output_type": "stream",
       "stream": "stdout",
       "text": [
        "\n",
        "\talpha*: 22.5\n",
        "Scaler: 80 Filter\n",
        "\tRMSE: 0.327873364768"
       ]
      },
      {
       "output_type": "stream",
       "stream": "stdout",
       "text": [
        "\n",
        "\talpha*: 22.5\n",
        "Scaler: 85 Filter\n",
        "\tRMSE: 0.320194388378"
       ]
      },
      {
       "output_type": "stream",
       "stream": "stdout",
       "text": [
        "\n",
        "\talpha*: 22.5\n",
        "Scaler: 90 Filter\n",
        "\tRMSE: 0.307533393774"
       ]
      },
      {
       "output_type": "stream",
       "stream": "stdout",
       "text": [
        "\n",
        "\talpha*: 22.5\n",
        "Scaler: 95 Filter\n",
        "\tRMSE: 0.297554405262"
       ]
      },
      {
       "output_type": "stream",
       "stream": "stdout",
       "text": [
        "\n",
        "\talpha*: 22.5\n",
        "Scaler: No Filter\n",
        "\tRMSE: 0.318930491614"
       ]
      },
      {
       "output_type": "stream",
       "stream": "stdout",
       "text": [
        "\n",
        "\talpha*: 22.5\n",
        "\n",
        "....... Fold 6 .......\n",
        "Extremes of test set: \n",
        "[ 2.64593571  5.64344616  8.05493362]\n",
        "Scaler: 75 Filter\n",
        "\tRMSE: 0.302371751522"
       ]
      },
      {
       "output_type": "stream",
       "stream": "stdout",
       "text": [
        "\n",
        "\talpha*: 22.5\n",
        "Scaler: 80 Filter\n",
        "\tRMSE: 0.293559227977"
       ]
      },
      {
       "output_type": "stream",
       "stream": "stdout",
       "text": [
        "\n",
        "\talpha*: 22.5\n",
        "Scaler: 85 Filter\n",
        "\tRMSE: 0.291490402617"
       ]
      },
      {
       "output_type": "stream",
       "stream": "stdout",
       "text": [
        "\n",
        "\talpha*: 22.5\n",
        "Scaler: 90 Filter\n",
        "\tRMSE: 0.287127025863"
       ]
      },
      {
       "output_type": "stream",
       "stream": "stdout",
       "text": [
        "\n",
        "\talpha*: 22.5\n",
        "Scaler: 95 Filter\n",
        "\tRMSE: 0.285620024409"
       ]
      },
      {
       "output_type": "stream",
       "stream": "stdout",
       "text": [
        "\n",
        "\talpha*: 22.5\n",
        "Scaler: No Filter\n",
        "\tRMSE: 0.283372725912"
       ]
      },
      {
       "output_type": "stream",
       "stream": "stdout",
       "text": [
        "\n",
        "\talpha*: 22.5\n",
        "\n",
        "....... Fold 7 .......\n",
        "Extremes of test set: \n",
        "[ 3.03440011  3.6707528   8.13013894]\n",
        "Scaler: 75 Filter\n",
        "\tRMSE: 0.365933504224"
       ]
      },
      {
       "output_type": "stream",
       "stream": "stdout",
       "text": [
        "\n",
        "\talpha*: 22.5\n",
        "Scaler: 80 Filter\n",
        "\tRMSE: 0.35882508636"
       ]
      },
      {
       "output_type": "stream",
       "stream": "stdout",
       "text": [
        "\n",
        "\talpha*: 22.5\n",
        "Scaler: 85 Filter\n",
        "\tRMSE: 0.356878981327"
       ]
      },
      {
       "output_type": "stream",
       "stream": "stdout",
       "text": [
        "\n",
        "\talpha*: 22.5\n",
        "Scaler: 90 Filter\n",
        "\tRMSE: 0.354634633323"
       ]
      },
      {
       "output_type": "stream",
       "stream": "stdout",
       "text": [
        "\n",
        "\talpha*: 22.5\n",
        "Scaler: 95 Filter\n",
        "\tRMSE: 0.35073406815"
       ]
      },
      {
       "output_type": "stream",
       "stream": "stdout",
       "text": [
        "\n",
        "\talpha*: 22.5\n",
        "Scaler: No Filter\n",
        "\tRMSE: 0.34917338667"
       ]
      },
      {
       "output_type": "stream",
       "stream": "stdout",
       "text": [
        "\n",
        "\talpha*: 22.5\n",
        "\n",
        "....... Fold 8 .......\n",
        "Extremes of test set: \n",
        "[ 4.33024559  5.35332718  5.41117742]\n",
        "Scaler: 75 Filter\n",
        "\tRMSE: 0.321534122065"
       ]
      },
      {
       "output_type": "stream",
       "stream": "stdout",
       "text": [
        "\n",
        "\talpha*: 22.5\n",
        "Scaler: 80 Filter\n",
        "\tRMSE: 0.31997773067"
       ]
      },
      {
       "output_type": "stream",
       "stream": "stdout",
       "text": [
        "\n",
        "\talpha*: 22.5\n",
        "Scaler: 85 Filter\n",
        "\tRMSE: 0.316291090952"
       ]
      },
      {
       "output_type": "stream",
       "stream": "stdout",
       "text": [
        "\n",
        "\talpha*: 22.5\n",
        "Scaler: 90 Filter\n",
        "\tRMSE: 0.311311292201"
       ]
      },
      {
       "output_type": "stream",
       "stream": "stdout",
       "text": [
        "\n",
        "\talpha*: 22.5\n",
        "Scaler: 95 Filter\n",
        "\tRMSE: 0.312406830501"
       ]
      },
      {
       "output_type": "stream",
       "stream": "stdout",
       "text": [
        "\n",
        "\talpha*: 22.5\n",
        "Scaler: No Filter\n",
        "\tRMSE: 0.325824496161"
       ]
      },
      {
       "output_type": "stream",
       "stream": "stdout",
       "text": [
        "\n",
        "\talpha*: 22.5\n",
        "\n",
        "....... Fold 9 .......\n",
        "Extremes of test set: \n",
        "[ 2.83973403  3.7401731   4.41036818]\n",
        "Scaler: 75 Filter\n",
        "\tRMSE: 0.237243440408"
       ]
      },
      {
       "output_type": "stream",
       "stream": "stdout",
       "text": [
        "\n",
        "\talpha*: 22.5\n",
        "Scaler: 80 Filter\n",
        "\tRMSE: 0.232897681004"
       ]
      },
      {
       "output_type": "stream",
       "stream": "stdout",
       "text": [
        "\n",
        "\talpha*: 22.5\n",
        "Scaler: 85 Filter\n",
        "\tRMSE: 0.229902074961"
       ]
      },
      {
       "output_type": "stream",
       "stream": "stdout",
       "text": [
        "\n",
        "\talpha*: 22.5\n",
        "Scaler: 90 Filter\n",
        "\tRMSE: 0.221496264255"
       ]
      },
      {
       "output_type": "stream",
       "stream": "stdout",
       "text": [
        "\n",
        "\talpha*: 22.5\n",
        "Scaler: 95 Filter\n",
        "\tRMSE: 0.218442598599"
       ]
      },
      {
       "output_type": "stream",
       "stream": "stdout",
       "text": [
        "\n",
        "\talpha*: 22.5\n",
        "Scaler: No Filter\n",
        "\tRMSE: 0.217408261572"
       ]
      },
      {
       "output_type": "stream",
       "stream": "stdout",
       "text": [
        "\n",
        "\talpha*: 22.5\n"
       ]
      }
     ],
     "prompt_number": 136
    },
    {
     "cell_type": "code",
     "collapsed": false,
     "input": [
      "data_sources = ['wave', 'spatial']\n",
      "\n",
      "\n",
      "# Split index into test and validation\n",
      "(train_idx, val_idx) = cv.train_test_split(train_df.index, train_size=.975)\n",
      "\n",
      "n_alphas = 100\n",
      "alphas = np.linspace(0,2,n_alphas)\n",
      "rr_obj = lm.RidgeCV(alphas=alphas, cv = 5, scoring = metrics.make_scorer(tune.rmse, greater_is_better=False), \\\n",
      "                    fit_intercept = False)\n",
      "\n",
      "\n",
      "sclr = pipe.Pipeline([('Corr Filter' , fs.SelectPercentile(score_func=fs.f_regression, percentile=95)),\\\n",
      "                      ('Standardization', pp.StandardScaler())])\n",
      "\n",
      "X = pd.concat([wave, spatial], axis = 1)\n",
      "# X_train = sclr.fit_transform(X.loc[train_idx,:], ) \n",
      "# X_val = sclr.transform(X.loc[val_idx,:])\n",
      "\n",
      "# (fig, ax) plt.figig(subplots(nrows = np.ceil(targets.shape[1]/3), ncols = 3)\n",
      "fig = plt.figure()\n",
      "results = pd.Series(index = targets.columns)\n",
      "start_time = timeit.default_timer()\n",
      "for (target_name, y) in targets[['Sand']].iteritems():\n",
      "    \n",
      "    X_train = sclr.fit_transform(X.loc[train_idx,:], y[train_idx]) \n",
      "    X_val = sclr.transform(X.loc[val_idx,:])\n",
      "\n",
      "    rr_obj.fit(X = X_train, y=y[train_idx])\n",
      "    y_preds = rr_obj.predict(X_val)\n",
      "    mse = metrics.mean_squared_error(y_pred = y_preds, y_true=y[val_idx])\n",
      "    results[target_name] = np.sqrt(mse)\n",
      "    print(target_name + '\\'s optimal alpha: ' + str(rr_obj.alpha_))\n",
      "    print('RMSE: ' + str(np.sqrt(mse)))\n",
      "    plt.plot(rr_obj.coef_ / np.linalg.norm(rr_obj.coef_), alpha = .25)\n",
      "    \n",
      "elapsed = timeit.default_timer() - start_time\n",
      "print('\\nTime elapsed in main loop: ' + str(elapsed))\n",
      "    \n",
      "# model_name = 'rr-both-'\n",
      "# path = './Data/Preds/'+model_name+'-filter-fscale-results-'+time.strftime(\"%m-%d\")+'.csv'\n",
      "# results.to_csv(path = path)"
     ],
     "language": "python",
     "metadata": {},
     "outputs": [
      {
       "output_type": "stream",
       "stream": "stdout",
       "text": [
        "Sand's optimal alpha: 0.242424242424\n",
        "RMSE: 0.274759652754\n",
        "\n",
        "Time elapsed in main loop: 64.3360841274\n"
       ]
      },
      {
       "metadata": {},
       "output_type": "display_data",
       "png": "[encoded data removed]",
       "text": [
        "<matplotlib.figure.Figure at 0x103856290>"
       ]
      }
     ],
     "prompt_number": 29
    },
    {
     "cell_type": "code",
     "collapsed": false,
     "input": [
      "##\n",
      "## Use all data to build model and predict test set\n",
      "#\n",
      "\n",
      "sclr = pp.StandardScaler()\n",
      "wave_train = sclr.fit_transform(wave)\n",
      "wave_scld_test = sclr.transform(wave_test)\n",
      "\n",
      "preds = pd.DataFrame(index=test_df.index, columns=targets.columns)\n",
      "start_time = timeit.default_timer()\n",
      "for (target_name, y) in targets.iteritems():\n",
      "\n",
      "    rr_obj.fit(X = wave_train, y = y)\n",
      "    preds[target_name] = rr_obj.predict(wave_scld_test)\n",
      "    print(target_name + '\\'s optimal alpha: ' + str(rr_obj.alpha_))\n",
      "\n",
      "elapsed = timeit.default_timer() - start_time\n",
      "print('\\nTime elapsed in main loop: ' + str(elapsed))\n",
      "model_name = 'rr'\n",
      "path = './Data/Preds/'+model_name+'-fscale-preds-'+time.strftime(\"%m-%d\")+'.csv'\n",
      "preds.to_csv(path_or_buf=path)"
     ],
     "language": "python",
     "metadata": {},
     "outputs": [
      {
       "output_type": "stream",
       "stream": "stdout",
       "text": [
        "Ca's optimal alpha: 1.0\n",
        "P's optimal alpha: 0.0565653540924"
       ]
      },
      {
       "output_type": "stream",
       "stream": "stdout",
       "text": [
        "\n",
        "pH's optimal alpha: 0.065911894204"
       ]
      },
      {
       "output_type": "stream",
       "stream": "stdout",
       "text": [
        "\n",
        "SOC's optimal alpha: 0.55660757163"
       ]
      },
      {
       "output_type": "stream",
       "stream": "stdout",
       "text": [
        "\n",
        "Sand's optimal alpha: 0.272324689672"
       ]
      },
      {
       "output_type": "stream",
       "stream": "stdout",
       "text": [
        "\n",
        "\n",
        "Time elapsed in main loop: 205.539724112\n"
       ]
      }
     ],
     "prompt_number": 36
    }
   ],
   "metadata": {}
  }
 ]
}