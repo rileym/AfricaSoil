{
 "metadata": {
  "name": "",
  "signature": "sha256:bcc35a280178ffc046032af84f0b738acd1354fc7e932c99a659151f5e8dc0d5"
 },
 "nbformat": 3,
 "nbformat_minor": 0,
 "worksheets": [
  {
   "cells": [
    {
     "cell_type": "heading",
     "level": 2,
     "metadata": {},
     "source": [
      "Estimate Generalization Error of kNN"
     ]
    },
    {
     "cell_type": "code",
     "collapsed": false,
     "input": [
      "import pandas as pd\n",
      "import numpy as np\n",
      "import sklearn.neighbors as kNN\n",
      "import sklearn.grid_search as grid_search\n",
      "import sklearn.preprocessing as pp\n",
      "import sklearn.decomposition as decomp\n",
      "import sklearn.feature_selection as fs\n",
      "import sklearn.pipeline as pipe\n",
      "import soilCleanTools as clean\n",
      "import soilTuningTools as tune\n",
      "import correlationGrouper as cg"
     ],
     "language": "python",
     "metadata": {},
     "outputs": [],
     "prompt_number": 1
    },
    {
     "cell_type": "heading",
     "level": 4,
     "metadata": {},
     "source": [
      "Read in data"
     ]
    },
    {
     "cell_type": "code",
     "collapsed": false,
     "input": [
      "# Read in data\n",
      "train_df = pd.read_csv('./Data/training.csv', index_col='PIDN')\n",
      "test_df = pd.read_csv('./Data/sorted_test.csv', index_col='PIDN')\n",
      "\n",
      "# Clean and split for readability\n",
      "train_data_dict = clean.clean_data(train_df)\n",
      "test_data_dict = clean.clean_data(test_df)\n",
      "wave, spatial, targets = train_data_dict['wave'], train_data_dict['spatial'], train_data_dict['targets']\n",
      "wave_test, spatial_test = test_data_dict['wave'], test_data_dict['spatial']"
     ],
     "language": "python",
     "metadata": {},
     "outputs": [],
     "prompt_number": 2
    },
    {
     "cell_type": "code",
     "collapsed": false,
     "input": [
      "np.sqrt(((targets.Ca - targets.Ca.mean())**2).mean())"
     ],
     "language": "python",
     "metadata": {},
     "outputs": [
      {
       "metadata": {},
       "output_type": "pyout",
       "prompt_number": 5,
       "text": [
        "1.0700784077609398"
       ]
      }
     ],
     "prompt_number": 5
    },
    {
     "cell_type": "heading",
     "level": 4,
     "metadata": {},
     "source": [
      "Specify model and parameter search-space"
     ]
    },
    {
     "cell_type": "code",
     "collapsed": false,
     "input": [
      "model_name = 'kNN'\n",
      "\n",
      "params = {'n_neighbors':[3,7,12,15],\n",
      "          'weights':['distance']}\n",
      "\n",
      "# steps = [('Feature Standardization',pp.StandardScaler()),\n",
      "#          ('Correlation Filter', fs.SelectPercentile( score_func = fs.f_regression, percentile = 92)),\n",
      "#          ('PCA', decomp.PCA(n_components = 5))]\n",
      "# superPC = pipe.Pipeline(steps = steps)\n",
      "\n",
      "# Feature StandardScale  ->  [ SelectPercentage or SelectKBest (k)  ->  [ PCA  (n.c) ] ]\n",
      "\n",
      "steps = [('Correlation Filter', fs.SelectPercentile( score_func = fs.f_regression, percentile = 92)),\n",
      "         ('Correlation Grouper .95', cg.CorrelationGrouper())]\n",
      "cgFilter = pipe.Pipeline(steps = steps)\n",
      "\n",
      "scaler_dict = { 'Correlation Grouper .95' : cg.CorrelationGrouper(),\n",
      "                'Correlation Grouper .9' : cg.CorrelationGrouper(alpha = .9)}\n",
      "\n",
      "gs_obj = grid_search.GridSearchCV(estimator = kNN.KNeighborsRegressor(), param_grid = params,\\\n",
      "                                  scoring = 'mean_squared_error', cv = 3, refit = True)\n"
     ],
     "language": "python",
     "metadata": {},
     "outputs": [],
     "prompt_number": 9
    },
    {
     "cell_type": "heading",
     "level": 4,
     "metadata": {},
     "source": [
      "Tune and evaluate"
     ]
    },
    {
     "cell_type": "code",
     "collapsed": false,
     "input": [
      "tune.soilTune(gs_obj = gs_obj, X = wave, Y = targets[['P']], scaler_dict = scaler_dict,\\\n",
      "              model_name = model_name, output_base_path='./Data/Preds/')"
     ],
     "language": "python",
     "metadata": {},
     "outputs": [
      {
       "output_type": "stream",
       "stream": "stdout",
       "text": [
        "Beginning Evaluation...\n",
        "\n",
        "Scale type: Correlation Grouper .9:\n",
        "\n",
        "P:"
       ]
      },
      {
       "output_type": "stream",
       "stream": "stdout",
       "text": [
        "\n",
        "N_Neighbors: 7\n",
        "Weights: distance\n",
        "RMSE: 1.12607368192\n",
        "\n",
        "Scale type: Correlation Grouper .95:\n",
        "\n",
        "P:"
       ]
      },
      {
       "output_type": "stream",
       "stream": "stdout",
       "text": [
        "\n",
        "N_Neighbors: 7\n",
        "Weights: distance\n",
        "RMSE: 1.11822979863\n",
        "Time elapsed in main loop: 53.3936479092\n",
        "On 8 parameter/scaling permutations.\n"
       ]
      }
     ],
     "prompt_number": 11
    }
   ],
   "metadata": {}
  }
 ]
}