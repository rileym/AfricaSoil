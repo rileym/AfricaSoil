{
 "metadata": {
  "name": "",
  "signature": "sha256:b4c8402ce683d01a851eec8befd8666c6719b27151fa528eca7203e9350ecfb1"
 },
 "nbformat": 3,
 "nbformat_minor": 0,
 "worksheets": [
  {
   "cells": [
    {
     "cell_type": "heading",
     "level": 2,
     "metadata": {},
     "source": [
      "Predict the test set with SVR"
     ]
    },
    {
     "cell_type": "code",
     "collapsed": false,
     "input": [
      "import pandas as pd\n",
      "import numpy as np\n",
      "import sklearn.svm as svm\n",
      "import sklearn.grid_search as grid_search\n",
      "import sklearn.preprocessing as pp\n",
      "import sklearn.decomposition as decomp\n",
      "import sklearn.feature_selection as fs\n",
      "import sklearn.pipeline as pipe\n",
      "import sklearn.metrics as metrics\n",
      "import soilCleanTools as clean\n",
      "import soilTuningTools as tune\n",
      "import functools as functools"
     ],
     "language": "python",
     "metadata": {},
     "outputs": [],
     "prompt_number": 3
    },
    {
     "cell_type": "heading",
     "level": 4,
     "metadata": {},
     "source": [
      "Read in data"
     ]
    },
    {
     "cell_type": "code",
     "collapsed": false,
     "input": [
      "# Read in data\n",
      "train_df = pd.read_csv('./Data/training.csv', index_col='PIDN')\n",
      "test_df = pd.read_csv('./Data/sorted_test.csv', index_col='PIDN')\n",
      "\n",
      "# Clean and split for readability\n",
      "train_data_dict = clean.clean_data(train_df)\n",
      "test_data_dict = clean.clean_data(test_df)\n",
      "wave, spatial, targets = train_data_dict['wave'], train_data_dict['spatial'], train_data_dict['targets']\n",
      "wave_test, spatial_test = test_data_dict['wave'], test_data_dict['spatial']"
     ],
     "language": "python",
     "metadata": {},
     "outputs": [],
     "prompt_number": 4
    },
    {
     "cell_type": "heading",
     "level": 4,
     "metadata": {},
     "source": [
      "Specify model and parameter search-space"
     ]
    },
    {
     "cell_type": "code",
     "collapsed": false,
     "input": [
      "model_name = 'SVR-linear-both'\n",
      "n_Cs = 4\n",
      "Cs = np.logspace(-1, 10, num=n_Cs) # Margin violation penalty\n",
      "# n_gammas = 5\n",
      "# gammas = np.linspace(.0005, .005, num=n_gammas) # \n",
      "\n",
      "n_epsilons = 4\n",
      "epsilons = np.logspace(-4,0, num=n_epsilons) # Width of insensitive zone\n",
      "degrees = [3]\n",
      "coef0s = [10]\n",
      "\n",
      "\n",
      "params = [#{'kernel':['poly'], 'C':Cs, 'cache_size':[1000], \\\n",
      "#            'degree':degrees, 'coef0':coef0s, 'epsilon':epsilons}]\n",
      "#             {'kernel':['rbf'], 'C':Cs, 'cache_size':[1000], \n",
      "#              'epsilon':epsilons, 'gamma':gammas},\n",
      "            {'kernel':['linear'], 'C':Cs, 'cache_size':[1000], \n",
      "              'epsilon':epsilons, 'shrinking':[True]}]\n",
      "\n",
      "gs_obj = grid_search.GridSearchCV(estimator = svm.SVR(), param_grid = params,\\\n",
      "                                  scoring = metrics.make_scorer(tune.rmse, greater_is_better=False),\\\n",
      "                                  cv = 3, refit = False, verbose = 2)\n",
      "\n",
      "\n",
      "scaler_dict = {'Filter 95 -> Standardize' : pipe.Pipeline(steps = [('Light Filter' , fs.SelectPercentile(score_func=fs.f_regression, percentile = 95)),\\\n",
      "                                                                 ('Feature Standardization', pp.StandardScaler())]),\\\n",
      "                                        'Feature Standardization' : pp.StandardScaler()}"
     ],
     "language": "python",
     "metadata": {},
     "outputs": [],
     "prompt_number": 5
    },
    {
     "cell_type": "code",
     "collapsed": false,
     "input": [
      "model_name = 'SVR-poly-both'\n",
      "\n",
      "\n",
      "# offset = np.abs(min(targets.SOC)) + np.exp(-1)\n",
      "# y_trans_func = lambda y : np.log(offset + y)\n",
      "# y_inv_trans = lambda z : np.exp(z) - offset\n",
      "\n",
      "y_trans_func = y_inv_trans = lambda y : y\n",
      "\n",
      "loss_func = functools.partial(tune.trans_then_rmse, trans_func = y_inv_trans)\n",
      "\n",
      "n_Cs = 5\n",
      "Cs = [.5,.75,1,1.25,1.5]#np.logspace(1, 5, num=n_Cs) # Margin violation penalty\n",
      "n_gammas = 5\n",
      "gammas = [.00002]#np.logspace(-6, -3, num=n_gammas) # \n",
      "n_epsilons = 1\n",
      "epsilons = [.005,.01, .025]#[.01, .05, .1] #np.logspace(-4, 1, num=n_epsilons) # Width of insensitive zone\n",
      "degrees = [3]\n",
      "coef0s = [10]\n",
      "# 'epsilon':epsilons,\n",
      "params = [{'kernel':['poly'], 'C':Cs, 'cache_size':[1000], \\\n",
      "              'degree':degrees, 'coef0':coef0s, 'epsilon':epsilons}]\n",
      "#            {'kernel':['rbf'], 'C':Cs, 'cache_size':[1000], 'epsilon':epsilons,'gamma':gammas}]\n",
      "#              'gamma':gammas, 'epsilon':epsilons, 'coef0':[0.,1.]}]\n",
      "\n",
      "gs_obj = grid_search.GridSearchCV(estimator = svm.SVR(), param_grid = params,\\\n",
      "                                  scoring = metrics.make_scorer(loss_func, greater_is_better=False),\\\n",
      "                                    cv = 5, refit = False, verbose = 2)\n",
      "\n",
      "\n",
      "scaler_dict = {'Filter 90 -> Standardize' : pipe.Pipeline(steps = [('Light Filter' , fs.SelectPercentile(score_func=fs.f_regression, percentile = 90)),\\\n",
      "                                         ('Feature Standardization', pp.StandardScaler())]),\n",
      "#                 'Filter 97 -> Standardize' : pipe.Pipeline(steps = [('Light Filter' , fs.SelectPercentile(score_func=fs.f_regression, percentile = 97)),\\\n",
      "#                                                                  ('Feature Standardization', pp.StandardScaler())]),\n",
      "                                       'Feature Standardization' : pp.StandardScaler()\n",
      "               }\n",
      "\n",
      "\n"
     ],
     "language": "python",
     "metadata": {},
     "outputs": [],
     "prompt_number": 67
    },
    {
     "cell_type": "heading",
     "level": 4,
     "metadata": {},
     "source": [
      "Tune and predict"
     ]
    },
    {
     "cell_type": "code",
     "collapsed": false,
     "input": [
      "X = pd.concat([wave, spatial], axis = 1)\n",
      "tune.soilTune(gs_obj = gs_obj, X = X, Y = targets[['SOC']], X_test = None, p=1,\\\n",
      "              y_trans_func = y_trans_func, y_inv_trans = y_inv_trans,\\\n",
      "              tasks = ['evaluate'], scaler_dict = scaler_dict, \\\n",
      "              model_name = model_name, output_base_path='./Data/Preds/')"
     ],
     "language": "python",
     "metadata": {},
     "outputs": [
      {
       "output_type": "stream",
       "stream": "stdout",
       "text": [
        "Beginning Evaluation...\n",
        "\n",
        "Scale type: Feature Standardization:\n",
        "Fitting 5 folds for each of 15 candidates, totalling 75 fits"
       ]
      },
      {
       "output_type": "stream",
       "stream": "stdout",
       "text": [
        "\n",
        "[CV] kernel=poly, C=0.5, degree=3, epsilon=0.005, cache_size=1000, coef0=10 \n",
        "[CV]  kernel=poly, C=0.5, degree=3, epsilon=0.005, cache_size=1000, coef0=10 -   7.1s"
       ]
      },
      {
       "output_type": "stream",
       "stream": "stdout",
       "text": [
        "\n",
        "[CV] kernel=poly, C=0.5, degree=3, epsilon=0.005, cache_size=1000, coef0=10 \n",
        "[CV]  kernel=poly, C=0.5, degree=3, epsilon=0.005, cache_size=1000, coef0=10 -   6.9s"
       ]
      },
      {
       "output_type": "stream",
       "stream": "stdout",
       "text": [
        "\n",
        "[CV] kernel=poly, C=0.5, degree=3, epsilon=0.005, cache_size=1000, coef0=10 \n",
        "[CV]  kernel=poly, C=0.5, degree=3, epsilon=0.005, cache_size=1000, coef0=10 -   8.4s"
       ]
      },
      {
       "output_type": "stream",
       "stream": "stdout",
       "text": [
        "\n",
        "[CV] kernel=poly, C=0.5, degree=3, epsilon=0.005, cache_size=1000, coef0=10 \n",
        "[CV]  kernel=poly, C=0.5, degree=3, epsilon=0.005, cache_size=1000, coef0=10 -   8.1s"
       ]
      },
      {
       "output_type": "stream",
       "stream": "stdout",
       "text": [
        "\n",
        "[CV] kernel=poly, C=0.5, degree=3, epsilon=0.005, cache_size=1000, coef0=10 \n",
        "[CV]  kernel=poly, C=0.5, degree=3, epsilon=0.005, cache_size=1000, coef0=10 -   7.3s"
       ]
      },
      {
       "output_type": "stream",
       "stream": "stdout",
       "text": [
        "\n",
        "[CV] kernel=poly, C=0.5, degree=3, epsilon=0.01, cache_size=1000, coef0=10 \n",
        "[CV]  kernel=poly, C=0.5, degree=3, epsilon=0.01, cache_size=1000, coef0=10 -   6.4s"
       ]
      },
      {
       "output_type": "stream",
       "stream": "stdout",
       "text": [
        "\n",
        "[CV] kernel=poly, C=0.5, degree=3, epsilon=0.01, cache_size=1000, coef0=10 \n",
        "[CV]  kernel=poly, C=0.5, degree=3, epsilon=0.01, cache_size=1000, coef0=10 -   6.4s"
       ]
      },
      {
       "output_type": "stream",
       "stream": "stdout",
       "text": [
        "\n",
        "[CV] kernel=poly, C=0.5, degree=3, epsilon=0.01, cache_size=1000, coef0=10 \n",
        "[CV]  kernel=poly, C=0.5, degree=3, epsilon=0.01, cache_size=1000, coef0=10 -   7.1s"
       ]
      },
      {
       "output_type": "stream",
       "stream": "stdout",
       "text": [
        "\n",
        "[CV] kernel=poly, C=0.5, degree=3, epsilon=0.01, cache_size=1000, coef0=10 \n",
        "[CV]  kernel=poly, C=0.5, degree=3, epsilon=0.01, cache_size=1000, coef0=10 -   6.6s"
       ]
      },
      {
       "output_type": "stream",
       "stream": "stdout",
       "text": [
        "\n",
        "[CV] kernel=poly, C=0.5, degree=3, epsilon=0.01, cache_size=1000, coef0=10 \n",
        "[CV]  kernel=poly, C=0.5, degree=3, epsilon=0.01, cache_size=1000, coef0=10 -   5.9s"
       ]
      },
      {
       "output_type": "stream",
       "stream": "stdout",
       "text": [
        "\n",
        "[CV] kernel=poly, C=0.5, degree=3, epsilon=0.025, cache_size=1000, coef0=10 \n",
        "[CV]  kernel=poly, C=0.5, degree=3, epsilon=0.025, cache_size=1000, coef0=10 -   7.4s"
       ]
      },
      {
       "output_type": "stream",
       "stream": "stdout",
       "text": [
        "\n",
        "[CV] kernel=poly, C=0.5, degree=3, epsilon=0.025, cache_size=1000, coef0=10 \n",
        "[CV]  kernel=poly, C=0.5, degree=3, epsilon=0.025, cache_size=1000, coef0=10 -   7.1s"
       ]
      },
      {
       "output_type": "stream",
       "stream": "stdout",
       "text": [
        "\n",
        "[CV] kernel=poly, C=0.5, degree=3, epsilon=0.025, cache_size=1000, coef0=10 \n",
        "[CV]  kernel=poly, C=0.5, degree=3, epsilon=0.025, cache_size=1000, coef0=10 -   7.7s"
       ]
      },
      {
       "output_type": "stream",
       "stream": "stdout",
       "text": [
        "\n",
        "[CV] kernel=poly, C=0.5, degree=3, epsilon=0.025, cache_size=1000, coef0=10 \n",
        "[CV]  kernel=poly, C=0.5, degree=3, epsilon=0.025, cache_size=1000, coef0=10 -   6.9s"
       ]
      },
      {
       "output_type": "stream",
       "stream": "stdout",
       "text": [
        "\n",
        "[CV] kernel=poly, C=0.5, degree=3, epsilon=0.025, cache_size=1000, coef0=10 \n",
        "[CV]  kernel=poly, C=0.5, degree=3, epsilon=0.025, cache_size=1000, coef0=10 -   6.4s"
       ]
      },
      {
       "output_type": "stream",
       "stream": "stdout",
       "text": [
        "\n",
        "[CV] kernel=poly, C=0.75, degree=3, epsilon=0.005, cache_size=1000, coef0=10 \n",
        "[CV]  kernel=poly, C=0.75, degree=3, epsilon=0.005, cache_size=1000, coef0=10 -   9.1s"
       ]
      },
      {
       "output_type": "stream",
       "stream": "stdout",
       "text": [
        "\n",
        "[CV] kernel=poly, C=0.75, degree=3, epsilon=0.005, cache_size=1000, coef0=10 \n",
        "[CV]  kernel=poly, C=0.75, degree=3, epsilon=0.005, cache_size=1000, coef0=10 -  10.6s"
       ]
      },
      {
       "output_type": "stream",
       "stream": "stdout",
       "text": [
        "\n",
        "[CV] kernel=poly, C=0.75, degree=3, epsilon=0.005, cache_size=1000, coef0=10 \n",
        "[CV]  kernel=poly, C=0.75, degree=3, epsilon=0.005, cache_size=1000, coef0=10 -   9.4s"
       ]
      },
      {
       "output_type": "stream",
       "stream": "stdout",
       "text": [
        "\n",
        "[CV] kernel=poly, C=0.75, degree=3, epsilon=0.005, cache_size=1000, coef0=10 \n",
        "[CV]  kernel=poly, C=0.75, degree=3, epsilon=0.005, cache_size=1000, coef0=10 -   9.0s"
       ]
      },
      {
       "output_type": "stream",
       "stream": "stdout",
       "text": [
        "\n",
        "[CV] kernel=poly, C=0.75, degree=3, epsilon=0.005, cache_size=1000, coef0=10 \n",
        "[CV]  kernel=poly, C=0.75, degree=3, epsilon=0.005, cache_size=1000, coef0=10 -   8.2s"
       ]
      },
      {
       "output_type": "stream",
       "stream": "stdout",
       "text": [
        "\n",
        "[CV] kernel=poly, C=0.75, degree=3, epsilon=0.01, cache_size=1000, coef0=10 \n",
        "[CV]  kernel=poly, C=0.75, degree=3, epsilon=0.01, cache_size=1000, coef0=10 -  13.9s"
       ]
      },
      {
       "output_type": "stream",
       "stream": "stdout",
       "text": [
        "\n",
        "[CV] kernel=poly, C=0.75, degree=3, epsilon=0.01, cache_size=1000, coef0=10 \n",
        "[CV]  kernel=poly, C=0.75, degree=3, epsilon=0.01, cache_size=1000, coef0=10 -   9.0s"
       ]
      },
      {
       "output_type": "stream",
       "stream": "stdout",
       "text": [
        "\n",
        "[CV] kernel=poly, C=0.75, degree=3, epsilon=0.01, cache_size=1000, coef0=10 \n",
        "[CV]  kernel=poly, C=0.75, degree=3, epsilon=0.01, cache_size=1000, coef0=10 -   9.4s"
       ]
      },
      {
       "output_type": "stream",
       "stream": "stdout",
       "text": [
        "\n",
        "[CV] kernel=poly, C=0.75, degree=3, epsilon=0.01, cache_size=1000, coef0=10 \n",
        "[CV]  kernel=poly, C=0.75, degree=3, epsilon=0.01, cache_size=1000, coef0=10 -  17.8s"
       ]
      },
      {
       "output_type": "stream",
       "stream": "stdout",
       "text": [
        "\n",
        "[CV] kernel=poly, C=0.75, degree=3, epsilon=0.01, cache_size=1000, coef0=10 "
       ]
      },
      {
       "output_type": "stream",
       "stream": "stdout",
       "text": [
        "\n",
        "[CV]  kernel=poly, C=0.75, degree=3, epsilon=0.01, cache_size=1000, coef0=10 -  14.8s"
       ]
      },
      {
       "output_type": "stream",
       "stream": "stdout",
       "text": [
        "\n",
        "[CV] kernel=poly, C=0.75, degree=3, epsilon=0.025, cache_size=1000, coef0=10 \n",
        "[CV]  kernel=poly, C=0.75, degree=3, epsilon=0.025, cache_size=1000, coef0=10 -  13.1s"
       ]
      },
      {
       "output_type": "stream",
       "stream": "stdout",
       "text": [
        "\n",
        "[CV] kernel=poly, C=0.75, degree=3, epsilon=0.025, cache_size=1000, coef0=10 \n",
        "[CV]  kernel=poly, C=0.75, degree=3, epsilon=0.025, cache_size=1000, coef0=10 -  11.8s"
       ]
      },
      {
       "output_type": "stream",
       "stream": "stdout",
       "text": [
        "\n",
        "[CV] kernel=poly, C=0.75, degree=3, epsilon=0.025, cache_size=1000, coef0=10 \n",
        "[CV]  kernel=poly, C=0.75, degree=3, epsilon=0.025, cache_size=1000, coef0=10 -  10.8s"
       ]
      },
      {
       "output_type": "stream",
       "stream": "stdout",
       "text": [
        "\n",
        "[CV] kernel=poly, C=0.75, degree=3, epsilon=0.025, cache_size=1000, coef0=10 "
       ]
      },
      {
       "output_type": "stream",
       "stream": "stdout",
       "text": [
        "\n",
        "[CV]  kernel=poly, C=0.75, degree=3, epsilon=0.025, cache_size=1000, coef0=10 -  11.4s"
       ]
      },
      {
       "output_type": "stream",
       "stream": "stdout",
       "text": [
        "\n",
        "[CV] kernel=poly, C=0.75, degree=3, epsilon=0.025, cache_size=1000, coef0=10 \n",
        "[CV]  kernel=poly, C=0.75, degree=3, epsilon=0.025, cache_size=1000, coef0=10 -  10.7s"
       ]
      },
      {
       "output_type": "stream",
       "stream": "stdout",
       "text": [
        "\n",
        "[CV] kernel=poly, C=1, degree=3, epsilon=0.005, cache_size=1000, coef0=10 \n",
        "[CV]  kernel=poly, C=1, degree=3, epsilon=0.005, cache_size=1000, coef0=10 -  19.0s"
       ]
      },
      {
       "output_type": "stream",
       "stream": "stdout",
       "text": [
        "\n",
        "[CV] kernel=poly, C=1, degree=3, epsilon=0.005, cache_size=1000, coef0=10 \n",
        "[CV]  kernel=poly, C=1, degree=3, epsilon=0.005, cache_size=1000, coef0=10 -  28.1s"
       ]
      },
      {
       "output_type": "stream",
       "stream": "stdout",
       "text": [
        "\n",
        "[CV] kernel=poly, C=1, degree=3, epsilon=0.005, cache_size=1000, coef0=10 \n",
        "[CV]  kernel=poly, C=1, degree=3, epsilon=0.005, cache_size=1000, coef0=10 -  30.0s"
       ]
      },
      {
       "output_type": "stream",
       "stream": "stdout",
       "text": [
        "\n",
        "[CV] kernel=poly, C=1, degree=3, epsilon=0.005, cache_size=1000, coef0=10 \n",
        "[CV]  kernel=poly, C=1, degree=3, epsilon=0.005, cache_size=1000, coef0=10 -  27.3s"
       ]
      },
      {
       "output_type": "stream",
       "stream": "stdout",
       "text": [
        "\n",
        "[CV] kernel=poly, C=1, degree=3, epsilon=0.005, cache_size=1000, coef0=10 \n",
        "[CV]  kernel=poly, C=1, degree=3, epsilon=0.005, cache_size=1000, coef0=10 -  40.6s"
       ]
      },
      {
       "output_type": "stream",
       "stream": "stdout",
       "text": [
        "\n",
        "[CV] kernel=poly, C=1, degree=3, epsilon=0.01, cache_size=1000, coef0=10 \n",
        "[CV]  kernel=poly, C=1, degree=3, epsilon=0.01, cache_size=1000, coef0=10 -  46.5s"
       ]
      },
      {
       "output_type": "stream",
       "stream": "stdout",
       "text": [
        "\n",
        "[CV] kernel=poly, C=1, degree=3, epsilon=0.01, cache_size=1000, coef0=10 \n",
        "[CV]  kernel=poly, C=1, degree=3, epsilon=0.01, cache_size=1000, coef0=10 -  25.2s"
       ]
      },
      {
       "output_type": "stream",
       "stream": "stdout",
       "text": [
        "\n",
        "[CV] kernel=poly, C=1, degree=3, epsilon=0.01, cache_size=1000, coef0=10 \n",
        "[CV]  kernel=poly, C=1, degree=3, epsilon=0.01, cache_size=1000, coef0=10 -  21.1s"
       ]
      },
      {
       "output_type": "stream",
       "stream": "stdout",
       "text": [
        "\n",
        "[CV] kernel=poly, C=1, degree=3, epsilon=0.01, cache_size=1000, coef0=10 \n",
        "[CV]  kernel=poly, C=1, degree=3, epsilon=0.01, cache_size=1000, coef0=10 -  13.8s"
       ]
      },
      {
       "output_type": "stream",
       "stream": "stdout",
       "text": [
        "\n",
        "[CV] kernel=poly, C=1, degree=3, epsilon=0.01, cache_size=1000, coef0=10 \n",
        "[CV]  kernel=poly, C=1, degree=3, epsilon=0.01, cache_size=1000, coef0=10 -  10.7s"
       ]
      },
      {
       "output_type": "stream",
       "stream": "stdout",
       "text": [
        "\n",
        "[CV] kernel=poly, C=1, degree=3, epsilon=0.025, cache_size=1000, coef0=10 \n",
        "[CV]  kernel=poly, C=1, degree=3, epsilon=0.025, cache_size=1000, coef0=10 -   7.4s"
       ]
      },
      {
       "output_type": "stream",
       "stream": "stderr",
       "text": [
        "[Parallel(n_jobs=1)]: Done   1 jobs       | elapsed:    7.1s\n",
        "[Parallel(n_jobs=1)]: Done  41 jobs       | elapsed:  9.1min\n"
       ]
      },
      {
       "output_type": "stream",
       "stream": "stdout",
       "text": [
        "\n",
        "[CV] kernel=poly, C=1, degree=3, epsilon=0.025, cache_size=1000, coef0=10 \n",
        "[CV]  kernel=poly, C=1, degree=3, epsilon=0.025, cache_size=1000, coef0=10 -   7.3s"
       ]
      },
      {
       "output_type": "stream",
       "stream": "stdout",
       "text": [
        "\n",
        "[CV] kernel=poly, C=1, degree=3, epsilon=0.025, cache_size=1000, coef0=10 \n",
        "[CV]  kernel=poly, C=1, degree=3, epsilon=0.025, cache_size=1000, coef0=10 -  10.1s"
       ]
      },
      {
       "output_type": "stream",
       "stream": "stdout",
       "text": [
        "\n",
        "[CV] kernel=poly, C=1, degree=3, epsilon=0.025, cache_size=1000, coef0=10 \n",
        "[CV]  kernel=poly, C=1, degree=3, epsilon=0.025, cache_size=1000, coef0=10 -   7.4s"
       ]
      },
      {
       "output_type": "stream",
       "stream": "stdout",
       "text": [
        "\n",
        "[CV] kernel=poly, C=1, degree=3, epsilon=0.025, cache_size=1000, coef0=10 \n",
        "[CV]  kernel=poly, C=1, degree=3, epsilon=0.025, cache_size=1000, coef0=10 -   6.8s"
       ]
      },
      {
       "output_type": "stream",
       "stream": "stdout",
       "text": [
        "\n",
        "[CV] kernel=poly, C=1.25, degree=3, epsilon=0.005, cache_size=1000, coef0=10 \n",
        "[CV]  kernel=poly, C=1.25, degree=3, epsilon=0.005, cache_size=1000, coef0=10 -  12.7s"
       ]
      },
      {
       "output_type": "stream",
       "stream": "stdout",
       "text": [
        "\n",
        "[CV] kernel=poly, C=1.25, degree=3, epsilon=0.005, cache_size=1000, coef0=10 \n",
        "[CV]  kernel=poly, C=1.25, degree=3, epsilon=0.005, cache_size=1000, coef0=10 -  10.8s"
       ]
      },
      {
       "output_type": "stream",
       "stream": "stdout",
       "text": [
        "\n",
        "[CV] kernel=poly, C=1.25, degree=3, epsilon=0.005, cache_size=1000, coef0=10 \n",
        "[CV]  kernel=poly, C=1.25, degree=3, epsilon=0.005, cache_size=1000, coef0=10 -  11.8s"
       ]
      },
      {
       "output_type": "stream",
       "stream": "stdout",
       "text": [
        "\n",
        "[CV] kernel=poly, C=1.25, degree=3, epsilon=0.005, cache_size=1000, coef0=10 \n",
        "[CV]  kernel=poly, C=1.25, degree=3, epsilon=0.005, cache_size=1000, coef0=10 -  12.9s"
       ]
      },
      {
       "output_type": "stream",
       "stream": "stdout",
       "text": [
        "\n",
        "[CV] kernel=poly, C=1.25, degree=3, epsilon=0.005, cache_size=1000, coef0=10 \n",
        "[CV]  kernel=poly, C=1.25, degree=3, epsilon=0.005, cache_size=1000, coef0=10 -  10.5s"
       ]
      },
      {
       "output_type": "stream",
       "stream": "stdout",
       "text": [
        "\n",
        "[CV] kernel=poly, C=1.25, degree=3, epsilon=0.01, cache_size=1000, coef0=10 \n",
        "[CV]  kernel=poly, C=1.25, degree=3, epsilon=0.01, cache_size=1000, coef0=10 -  12.2s"
       ]
      },
      {
       "output_type": "stream",
       "stream": "stdout",
       "text": [
        "\n",
        "[CV] kernel=poly, C=1.25, degree=3, epsilon=0.01, cache_size=1000, coef0=10 \n",
        "[CV]  kernel=poly, C=1.25, degree=3, epsilon=0.01, cache_size=1000, coef0=10 -  14.1s"
       ]
      },
      {
       "output_type": "stream",
       "stream": "stdout",
       "text": [
        "\n",
        "[CV] kernel=poly, C=1.25, degree=3, epsilon=0.01, cache_size=1000, coef0=10 \n",
        "[CV]  kernel=poly, C=1.25, degree=3, epsilon=0.01, cache_size=1000, coef0=10 -  12.3s"
       ]
      },
      {
       "output_type": "stream",
       "stream": "stdout",
       "text": [
        "\n",
        "[CV] kernel=poly, C=1.25, degree=3, epsilon=0.01, cache_size=1000, coef0=10 \n",
        "[CV]  kernel=poly, C=1.25, degree=3, epsilon=0.01, cache_size=1000, coef0=10 -  12.5s"
       ]
      },
      {
       "output_type": "stream",
       "stream": "stdout",
       "text": [
        "\n",
        "[CV] kernel=poly, C=1.25, degree=3, epsilon=0.01, cache_size=1000, coef0=10 \n",
        "[CV]  kernel=poly, C=1.25, degree=3, epsilon=0.01, cache_size=1000, coef0=10 -  10.4s"
       ]
      },
      {
       "output_type": "stream",
       "stream": "stdout",
       "text": [
        "\n",
        "[CV] kernel=poly, C=1.25, degree=3, epsilon=0.025, cache_size=1000, coef0=10 \n",
        "[CV]  kernel=poly, C=1.25, degree=3, epsilon=0.025, cache_size=1000, coef0=10 -   8.9s"
       ]
      },
      {
       "output_type": "stream",
       "stream": "stdout",
       "text": [
        "\n",
        "[CV] kernel=poly, C=1.25, degree=3, epsilon=0.025, cache_size=1000, coef0=10 \n",
        "[CV]  kernel=poly, C=1.25, degree=3, epsilon=0.025, cache_size=1000, coef0=10 -   7.7s"
       ]
      },
      {
       "output_type": "stream",
       "stream": "stdout",
       "text": [
        "\n",
        "[CV] kernel=poly, C=1.25, degree=3, epsilon=0.025, cache_size=1000, coef0=10 \n",
        "[CV]  kernel=poly, C=1.25, degree=3, epsilon=0.025, cache_size=1000, coef0=10 -  11.6s"
       ]
      },
      {
       "output_type": "stream",
       "stream": "stdout",
       "text": [
        "\n",
        "[CV] kernel=poly, C=1.25, degree=3, epsilon=0.025, cache_size=1000, coef0=10 \n",
        "[CV]  kernel=poly, C=1.25, degree=3, epsilon=0.025, cache_size=1000, coef0=10 -   8.6s"
       ]
      },
      {
       "output_type": "stream",
       "stream": "stdout",
       "text": [
        "\n",
        "[CV] kernel=poly, C=1.25, degree=3, epsilon=0.025, cache_size=1000, coef0=10 \n",
        "[CV]  kernel=poly, C=1.25, degree=3, epsilon=0.025, cache_size=1000, coef0=10 -   8.3s"
       ]
      },
      {
       "output_type": "stream",
       "stream": "stdout",
       "text": [
        "\n",
        "[CV] kernel=poly, C=1.5, degree=3, epsilon=0.005, cache_size=1000, coef0=10 \n",
        "[CV]  kernel=poly, C=1.5, degree=3, epsilon=0.005, cache_size=1000, coef0=10 -  12.1s"
       ]
      },
      {
       "output_type": "stream",
       "stream": "stdout",
       "text": [
        "\n",
        "[CV] kernel=poly, C=1.5, degree=3, epsilon=0.005, cache_size=1000, coef0=10 \n",
        "[CV]  kernel=poly, C=1.5, degree=3, epsilon=0.005, cache_size=1000, coef0=10 -  18.4s"
       ]
      },
      {
       "output_type": "stream",
       "stream": "stdout",
       "text": [
        "\n",
        "[CV] kernel=poly, C=1.5, degree=3, epsilon=0.005, cache_size=1000, coef0=10 \n",
        "[CV]  kernel=poly, C=1.5, degree=3, epsilon=0.005, cache_size=1000, coef0=10 -  32.8s"
       ]
      },
      {
       "output_type": "stream",
       "stream": "stdout",
       "text": [
        "\n",
        "[CV] kernel=poly, C=1.5, degree=3, epsilon=0.005, cache_size=1000, coef0=10 \n",
        "[CV]  kernel=poly, C=1.5, degree=3, epsilon=0.005, cache_size=1000, coef0=10 -  33.1s"
       ]
      },
      {
       "output_type": "stream",
       "stream": "stdout",
       "text": [
        "\n",
        "[CV] kernel=poly, C=1.5, degree=3, epsilon=0.005, cache_size=1000, coef0=10 \n",
        "[CV]  kernel=poly, C=1.5, degree=3, epsilon=0.005, cache_size=1000, coef0=10 -  33.8s"
       ]
      },
      {
       "output_type": "stream",
       "stream": "stdout",
       "text": [
        "\n",
        "[CV] kernel=poly, C=1.5, degree=3, epsilon=0.01, cache_size=1000, coef0=10 \n",
        "[CV]  kernel=poly, C=1.5, degree=3, epsilon=0.01, cache_size=1000, coef0=10 -  31.9s"
       ]
      },
      {
       "output_type": "stream",
       "stream": "stdout",
       "text": [
        "\n",
        "[CV] kernel=poly, C=1.5, degree=3, epsilon=0.01, cache_size=1000, coef0=10 \n",
        "[CV]  kernel=poly, C=1.5, degree=3, epsilon=0.01, cache_size=1000, coef0=10 -  32.4s"
       ]
      },
      {
       "output_type": "stream",
       "stream": "stdout",
       "text": [
        "\n",
        "[CV] kernel=poly, C=1.5, degree=3, epsilon=0.01, cache_size=1000, coef0=10 \n",
        "[CV]  kernel=poly, C=1.5, degree=3, epsilon=0.01, cache_size=1000, coef0=10 -  34.0s"
       ]
      },
      {
       "output_type": "stream",
       "stream": "stdout",
       "text": [
        "\n",
        "[CV] kernel=poly, C=1.5, degree=3, epsilon=0.01, cache_size=1000, coef0=10 \n",
        "[CV]  kernel=poly, C=1.5, degree=3, epsilon=0.01, cache_size=1000, coef0=10 -  38.6s"
       ]
      },
      {
       "output_type": "stream",
       "stream": "stdout",
       "text": [
        "\n",
        "[CV] kernel=poly, C=1.5, degree=3, epsilon=0.01, cache_size=1000, coef0=10 \n",
        "[CV]  kernel=poly, C=1.5, degree=3, epsilon=0.01, cache_size=1000, coef0=10 -  33.8s"
       ]
      },
      {
       "output_type": "stream",
       "stream": "stdout",
       "text": [
        "\n",
        "[CV] kernel=poly, C=1.5, degree=3, epsilon=0.025, cache_size=1000, coef0=10 \n",
        "[CV]  kernel=poly, C=1.5, degree=3, epsilon=0.025, cache_size=1000, coef0=10 -  21.2s"
       ]
      },
      {
       "output_type": "stream",
       "stream": "stdout",
       "text": [
        "\n",
        "[CV] kernel=poly, C=1.5, degree=3, epsilon=0.025, cache_size=1000, coef0=10 \n",
        "[CV]  kernel=poly, C=1.5, degree=3, epsilon=0.025, cache_size=1000, coef0=10 -   8.5s"
       ]
      },
      {
       "output_type": "stream",
       "stream": "stdout",
       "text": [
        "\n",
        "[CV] kernel=poly, C=1.5, degree=3, epsilon=0.025, cache_size=1000, coef0=10 \n",
        "[CV]  kernel=poly, C=1.5, degree=3, epsilon=0.025, cache_size=1000, coef0=10 -   9.3s"
       ]
      },
      {
       "output_type": "stream",
       "stream": "stdout",
       "text": [
        "\n",
        "[CV] kernel=poly, C=1.5, degree=3, epsilon=0.025, cache_size=1000, coef0=10 \n",
        "[CV]  kernel=poly, C=1.5, degree=3, epsilon=0.025, cache_size=1000, coef0=10 -  10.9s"
       ]
      },
      {
       "output_type": "stream",
       "stream": "stdout",
       "text": [
        "\n",
        "[CV] kernel=poly, C=1.5, degree=3, epsilon=0.025, cache_size=1000, coef0=10 \n",
        "[CV]  kernel=poly, C=1.5, degree=3, epsilon=0.025, cache_size=1000, coef0=10 -   9.6s"
       ]
      },
      {
       "output_type": "stream",
       "stream": "stdout",
       "text": [
        "\n",
        "\n",
        "SOC:\n",
        "Kernel: poly\n",
        "C: 0.75\n",
        "Degree: 3\n",
        "Epsilon: 0.01\n",
        "Cache_Size: 1000\n",
        "Coef0: 10\n",
        "Internal CV RMSE: 0.475819761969\n",
        "Internal CV SDev:0.19379269873\n",
        "\n",
        "Scale type: Filter 90 -> Standardize:\n",
        "Fitting 5 folds for each of 15 candidates, totalling 75 fits"
       ]
      },
      {
       "output_type": "stream",
       "stream": "stdout",
       "text": [
        "\n",
        "[CV] kernel=poly, C=0.5, degree=3, epsilon=0.005, cache_size=1000, coef0=10 \n",
        "[CV]  kernel=poly, C=0.5, degree=3, epsilon=0.005, cache_size=1000, coef0=10 -   6.5s"
       ]
      },
      {
       "output_type": "stream",
       "stream": "stderr",
       "text": [
        "[Parallel(n_jobs=1)]: Done  75 out of  75 | elapsed: 18.4min finished\n",
        "[Parallel(n_jobs=1)]: Done   1 jobs       | elapsed:    6.5s\n"
       ]
      },
      {
       "output_type": "stream",
       "stream": "stdout",
       "text": [
        "\n",
        "[CV] kernel=poly, C=0.5, degree=3, epsilon=0.005, cache_size=1000, coef0=10 \n",
        "[CV]  kernel=poly, C=0.5, degree=3, epsilon=0.005, cache_size=1000, coef0=10 -   7.2s"
       ]
      },
      {
       "output_type": "stream",
       "stream": "stdout",
       "text": [
        "\n",
        "[CV] kernel=poly, C=0.5, degree=3, epsilon=0.005, cache_size=1000, coef0=10 \n",
        "[CV]  kernel=poly, C=0.5, degree=3, epsilon=0.005, cache_size=1000, coef0=10 -   7.2s"
       ]
      },
      {
       "output_type": "stream",
       "stream": "stdout",
       "text": [
        "\n",
        "[CV] kernel=poly, C=0.5, degree=3, epsilon=0.005, cache_size=1000, coef0=10 \n",
        "[CV]  kernel=poly, C=0.5, degree=3, epsilon=0.005, cache_size=1000, coef0=10 -   5.1s"
       ]
      },
      {
       "output_type": "stream",
       "stream": "stdout",
       "text": [
        "\n",
        "[CV] kernel=poly, C=0.5, degree=3, epsilon=0.005, cache_size=1000, coef0=10 \n",
        "[CV]  kernel=poly, C=0.5, degree=3, epsilon=0.005, cache_size=1000, coef0=10 -   5.2s"
       ]
      },
      {
       "output_type": "stream",
       "stream": "stdout",
       "text": [
        "\n",
        "[CV] kernel=poly, C=0.5, degree=3, epsilon=0.01, cache_size=1000, coef0=10 \n",
        "[CV]  kernel=poly, C=0.5, degree=3, epsilon=0.01, cache_size=1000, coef0=10 -   5.8s"
       ]
      },
      {
       "output_type": "stream",
       "stream": "stdout",
       "text": [
        "\n",
        "[CV] kernel=poly, C=0.5, degree=3, epsilon=0.01, cache_size=1000, coef0=10 \n",
        "[CV]  kernel=poly, C=0.5, degree=3, epsilon=0.01, cache_size=1000, coef0=10 -   6.0s"
       ]
      },
      {
       "output_type": "stream",
       "stream": "stdout",
       "text": [
        "\n",
        "[CV] kernel=poly, C=0.5, degree=3, epsilon=0.01, cache_size=1000, coef0=10 \n",
        "[CV]  kernel=poly, C=0.5, degree=3, epsilon=0.01, cache_size=1000, coef0=10 -   5.3s"
       ]
      },
      {
       "output_type": "stream",
       "stream": "stdout",
       "text": [
        "\n",
        "[CV] kernel=poly, C=0.5, degree=3, epsilon=0.01, cache_size=1000, coef0=10 \n",
        "[CV]  kernel=poly, C=0.5, degree=3, epsilon=0.01, cache_size=1000, coef0=10 -   7.1s"
       ]
      },
      {
       "output_type": "stream",
       "stream": "stdout",
       "text": [
        "\n",
        "[CV] kernel=poly, C=0.5, degree=3, epsilon=0.01, cache_size=1000, coef0=10 \n",
        "[CV]  kernel=poly, C=0.5, degree=3, epsilon=0.01, cache_size=1000, coef0=10 -   4.8s"
       ]
      },
      {
       "output_type": "stream",
       "stream": "stdout",
       "text": [
        "\n",
        "[CV] kernel=poly, C=0.5, degree=3, epsilon=0.025, cache_size=1000, coef0=10 \n",
        "[CV]  kernel=poly, C=0.5, degree=3, epsilon=0.025, cache_size=1000, coef0=10 -   5.5s"
       ]
      },
      {
       "output_type": "stream",
       "stream": "stdout",
       "text": [
        "\n",
        "[CV] kernel=poly, C=0.5, degree=3, epsilon=0.025, cache_size=1000, coef0=10 \n",
        "[CV]  kernel=poly, C=0.5, degree=3, epsilon=0.025, cache_size=1000, coef0=10 -   5.2s"
       ]
      },
      {
       "output_type": "stream",
       "stream": "stdout",
       "text": [
        "\n",
        "[CV] kernel=poly, C=0.5, degree=3, epsilon=0.025, cache_size=1000, coef0=10 \n",
        "[CV]  kernel=poly, C=0.5, degree=3, epsilon=0.025, cache_size=1000, coef0=10 -   5.7s"
       ]
      },
      {
       "output_type": "stream",
       "stream": "stdout",
       "text": [
        "\n",
        "[CV] kernel=poly, C=0.5, degree=3, epsilon=0.025, cache_size=1000, coef0=10 \n",
        "[CV]  kernel=poly, C=0.5, degree=3, epsilon=0.025, cache_size=1000, coef0=10 -   5.1s"
       ]
      },
      {
       "output_type": "stream",
       "stream": "stdout",
       "text": [
        "\n",
        "[CV] kernel=poly, C=0.5, degree=3, epsilon=0.025, cache_size=1000, coef0=10 \n",
        "[CV]  kernel=poly, C=0.5, degree=3, epsilon=0.025, cache_size=1000, coef0=10 -   5.1s"
       ]
      },
      {
       "output_type": "stream",
       "stream": "stdout",
       "text": [
        "\n",
        "[CV] kernel=poly, C=0.75, degree=3, epsilon=0.005, cache_size=1000, coef0=10 \n",
        "[CV]  kernel=poly, C=0.75, degree=3, epsilon=0.005, cache_size=1000, coef0=10 -   6.8s"
       ]
      },
      {
       "output_type": "stream",
       "stream": "stdout",
       "text": [
        "\n",
        "[CV] kernel=poly, C=0.75, degree=3, epsilon=0.005, cache_size=1000, coef0=10 \n",
        "[CV]  kernel=poly, C=0.75, degree=3, epsilon=0.005, cache_size=1000, coef0=10 -   6.2s"
       ]
      },
      {
       "output_type": "stream",
       "stream": "stdout",
       "text": [
        "\n",
        "[CV] kernel=poly, C=0.75, degree=3, epsilon=0.005, cache_size=1000, coef0=10 \n",
        "[CV]  kernel=poly, C=0.75, degree=3, epsilon=0.005, cache_size=1000, coef0=10 -   8.9s"
       ]
      },
      {
       "output_type": "stream",
       "stream": "stdout",
       "text": [
        "\n",
        "[CV] kernel=poly, C=0.75, degree=3, epsilon=0.005, cache_size=1000, coef0=10 \n",
        "[CV]  kernel=poly, C=0.75, degree=3, epsilon=0.005, cache_size=1000, coef0=10 -   9.7s"
       ]
      },
      {
       "output_type": "stream",
       "stream": "stdout",
       "text": [
        "\n",
        "[CV] kernel=poly, C=0.75, degree=3, epsilon=0.005, cache_size=1000, coef0=10 \n",
        "[CV]  kernel=poly, C=0.75, degree=3, epsilon=0.005, cache_size=1000, coef0=10 -  10.7s"
       ]
      },
      {
       "output_type": "stream",
       "stream": "stdout",
       "text": [
        "\n",
        "[CV] kernel=poly, C=0.75, degree=3, epsilon=0.01, cache_size=1000, coef0=10 \n",
        "[CV]  kernel=poly, C=0.75, degree=3, epsilon=0.01, cache_size=1000, coef0=10 -  20.2s"
       ]
      },
      {
       "output_type": "stream",
       "stream": "stdout",
       "text": [
        "\n",
        "[CV] kernel=poly, C=0.75, degree=3, epsilon=0.01, cache_size=1000, coef0=10 \n",
        "[CV]  kernel=poly, C=0.75, degree=3, epsilon=0.01, cache_size=1000, coef0=10 -  16.6s"
       ]
      },
      {
       "output_type": "stream",
       "stream": "stdout",
       "text": [
        "\n",
        "[CV] kernel=poly, C=0.75, degree=3, epsilon=0.01, cache_size=1000, coef0=10 "
       ]
      },
      {
       "output_type": "stream",
       "stream": "stdout",
       "text": [
        "\n",
        "[CV]  kernel=poly, C=0.75, degree=3, epsilon=0.01, cache_size=1000, coef0=10 -  18.7s"
       ]
      },
      {
       "output_type": "stream",
       "stream": "stdout",
       "text": [
        "\n",
        "[CV] kernel=poly, C=0.75, degree=3, epsilon=0.01, cache_size=1000, coef0=10 \n",
        "[CV]  kernel=poly, C=0.75, degree=3, epsilon=0.01, cache_size=1000, coef0=10 -  14.0s"
       ]
      },
      {
       "output_type": "stream",
       "stream": "stdout",
       "text": [
        "\n",
        "[CV] kernel=poly, C=0.75, degree=3, epsilon=0.01, cache_size=1000, coef0=10 \n",
        "[CV]  kernel=poly, C=0.75, degree=3, epsilon=0.01, cache_size=1000, coef0=10 -  10.7s"
       ]
      },
      {
       "output_type": "stream",
       "stream": "stdout",
       "text": [
        "\n",
        "[CV] kernel=poly, C=0.75, degree=3, epsilon=0.025, cache_size=1000, coef0=10 \n",
        "[CV]  kernel=poly, C=0.75, degree=3, epsilon=0.025, cache_size=1000, coef0=10 -  11.8s"
       ]
      },
      {
       "output_type": "stream",
       "stream": "stdout",
       "text": [
        "\n",
        "[CV] kernel=poly, C=0.75, degree=3, epsilon=0.025, cache_size=1000, coef0=10 \n",
        "[CV]  kernel=poly, C=0.75, degree=3, epsilon=0.025, cache_size=1000, coef0=10 -  15.4s"
       ]
      },
      {
       "output_type": "stream",
       "stream": "stdout",
       "text": [
        "\n",
        "[CV] kernel=poly, C=0.75, degree=3, epsilon=0.025, cache_size=1000, coef0=10 \n",
        "[CV]  kernel=poly, C=0.75, degree=3, epsilon=0.025, cache_size=1000, coef0=10 -  18.5s"
       ]
      },
      {
       "output_type": "stream",
       "stream": "stdout",
       "text": [
        "\n",
        "[CV] kernel=poly, C=0.75, degree=3, epsilon=0.025, cache_size=1000, coef0=10 \n",
        "[CV]  kernel=poly, C=0.75, degree=3, epsilon=0.025, cache_size=1000, coef0=10 -  16.9s"
       ]
      },
      {
       "output_type": "stream",
       "stream": "stdout",
       "text": [
        "\n",
        "[CV] kernel=poly, C=0.75, degree=3, epsilon=0.025, cache_size=1000, coef0=10 \n",
        "[CV]  kernel=poly, C=0.75, degree=3, epsilon=0.025, cache_size=1000, coef0=10 -  14.7s"
       ]
      },
      {
       "output_type": "stream",
       "stream": "stdout",
       "text": [
        "\n",
        "[CV] kernel=poly, C=1, degree=3, epsilon=0.005, cache_size=1000, coef0=10 \n",
        "[CV]  kernel=poly, C=1, degree=3, epsilon=0.005, cache_size=1000, coef0=10 -  17.4s"
       ]
      },
      {
       "output_type": "stream",
       "stream": "stdout",
       "text": [
        "\n",
        "[CV] kernel=poly, C=1, degree=3, epsilon=0.005, cache_size=1000, coef0=10 \n",
        "[CV]  kernel=poly, C=1, degree=3, epsilon=0.005, cache_size=1000, coef0=10 -  14.7s"
       ]
      },
      {
       "output_type": "stream",
       "stream": "stdout",
       "text": [
        "\n",
        "[CV] kernel=poly, C=1, degree=3, epsilon=0.005, cache_size=1000, coef0=10 \n",
        "[CV]  kernel=poly, C=1, degree=3, epsilon=0.005, cache_size=1000, coef0=10 -  16.4s"
       ]
      },
      {
       "output_type": "stream",
       "stream": "stdout",
       "text": [
        "\n",
        "[CV] kernel=poly, C=1, degree=3, epsilon=0.005, cache_size=1000, coef0=10 \n",
        "[CV]  kernel=poly, C=1, degree=3, epsilon=0.005, cache_size=1000, coef0=10 -  20.7s"
       ]
      },
      {
       "output_type": "stream",
       "stream": "stdout",
       "text": [
        "\n",
        "[CV] kernel=poly, C=1, degree=3, epsilon=0.005, cache_size=1000, coef0=10 \n",
        "[CV]  kernel=poly, C=1, degree=3, epsilon=0.005, cache_size=1000, coef0=10 -  19.3s"
       ]
      },
      {
       "output_type": "stream",
       "stream": "stdout",
       "text": [
        "\n",
        "[CV] kernel=poly, C=1, degree=3, epsilon=0.01, cache_size=1000, coef0=10 \n",
        "[CV]  kernel=poly, C=1, degree=3, epsilon=0.01, cache_size=1000, coef0=10 -  21.5s"
       ]
      },
      {
       "output_type": "stream",
       "stream": "stdout",
       "text": [
        "\n",
        "[CV] kernel=poly, C=1, degree=3, epsilon=0.01, cache_size=1000, coef0=10 \n",
        "[CV]  kernel=poly, C=1, degree=3, epsilon=0.01, cache_size=1000, coef0=10 -  17.8s"
       ]
      },
      {
       "output_type": "stream",
       "stream": "stdout",
       "text": [
        "\n",
        "[CV] kernel=poly, C=1, degree=3, epsilon=0.01, cache_size=1000, coef0=10 \n",
        "[CV]  kernel=poly, C=1, degree=3, epsilon=0.01, cache_size=1000, coef0=10 -  10.9s"
       ]
      },
      {
       "output_type": "stream",
       "stream": "stdout",
       "text": [
        "\n",
        "[CV] kernel=poly, C=1, degree=3, epsilon=0.01, cache_size=1000, coef0=10 \n",
        "[CV]  kernel=poly, C=1, degree=3, epsilon=0.01, cache_size=1000, coef0=10 -   8.0s"
       ]
      },
      {
       "output_type": "stream",
       "stream": "stdout",
       "text": [
        "\n",
        "[CV] kernel=poly, C=1, degree=3, epsilon=0.01, cache_size=1000, coef0=10 \n",
        "[CV]  kernel=poly, C=1, degree=3, epsilon=0.01, cache_size=1000, coef0=10 -   7.7s"
       ]
      },
      {
       "output_type": "stream",
       "stream": "stdout",
       "text": [
        "\n",
        "[CV] kernel=poly, C=1, degree=3, epsilon=0.025, cache_size=1000, coef0=10 \n",
        "[CV]  kernel=poly, C=1, degree=3, epsilon=0.025, cache_size=1000, coef0=10 -   8.5s"
       ]
      },
      {
       "output_type": "stream",
       "stream": "stdout",
       "text": [
        "\n",
        "[CV] kernel=poly, C=1, degree=3, epsilon=0.025, cache_size=1000, coef0=10 \n",
        "[CV]  kernel=poly, C=1, degree=3, epsilon=0.025, cache_size=1000, coef0=10 -   8.3s"
       ]
      },
      {
       "output_type": "stream",
       "stream": "stdout",
       "text": [
        "\n",
        "[CV] kernel=poly, C=1, degree=3, epsilon=0.025, cache_size=1000, coef0=10 \n",
        "[CV]  kernel=poly, C=1, degree=3, epsilon=0.025, cache_size=1000, coef0=10 -   7.7s"
       ]
      },
      {
       "output_type": "stream",
       "stream": "stdout",
       "text": [
        "\n",
        "[CV] kernel=poly, C=1, degree=3, epsilon=0.025, cache_size=1000, coef0=10 \n",
        "[CV]  kernel=poly, C=1, degree=3, epsilon=0.025, cache_size=1000, coef0=10 -   6.4s"
       ]
      },
      {
       "output_type": "stream",
       "stream": "stdout",
       "text": [
        "\n",
        "[CV] kernel=poly, C=1, degree=3, epsilon=0.025, cache_size=1000, coef0=10 \n",
        "[CV]  kernel=poly, C=1, degree=3, epsilon=0.025, cache_size=1000, coef0=10 -   7.6s"
       ]
      },
      {
       "output_type": "stream",
       "stream": "stdout",
       "text": [
        "\n",
        "[CV] kernel=poly, C=1.25, degree=3, epsilon=0.005, cache_size=1000, coef0=10 \n",
        "[CV]  kernel=poly, C=1.25, degree=3, epsilon=0.005, cache_size=1000, coef0=10 -  12.2s"
       ]
      },
      {
       "output_type": "stream",
       "stream": "stdout",
       "text": [
        "\n",
        "[CV] kernel=poly, C=1.25, degree=3, epsilon=0.005, cache_size=1000, coef0=10 \n",
        "[CV]  kernel=poly, C=1.25, degree=3, epsilon=0.005, cache_size=1000, coef0=10 -  11.5s"
       ]
      },
      {
       "output_type": "stream",
       "stream": "stdout",
       "text": [
        "\n",
        "[CV] kernel=poly, C=1.25, degree=3, epsilon=0.005, cache_size=1000, coef0=10 \n",
        "[CV]  kernel=poly, C=1.25, degree=3, epsilon=0.005, cache_size=1000, coef0=10 -  10.3s"
       ]
      },
      {
       "output_type": "stream",
       "stream": "stdout",
       "text": [
        "\n",
        "[CV] kernel=poly, C=1.25, degree=3, epsilon=0.005, cache_size=1000, coef0=10 \n",
        "[CV]  kernel=poly, C=1.25, degree=3, epsilon=0.005, cache_size=1000, coef0=10 -   9.1s"
       ]
      },
      {
       "output_type": "stream",
       "stream": "stdout",
       "text": [
        "\n",
        "[CV] kernel=poly, C=1.25, degree=3, epsilon=0.005, cache_size=1000, coef0=10 \n",
        "[CV]  kernel=poly, C=1.25, degree=3, epsilon=0.005, cache_size=1000, coef0=10 -  23.5s"
       ]
      },
      {
       "output_type": "stream",
       "stream": "stdout",
       "text": [
        "\n",
        "[CV] kernel=poly, C=1.25, degree=3, epsilon=0.01, cache_size=1000, coef0=10 \n",
        "[CV]  kernel=poly, C=1.25, degree=3, epsilon=0.01, cache_size=1000, coef0=10 -  20.4s"
       ]
      },
      {
       "output_type": "stream",
       "stream": "stdout",
       "text": [
        "\n",
        "[CV] kernel=poly, C=1.25, degree=3, epsilon=0.01, cache_size=1000, coef0=10 \n",
        "[CV]  kernel=poly, C=1.25, degree=3, epsilon=0.01, cache_size=1000, coef0=10 -  28.6s"
       ]
      },
      {
       "output_type": "stream",
       "stream": "stdout",
       "text": [
        "\n",
        "[CV] kernel=poly, C=1.25, degree=3, epsilon=0.01, cache_size=1000, coef0=10 "
       ]
      },
      {
       "output_type": "stream",
       "stream": "stdout",
       "text": [
        "\n",
        "[CV]  kernel=poly, C=1.25, degree=3, epsilon=0.01, cache_size=1000, coef0=10 -  21.4s"
       ]
      },
      {
       "output_type": "stream",
       "stream": "stdout",
       "text": [
        "\n",
        "[CV] kernel=poly, C=1.25, degree=3, epsilon=0.01, cache_size=1000, coef0=10 \n",
        "[CV]  kernel=poly, C=1.25, degree=3, epsilon=0.01, cache_size=1000, coef0=10 -  15.7s"
       ]
      },
      {
       "output_type": "stream",
       "stream": "stdout",
       "text": [
        "\n",
        "[CV] kernel=poly, C=1.25, degree=3, epsilon=0.01, cache_size=1000, coef0=10 \n",
        "[CV]  kernel=poly, C=1.25, degree=3, epsilon=0.01, cache_size=1000, coef0=10 -  15.6s"
       ]
      },
      {
       "output_type": "stream",
       "stream": "stdout",
       "text": [
        "\n",
        "[CV] kernel=poly, C=1.25, degree=3, epsilon=0.025, cache_size=1000, coef0=10 \n",
        "[CV]  kernel=poly, C=1.25, degree=3, epsilon=0.025, cache_size=1000, coef0=10 -  22.8s"
       ]
      },
      {
       "output_type": "stream",
       "stream": "stdout",
       "text": [
        "\n",
        "[CV] kernel=poly, C=1.25, degree=3, epsilon=0.025, cache_size=1000, coef0=10 \n",
        "[CV]  kernel=poly, C=1.25, degree=3, epsilon=0.025, cache_size=1000, coef0=10 -   8.2s"
       ]
      },
      {
       "output_type": "stream",
       "stream": "stdout",
       "text": [
        "\n",
        "[CV] kernel=poly, C=1.25, degree=3, epsilon=0.025, cache_size=1000, coef0=10 \n",
        "[CV]  kernel=poly, C=1.25, degree=3, epsilon=0.025, cache_size=1000, coef0=10 -   7.7s"
       ]
      },
      {
       "output_type": "stream",
       "stream": "stdout",
       "text": [
        "\n",
        "[CV] kernel=poly, C=1.25, degree=3, epsilon=0.025, cache_size=1000, coef0=10 \n",
        "[CV]  kernel=poly, C=1.25, degree=3, epsilon=0.025, cache_size=1000, coef0=10 -   6.9s"
       ]
      },
      {
       "output_type": "stream",
       "stream": "stdout",
       "text": [
        "\n",
        "[CV] kernel=poly, C=1.25, degree=3, epsilon=0.025, cache_size=1000, coef0=10 \n",
        "[CV]  kernel=poly, C=1.25, degree=3, epsilon=0.025, cache_size=1000, coef0=10 -   6.7s"
       ]
      },
      {
       "output_type": "stream",
       "stream": "stdout",
       "text": [
        "\n",
        "[CV] kernel=poly, C=1.5, degree=3, epsilon=0.005, cache_size=1000, coef0=10 \n",
        "[CV]  kernel=poly, C=1.5, degree=3, epsilon=0.005, cache_size=1000, coef0=10 -  11.5s"
       ]
      },
      {
       "output_type": "stream",
       "stream": "stdout",
       "text": [
        "\n",
        "[CV] kernel=poly, C=1.5, degree=3, epsilon=0.005, cache_size=1000, coef0=10 \n",
        "[CV]  kernel=poly, C=1.5, degree=3, epsilon=0.005, cache_size=1000, coef0=10 -  10.1s"
       ]
      },
      {
       "output_type": "stream",
       "stream": "stdout",
       "text": [
        "\n",
        "[CV] kernel=poly, C=1.5, degree=3, epsilon=0.005, cache_size=1000, coef0=10 \n",
        "[CV]  kernel=poly, C=1.5, degree=3, epsilon=0.005, cache_size=1000, coef0=10 -  12.3s"
       ]
      },
      {
       "output_type": "stream",
       "stream": "stdout",
       "text": [
        "\n",
        "[CV] kernel=poly, C=1.5, degree=3, epsilon=0.005, cache_size=1000, coef0=10 \n",
        "[CV]  kernel=poly, C=1.5, degree=3, epsilon=0.005, cache_size=1000, coef0=10 -  21.8s"
       ]
      },
      {
       "output_type": "stream",
       "stream": "stdout",
       "text": [
        "\n",
        "[CV] kernel=poly, C=1.5, degree=3, epsilon=0.005, cache_size=1000, coef0=10 \n",
        "[CV]  kernel=poly, C=1.5, degree=3, epsilon=0.005, cache_size=1000, coef0=10 -  17.0s"
       ]
      },
      {
       "output_type": "stream",
       "stream": "stdout",
       "text": [
        "\n",
        "[CV] kernel=poly, C=1.5, degree=3, epsilon=0.01, cache_size=1000, coef0=10 \n",
        "[CV]  kernel=poly, C=1.5, degree=3, epsilon=0.01, cache_size=1000, coef0=10 -  17.2s"
       ]
      },
      {
       "output_type": "stream",
       "stream": "stdout",
       "text": [
        "\n",
        "[CV] kernel=poly, C=1.5, degree=3, epsilon=0.01, cache_size=1000, coef0=10 \n",
        "[CV]  kernel=poly, C=1.5, degree=3, epsilon=0.01, cache_size=1000, coef0=10 -  22.8s"
       ]
      },
      {
       "output_type": "stream",
       "stream": "stdout",
       "text": [
        "\n",
        "[CV] kernel=poly, C=1.5, degree=3, epsilon=0.01, cache_size=1000, coef0=10 "
       ]
      },
      {
       "output_type": "stream",
       "stream": "stdout",
       "text": [
        "\n",
        "[CV]  kernel=poly, C=1.5, degree=3, epsilon=0.01, cache_size=1000, coef0=10 -  29.9s"
       ]
      },
      {
       "output_type": "stream",
       "stream": "stdout",
       "text": [
        "\n",
        "[CV] kernel=poly, C=1.5, degree=3, epsilon=0.01, cache_size=1000, coef0=10 \n",
        "[CV]  kernel=poly, C=1.5, degree=3, epsilon=0.01, cache_size=1000, coef0=10 -  30.7s"
       ]
      },
      {
       "output_type": "stream",
       "stream": "stdout",
       "text": [
        "\n",
        "[CV] kernel=poly, C=1.5, degree=3, epsilon=0.01, cache_size=1000, coef0=10 \n",
        "[CV]  kernel=poly, C=1.5, degree=3, epsilon=0.01, cache_size=1000, coef0=10 -  24.4s"
       ]
      },
      {
       "output_type": "stream",
       "stream": "stdout",
       "text": [
        "\n",
        "[CV] kernel=poly, C=1.5, degree=3, epsilon=0.025, cache_size=1000, coef0=10 \n",
        "[CV]  kernel=poly, C=1.5, degree=3, epsilon=0.025, cache_size=1000, coef0=10 -  15.9s"
       ]
      },
      {
       "output_type": "stream",
       "stream": "stdout",
       "text": [
        "\n",
        "[CV] kernel=poly, C=1.5, degree=3, epsilon=0.025, cache_size=1000, coef0=10 \n",
        "[CV]  kernel=poly, C=1.5, degree=3, epsilon=0.025, cache_size=1000, coef0=10 -   7.4s"
       ]
      },
      {
       "output_type": "stream",
       "stream": "stdout",
       "text": [
        "\n",
        "[CV] kernel=poly, C=1.5, degree=3, epsilon=0.025, cache_size=1000, coef0=10 \n",
        "[CV]  kernel=poly, C=1.5, degree=3, epsilon=0.025, cache_size=1000, coef0=10 -   9.1s"
       ]
      },
      {
       "output_type": "stream",
       "stream": "stdout",
       "text": [
        "\n",
        "[CV] kernel=poly, C=1.5, degree=3, epsilon=0.025, cache_size=1000, coef0=10 \n",
        "[CV]  kernel=poly, C=1.5, degree=3, epsilon=0.025, cache_size=1000, coef0=10 -   9.2s"
       ]
      },
      {
       "output_type": "stream",
       "stream": "stdout",
       "text": [
        "\n",
        "[CV] kernel=poly, C=1.5, degree=3, epsilon=0.025, cache_size=1000, coef0=10 \n",
        "[CV]  kernel=poly, C=1.5, degree=3, epsilon=0.025, cache_size=1000, coef0=10 -  10.4s"
       ]
      },
      {
       "output_type": "stream",
       "stream": "stderr",
       "text": [
        "[Parallel(n_jobs=1)]: Done  41 jobs       | elapsed:  7.5min\n",
        "[Parallel(n_jobs=1)]: Done  75 out of  75 | elapsed: 15.9min finished\n"
       ]
      },
      {
       "output_type": "stream",
       "stream": "stdout",
       "text": [
        "\n",
        "\n",
        "SOC:\n",
        "Kernel: poly\n",
        "C: 1.5\n",
        "Degree: 3\n",
        "Epsilon: 0.005\n",
        "Cache_Size: 1000\n",
        "Coef0: 10\n",
        "Internal CV RMSE: 0.488554482888\n",
        "Internal CV SDev:0.189910169383\n",
        "Time elapsed in main loop: 2054.75511885\n",
        "On 30 parameter/scaling permutations.\n"
       ]
      },
      {
       "html": [
        "<div style=\"max-height:1000px;max-width:1500px;overflow:auto;\">\n",
        "<table border=\"1\" class=\"dataframe\">\n",
        "  <thead>\n",
        "    <tr>\n",
        "      <th>Target</th>\n",
        "      <th colspan=\"2\" halign=\"left\">SOC</th>\n",
        "    </tr>\n",
        "    <tr>\n",
        "      <th>Statistic</th>\n",
        "      <th>RMSE MEAN</th>\n",
        "      <th>RMSE STD</th>\n",
        "    </tr>\n",
        "    <tr>\n",
        "      <th>Feature Scaling</th>\n",
        "      <th></th>\n",
        "      <th></th>\n",
        "    </tr>\n",
        "  </thead>\n",
        "  <tbody>\n",
        "    <tr>\n",
        "      <th>Feature Standardization</th>\n",
        "      <td> 0.4758198</td>\n",
        "      <td> 0.1937927</td>\n",
        "    </tr>\n",
        "    <tr>\n",
        "      <th>Filter 90 -&gt; Standardize</th>\n",
        "      <td> 0.4885545</td>\n",
        "      <td> 0.1899102</td>\n",
        "    </tr>\n",
        "  </tbody>\n",
        "</table>\n",
        "</div>"
       ],
       "metadata": {},
       "output_type": "pyout",
       "prompt_number": 68,
       "text": [
        "Target                          SOC           \n",
        "Statistic                 RMSE MEAN   RMSE STD\n",
        "Feature Scaling                               \n",
        "Feature Standardization   0.4758198  0.1937927\n",
        "Filter 90 -> Standardize  0.4885545  0.1899102"
       ]
      }
     ],
     "prompt_number": 68
    },
    {
     "cell_type": "heading",
     "level": 4,
     "metadata": {},
     "source": [
      "Final Predictions"
     ]
    },
    {
     "cell_type": "code",
     "collapsed": false,
     "input": [
      "sclr = pp.StandardScaler()\n",
      "svm_obj = svm.SVR(kernel = 'poly', degree = 3, coef0 = 10 ,C = 0.3, epsilon = 0.05)\n",
      "\n",
      "X = pd.concat([wave, spatial], axis = 1)\n",
      "X_test = pd.concat([wave_test, spatial_test], axis = 1)\n",
      "y = targets.Ca\n",
      "\n",
      "X = sclr.fit_transform(X)\n",
      "X_test = sclr.transform(X_test)\n",
      "\n",
      "svm_obj.fit(X, y)\n",
      "y_preds = svm_obj.predict(X_test)"
     ],
     "language": "python",
     "metadata": {},
     "outputs": [],
     "prompt_number": 69
    },
    {
     "cell_type": "code",
     "collapsed": false,
     "input": [
      "%matplotlib inline\n",
      "targets.SOC.hist(bins = 100)"
     ],
     "language": "python",
     "metadata": {},
     "outputs": [
      {
       "metadata": {},
       "output_type": "pyout",
       "prompt_number": 92,
       "text": [
        "<matplotlib.axes.AxesSubplot at 0x121cde650>"
       ]
      },
      {
       "metadata": {},
       "output_type": "display_data",
       "png": "[encoded data removed]",
       "text": [
        "<matplotlib.figure.Figure at 0x11a6ed410>"
       ]
      }
     ],
     "prompt_number": 92
    },
    {
     "cell_type": "code",
     "collapsed": false,
     "input": [
      "pd.Series(y_preds).hist(bins = 50)"
     ],
     "language": "python",
     "metadata": {},
     "outputs": [
      {
       "metadata": {},
       "output_type": "pyout",
       "prompt_number": 71,
       "text": [
        "<matplotlib.axes.AxesSubplot at 0x109468110>"
       ]
      },
      {
       "metadata": {},
       "output_type": "display_data",
       "png": "[encoded data removed]",
       "text": [
        "<matplotlib.figure.Figure at 0x1029d9ad0>"
       ]
      }
     ],
     "prompt_number": 71
    },
    {
     "cell_type": "code",
     "collapsed": false,
     "input": [
      "y_p = np.maximum(min(targets.Ca),y_preds)\n",
      "pd.Series(y_p).hist(bins = 50)"
     ],
     "language": "python",
     "metadata": {},
     "outputs": [
      {
       "metadata": {},
       "output_type": "pyout",
       "prompt_number": 80,
       "text": [
        "<matplotlib.axes.AxesSubplot at 0x110e915d0>"
       ]
      },
      {
       "metadata": {},
       "output_type": "display_data",
       "png": "[encoded data removed]",
       "text": [
        "<matplotlib.figure.Figure at 0x102f6eed0>"
       ]
      }
     ],
     "prompt_number": 80
    },
    {
     "cell_type": "code",
     "collapsed": false,
     "input": [
      "y_p = pd.DataFrame(y_p, index = wave_test.index, columns = ['Ca'])"
     ],
     "language": "python",
     "metadata": {},
     "outputs": [],
     "prompt_number": 81
    },
    {
     "cell_type": "code",
     "collapsed": false,
     "input": [
      "y_p.to_csv('./Final Predictions/Ca/RRSVRPolyTrunc.csv')"
     ],
     "language": "python",
     "metadata": {},
     "outputs": [],
     "prompt_number": 83
    },
    {
     "cell_type": "code",
     "collapsed": false,
     "input": [
      "results = [(-x[1], x[2].std(), x[0]) for x in gs_obj.grid_scores_]\n",
      "results.sort()\n",
      "results"
     ],
     "language": "python",
     "metadata": {},
     "outputs": [
      {
       "metadata": {},
       "output_type": "pyout",
       "prompt_number": 64,
       "text": [
        "[(0.41044738683988974,\n",
        "  0.22443000189101392,\n",
        "  {'C': 1,\n",
        "   'cache_size': 1000,\n",
        "   'coef0': 10,\n",
        "   'degree': 3,\n",
        "   'epsilon': 0.01,\n",
        "   'kernel': 'poly'}),\n",
        " (0.43852445102375565,\n",
        "  0.22751437891278209,\n",
        "  {'C': 1,\n",
        "   'cache_size': 1000,\n",
        "   'coef0': 10,\n",
        "   'degree': 3,\n",
        "   'epsilon': 0.1,\n",
        "   'kernel': 'poly'}),\n",
        " (0.43986227532596656,\n",
        "  0.25859133301075754,\n",
        "  {'C': 2,\n",
        "   'cache_size': 1000,\n",
        "   'coef0': 10,\n",
        "   'degree': 3,\n",
        "   'epsilon': 0.01,\n",
        "   'kernel': 'poly'}),\n",
        " (0.43988405140627551,\n",
        "  0.2461643416296691,\n",
        "  {'C': 1,\n",
        "   'cache_size': 1000,\n",
        "   'coef0': 10,\n",
        "   'degree': 3,\n",
        "   'epsilon': 0.05,\n",
        "   'kernel': 'poly'}),\n",
        " (0.47318081263936729,\n",
        "  0.25979165077017974,\n",
        "  {'C': 2,\n",
        "   'cache_size': 1000,\n",
        "   'coef0': 10,\n",
        "   'degree': 3,\n",
        "   'epsilon': 0.05,\n",
        "   'kernel': 'poly'}),\n",
        " (0.48007660742959374,\n",
        "  0.26188968601483475,\n",
        "  {'C': 2,\n",
        "   'cache_size': 1000,\n",
        "   'coef0': 10,\n",
        "   'degree': 3,\n",
        "   'epsilon': 0.1,\n",
        "   'kernel': 'poly'}),\n",
        " (0.53333972856978151,\n",
        "  0.24156229497463222,\n",
        "  {'C': 5,\n",
        "   'cache_size': 1000,\n",
        "   'coef0': 10,\n",
        "   'degree': 3,\n",
        "   'epsilon': 0.01,\n",
        "   'kernel': 'poly'}),\n",
        " (0.54182311970500063,\n",
        "  0.25904707583575121,\n",
        "  {'C': 5,\n",
        "   'cache_size': 1000,\n",
        "   'coef0': 10,\n",
        "   'degree': 3,\n",
        "   'epsilon': 0.05,\n",
        "   'kernel': 'poly'}),\n",
        " (0.54480477473984268,\n",
        "  0.29180442916438221,\n",
        "  {'C': 5,\n",
        "   'cache_size': 1000,\n",
        "   'coef0': 10,\n",
        "   'degree': 3,\n",
        "   'epsilon': 0.1,\n",
        "   'kernel': 'poly'})]"
       ]
      }
     ],
     "prompt_number": 64
    },
    {
     "cell_type": "code",
     "collapsed": false,
     "input": [
      "np.sqrt(np.sum(gs_obj.grid_scores_[0][2]**2)/5)"
     ],
     "language": "python",
     "metadata": {},
     "outputs": [
      {
       "metadata": {},
       "output_type": "pyout",
       "prompt_number": 6,
       "text": [
        "0.53648436007212963"
       ]
      }
     ],
     "prompt_number": 6
    }
   ],
   "metadata": {}
  }
 ]
}