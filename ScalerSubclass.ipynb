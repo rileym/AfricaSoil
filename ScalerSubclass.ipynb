{
 "metadata": {
  "name": "",
  "signature": "sha256:9c4729c7f2a4cf9dd592dad36e5e1aa5a1d924215f50865c65425277de8d0341"
 },
 "nbformat": 3,
 "nbformat_minor": 0,
 "worksheets": [
  {
   "cells": [
    {
     "cell_type": "code",
     "collapsed": false,
     "input": [
      "import sklearn.preprocessing as pp    \n",
      "import numpy as np"
     ],
     "language": "python",
     "metadata": {},
     "outputs": [],
     "prompt_number": 2
    },
    {
     "cell_type": "code",
     "collapsed": false,
     "input": [
      "class StandardAxisScaler(pp.StandardScaler):\n",
      "    '''StandardScaler with ability to scale across rows instead. X must be a pandas DataFrame.\n",
      "    '''\n",
      "    def __init__(self, copy=True, with_mean=True, with_std=True, axis=0):\n",
      "        \n",
      "        self.flip = (axis == 1)\n",
      "        super(StandardAxisScaler, self).__init__(copy, with_mean, with_std)\n",
      "        \n",
      "    def fit(self, X, y=None):\n",
      "        \n",
      "        if self.flip:\n",
      "            X = X.T\n",
      "            \n",
      "        return super(StandardAxisScaler, self).fit(X, y)\n",
      "    \n",
      "    \n",
      "    def transform(self, X, y=None, copy=None):\n",
      "        \n",
      "        if self.flip:\n",
      "            X = X.T\n",
      "            \n",
      "        X_trans = super(StandardAxisScaler, self).transform(X, y, copy)\n",
      "        \n",
      "        return np.transpose(X_trans) if self.flip else X_trans\n",
      "    "
     ],
     "language": "python",
     "metadata": {},
     "outputs": [],
     "prompt_number": 23
    },
    {
     "cell_type": "code",
     "collapsed": false,
     "input": [
      "import pandas as pd\n",
      "df = pd.DataFrame(data=np.reshape(np.array([0,1,2,3,4,5,6,7,8,9,10.,11.]),(3,4)))\n",
      "df\n",
      "\n"
     ],
     "language": "python",
     "metadata": {},
     "outputs": [
      {
       "html": [
        "<div style=\"max-height:1000px;max-width:1500px;overflow:auto;\">\n",
        "<table border=\"1\" class=\"dataframe\">\n",
        "  <thead>\n",
        "    <tr style=\"text-align: right;\">\n",
        "      <th></th>\n",
        "      <th>0</th>\n",
        "      <th>1</th>\n",
        "      <th>2</th>\n",
        "      <th>3</th>\n",
        "    </tr>\n",
        "  </thead>\n",
        "  <tbody>\n",
        "    <tr>\n",
        "      <th>0</th>\n",
        "      <td> 0</td>\n",
        "      <td> 1</td>\n",
        "      <td>  2</td>\n",
        "      <td>  3</td>\n",
        "    </tr>\n",
        "    <tr>\n",
        "      <th>1</th>\n",
        "      <td> 4</td>\n",
        "      <td> 5</td>\n",
        "      <td>  6</td>\n",
        "      <td>  7</td>\n",
        "    </tr>\n",
        "    <tr>\n",
        "      <th>2</th>\n",
        "      <td> 8</td>\n",
        "      <td> 9</td>\n",
        "      <td> 10</td>\n",
        "      <td> 11</td>\n",
        "    </tr>\n",
        "  </tbody>\n",
        "</table>\n",
        "</div>"
       ],
       "metadata": {},
       "output_type": "pyout",
       "prompt_number": 37,
       "text": [
        "   0  1   2   3\n",
        "0  0  1   2   3\n",
        "1  4  5   6   7\n",
        "2  8  9  10  11"
       ]
      }
     ],
     "prompt_number": 37
    },
    {
     "cell_type": "code",
     "collapsed": false,
     "input": [
      "df = pd.DataFrame(data=np.reshape(np.array([0,1,2,3,4,5,6,7,8,9,10.,11.]),(3,4)))\n",
      "scaler = StandardAxisScaler(with_mean=False, with_std=False,axis=1)\n",
      "scaler.fit(df)\n",
      "pd.DataFrame(scaler.transform(df))"
     ],
     "language": "python",
     "metadata": {},
     "outputs": [
      {
       "html": [
        "<div style=\"max-height:1000px;max-width:1500px;overflow:auto;\">\n",
        "<table border=\"1\" class=\"dataframe\">\n",
        "  <thead>\n",
        "    <tr style=\"text-align: right;\">\n",
        "      <th></th>\n",
        "      <th>0</th>\n",
        "      <th>1</th>\n",
        "      <th>2</th>\n",
        "      <th>3</th>\n",
        "    </tr>\n",
        "  </thead>\n",
        "  <tbody>\n",
        "    <tr>\n",
        "      <th>0</th>\n",
        "      <td> 0</td>\n",
        "      <td> 1</td>\n",
        "      <td>  2</td>\n",
        "      <td>  3</td>\n",
        "    </tr>\n",
        "    <tr>\n",
        "      <th>1</th>\n",
        "      <td> 4</td>\n",
        "      <td> 5</td>\n",
        "      <td>  6</td>\n",
        "      <td>  7</td>\n",
        "    </tr>\n",
        "    <tr>\n",
        "      <th>2</th>\n",
        "      <td> 8</td>\n",
        "      <td> 9</td>\n",
        "      <td> 10</td>\n",
        "      <td> 11</td>\n",
        "    </tr>\n",
        "  </tbody>\n",
        "</table>\n",
        "</div>"
       ],
       "metadata": {},
       "output_type": "pyout",
       "prompt_number": 40,
       "text": [
        "   0  1   2   3\n",
        "0  0  1   2   3\n",
        "1  4  5   6   7\n",
        "2  8  9  10  11"
       ]
      }
     ],
     "prompt_number": 40
    },
    {
     "cell_type": "code",
     "collapsed": false,
     "input": [
      "df = pd.DataFrame(data=np.reshape(np.array([0,1,2,3,4,5,6,7,8,9,10.,11.]),(3,4)))\n",
      "pd.DataFrame(pp.scale(df, axis=1))"
     ],
     "language": "python",
     "metadata": {},
     "outputs": [
      {
       "html": [
        "<div style=\"max-height:1000px;max-width:1500px;overflow:auto;\">\n",
        "<table border=\"1\" class=\"dataframe\">\n",
        "  <thead>\n",
        "    <tr style=\"text-align: right;\">\n",
        "      <th></th>\n",
        "      <th>0</th>\n",
        "      <th>1</th>\n",
        "      <th>2</th>\n",
        "      <th>3</th>\n",
        "    </tr>\n",
        "  </thead>\n",
        "  <tbody>\n",
        "    <tr>\n",
        "      <th>0</th>\n",
        "      <td>-1.341641</td>\n",
        "      <td>-0.447214</td>\n",
        "      <td> 0.447214</td>\n",
        "      <td> 1.341641</td>\n",
        "    </tr>\n",
        "    <tr>\n",
        "      <th>1</th>\n",
        "      <td>-1.341641</td>\n",
        "      <td>-0.447214</td>\n",
        "      <td> 0.447214</td>\n",
        "      <td> 1.341641</td>\n",
        "    </tr>\n",
        "    <tr>\n",
        "      <th>2</th>\n",
        "      <td>-1.341641</td>\n",
        "      <td>-0.447214</td>\n",
        "      <td> 0.447214</td>\n",
        "      <td> 1.341641</td>\n",
        "    </tr>\n",
        "  </tbody>\n",
        "</table>\n",
        "</div>"
       ],
       "metadata": {},
       "output_type": "pyout",
       "prompt_number": 39,
       "text": [
        "          0         1         2         3\n",
        "0 -1.341641 -0.447214  0.447214  1.341641\n",
        "1 -1.341641 -0.447214  0.447214  1.341641\n",
        "2 -1.341641 -0.447214  0.447214  1.341641"
       ]
      }
     ],
     "prompt_number": 39
    }
   ],
   "metadata": {}
  }
 ]
}