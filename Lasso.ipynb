{
 "metadata": {
  "name": "",
  "signature": "sha256:c349020481d05ed106c75e17bb41c0ee150df76620aefdaad8b475b560aee93a"
 },
 "nbformat": 3,
 "nbformat_minor": 0,
 "worksheets": [
  {
   "cells": [
    {
     "cell_type": "code",
     "collapsed": false,
     "input": [
      "import pandas as pd\n",
      "import numpy as np\n",
      "import sklearn.linear_model as lm\n",
      "import sklearn.grid_search as grid_search\n",
      "import sklearn.preprocessing as pp\n",
      "import sklearn.decomposition as decomp\n",
      "import sklearn.pipeline as pipe\n",
      "import sklearn.feature_selection as fs\n",
      "import soilCleanTools as clean\n",
      "import soilTuningTools as tune"
     ],
     "language": "python",
     "metadata": {},
     "outputs": [],
     "prompt_number": 20
    },
    {
     "cell_type": "code",
     "collapsed": false,
     "input": [
      "# Read in data\n",
      "train_df = pd.read_csv('./Data/training.csv', index_col='PIDN')\n",
      "test_df = pd.read_csv('./Data/sorted_test.csv', index_col='PIDN')\n",
      "\n",
      "# Clean and split for readability\n",
      "data_dict = clean.clean_data(train_df)\n",
      "data_test_dict = clean.clean_data(test_df)\n",
      "wave, spatial, targets = data_dict['wave'], data_dict['spatial'], data_dict['targets']\n",
      "wave_test, spatial_test = data_test_dict['wave'], data_test_dict['spatial']"
     ],
     "language": "python",
     "metadata": {},
     "outputs": [],
     "prompt_number": 21
    },
    {
     "cell_type": "code",
     "collapsed": false,
     "input": [
      "model_name = 'Lasso'\n",
      "\n",
      "n_alphas = 50\n",
      "alphas = np.logspace(-4, 4, num = n_alphas)\n",
      "params = {'loss' : ['squared_loss', 'huber'],\n",
      "          'alpha' : alphas,\n",
      "          'eta0' : [0.0001],\n",
      "          'penalty' : ['l1'],\n",
      "          'shuffle' :  [True]}\n",
      "\n",
      "steps = [('Correlation Filter', fs.SelectPercentile( score_func = fs.f_regression, percentile = 95)),\n",
      "         ('PCA 20', decomp.PCA(n_components = 20))]\n",
      "superPC = pipe.Pipeline(steps = steps)\n",
      "\n",
      "scaler_dict = { 'Standard Scale' : pp.StandardScaler() }\n",
      "\n",
      "\n",
      "gs_obj = grid_search.GridSearchCV(estimator = lm.SGDRegressor(), param_grid = params,\\\n",
      "                                  scoring = 'mean_squared_error', cv = 3, refit = True)\n"
     ],
     "language": "python",
     "metadata": {},
     "outputs": [],
     "prompt_number": 44
    },
    {
     "cell_type": "code",
     "collapsed": false,
     "input": [
      "tune.soilTune(gs_obj = gs_obj, X = wave, Y = targets, scaler_dict = scaler_dict,\\\n",
      "              model_name = model_name, output_base_path='./Data/Preds/')"
     ],
     "language": "python",
     "metadata": {},
     "outputs": [
      {
       "output_type": "stream",
       "stream": "stdout",
       "text": [
        "Beginning Evaluation...\n",
        "\n",
        "Scale type: Standard Scale:\n",
        "\n",
        "Ca:"
       ]
      },
      {
       "output_type": "stream",
       "stream": "stdout",
       "text": [
        "\n",
        "Penalty: l1\n",
        "Alpha: 0.00065512855686\n",
        "Eta0: 0.0001\n",
        "Shuffle: True\n",
        "Loss: squared_loss\n",
        "RMSE: 0.509648230658\n",
        "\n",
        "P:"
       ]
      },
      {
       "output_type": "stream",
       "stream": "stdout",
       "text": [
        "\n",
        "Penalty: l1\n",
        "Alpha: 0.00429193426013\n",
        "Eta0: 0.0001\n",
        "Shuffle: True\n",
        "Loss: squared_loss\n",
        "RMSE: 0.776406127415\n",
        "\n",
        "pH:"
       ]
      },
      {
       "output_type": "stream",
       "stream": "stdout",
       "text": [
        "\n",
        "Penalty: l1\n",
        "Alpha: 0.00065512855686\n",
        "Eta0: 0.0001\n",
        "Shuffle: True\n",
        "Loss: squared_loss\n",
        "RMSE: 0.450728190092\n",
        "\n",
        "SOC:"
       ]
      },
      {
       "output_type": "stream",
       "stream": "stdout",
       "text": [
        "\n",
        "Penalty: l1\n",
        "Alpha: 0.000308884359648\n",
        "Eta0: 0.0001\n",
        "Shuffle: True\n",
        "Loss: squared_loss\n",
        "RMSE: 0.654340820996\n",
        "\n",
        "Sand:"
       ]
      },
      {
       "output_type": "stream",
       "stream": "stdout",
       "text": [
        "\n",
        "Penalty: l1\n",
        "Alpha: 0.00065512855686\n",
        "Eta0: 0.0001\n",
        "Shuffle: True\n",
        "Loss: squared_loss\n",
        "RMSE: 0.506978766994\n",
        "Time elapsed in main loop: 458.488234997\n",
        "On 100 parameter/scaling permutations.\n"
       ]
      }
     ],
     "prompt_number": 45
    }
   ],
   "metadata": {}
  }
 ]
}